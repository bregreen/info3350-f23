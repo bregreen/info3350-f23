{
 "cells": [
  {
   "cell_type": "markdown",
   "metadata": {},
   "source": [
    "# INFO 3350/6350\n",
    "\n",
    "## Lecture 13: Static word embeddings\n",
    "\n",
    "## To do"
   ]
  },
  {
   "cell_type": "markdown",
   "metadata": {},
   "source": [
    "## Words as vectors\n",
    "\n",
    "**Big picture: static word embeddings replace each word in our corpus with a vector** (typically of dimensionality between 100 and 1,000) **that captures the range of meanings of that word. We can use these vectors in place of token counts as the input features for any downstream NLP or text analysis task.**\n",
    "\n",
    "* We've previously represented **documents** as vectors\n",
    "    * Usually, vectors of word counts\n",
    "    * Or, with topic models, as vectors of topics\n",
    "* Limits of words, often discussed\n",
    "    * In brief: some words are more alike than others, but word counts don't reflect this fact\n",
    "    * Topic models helped to address this problem\n",
    "    * Today, a different approach: **word embeddings**\n",
    "* We might like to have a vector for each **word**, which we could in turn use to build our document vectors\n",
    "    * This will be an *unsupervised* task. We want to produce vectors that place similar words close together in vector space, but we don't want to use human-labled data to do so. We want instead to observe patterns of use in a large corpus.\n",
    "* One approach (not pursued here): Truncated SVD on sliding windows over words\n",
    "    * Group all the resulting bags of words by their 'center' word\n",
    "    * Reduce resulting \"doc\"-term matrix for each word via truncated SVD\n",
    "        * Like latent semantic analysis, but oriented around words rather than documents\n",
    "    * Relatively fast to train and decent performance\n",
    "    * Limited by linear relationships and lack of semantic connections\n",
    "* Language models\n",
    "    * Large neural language models achieve state-of-the-art performance on many (all?) NLP tasks\n",
    "    * These models generally seek to predict a word (or other element of a text sequence) on the basis of the words around it\n",
    "    * General architecture is:\n",
    "        * Embedding layer. Counts of words transformed into contextual vectors. Initially, weights are random. In the case of word embeddings, we want to learn the proper weights as our output objective.\n",
    "        * Intermediate (hidden) layer. Neural layers that can learn non-linear relationships between words and embeddings.\n",
    "        * Output layer. Optimize an objective function (for example, highest probability of next word, given an input sequence).\n",
    "    * `word2vec` (2013) showed that we can do without the intermediate layer if we just want to produce word embeddings\n",
    "        * This simplifies the computation, so we can use *much* more input text\n",
    "* CBOW vs. skip-gram\n",
    "    * `word2vec` can use two different models: Continuous bag of words (CBOW) and skip-gram\n",
    "    * CBOW is more \"traditional.\" Objective is to predict a word given the *n* words before and after it.\n",
    "    * Skip-gram \"flips\" the prediction task. Try to predict the *n* contextual words, given a seed word.\n",
    "    * CBOW is faster to train and better captures *syntax* (plurals are closer to other plurals in vector space)\n",
    "    * Skip-gram is slower to train and better captures *semantic* relationships ('king' moves  closer to 'prince' than to 'kings')\n",
    "* Training is slow either way, so using pretrained embeddings is standard practice, but ...\n",
    "    * Embedded relationships and biases of training set\n",
    "    * Change over time\n",
    "    * Polysemy remains within the embedding\n",
    "        * \"Class\" vector has components of education and of social status, for example"
   ]
  },
  {
   "cell_type": "markdown",
   "metadata": {},
   "source": [
    "## Let's *use* some embeddings\n",
    "\n",
    "We're not going to train them, because that's slow and requires lots of corpus text. In a future lecture, we'll discuss transfer learning. Transfer learning allows us to use a modest amount of new training data to update a larger, pretrained model.\n",
    "\n",
    "### We need a `spaCy` medium or large model\n",
    "\n",
    "The small models that we used in the previous lecture do not include vectors. If you haven't already installed the large model (which includes `GloVe` embeddings, an alternative to `word2vec`), run the code below in a terminal to download and install it.\n",
    "\n",
    "```\n",
    "python -m spacy download en_core_web_lg\n",
    "```"
   ]
  },
  {
   "cell_type": "code",
   "execution_count": null,
   "metadata": {
    "tags": []
   },
   "outputs": [],
   "source": [
    "# set up spaCy NLP object and load model\n",
    "import spacy\n",
    "nlp = spacy.load(\"en_core_web_lg\") # Note '_lg' = large model"
   ]
  },
  {
   "cell_type": "markdown",
   "metadata": {},
   "source": [
    "### Words in vector space\n",
    "\n",
    "Take a quick look at some vectors in embedding space ..."
   ]
  },
  {
   "cell_type": "code",
   "execution_count": null,
   "metadata": {
    "tags": []
   },
   "outputs": [],
   "source": [
    "# load embeddings from model, reduce via PCA, plot some example words\n",
    "import matplotlib.pyplot as plt\n",
    "import numpy as np\n",
    "from   sklearn.decomposition import PCA\n",
    "\n",
    "pct_to_sample = 100 # how much of the vector space to sample?\n",
    "tokens_with_vector = []\n",
    "for string in nlp.vocab.strings: # not all tokens have vectors; get those that do\n",
    "    if nlp.vocab[string].has_vector:\n",
    "        tokens_with_vector.append(string)\n",
    "tokens_in_sample = np.random.choice(tokens_with_vector, int(len(tokens_with_vector) * pct_to_sample/100))\n",
    "\n",
    "# get embeddings\n",
    "   # pre-allocate numpy array to hold embeddings\n",
    "embedding_space = np.zeros((len(tokens_in_sample), nlp.vocab.vectors_length), dtype='f')\n",
    "for i, token in enumerate(tokens_in_sample):\n",
    "    embedding_space[i] = nlp.vocab[token].vector\n",
    "\n",
    "# reduce dimensions for plotting\n",
    "pca = PCA()\n",
    "pca.fit(embedding_space)"
   ]
  },
  {
   "cell_type": "code",
   "execution_count": null,
   "metadata": {
    "tags": []
   },
   "outputs": [],
   "source": [
    "# get vectors for sample words, reduce dimensions, and plot\n",
    "test_words = ['bank', 'loan', 'river', 'coffee', 'kitten',]\n",
    "\n",
    "# pre-allocate\n",
    "test_embeddings = np.zeros((len(test_words), nlp.vocab.vectors_length), dtype='f')\n",
    "\n",
    "# retrieve embeddings\n",
    "for i, word in enumerate(test_words):\n",
    "    test_embeddings[i] = nlp.vocab[word].vector\n",
    "    \n",
    "# recude dimensions in learned space\n",
    "X = pca.transform(test_embeddings)\n",
    "\n",
    "# plot\n",
    "fig, ax = plt.subplots()\n",
    "for i in range(len(test_words)):\n",
    "    ax.scatter(X[i,0], X[i,1])\n",
    "    ax.text(X[i,0], X[i,1], test_words[i])\n",
    "plt.show()"
   ]
  },
  {
   "cell_type": "markdown",
   "metadata": {},
   "source": [
    "### Word similarities"
   ]
  },
  {
   "cell_type": "code",
   "execution_count": null,
   "metadata": {
    "tags": []
   },
   "outputs": [],
   "source": [
    "# How similar are the words 'king' and 'queen' in Web text?\n",
    "from sklearn.metrics.pairwise import cosine_similarity\n",
    "\n",
    "print(\"king -> queen similarity:\", cosine_similarity(\n",
    "    nlp.vocab['king'].vector.reshape(1,-1), # reshape into a 2d vector with single row\n",
    "    nlp.vocab['queen'].vector.reshape(1,-1)\n",
    ").item())"
   ]
  },
  {
   "cell_type": "markdown",
   "metadata": {},
   "source": [
    "### Vector math\n",
    "\n",
    "Now we ask: can we remove some part of a word's meaning, add a different part, and end up closer to a specific endpoint?\n",
    "\n",
    "Another way to think about this is to imagine the task as an analogy. For example, `man:king :: woman: ___`. Many readers would complete the analogy with `queen`. Let's see if embeddings do something similar ..."
   ]
  },
  {
   "cell_type": "code",
   "execution_count": null,
   "metadata": {
    "tags": []
   },
   "outputs": [],
   "source": [
    "# Vector math: king - man + woman -> closer to queen?\n",
    "king_to_queen_vector = nlp.vocab['king'].vector - nlp.vocab['man'].vector + nlp.vocab['woman'].vector\n",
    "print(\"king - man + woman -> queen similarity:\", cosine_similarity(\n",
    "    king_to_queen_vector.reshape(1,-1), \n",
    "    nlp.vocab['queen'].vector.reshape(1,-1)\n",
    ").item())"
   ]
  },
  {
   "cell_type": "markdown",
   "metadata": {},
   "source": [
    "Notice that we've moved closer to `queen` by subtracting `man` and adding `woman`."
   ]
  },
  {
   "cell_type": "code",
   "execution_count": null,
   "metadata": {
    "tags": []
   },
   "outputs": [],
   "source": [
    "# Try the same with Paris and Berlin\n",
    "print(\"Paris -> Berlin:                   \", cosine_similarity(\n",
    "    nlp.vocab['Paris'].vector.reshape(1,-1), # reshape into a 2d vector with single row\n",
    "    nlp.vocab['Berlin'].vector.reshape(1,-1)\n",
    ").item())\n",
    "\n",
    "paris_to_berlin_vector = nlp.vocab['Paris'].vector - nlp.vocab['France'].vector + nlp.vocab['Germany'].vector\n",
    "print(\"Paris - France + Germany -> Berlin:\", cosine_similarity(\n",
    "    paris_to_berlin_vector.reshape(1,-1), \n",
    "    nlp.vocab['Berlin'].vector.reshape(1,-1)\n",
    ").item())"
   ]
  },
  {
   "cell_type": "markdown",
   "metadata": {},
   "source": [
    "So, we can use vectors on these kinds of \"analogy\" tasks. How could we find the *n* most similar words to a given vector?"
   ]
  },
  {
   "cell_type": "markdown",
   "metadata": {},
   "source": [
    "### Corpus-wide similarities"
   ]
  },
  {
   "cell_type": "code",
   "execution_count": null,
   "metadata": {
    "tags": []
   },
   "outputs": [],
   "source": [
    "%%time\n",
    "# How large is our model?\n",
    "string_count = 0\n",
    "vector_count = 0\n",
    "for string in nlp.vocab.strings:\n",
    "    string_count+=1\n",
    "    if nlp.vocab[string].has_vector:\n",
    "        vector_count+=1\n",
    "print(\"Vocab size:\", string_count)\n",
    "print(\"Has vectors:\", vector_count)"
   ]
  },
  {
   "cell_type": "markdown",
   "metadata": {},
   "source": [
    "So, our language model has 514,092 words with embeddings (and about 265,000 more words for which we lack embeddings; we'll ignore those).\n",
    "\n",
    "Next, we'll create a word-embedding matrix over our vocabulary, so that we can calculate distances between any pair of words. This matrix will have 514,092 rows (one for each word that has an embedding in our model) and 300 columns (the number of dimensions in the embedding representation).\n",
    "\n",
    "We initialize the output matrix with zeros, since it's much faster to update an existing numpy array than it is to append to it.\n",
    "\n",
    "Note that there's an easier way to find the most similar vectors to a taget word in spaCy, but we're showing the details for clarity ..."
   ]
  },
  {
   "cell_type": "code",
   "execution_count": null,
   "metadata": {
    "tags": []
   },
   "outputs": [],
   "source": [
    "%%time\n",
    "# Make a word-vector martrix with labels\n",
    "vector_matrix = np.zeros([vector_count,nlp.vocab.vectors_length]) # Initialize the output matrix\n",
    "counter = 0\n",
    "vocab_dict = {} # Dictionary to hold word index positions in the matrix\n",
    "vocab_list = [] # List to hold words in order\n",
    "for string in nlp.vocab.strings: # iterate over the strings in our model\n",
    "    if nlp.vocab[string].has_vector: # only want the ones with embeddings\n",
    "        vocab_dict[string] = counter # record position of this word\n",
    "        vocab_list.append(string) # add to our list of words\n",
    "        # l2-normalize the vector and update matrix\n",
    "        vector_matrix[counter] = nlp.vocab[string].vector/nlp.vocab[string].vector_norm\n",
    "        counter+=1 # increment counter\n",
    "print(\"Matrix shape:\", vector_matrix.shape)"
   ]
  },
  {
   "cell_type": "markdown",
   "metadata": {},
   "source": [
    "You might be tempted to iterate over the rows in the output matrix, calculating the similarity between each one and your target vector. This is slow. Instead, we'll use matrix math.\n",
    "\n",
    "The **dot product** of two 1D vectors is the sum of their element-wise products. If the vectors are (L2) normalized, their dot product = their cosine similarity. If you take the dot product of a 2D matrix with a 1D vector, the result is a 1D vector representing the dot products of the 1D vector with each of the row vectors in the matrix."
   ]
  },
  {
   "cell_type": "code",
   "execution_count": null,
   "metadata": {
    "tags": []
   },
   "outputs": [],
   "source": [
    "# example dot product\n",
    "vec1 = [0.5, 0.1]\n",
    "vec2 = [1.0, 0.1]\n",
    "result = 0.5*1.0 + 0.1*0.1\n",
    "print(\"Result of vec1.vec2:\", result)\n",
    "assert np.dot(vec1, vec2) == result"
   ]
  },
  {
   "cell_type": "code",
   "execution_count": null,
   "metadata": {
    "tags": []
   },
   "outputs": [],
   "source": [
    "# Calculate similarities to 'king' via dot products\n",
    "similarities = np.dot(vector_matrix, vector_matrix[vocab_dict['king']])\n",
    "similarities.shape"
   ]
  },
  {
   "cell_type": "markdown",
   "metadata": {},
   "source": [
    "Note that NumPy dot products are really fast to calculate!"
   ]
  },
  {
   "cell_type": "code",
   "execution_count": null,
   "metadata": {
    "tags": []
   },
   "outputs": [],
   "source": [
    "# Get 10 most-similar words to 'king'\n",
    "# argsort returns lowest to highest, so we get the last 10, then reverse\n",
    "top_n = np.argsort(similarities)[-10:][::-1] \n",
    "for i in top_n:\n",
    "    print(vocab_list[i], similarities[i])"
   ]
  },
  {
   "cell_type": "code",
   "execution_count": null,
   "metadata": {
    "tags": []
   },
   "outputs": [],
   "source": [
    "# Most similar to our king - man + woman vector\n",
    "# Also, make this prettier and with less repetition\n",
    "\n",
    "def print_most_similar(matrix, vector, vocab_list, n=20):\n",
    "    sim = np.dot(matrix, vector/np.linalg.norm(vector))\n",
    "    sorted_sims = np.argsort(sim)[-n:][::-1] #argsort return lowest to highest, so we get the last n, then reverse\n",
    "    last_word = ''\n",
    "    for i in sorted_sims:\n",
    "        current_word = vocab_list[i].lower()\n",
    "        if current_word != last_word: # filter out duplicates\n",
    "            print(f'{current_word:<15}{sim[i]:.4}')\n",
    "            last_word = current_word\n",
    "            \n",
    "print_most_similar(vector_matrix, king_to_queen_vector, vocab_list)"
   ]
  },
  {
   "cell_type": "markdown",
   "metadata": {},
   "source": [
    "### Pure spacy\n",
    "\n",
    "Do the same thing, but entirely within spacy ..."
   ]
  },
  {
   "cell_type": "code",
   "execution_count": null,
   "metadata": {
    "tags": []
   },
   "outputs": [],
   "source": [
    "best = nlp.vocab.vectors.most_similar(king_to_queen_vector.reshape(1,-1), n=20)"
   ]
  },
  {
   "cell_type": "code",
   "execution_count": null,
   "metadata": {
    "tags": []
   },
   "outputs": [],
   "source": [
    "# Examine the output\n",
    "best"
   ]
  },
  {
   "cell_type": "markdown",
   "metadata": {},
   "source": [
    "Note that the output format of spacy's `most_similar()` function is a tuple that contains three items: an array of word hashes (unique IDs), an array of index positions in the vector matrix, and an array of similarity values."
   ]
  },
  {
   "cell_type": "code",
   "execution_count": null,
   "metadata": {
    "tags": []
   },
   "outputs": [],
   "source": [
    "# Print top matches\n",
    "hashes, lines, scores = best\n",
    "last_word = ''\n",
    "for i in range(len(hashes[0])):\n",
    "    current_word = nlp.vocab[hashes[0][i].item()].text.lower()\n",
    "    if current_word != last_word:\n",
    "        print(f'{current_word:<15}{scores[0][i]:.4}')\n",
    "        last_word = current_word"
   ]
  },
  {
   "cell_type": "code",
   "execution_count": null,
   "metadata": {
    "tags": []
   },
   "outputs": [],
   "source": [
    "def print_most_similar(word, n=20):\n",
    "    target_vector = nlp.vocab[word].vector/nlp.vocab[word].vector_norm\n",
    "    hashes, lines, scores = nlp.vocab.vectors.most_similar(target_vector.reshape(1,-1), n=n)\n",
    "    last_word = ''\n",
    "    for i in range(len(hashes[0])):\n",
    "        current_word = nlp.vocab[hashes[0][i].item()].text.lower()\n",
    "        if current_word != last_word:\n",
    "            print(f'{current_word:<15}{scores[0][i]:.4}')\n",
    "            last_word = current_word"
   ]
  },
  {
   "cell_type": "code",
   "execution_count": null,
   "metadata": {
    "tags": []
   },
   "outputs": [],
   "source": [
    "# get most similar vectors to each of a list of target terms\n",
    "for term in ['economy', 'economic', 'money', 'wealth', 'child', 'housework']:\n",
    "    print_most_similar(term, n=5)\n",
    "    print()"
   ]
  },
  {
   "cell_type": "markdown",
   "metadata": {},
   "source": [
    "## Document similarities using word embeddings\n",
    "\n",
    "It's fun to study words, but we mostly care about documents. How can we use word embeddings to perform the kinds of document-similarity tasks that have occupied us so far this semester?\n",
    "\n",
    "The answer is that we replace each word token with its corresponding embedding, then, for each document, average the embeddings to get a representation of the document. We can then use those document representations (of dimensionality equal to the dimensionality of our embedding vectors) as input to any of the methods we've already discussed.\n",
    "\n",
    "Here, we use our derived document representations to measure the cosine similarity between different (toy) documents. We do this both with and without removing stopwords, and we compare our measures to those using word counts (rather than embeddings)."
   ]
  },
  {
   "cell_type": "code",
   "execution_count": null,
   "metadata": {
    "tags": []
   },
   "outputs": [],
   "source": [
    "# Doc similarities\n",
    "from sklearn.feature_extraction.text import TfidfVectorizer\n",
    "\n",
    "# Set up sample sentences\n",
    "sentences = [\n",
    "    'The young cat is smaller than the old dog.',\n",
    "    'The kitten is tinier than the elderly hound.',\n",
    "    'Not all sentences are about animals, nor about their properties.',\n",
    "    'It is a truth universally acknowledged ...'\n",
    "]\n",
    "\n",
    "# process sentences into spacy nlp objects\n",
    "docs = []\n",
    "for sentence in sentences:\n",
    "    tokens = nlp(sentence)\n",
    "    docs.append(tokens)\n",
    "    \n",
    "def remove_noninformative_tokens(doc):\n",
    "    '''\n",
    "    Takes a spacy-processed document.\n",
    "    Returns a list of spacy token objects without stopwords, punctuation, or embedding-less tokens.\n",
    "    '''\n",
    "    culled = [token for token in doc if not (token.is_stop or token.is_punct) and token.has_vector]\n",
    "    return(culled)\n",
    "\n",
    "def embedding_similarity(X,Y):\n",
    "    '''\n",
    "    Takes two lists of spacy token objects.\n",
    "    Returns cosine similarity between their embedding representations.\n",
    "    '''\n",
    "    mean_vector_X = np.mean([token.vector for token in X], axis=0)\n",
    "    mean_vector_Y = np.mean([token.vector for token in Y], axis=0)\n",
    "        # note below reshape 1D -> 2D array. 2D version is 1 row x n columns\n",
    "    cos_similarity = cosine_similarity(mean_vector_X.reshape(1, -1), mean_vector_Y.reshape(1, -1))\n",
    "    return(cos_similarity.item()) # use .item() to get single value from array\n",
    "    \n",
    "def token_similarity(X,Y):\n",
    "    '''\n",
    "    Takes two lists of spacy tokens.\n",
    "    Returns cosine similarity between their tokens.\n",
    "    '''\n",
    "    doc1 = ' '.join([token.text for token in X])\n",
    "    doc2 = ' '.join([token.text for token in Y])\n",
    "    vectorizer = TfidfVectorizer(use_idf=False)\n",
    "    vectors = vectorizer.fit_transform([doc1, doc2])\n",
    "    return(cosine_similarity(vectors[0], vectors[1]).item())\n",
    "    \n",
    "for i, doc in enumerate(docs):\n",
    "    doc1_nostops = remove_noninformative_tokens(doc)\n",
    "    for j in range(len(docs)):\n",
    "        if j>i:\n",
    "            doc2_nostops = remove_noninformative_tokens(docs[j])\n",
    "            print(f\"Doc {i}: {docs[i]}\")\n",
    "            print(f\"Doc {j}: {docs[j]}\")\n",
    "            print(f\"   Built-in similarity: {doc.similarity(docs[j]):.3}\")\n",
    "            print(f\"   Hand similarity:     {embedding_similarity(doc, docs[j]):.3}\")\n",
    "            print(f\"   Embed sim, no stops: {embedding_similarity(doc1_nostops, doc2_nostops):.3}\")\n",
    "            print(f\"   Token sim, no stops: {token_similarity(doc1_nostops, doc2_nostops):.3}\")\n",
    "            print()"
   ]
  },
  {
   "cell_type": "code",
   "execution_count": null,
   "metadata": {},
   "outputs": [],
   "source": []
  }
 ],
 "metadata": {
  "kernelspec": {
   "display_name": "Python 3 (ipykernel)",
   "language": "python",
   "name": "python3"
  },
  "language_info": {
   "codemirror_mode": {
    "name": "ipython",
    "version": 3
   },
   "file_extension": ".py",
   "mimetype": "text/x-python",
   "name": "python",
   "nbconvert_exporter": "python",
   "pygments_lexer": "ipython3",
   "version": "3.11.5"
  }
 },
 "nbformat": 4,
 "nbformat_minor": 4
}
