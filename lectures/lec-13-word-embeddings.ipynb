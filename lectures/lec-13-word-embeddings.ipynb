{
 "cells": [
  {
   "cell_type": "markdown",
   "metadata": {},
   "source": [
    "# INFO 3350/6350\n",
    "\n",
    "## Lecture 13: Static word embeddings\n",
    "\n",
    "## To do\n",
    "\n",
    "* Tuesday/Friday readings and responses as assigned (week 10, Q-Z)\n",
    "* PS4 is out, due next Thursday\n",
    "    * Note updated version, includes stub code in Q6\n",
    "* Final project general instructions on GitHub\n",
    "    * Exam version and grad project will be broadly similar"
   ]
  },
  {
   "cell_type": "markdown",
   "metadata": {},
   "source": [
    "## Words as vectors\n",
    "\n",
    "**Big picture: static word embeddings replace each word in our corpus with a vector** (typically of dimensionality between 100 and 1,000) **that captures the range of meanings of that word. We can use these vectors in place of token counts as the input features for any downstream NLP or text analysis task.**\n",
    "\n",
    "* We've previously represented **documents** as vectors\n",
    "    * Usually, vectors of word counts\n",
    "    * Or, with topic models, as vectors of topics\n",
    "* Limits of words, often discussed\n",
    "    * In brief: some words are more alike than others, but word counts don't reflect this fact\n",
    "    * Topic models helped to address this problem\n",
    "    * Today, a different approach: **word embeddings**\n",
    "* We might like to have a vector for each **word**, which we could in turn use to build our document vectors\n",
    "    * This will be an *unsupervised* task. We want to produce vectors that place similar words close together in vector space, but we don't want to use human-labled data to do so. We want instead to observe patterns of use in a large corpus.\n",
    "* One approach (not pursued here): Truncated SVD on sliding windows over words\n",
    "    * Group all the resulting bags of words by their 'center' word\n",
    "    * Reduce resulting \"doc\"-term matrix for each word via truncated SVD\n",
    "        * Like latent semantic analysis, but oriented around words rather than documents\n",
    "    * Relatively fast to train and decent performance\n",
    "    * Limited by linear relationships and lack of semantic connections\n",
    "* Language models\n",
    "    * Large neural language models achieve state-of-the-art performance on many (all?) NLP tasks\n",
    "    * These models generally seek to predict a word (or other element of a text sequence) on the basis of the words around it\n",
    "    * General architecture is:\n",
    "        * Embedding layer. Counts of words transformed into contextual vectors. Initially, weights are random. In the case of word embeddings, we want to learn the proper weights as our output objective.\n",
    "        * Intermediate (hidden) layer. Neural layers that can learn non-linear relationships between words and embeddings.\n",
    "        * Output layer. Optimize an objective function (for example, highest probability of next word, given an input sequence).\n",
    "    * `word2vec` (2013) showed that we can do without the intermediate layer if we just want to produce word embeddings\n",
    "        * This simplifies the computation, so we can use *much* more input text\n",
    "* CBOW vs. skip-gram\n",
    "    * `word2vec` can use two different models: Continuous bag of words (CBOW) and skip-gram\n",
    "    * CBOW is more \"traditional.\" Objective is to predict a word given the *n* words before and after it.\n",
    "    * Skip-gram \"flips\" the prediction task. Try to predict the *n* contextual words, given a seed word.\n",
    "    * CBOW is faster to train and better captures *syntax* (plurals are closer to other plurals in vector space)\n",
    "    * Skip-gram is slower to train and better captures *semantic* relationships ('king' moves  closer to 'prince' than to 'kings')\n",
    "* Training is slow either way, so using pretrained embeddings is standard practice, but ...\n",
    "    * Embedded relationships and biases of training set\n",
    "    * Change over time\n",
    "    * Polysemy remains within the embedding\n",
    "        * \"Class\" vector has components of education and of social status, for example"
   ]
  },
  {
   "cell_type": "markdown",
   "metadata": {},
   "source": [
    "## Let's *use* some embeddings\n",
    "\n",
    "We're not going to train them, because that's slow and requires lots of corpus text. In a future lecture, we'll discuss transfer learning. Transfer learning allows us to use a modest amount of new training data to update a larger, pretrained model.\n",
    "\n",
    "### We need a `spaCy` medium or large model\n",
    "\n",
    "The small models that we used in the previous lecture do not include vectors. If you haven't already installed the large model (which includes `GloVe` embeddings, an alternative to `word2vec`), run the code below in a terminal to download and install it.\n",
    "\n",
    "```\n",
    "python -m spacy download en_core_web_lg\n",
    "```"
   ]
  },
  {
   "cell_type": "code",
   "execution_count": 1,
   "metadata": {
    "tags": []
   },
   "outputs": [],
   "source": [
    "# set up spaCy NLP object and load model\n",
    "import spacy\n",
    "nlp = spacy.load(\"en_core_web_lg\") # Note '_lg' = large model"
   ]
  },
  {
   "cell_type": "markdown",
   "metadata": {},
   "source": [
    "### Words in vector space\n",
    "\n",
    "Take a quick look at some vectors in embedding space. We begin by loading (a sample of) the embedding space, so that we can learn its PCA representation ..."
   ]
  },
  {
   "cell_type": "code",
   "execution_count": 2,
   "metadata": {
    "tags": []
   },
   "outputs": [
    {
     "data": {
      "text/html": [
       "<style>#sk-container-id-1 {color: black;}#sk-container-id-1 pre{padding: 0;}#sk-container-id-1 div.sk-toggleable {background-color: white;}#sk-container-id-1 label.sk-toggleable__label {cursor: pointer;display: block;width: 100%;margin-bottom: 0;padding: 0.3em;box-sizing: border-box;text-align: center;}#sk-container-id-1 label.sk-toggleable__label-arrow:before {content: \"▸\";float: left;margin-right: 0.25em;color: #696969;}#sk-container-id-1 label.sk-toggleable__label-arrow:hover:before {color: black;}#sk-container-id-1 div.sk-estimator:hover label.sk-toggleable__label-arrow:before {color: black;}#sk-container-id-1 div.sk-toggleable__content {max-height: 0;max-width: 0;overflow: hidden;text-align: left;background-color: #f0f8ff;}#sk-container-id-1 div.sk-toggleable__content pre {margin: 0.2em;color: black;border-radius: 0.25em;background-color: #f0f8ff;}#sk-container-id-1 input.sk-toggleable__control:checked~div.sk-toggleable__content {max-height: 200px;max-width: 100%;overflow: auto;}#sk-container-id-1 input.sk-toggleable__control:checked~label.sk-toggleable__label-arrow:before {content: \"▾\";}#sk-container-id-1 div.sk-estimator input.sk-toggleable__control:checked~label.sk-toggleable__label {background-color: #d4ebff;}#sk-container-id-1 div.sk-label input.sk-toggleable__control:checked~label.sk-toggleable__label {background-color: #d4ebff;}#sk-container-id-1 input.sk-hidden--visually {border: 0;clip: rect(1px 1px 1px 1px);clip: rect(1px, 1px, 1px, 1px);height: 1px;margin: -1px;overflow: hidden;padding: 0;position: absolute;width: 1px;}#sk-container-id-1 div.sk-estimator {font-family: monospace;background-color: #f0f8ff;border: 1px dotted black;border-radius: 0.25em;box-sizing: border-box;margin-bottom: 0.5em;}#sk-container-id-1 div.sk-estimator:hover {background-color: #d4ebff;}#sk-container-id-1 div.sk-parallel-item::after {content: \"\";width: 100%;border-bottom: 1px solid gray;flex-grow: 1;}#sk-container-id-1 div.sk-label:hover label.sk-toggleable__label {background-color: #d4ebff;}#sk-container-id-1 div.sk-serial::before {content: \"\";position: absolute;border-left: 1px solid gray;box-sizing: border-box;top: 0;bottom: 0;left: 50%;z-index: 0;}#sk-container-id-1 div.sk-serial {display: flex;flex-direction: column;align-items: center;background-color: white;padding-right: 0.2em;padding-left: 0.2em;position: relative;}#sk-container-id-1 div.sk-item {position: relative;z-index: 1;}#sk-container-id-1 div.sk-parallel {display: flex;align-items: stretch;justify-content: center;background-color: white;position: relative;}#sk-container-id-1 div.sk-item::before, #sk-container-id-1 div.sk-parallel-item::before {content: \"\";position: absolute;border-left: 1px solid gray;box-sizing: border-box;top: 0;bottom: 0;left: 50%;z-index: -1;}#sk-container-id-1 div.sk-parallel-item {display: flex;flex-direction: column;z-index: 1;position: relative;background-color: white;}#sk-container-id-1 div.sk-parallel-item:first-child::after {align-self: flex-end;width: 50%;}#sk-container-id-1 div.sk-parallel-item:last-child::after {align-self: flex-start;width: 50%;}#sk-container-id-1 div.sk-parallel-item:only-child::after {width: 0;}#sk-container-id-1 div.sk-dashed-wrapped {border: 1px dashed gray;margin: 0 0.4em 0.5em 0.4em;box-sizing: border-box;padding-bottom: 0.4em;background-color: white;}#sk-container-id-1 div.sk-label label {font-family: monospace;font-weight: bold;display: inline-block;line-height: 1.2em;}#sk-container-id-1 div.sk-label-container {text-align: center;}#sk-container-id-1 div.sk-container {/* jupyter's `normalize.less` sets `[hidden] { display: none; }` but bootstrap.min.css set `[hidden] { display: none !important; }` so we also need the `!important` here to be able to override the default hidden behavior on the sphinx rendered scikit-learn.org. See: https://github.com/scikit-learn/scikit-learn/issues/21755 */display: inline-block !important;position: relative;}#sk-container-id-1 div.sk-text-repr-fallback {display: none;}</style><div id=\"sk-container-id-1\" class=\"sk-top-container\"><div class=\"sk-text-repr-fallback\"><pre>PCA()</pre><b>In a Jupyter environment, please rerun this cell to show the HTML representation or trust the notebook. <br />On GitHub, the HTML representation is unable to render, please try loading this page with nbviewer.org.</b></div><div class=\"sk-container\" hidden><div class=\"sk-item\"><div class=\"sk-estimator sk-toggleable\"><input class=\"sk-toggleable__control sk-hidden--visually\" id=\"sk-estimator-id-1\" type=\"checkbox\" checked><label for=\"sk-estimator-id-1\" class=\"sk-toggleable__label sk-toggleable__label-arrow\">PCA</label><div class=\"sk-toggleable__content\"><pre>PCA()</pre></div></div></div></div></div>"
      ],
      "text/plain": [
       "PCA()"
      ]
     },
     "execution_count": 2,
     "metadata": {},
     "output_type": "execute_result"
    }
   ],
   "source": [
    "# load embeddings from model, reduce via PCA, plot some example words\n",
    "import matplotlib.pyplot as plt\n",
    "import numpy as np\n",
    "from   sklearn.decomposition import PCA\n",
    "\n",
    "# sample embedding space\n",
    "pct_to_sample = 100 # how much of the vector space to sample?\n",
    "tokens_with_vector = []\n",
    "for string in nlp.vocab.strings: # not all tokens have vectors; get those that do\n",
    "    if nlp.vocab[string].has_vector:\n",
    "        tokens_with_vector.append(string)\n",
    "tokens_in_sample = np.random.choice(tokens_with_vector, int(len(tokens_with_vector) * pct_to_sample/100), replace=False)\n",
    "\n",
    "# get embeddings\n",
    "   # pre-allocate numpy array to hold embeddings\n",
    "embedding_space = np.zeros((len(tokens_in_sample), nlp.vocab.vectors_length), dtype='f')\n",
    "for i, token in enumerate(tokens_in_sample):\n",
    "    embedding_space[i] = nlp.vocab[token].vector\n",
    "\n",
    "# reduce dimensions for plotting\n",
    "pca = PCA()\n",
    "pca.fit(embedding_space)"
   ]
  },
  {
   "cell_type": "markdown",
   "metadata": {
    "tags": []
   },
   "source": [
    "... then we get the PCA reductions of a few words to visualize."
   ]
  },
  {
   "cell_type": "code",
   "execution_count": 3,
   "metadata": {
    "tags": []
   },
   "outputs": [
    {
     "data": {
      "image/png": "[encoded data removed]",
      "text/plain": [
       "<Figure size 640x480 with 1 Axes>"
      ]
     },
     "metadata": {},
     "output_type": "display_data"
    }
   ],
   "source": [
    "# get vectors for sample words, reduce dimensions, and plot\n",
    "test_words = ['bank', 'loan', 'river', 'coffee', 'kitten',]\n",
    "\n",
    "# pre-allocate\n",
    "test_embeddings = np.zeros((len(test_words), nlp.vocab.vectors_length), dtype='f')\n",
    "\n",
    "# retrieve embeddings\n",
    "for i, word in enumerate(test_words):\n",
    "    test_embeddings[i] = nlp.vocab[word].vector\n",
    "    \n",
    "# reduce dimensions in learned space\n",
    "X = pca.transform(test_embeddings)\n",
    "\n",
    "# plot\n",
    "fig, ax = plt.subplots()\n",
    "for i in range(len(test_words)):\n",
    "    ax.scatter(X[i,0], X[i,1])\n",
    "    ax.text(X[i,0], X[i,1], test_words[i])\n",
    "plt.show()"
   ]
  },
  {
   "cell_type": "markdown",
   "metadata": {},
   "source": [
    "### Word similarities"
   ]
  },
  {
   "cell_type": "code",
   "execution_count": 7,
   "metadata": {
    "tags": []
   },
   "outputs": [
    {
     "name": "stdout",
     "output_type": "stream",
     "text": [
      "king -> queen similarity: 0.6108841896057129\n"
     ]
    }
   ],
   "source": [
    "# How similar are the words 'king' and 'queen' in Web text?\n",
    "from sklearn.metrics.pairwise import cosine_similarity\n",
    "\n",
    "print(\"king -> queen similarity:\", cosine_similarity(\n",
    "    nlp.vocab['king'].vector.reshape(1,-1), # reshape into a 2d vector with single row\n",
    "    nlp.vocab['queen'].vector.reshape(1,-1)\n",
    ").item())"
   ]
  },
  {
   "cell_type": "markdown",
   "metadata": {},
   "source": [
    "### Vector math\n",
    "\n",
    "Now we ask: can we remove some part of a word's meaning, add a different part, and end up closer to a specific endpoint?\n",
    "\n",
    "Another way to think about this is to imagine the task as an analogy. For example, `man:king :: woman: ___`. Many readers would complete the analogy with `queen`. Let's see if embeddings do something similar ..."
   ]
  },
  {
   "cell_type": "code",
   "execution_count": 8,
   "metadata": {
    "tags": []
   },
   "outputs": [
    {
     "name": "stdout",
     "output_type": "stream",
     "text": [
      "king - man + woman -> queen similarity: 0.6178013682365417\n"
     ]
    }
   ],
   "source": [
    "# Vector math: king - man + woman -> closer to queen?\n",
    "king_to_queen_vector = nlp.vocab['king'].vector - nlp.vocab['man'].vector + nlp.vocab['woman'].vector\n",
    "print(\"king - man + woman -> queen similarity:\", cosine_similarity(\n",
    "    king_to_queen_vector.reshape(1,-1), \n",
    "    nlp.vocab['queen'].vector.reshape(1,-1)\n",
    ").item())"
   ]
  },
  {
   "cell_type": "markdown",
   "metadata": {},
   "source": [
    "Notice that we've moved closer to `queen` by subtracting `man` and adding `woman`."
   ]
  },
  {
   "cell_type": "code",
   "execution_count": 11,
   "metadata": {
    "tags": []
   },
   "outputs": [
    {
     "name": "stdout",
     "output_type": "stream",
     "text": [
      "Paris -> Berlin:                    0.6216195821762085\n",
      "Paris - France + Germany -> Berlin: 0.8145961165428162\n"
     ]
    }
   ],
   "source": [
    "# Try the same with Paris and Berlin\n",
    "print(\"Paris -> Berlin:                   \", cosine_similarity(\n",
    "    nlp.vocab['Paris'].vector.reshape(1,-1), # reshape into a 2d vector with single row\n",
    "    nlp.vocab['Berlin'].vector.reshape(1,-1)\n",
    ").item())\n",
    "\n",
    "paris_to_berlin_vector = nlp.vocab['Paris'].vector - nlp.vocab['France'].vector + nlp.vocab['Germany'].vector\n",
    "print(\"Paris - France + Germany -> Berlin:\", cosine_similarity(\n",
    "    paris_to_berlin_vector.reshape(1,-1), \n",
    "    nlp.vocab['Berlin'].vector.reshape(1,-1)\n",
    ").item())"
   ]
  },
  {
   "cell_type": "markdown",
   "metadata": {},
   "source": [
    "So, we can use vectors on these kinds of \"analogy\" tasks. How could we find the *n* most similar words to a given vector?"
   ]
  },
  {
   "cell_type": "markdown",
   "metadata": {},
   "source": [
    "### Corpus-wide similarities"
   ]
  },
  {
   "cell_type": "code",
   "execution_count": 12,
   "metadata": {
    "tags": []
   },
   "outputs": [
    {
     "name": "stdout",
     "output_type": "stream",
     "text": [
      "Vocab size: 780334\n",
      "Has vectors: 514092\n"
     ]
    }
   ],
   "source": [
    "# How large is our model?\n",
    "string_count = 0\n",
    "vector_count = 0\n",
    "for string in nlp.vocab.strings:\n",
    "    string_count+=1\n",
    "    if nlp.vocab[string].has_vector:\n",
    "        vector_count+=1\n",
    "print(\"Vocab size:\", string_count)\n",
    "print(\"Has vectors:\", vector_count)"
   ]
  },
  {
   "cell_type": "markdown",
   "metadata": {},
   "source": [
    "So, our language model has 514,092 words with embeddings (and about 265,000 more words for which we lack embeddings; we'll ignore those).\n",
    "\n",
    "Next, we'll create a word-embedding matrix over our vocabulary, so that we can calculate distances between any pair of words. This matrix will have 514,092 rows (one for each word that has an embedding in our model) and 300 columns (the number of dimensions in the embedding representation).\n",
    "\n",
    "We initialize the output matrix with zeros, since it's much faster to update an existing numpy array than it is to append to it.\n",
    "\n",
    "Note that there's an easier way to find the most similar vectors to a taget word in spaCy, but we're showing the details for clarity ..."
   ]
  },
  {
   "cell_type": "code",
   "execution_count": 13,
   "metadata": {
    "tags": []
   },
   "outputs": [
    {
     "name": "stdout",
     "output_type": "stream",
     "text": [
      "Matrix shape: (514092, 300)\n",
      "CPU times: user 13.1 s, sys: 1.14 s, total: 14.2 s\n",
      "Wall time: 16.2 s\n"
     ]
    }
   ],
   "source": [
    "%%time\n",
    "# Make a word-vector martrix with labels\n",
    "vector_matrix = np.zeros([vector_count,nlp.vocab.vectors_length]) # Initialize the output matrix\n",
    "counter = 0\n",
    "vocab_dict = {} # Dictionary to hold word index positions in the matrix\n",
    "vocab_list = [] # List to hold words in order\n",
    "for string in nlp.vocab.strings: # iterate over the strings in our model\n",
    "    if nlp.vocab[string].has_vector: # only want the ones with embeddings\n",
    "        vocab_dict[string] = counter # record index position of this word\n",
    "        vocab_list.append(string) # add to our list of words\n",
    "        # l2-normalize the vector and update matrix\n",
    "        vector_matrix[counter] = nlp.vocab[string].vector/nlp.vocab[string].vector_norm\n",
    "        counter+=1 # increment counter\n",
    "print(\"Matrix shape:\", vector_matrix.shape)"
   ]
  },
  {
   "cell_type": "markdown",
   "metadata": {},
   "source": [
    "You might be tempted to iterate over the rows in the output matrix, calculating the similarity between each one and your target vector. This is slow. Instead, we'll use matrix math.\n",
    "\n",
    "The **dot product** of two 1D vectors is the sum of their element-wise products. If the vectors are (L2) normalized, their dot product = their cosine similarity. If you take the dot product of a 2D matrix with a 1D vector, the result is a 1D vector representing the dot products of the 1D vector with each of the row vectors in the matrix."
   ]
  },
  {
   "cell_type": "code",
   "execution_count": 14,
   "metadata": {
    "tags": []
   },
   "outputs": [
    {
     "name": "stdout",
     "output_type": "stream",
     "text": [
      "Result of vec1.vec2: 0.51\n"
     ]
    }
   ],
   "source": [
    "# example dot product\n",
    "vec1 = [0.5, 0.1]\n",
    "vec2 = [1.0, 0.1]\n",
    "result = 0.5*1.0 + 0.1*0.1\n",
    "print(\"Result of vec1.vec2:\", result)\n",
    "assert np.dot(vec1, vec2) == result"
   ]
  },
  {
   "cell_type": "code",
   "execution_count": 15,
   "metadata": {
    "tags": []
   },
   "outputs": [
    {
     "data": {
      "text/plain": [
       "72.329216"
      ]
     },
     "execution_count": 15,
     "metadata": {},
     "output_type": "execute_result"
    }
   ],
   "source": [
    "# aside: non-normalized vector lengths are proportional to word frequency in the training corpus\n",
    "np.sqrt(np.sum(nlp.vocab['the'].vector**2))"
   ]
  },
  {
   "cell_type": "code",
   "execution_count": 19,
   "metadata": {
    "tags": []
   },
   "outputs": [
    {
     "data": {
      "text/plain": [
       "72.329216"
      ]
     },
     "execution_count": 19,
     "metadata": {},
     "output_type": "execute_result"
    }
   ],
   "source": [
    "# vector_norm = length\n",
    "nlp.vocab['the'].vector_norm"
   ]
  },
  {
   "cell_type": "code",
   "execution_count": 20,
   "metadata": {
    "tags": []
   },
   "outputs": [
    {
     "data": {
      "text/plain": [
       "(514092,)"
      ]
     },
     "execution_count": 20,
     "metadata": {},
     "output_type": "execute_result"
    }
   ],
   "source": [
    "# Calculate similarities to 'king' via dot products\n",
    "similarities = np.dot(vector_matrix, vector_matrix[vocab_dict['king']])\n",
    "similarities.shape"
   ]
  },
  {
   "cell_type": "markdown",
   "metadata": {},
   "source": [
    "Note that NumPy dot products are really fast to calculate!"
   ]
  },
  {
   "cell_type": "code",
   "execution_count": 21,
   "metadata": {
    "tags": []
   },
   "outputs": [
    {
     "name": "stdout",
     "output_type": "stream",
     "text": [
      "king 1.0000000665322515\n",
      "kings 0.8352225610959327\n",
      "kingi 0.7910659723219302\n",
      "princes 0.7886271325048769\n",
      "princeling 0.7839575771426479\n",
      "kingii 0.7835573077250901\n",
      "prince 0.7827693297525848\n",
      "ruler 0.7641486661200756\n",
      "princelings 0.7572183384349264\n",
      "kingship 0.7511986967121771\n"
     ]
    }
   ],
   "source": [
    "# Get 10 most-similar words to 'king'\n",
    "# argsort returns lowest to highest, so we get the last 10, then reverse\n",
    "top_n = np.argsort(similarities)[-10:][::-1] \n",
    "for i in top_n:\n",
    "    print(vocab_list[i], similarities[i])"
   ]
  },
  {
   "cell_type": "code",
   "execution_count": 22,
   "metadata": {
    "tags": []
   },
   "outputs": [
    {
     "name": "stdout",
     "output_type": "stream",
     "text": [
      "king           0.849\n",
      "kings          0.7189\n",
      "princes        0.7097\n",
      "consort        0.7074\n",
      "princeling     0.7026\n",
      "monarch        0.6899\n",
      "princelings    0.6873\n",
      "princesses     0.6814\n",
      "prince         0.6563\n",
      "kingship       0.6498\n",
      "princess       0.6481\n",
      "ruler          0.645\n",
      "consorts       0.6377\n",
      "kingi          0.6362\n",
      "princedom      0.6355\n",
      "rulers         0.6347\n",
      "kingii         0.6259\n",
      "enthronement   0.6236\n",
      "monarchical    0.6206\n",
      "queen          0.6178\n"
     ]
    }
   ],
   "source": [
    "# Most similar to our king - man + woman vector\n",
    "# Also, make this prettier and with less repetition\n",
    "\n",
    "def print_most_similar(matrix, vector, vocab_list, n=20):\n",
    "    sim = np.dot(matrix, vector/np.linalg.norm(vector))\n",
    "    sorted_sims = np.argsort(sim)[-n:][::-1] #argsort return lowest to highest, so we get the last n, then reverse\n",
    "    last_word = ''\n",
    "    for i in sorted_sims:\n",
    "        current_word = vocab_list[i].lower()\n",
    "        if current_word != last_word: # filter out duplicates\n",
    "            print(f'{current_word:<15}{sim[i]:.4}')\n",
    "            last_word = current_word\n",
    "            \n",
    "print_most_similar(vector_matrix, king_to_queen_vector, vocab_list)"
   ]
  },
  {
   "cell_type": "markdown",
   "metadata": {},
   "source": [
    "### Pure spacy\n",
    "\n",
    "Do the same thing, but entirely within spacy ..."
   ]
  },
  {
   "cell_type": "code",
   "execution_count": 23,
   "metadata": {
    "tags": []
   },
   "outputs": [],
   "source": [
    "best = nlp.vocab.vectors.most_similar(king_to_queen_vector.reshape(1,-1), n=20)"
   ]
  },
  {
   "cell_type": "code",
   "execution_count": 24,
   "metadata": {
    "tags": []
   },
   "outputs": [
    {
     "data": {
      "text/plain": [
       "(array([[ 7464393751932445219,  6599815902708227193,  8922038595323203056,\n",
       "         14534229509275002879,  4996998655728566540, 13490352757374322128,\n",
       "          8850213465902251097,  5501931736933901712, 12278543830867659210,\n",
       "          4661946599427795797,  8637828561746775750, 18205181805348499458,\n",
       "          8361734997143773196, 17374384407900319625,  8998572079690830222,\n",
       "         11774730061229767519,  5749989767048122345,  6761847573992876072,\n",
       "          7098074549745131472,  4176741725343376093]], dtype=uint64),\n",
       " array([[  2074,   9651,  19885,  24651, 296691,  16162, 391455,  31441,\n",
       "           7169,  52459,   8002,   9214,  57917, 452551, 211113,  12475,\n",
       "         285771, 111886,  97497,   5139]], dtype=int32),\n",
       " array([[0.849 , 0.7189, 0.7097, 0.7074, 0.7026, 0.6899, 0.6873, 0.6814,\n",
       "         0.6563, 0.6498, 0.6481, 0.645 , 0.6377, 0.6362, 0.6355, 0.6347,\n",
       "         0.6259, 0.6236, 0.6206, 0.6178]], dtype=float32))"
      ]
     },
     "execution_count": 24,
     "metadata": {},
     "output_type": "execute_result"
    }
   ],
   "source": [
    "# Examine the output\n",
    "best"
   ]
  },
  {
   "cell_type": "markdown",
   "metadata": {},
   "source": [
    "Note that the output format of spacy's `most_similar()` function is a tuple that contains three items: an array of word hashes (unique IDs), an array of index positions in the vector matrix, and an array of similarity values."
   ]
  },
  {
   "cell_type": "code",
   "execution_count": 25,
   "metadata": {
    "tags": []
   },
   "outputs": [
    {
     "name": "stdout",
     "output_type": "stream",
     "text": [
      "king           0.849\n",
      "kings          0.7189\n",
      "princes        0.7097\n",
      "consort        0.7074\n",
      "princeling     0.7026\n",
      "monarch        0.6899\n",
      "princelings    0.6873\n",
      "princesses     0.6814\n",
      "prince         0.6563\n",
      "kingship       0.6498\n",
      "princess       0.6481\n",
      "ruler          0.645\n",
      "consorts       0.6377\n",
      "kingi          0.6362\n",
      "princedom      0.6355\n",
      "rulers         0.6347\n",
      "kingii         0.6259\n",
      "enthronement   0.6236\n",
      "monarchical    0.6206\n",
      "queen          0.6178\n"
     ]
    }
   ],
   "source": [
    "# Print top matches\n",
    "hashes, lines, scores = best\n",
    "last_word = ''\n",
    "for i in range(len(hashes[0])):\n",
    "    current_word = nlp.vocab[hashes[0][i].item()].text.lower()\n",
    "    if current_word != last_word:\n",
    "        print(f'{current_word:<15}{scores[0][i]:.4}')\n",
    "        last_word = current_word"
   ]
  },
  {
   "cell_type": "code",
   "execution_count": 26,
   "metadata": {
    "tags": []
   },
   "outputs": [],
   "source": [
    "def print_most_similar(word, n=20):\n",
    "    target_vector = nlp.vocab[word].vector/nlp.vocab[word].vector_norm\n",
    "    hashes, lines, scores = nlp.vocab.vectors.most_similar(target_vector.reshape(1,-1), n=n)\n",
    "    last_word = ''\n",
    "    for i in range(len(hashes[0])):\n",
    "        current_word = nlp.vocab[hashes[0][i].item()].text.lower()\n",
    "        if current_word != last_word:\n",
    "            print(f'{current_word:<15}{scores[0][i]:.4}')\n",
    "            last_word = current_word"
   ]
  },
  {
   "cell_type": "code",
   "execution_count": 27,
   "metadata": {
    "tags": []
   },
   "outputs": [
    {
     "name": "stdout",
     "output_type": "stream",
     "text": [
      "economy        1.0\n",
      "economie       0.9084\n",
      "economaidd     0.9051\n",
      "economi        0.9032\n",
      "economies      0.8936\n",
      "\n",
      "economic       1.0\n",
      "economico      0.9367\n",
      "noneconomic    0.9359\n",
      "uneconomic     0.92\n",
      "economi        0.9188\n",
      "\n",
      "money          1.0\n",
      "money-         0.9568\n",
      "money.</p      0.9499\n",
      "money--        0.9441\n",
      "money'll       0.9408\n",
      "\n",
      "wealth         1.0\n",
      "prosperity     0.7371\n",
      "bridewealth    0.7223\n",
      "wealthier      0.6775\n",
      "weal           0.6741\n",
      "\n",
      "child          1.0\n",
      "child-         0.9139\n",
      "child--        0.9041\n",
      "child(ren      0.8652\n",
      "childbed       0.8612\n",
      "\n",
      "housework      1.0\n",
      "housekeeping   0.7763\n",
      "housecleaning  0.7461\n",
      "schoolwork     0.7164\n",
      "homeschooling  0.7067\n",
      "\n"
     ]
    }
   ],
   "source": [
    "# get most similar vectors to each of a list of target terms\n",
    "for term in ['economy', 'economic', 'money', 'wealth', 'child', 'housework']:\n",
    "    print_most_similar(term, n=5)\n",
    "    print()"
   ]
  },
  {
   "cell_type": "markdown",
   "metadata": {},
   "source": [
    "## Document similarities using word embeddings\n",
    "\n",
    "It's fun to study words, but we mostly care about documents. How can we use word embeddings to perform the kinds of document-similarity tasks that have occupied us so far this semester?\n",
    "\n",
    "The answer is that we replace each word token with its corresponding embedding, then, for each document, average the embeddings to get a representation of the document. We can then use those document representations (of dimensionality equal to the dimensionality of our embedding vectors) as input to any of the methods we've already discussed.\n",
    "\n",
    "Here, we use our derived document representations to measure the cosine similarity between different (toy) documents. We do this both with and without removing stopwords, and we compare our measures to those using word counts (rather than embeddings)."
   ]
  },
  {
   "cell_type": "code",
   "execution_count": 28,
   "metadata": {
    "tags": []
   },
   "outputs": [
    {
     "name": "stdout",
     "output_type": "stream",
     "text": [
      "Doc 0: The young cat is smaller than the old dog.\n",
      "Doc 1: The kitten is tinier than the elderly hound.\n",
      "   Built-in similarity: 0.891\n",
      "   Hand similarity:     0.891\n",
      "   Embed sim, no stops: 0.726\n",
      "   Token sim, no stops: 0.0\n",
      "\n",
      "Doc 0: The young cat is smaller than the old dog.\n",
      "Doc 2: Not all sentences are about animals, nor about their properties.\n",
      "   Built-in similarity: 0.618\n",
      "   Hand similarity:     0.618\n",
      "   Embed sim, no stops: 0.343\n",
      "   Token sim, no stops: 0.0\n",
      "\n",
      "Doc 0: The young cat is smaller than the old dog.\n",
      "Doc 3: It is a truth universally acknowledged ...\n",
      "   Built-in similarity: 0.672\n",
      "   Hand similarity:     0.672\n",
      "   Embed sim, no stops: 0.146\n",
      "   Token sim, no stops: 0.0\n",
      "\n",
      "Doc 1: The kitten is tinier than the elderly hound.\n",
      "Doc 2: Not all sentences are about animals, nor about their properties.\n",
      "   Built-in similarity: 0.635\n",
      "   Hand similarity:     0.635\n",
      "   Embed sim, no stops: 0.414\n",
      "   Token sim, no stops: 0.0\n",
      "\n",
      "Doc 1: The kitten is tinier than the elderly hound.\n",
      "Doc 3: It is a truth universally acknowledged ...\n",
      "   Built-in similarity: 0.712\n",
      "   Hand similarity:     0.712\n",
      "   Embed sim, no stops: 0.248\n",
      "   Token sim, no stops: 0.0\n",
      "\n",
      "Doc 2: Not all sentences are about animals, nor about their properties.\n",
      "Doc 3: It is a truth universally acknowledged ...\n",
      "   Built-in similarity: 0.52\n",
      "   Hand similarity:     0.52\n",
      "   Embed sim, no stops: 0.474\n",
      "   Token sim, no stops: 0.0\n",
      "\n"
     ]
    }
   ],
   "source": [
    "# Doc similarities\n",
    "from sklearn.feature_extraction.text import TfidfVectorizer\n",
    "\n",
    "# Set up sample sentences\n",
    "sentences = [\n",
    "    'The young cat is smaller than the old dog.',\n",
    "    'The kitten is tinier than the elderly hound.',\n",
    "    'Not all sentences are about animals, nor about their properties.',\n",
    "    'It is a truth universally acknowledged ...'\n",
    "]\n",
    "\n",
    "# process sentences into spacy nlp objects\n",
    "docs = []\n",
    "for sentence in sentences:\n",
    "    tokens = nlp(sentence)\n",
    "    docs.append(tokens)\n",
    "    \n",
    "def remove_noninformative_tokens(doc):\n",
    "    '''\n",
    "    Takes a spacy-processed document.\n",
    "    Returns a list of spacy token objects without stopwords, punctuation, or embedding-less tokens.\n",
    "    '''\n",
    "    culled = [token for token in doc if not (token.is_stop or token.is_punct) and token.has_vector]\n",
    "    return(culled)\n",
    "\n",
    "def embedding_similarity(X,Y):\n",
    "    '''\n",
    "    Takes two lists of spacy token objects.\n",
    "    Returns cosine similarity between their embedding representations.\n",
    "    '''\n",
    "    mean_vector_X = np.mean([token.vector for token in X], axis=0)\n",
    "    mean_vector_Y = np.mean([token.vector for token in Y], axis=0)\n",
    "        # note below reshape 1D -> 2D array. 2D version is 1 row x n columns\n",
    "    cos_similarity = cosine_similarity(mean_vector_X.reshape(1, -1), mean_vector_Y.reshape(1, -1))\n",
    "    return(cos_similarity.item()) # use .item() to get single value from array\n",
    "    \n",
    "def token_similarity(X,Y):\n",
    "    '''\n",
    "    Takes two lists of spacy tokens.\n",
    "    Returns cosine similarity between their tokens.\n",
    "    '''\n",
    "    doc1 = ' '.join([token.text for token in X])\n",
    "    doc2 = ' '.join([token.text for token in Y])\n",
    "    vectorizer = TfidfVectorizer(use_idf=False)\n",
    "    vectors = vectorizer.fit_transform([doc1, doc2])\n",
    "    return(cosine_similarity(vectors[0], vectors[1]).item())\n",
    "    \n",
    "for i, doc in enumerate(docs):\n",
    "    doc1_nostops = remove_noninformative_tokens(doc)\n",
    "    for j in range(len(docs)):\n",
    "        if j>i:\n",
    "            doc2_nostops = remove_noninformative_tokens(docs[j])\n",
    "            print(f\"Doc {i}: {docs[i]}\")\n",
    "            print(f\"Doc {j}: {docs[j]}\")\n",
    "            print(f\"   Built-in similarity: {doc.similarity(docs[j]):.3}\")\n",
    "            print(f\"   Hand similarity:     {embedding_similarity(doc, docs[j]):.3}\")\n",
    "            print(f\"   Embed sim, no stops: {embedding_similarity(doc1_nostops, doc2_nostops):.3}\")\n",
    "            print(f\"   Token sim, no stops: {token_similarity(doc1_nostops, doc2_nostops):.3}\")\n",
    "            print()"
   ]
  },
  {
   "cell_type": "code",
   "execution_count": null,
   "metadata": {},
   "outputs": [],
   "source": []
  }
 ],
 "metadata": {
  "kernelspec": {
   "display_name": "Python 3 (ipykernel)",
   "language": "python",
   "name": "python3"
  },
  "language_info": {
   "codemirror_mode": {
    "name": "ipython",
    "version": 3
   },
   "file_extension": ".py",
   "mimetype": "text/x-python",
   "name": "python",
   "nbconvert_exporter": "python",
   "pygments_lexer": "ipython3",
   "version": "3.11.5"
  }
 },
 "nbformat": 4,
 "nbformat_minor": 4
}
