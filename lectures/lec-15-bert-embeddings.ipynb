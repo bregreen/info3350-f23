{
 "cells": [
  {
   "cell_type": "markdown",
   "metadata": {
    "id": "ucj6rr9Z7gt3"
   },
   "source": [
    "# Measuring Word Similarity with BERT (English Language Public Domain Poems)\n",
    "\n",
    "By [The BERT for Humanists](https://melaniewalsh.github.io/BERT-for-Humanists/) Team\n",
    "\n",
    "How can we measure the similarity of words in a collection of texts? For example, how similar are the words \"nature\" and \"science\" in a collection of 16th-20th century English language poems? Do 20th-century poets use the word \"science\" differently than 16th-century poets? Can we map all the different uses and meanings of the word \"nature\"?\n",
    "\n",
    "The short answer is: yes! We can explore all of these questions with BERT, a natural language processing model that has revolutionized the field.\n",
    "\n",
    "BERT turns words or tokens into vectors — essentially, a list of numbers in a coordinate system (x, y). We can then use the geometric similarity between these resulting vectors as a way to represent varying types of similarity between words.\n",
    "\n",
    "## In This Notebook\n",
    "In this Colab notebook, we will specifically analyze a collection of poems scraped from [Public-Domain-Poetry.com](http://public-domain-poetry.com/) with the [DistilBert model](https://huggingface.co/transformers/model_doc/distilbert.html) and the HuggingFace Python library. DistilBert is a smaller — yet still powerful! — version of BERT. By using the rich representations of words that BERT produces, we will then explore the multivalent meanings of particular words in context and over time.\n",
    "\n",
    "We hope this notebook will help illustrate how BERT works, how well it works, and how you might use BERT to explore the similarity of words in a collection of texts. It is surprising, for example, that BERT works as well as it does, without any fine-tuning, on poems that were published hundreds of years before the text data it was trained on (Wikiepdia pages and self-published novels).\n",
    "\n",
    "But we also hope that these results will expose some of the limitations and challenges of BERT. We have to disregard poetic line breaks, for example, and we see that BERT has trouble with antiquated words like \"thine,\" which don't show up in its contemporary vocabulary."
   ]
  },
  {
   "cell_type": "code",
   "execution_count": null,
   "metadata": {
    "colab": {
     "base_uri": "https://localhost:8080/",
     "height": 585
    },
    "id": "zsAaAlwhZsKr",
    "outputId": "2a37a500-7851-43ab-c696-cffc2f4f1da2",
    "tags": []
   },
   "outputs": [],
   "source": [
    "import pandas as pd\n",
    "import altair as alt\n",
    "\n",
    "url = \"https://raw.githubusercontent.com/melaniewalsh/BERT-4-Humanists/main/data/bert-word-nature.csv\"\n",
    "df = pd.read_csv(url, encoding='utf-8')\n",
    "\n",
    "search_keywords = ['nature', 'science', 'religion', 'art']\n",
    "color_by = 'word'\n",
    "\n",
    "alt.Chart(df, title=f\"Word Similarity: {', '.join(search_keywords).title()}\").mark_circle(size=200).encode(\n",
    "    alt.X('x',\n",
    "        scale=alt.Scale(zero=False)\n",
    "    ), y=\"y\",\n",
    "    color= color_by,\n",
    "    href=\"link\",\n",
    "    tooltip=['title', 'word', 'poem_title', 'author', 'period']\n",
    "    ).interactive().properties(\n",
    "    width=500,\n",
    "    height=500\n",
    ")"
   ]
  },
  {
   "cell_type": "markdown",
   "metadata": {
    "id": "4yycYqe4W-MI"
   },
   "source": [
    "The plot above displays a preview of our later results. This is what we're working toward!\n",
    "\n",
    "You can hover over each point to see the instance of each word in context. If you press `Shift` and click on a point, you will be taken to the original poem on Public-Domain-Poetry.com. Try it out!"
   ]
  },
  {
   "cell_type": "markdown",
   "metadata": {
    "id": "y73xWUkpU1AC"
   },
   "source": [
    "## **Import necessary Python libraries and modules**"
   ]
  },
  {
   "cell_type": "markdown",
   "metadata": {
    "id": "4N0RIalt28yL"
   },
   "source": [
    "Ok enough introduction! Let's get started.\n",
    "\n",
    "To use the HuggingFace [`transformers` Python library](https://huggingface.co/transformers/installation.html), we first need to install it with `pip`."
   ]
  },
  {
   "cell_type": "markdown",
   "metadata": {
    "id": "BJ9kmfrO3M_w"
   },
   "source": [
    "Then we will import the DistilBertModel and DistilBertTokenizerFast from the Hugging Face `transformers` library. We will also import a handful of other Python libraries and modules."
   ]
  },
  {
   "cell_type": "code",
   "execution_count": null,
   "metadata": {},
   "outputs": [],
   "source": [
    "# Use on colab *ONLY*; already installed in class package list\n",
    "!pip3 install transformers"
   ]
  },
  {
   "cell_type": "code",
   "execution_count": null,
   "metadata": {
    "id": "6lcEPhcuV9f5",
    "tags": []
   },
   "outputs": [],
   "source": [
    "# new\n",
    "from   transformers import DistilBertTokenizerFast, DistilBertModel\n",
    "import altair as alt\n",
    "\n",
    "# others\n",
    "import numpy as np\n",
    "import os\n",
    "import pandas as pd\n",
    "from   sklearn.decomposition import PCA\n",
    "\n",
    "pd.options.display.max_colwidth = 200"
   ]
  },
  {
   "cell_type": "markdown",
   "metadata": {},
   "source": [
    "Note that `altair` is a new-to-us library for interactive visualizations. It's not in the standard class package list, but you can install it via `conda` at the command line."
   ]
  },
  {
   "cell_type": "markdown",
   "metadata": {
    "id": "P_C4hiuqvt5L"
   },
   "source": [
    "## **Load text dataset**"
   ]
  },
  {
   "cell_type": "markdown",
   "metadata": {
    "id": "4olw75x3vt5N"
   },
   "source": [
    "Our dataset contains around 30,000 poems scraped from  http://public-domain-poetry.com/. This website hosts a curated collection of poems that have fallen out of copyright, which makes them easier for us to share on the web.\n",
    "You can find the data in our [GitHub repository](https://github.com/melaniewalsh/BERT-4-Humanists/blob/main/data/public-domain-poetry.csv).\n",
    "\n",
    "We don't have granular date information about when each poem was published, but we do know the birth dates of most of our authors, which we've used to loosely categorize the poems by time period. The poems in our data range from the Middle Ages to the twentieth century, but most come from the nineteenth century. The data features both well-known authors — William Wordsworth, Emily  Dickinson, Paul Laurence Dunbar, Walt Whitman, Shakespeare — as well as less well-known authors."
   ]
  },
  {
   "cell_type": "code",
   "execution_count": null,
   "metadata": {
    "colab": {
     "base_uri": "https://localhost:8080/",
     "height": 640
    },
    "id": "O1tvz3gsvt5O",
    "outputId": "086b4ac1-5d6a-4116-93f5-151c4d5ffbff",
    "tags": []
   },
   "outputs": [],
   "source": [
    "# read poems from b4h github repo\n",
    "url = \"https://raw.githubusercontent.com/melaniewalsh/BERT-4-Humanists/main/data/public-domain-poetry.csv\"\n",
    "poetry_df = pd.read_csv(url, encoding='utf-8')\n",
    "poetry_df.sample(5)"
   ]
  },
  {
   "cell_type": "code",
   "execution_count": null,
   "metadata": {
    "colab": {
     "base_uri": "https://localhost:8080/"
    },
    "id": "g8QQS9tuOXSh",
    "outputId": "43313f98-b285-4ed0-ee1c-751bc69ae1fa",
    "tags": []
   },
   "outputs": [],
   "source": [
    "# count of poems\n",
    "len(poetry_df)"
   ]
  },
  {
   "cell_type": "code",
   "execution_count": null,
   "metadata": {
    "colab": {
     "base_uri": "https://localhost:8080/"
    },
    "id": "joWGYvxWOBij",
    "outputId": "76ab4814-0a70-41b7-b250-6604e3fe182f",
    "tags": []
   },
   "outputs": [],
   "source": [
    "# top authors\n",
    "poetry_df['author'].value_counts()[:20]"
   ]
  },
  {
   "cell_type": "code",
   "execution_count": null,
   "metadata": {
    "colab": {
     "base_uri": "https://localhost:8080/",
     "height": 436
    },
    "id": "wHC9f2vnV0M-",
    "outputId": "eb735d4b-dcaf-4548-a467-93d3c12460ff",
    "tags": []
   },
   "outputs": [],
   "source": [
    "# vis counts by period\n",
    "poetry_df['period'].sort_values().hist(figsize=(15, 5));"
   ]
  },
  {
   "cell_type": "markdown",
   "metadata": {
    "id": "CFEhTJirgLL7"
   },
   "source": [
    "## **Sample text dataset**"
   ]
  },
  {
   "cell_type": "markdown",
   "metadata": {
    "id": "hebn8lYhOffh"
   },
   "source": [
    "Though we wish we could analyze all the poems in this data, Colab tends to crash if we try to use more than 4-5,000 poems —  even with DistilBert, the smaller version of BERT. This is an important limitation to keep in mind. If you'd like to use more text data, you might consider upgrading to a paid version of Colab (with more memory or GPUs) or using a compute cluster.\n",
    "\n",
    "To reduce the number of poems, we will take a random sample of 1,000 poems from four different time periods: the 20th Century, 19th Century, 18th Century, and the Early Modern period."
   ]
  },
  {
   "cell_type": "code",
   "execution_count": null,
   "metadata": {
    "id": "hdMUw_LWgjVF",
    "tags": []
   },
   "outputs": [],
   "source": [
    "# Filter the DataFrame for only a given time period, then randomly sample 1000 rows\n",
    "nineteenth_sample = poetry_df[poetry_df['period'] == '19th Century'].sample(1000)\n",
    "twentieth_sample = poetry_df[poetry_df['period'] == '20th Century'].sample(1000)\n",
    "eighteenth_sample = poetry_df[poetry_df['period'] == '18th Century'].sample(1000)\n",
    "sixteenth_sample = poetry_df[poetry_df['period'] == '16th-17th Centuries (Early Modern)'].sample(1000)"
   ]
  },
  {
   "cell_type": "code",
   "execution_count": null,
   "metadata": {
    "id": "BXxtap-thFRk",
    "tags": []
   },
   "outputs": [],
   "source": [
    "# Merge these random samples into a new DataFrame\n",
    "poetry_df = pd.concat([sixteenth_sample, eighteenth_sample, twentieth_sample, nineteenth_sample])"
   ]
  },
  {
   "cell_type": "code",
   "execution_count": null,
   "metadata": {
    "colab": {
     "base_uri": "https://localhost:8080/"
    },
    "id": "JimPkAcPavEj",
    "outputId": "ef8fbe97-e135-48b9-b553-f6d24d5ca03a",
    "tags": []
   },
   "outputs": [],
   "source": [
    "poetry_df['period'].value_counts()"
   ]
  },
  {
   "cell_type": "markdown",
   "metadata": {
    "id": "7B5soBd4vt5O"
   },
   "source": [
    "Finally, let's make a list of poems from our Pandas DataFrame."
   ]
  },
  {
   "cell_type": "code",
   "execution_count": null,
   "metadata": {
    "id": "Z70pWivdvt5O",
    "tags": []
   },
   "outputs": [],
   "source": [
    "poetry_texts = poetry_df['text'].tolist()"
   ]
  },
  {
   "cell_type": "markdown",
   "metadata": {
    "id": "TGi0nOaevt5P"
   },
   "source": [
    "Let's examine a poem in our dataset:"
   ]
  },
  {
   "cell_type": "code",
   "execution_count": null,
   "metadata": {
    "colab": {
     "base_uri": "https://localhost:8080/"
    },
    "id": "-CktiYltvt5P",
    "outputId": "7d067ba3-39f4-4e82-d6b5-d8425ef9cff7",
    "tags": []
   },
   "outputs": [],
   "source": [
    "len(poetry_texts)"
   ]
  },
  {
   "cell_type": "code",
   "execution_count": null,
   "metadata": {
    "colab": {
     "base_uri": "https://localhost:8080/"
    },
    "id": "jl2UYJSkvt5P",
    "outputId": "7a83538c-202d-4c47-8730-79c8a43e7170",
    "tags": []
   },
   "outputs": [],
   "source": [
    "print(poetry_texts[2])"
   ]
  },
  {
   "cell_type": "markdown",
   "metadata": {
    "id": "rTDNuhAqyMQC"
   },
   "source": [
    "## **Encode/tokenize text data for BERT**\n",
    "\n",
    "Next we need to transform our poems into a format that BERT (via Huggingface) will understand. This is called *encoding* or *tokenizing* the data.\n",
    "\n",
    "We will tokenize the poems with the `tokenizer()` from HuggingFace's `DistilBertTokenizerFast`. Here's what the `tokenizer()` will do:\n",
    "\n",
    "1. Truncate the texts if they're more than 512 tokens or pad them if they're fewer than 512 tokens. If a word is not in BERT's vocabulary, it will be broken up into smaller \"word pieces,\" demarcated by a `##`.\n",
    "\n",
    "2. Add in special tokens to help BERT:\n",
    "    - [CLS] — Start token of every document\n",
    "    - [SEP] — Separator between each sentence\n",
    "    - [PAD] — Padding at the end of the document as many times as necessary, up to 512 tokens\n",
    "    - &#35;&#35; — Start of a \"word piece\""
   ]
  },
  {
   "cell_type": "markdown",
   "metadata": {
    "id": "XKgQkdodA-Jz"
   },
   "source": [
    "Here we will load `DistilBertTokenizerFast` from `transformers` library, which will help us transform and encode the texts so they can be used with BERT."
   ]
  },
  {
   "cell_type": "code",
   "execution_count": null,
   "metadata": {
    "colab": {
     "base_uri": "https://localhost:8080/",
     "height": 145,
     "referenced_widgets": [
      "26425be9a4e54ccbb4cc5ef73077d149",
      "709218ee899c4a93ac4fbf6f84703c85",
      "707a405d5a2a485e9a7881e76ed949b9",
      "acc1a7b5a33f4b908e0307d887c27f25",
      "7c150c596db34cc4928d8c765ff7e7e0",
      "60a9584e8ee44b38873c2a939f77b73b",
      "b2b7669b0aed4b34ae64d972a81deb07",
      "a37779becbd84eafa59a728e80ce6505",
      "8c3c3bc62b624f79847099b30aa845cc",
      "7bf7fe2f28dd4c0db5524c135b34a6b2",
      "21ad9d3e9a254774ad41dc4e5a12066f",
      "b0b994f704fa49b8a4170561946befe7",
      "f566acdf3ff941f89aa0115ed1da5542",
      "cc4d2930127840c2b26c34d8c9e3e3ac",
      "1ab5abd87d044dd8a2bae602adab82e6",
      "1fdcde59d6564c1c8e36004a4b8c9fc7",
      "ed48a22e6a5547068e500d6ddf25eba9",
      "0bb54eb7d13e42f8a7e4973eda2e949f",
      "d4e107e5aede4148b70a14bd0bbce207",
      "d3c3ceff6e364115bd9828d1b83d0df1",
      "c38a2b3bb8a44e3cbcc31a500e8c7a04",
      "16a80915daa040318030826f7f458465",
      "0b5bc039c05e443ea326ef95b25ef75e",
      "edffc083ccc64fc4aea4ba69e9d96e7d",
      "b75fd96303824cbdae743d8ecef6fdce",
      "79276eecfcd14092b9ed83a6533bb723",
      "c44d4b524c4345b2a8469b44be1cc36c",
      "74913eb6cebe40fba5596253b7750b4f",
      "ff2d2a38728d411184a4b70a143a18e4",
      "4a466c48f54c4fd2b71a94f20cf608c5",
      "08e4c191f6e84fb68a23aae2b9a51742",
      "cccc081d60234be7b6e15cd1fc6806c9",
      "ccd7a6556a2a47ea89a3965d52cab4c6",
      "0509139eb69044e9932a5925705d9c8a",
      "8d714ea5ef264a198d4d3327615db71d",
      "0ec2f7aa3ef6416493b0056d76a56f64",
      "275835e2e04940508864d3cf799f258e",
      "b739fe5724a34a4b9a054f60f9a08ba5",
      "97d765635d6f4fe68a0df06462b6f865",
      "be5495466eb149d4939ae8d1ad2149bb",
      "ef57f2af381c48d9b2044883a4197e2e",
      "20fa87cdd37b4bf589b694e66443f4a6",
      "6c3234f0a8c441209b1bcd5a34cdbf77",
      "f6b367791e264c52b2298a90dce57abb"
     ]
    },
    "id": "uDuGq_n4pgZX",
    "outputId": "46f8a6c8-b79c-4492-975d-50cfd04b425e",
    "tags": []
   },
   "outputs": [],
   "source": [
    "tokenizer = DistilBertTokenizerFast.from_pretrained('distilbert-base-uncased')"
   ]
  },
  {
   "cell_type": "markdown",
   "metadata": {
    "id": "7LbZPuonBIJl"
   },
   "source": [
    "The `tokenizer()` will break word tokens into word pieces, truncate to 512 tokens, and add padding and special BERT tokens."
   ]
  },
  {
   "cell_type": "code",
   "execution_count": null,
   "metadata": {
    "id": "BPoDCzIx_17F",
    "tags": []
   },
   "outputs": [],
   "source": [
    "tokenized_poems = tokenizer(poetry_texts, truncation=True, padding=True, return_tensors=\"pt\")"
   ]
  },
  {
   "cell_type": "markdown",
   "metadata": {
    "id": "MulyNi6jBMIK"
   },
   "source": [
    "Let's examine the first tokenized poem. We can see that the special BERT tokens have been inserted where necessary."
   ]
  },
  {
   "cell_type": "code",
   "execution_count": null,
   "metadata": {
    "colab": {
     "base_uri": "https://localhost:8080/",
     "height": 161
    },
    "id": "4A89SN_ppiUP",
    "outputId": "b3060571-d837-402b-cfc4-a41b70ab3538",
    "tags": []
   },
   "outputs": [],
   "source": [
    "' '.join(tokenized_poems[2].tokens)"
   ]
  },
  {
   "cell_type": "markdown",
   "metadata": {
    "id": "OkVgFcbCqKSu"
   },
   "source": [
    "## **Load pre-trained BERT model**"
   ]
  },
  {
   "cell_type": "markdown",
   "metadata": {
    "id": "dGVbuDJ0BXQ2"
   },
   "source": [
    "Here we will load a pre-trained BERT model. To speed things up we will use a GPU, but using GPU involves a few extra steps.\n",
    "The command `.to(\"cuda\")` moves data from regular memory to the GPU's memory.\n",
    "\n",
    "\n"
   ]
  },
  {
   "cell_type": "code",
   "execution_count": null,
   "metadata": {
    "tags": []
   },
   "outputs": [],
   "source": [
    "#device = 'mps' # apple silicon gpu\n",
    "#device = 'cuda' # nvidia gpu\n",
    "device = 'cpu' # slooooow"
   ]
  },
  {
   "cell_type": "code",
   "execution_count": null,
   "metadata": {
    "colab": {
     "base_uri": "https://localhost:8080/",
     "height": 49,
     "referenced_widgets": [
      "64ee8a6e3b6446ca8ad11e64f9460b07",
      "0f9292c9d79640218efcceb5a18a1e9d",
      "6e764f2f47624c1784013439981eca7a",
      "d2d535eb15404b1c96d1ae1cb507a149",
      "8e8932b65e1c4eeb90c23c4d2408b332",
      "0786e07fd446428a9083e2c3eee9f5a2",
      "563a67d90aed44ddbe609d7827c203d9",
      "0eb61716436343d79c915c83bc28be83",
      "b6f870afbc904e458003114a920a01a0",
      "c023d4859cc641a2bf7138ccc43b101b",
      "9c9ee2ef3c1348d684969031ea1cc24a"
     ]
    },
    "id": "a7k75REXp7UJ",
    "outputId": "21a1a2e5-f2a4-4b62-bbb6-428caceee545",
    "tags": []
   },
   "outputs": [],
   "source": [
    "model = DistilBertModel.from_pretrained('distilbert-base-uncased').to(device)"
   ]
  },
  {
   "cell_type": "code",
   "execution_count": null,
   "metadata": {
    "tags": []
   },
   "outputs": [],
   "source": [
    "# check device in use\n",
    "model.device"
   ]
  },
  {
   "cell_type": "markdown",
   "metadata": {
    "id": "zrau9RGwYic8"
   },
   "source": [
    "## **Get BERT word embeddings for each document in a collection**"
   ]
  },
  {
   "cell_type": "markdown",
   "metadata": {
    "id": "W-vSpKnKBZWJ"
   },
   "source": [
    "For each poem in our list `poetry_texts`, we will tokenize the poem, and we will extract the vocabulary word ID for each word/token in the poem (to use for later reference). Then we will run the tokenized poem through the BERT model and extract the contextual vectors for each word/token in the poem.\n",
    "\n",
    "We thus create two big lists for all the poems in our collection — `doc_word_ids` and `doc_word_vectors`."
   ]
  },
  {
   "cell_type": "code",
   "execution_count": null,
   "metadata": {
    "id": "j58TvTCd_kxI",
    "tags": []
   },
   "outputs": [],
   "source": [
    "%%time\n",
    "# List of vocabulary word IDs for all the words in each document (aka each poem)\n",
    "doc_word_ids = []\n",
    "# List of word vectors for all the words in each document (aka each poem)\n",
    "doc_word_vectors = []\n",
    "\n",
    "# slice each poem to ignore the first (0th) and last (-1) special BERT tokens\n",
    "# generally do not want to do this, but here we only want the regular embeddings\n",
    "start_of_words = 1\n",
    "end_of_words = -1\n",
    "\n",
    "# Below we will index the 0th or first document, which will be the only document, since we're analzying one poem at a time\n",
    "first_document = 0\n",
    "\n",
    "for i, poem in enumerate(poetry_texts):\n",
    "\n",
    "    # Here we tokenize each poem with the DistilBERT Tokenizer\n",
    "    inputs = tokenizer(poem, return_tensors=\"pt\", truncation=True, padding=True)\n",
    "\n",
    "    # Here we extract the vocabulary word ids for all the words in the poem (the first or 0th document, since we only have one document)\n",
    "    # We ignore the first and last special BERT tokens\n",
    "    # We also convert from a Pytorch tensor to a numpy array\n",
    "    doc_word_ids.append(inputs.input_ids[first_document].numpy()[start_of_words:end_of_words])\n",
    "\n",
    "    # Here we send the tokenized poems to the GPU\n",
    "    # The model is already on the GPU, but this poem isn't, so we send it to the GPU\n",
    "    inputs.to(device)\n",
    "    # Here we run the tokenized poem through the DistilBERT model\n",
    "    outputs = model(**inputs)\n",
    "\n",
    "    # We take every element from the first or 0th document, from the 2nd to the 2nd-to-last position\n",
    "    # Grabbing the last layer is one way of getting token vectors. There are different ways to get vectors with different pros and cons\n",
    "    doc_word_vectors.append(outputs.last_hidden_state[first_document,start_of_words:end_of_words,:].detach().cpu().numpy())\n"
   ]
  },
  {
   "cell_type": "markdown",
   "metadata": {
    "id": "B4pV1fw61rgT"
   },
   "source": [
    "Confirm that we have the same number of documents for both the tokens and the vectors:"
   ]
  },
  {
   "cell_type": "code",
   "execution_count": null,
   "metadata": {
    "colab": {
     "base_uri": "https://localhost:8080/"
    },
    "id": "RFYsrpeF3C43",
    "outputId": "335081e7-5af0-42e9-fae6-ed6ff07a2e4a",
    "tags": []
   },
   "outputs": [],
   "source": [
    "len(doc_word_ids), len(doc_word_vectors)"
   ]
  },
  {
   "cell_type": "code",
   "execution_count": null,
   "metadata": {
    "colab": {
     "base_uri": "https://localhost:8080/"
    },
    "id": "91SFkQGVHyDV",
    "outputId": "81e4e36f-4088-4510-d80f-71140c07822e",
    "tags": []
   },
   "outputs": [],
   "source": [
    "doc_word_ids[2], doc_word_vectors[2]"
   ]
  },
  {
   "cell_type": "markdown",
   "metadata": {
    "id": "AyVRWw8Icmn-"
   },
   "source": [
    "## **Concatenate all word IDs/vectors for all documents**"
   ]
  },
  {
   "cell_type": "markdown",
   "metadata": {
    "id": "Gf-9YAo814wM"
   },
   "source": [
    "Each element of these lists contains all the tokens/vectors for one document. But we want to concatenate them into two giant collections."
   ]
  },
  {
   "cell_type": "code",
   "execution_count": null,
   "metadata": {
    "id": "afOPAzVoczRW",
    "tags": []
   },
   "outputs": [],
   "source": [
    "all_word_ids = np.concatenate(doc_word_ids)\n",
    "all_word_vectors = np.concatenate(doc_word_vectors, axis=0)"
   ]
  },
  {
   "cell_type": "markdown",
   "metadata": {
    "id": "wQafcvCqt0Uf"
   },
   "source": [
    "We want to make comparisons between vectors quickly. We'll use cosine similarity, or the dot product of `l2`-normed vectors. So we need to norm our embeddings."
   ]
  },
  {
   "cell_type": "code",
   "execution_count": null,
   "metadata": {
    "id": "ogECz92C4T09",
    "tags": []
   },
   "outputs": [],
   "source": [
    "# normalize embeddings\n",
    "row_norms = np.sqrt(np.sum(all_word_vectors ** 2, axis=1))\n",
    "all_word_vectors /= row_norms[:,np.newaxis]"
   ]
  },
  {
   "cell_type": "markdown",
   "metadata": {
    "id": "iBWkQbFLc6kt"
   },
   "source": [
    "## **Find all word positions in a collection**"
   ]
  },
  {
   "cell_type": "markdown",
   "metadata": {
    "id": "rUB1orgCek1D"
   },
   "source": [
    "We can use the array `all_word_ids` to find all the places, or *positions*, in the collection where a word appears.\n",
    "\n",
    "We can find a word's vocab ID in BERT with `tokenizer.vocab` and then check to see where/how many times this ID occurs in `all_word_ids`."
   ]
  },
  {
   "cell_type": "code",
   "execution_count": null,
   "metadata": {
    "id": "bjjVsV8F1UvN",
    "tags": []
   },
   "outputs": [],
   "source": [
    "def get_word_positions(words):\n",
    "    \"\"\"This function accepts a list of words, rather than a single word\"\"\"\n",
    "\n",
    "    # Get word/vocabulary ID from BERT for each word\n",
    "    word_ids = [tokenizer.vocab[word] for word in words]\n",
    "\n",
    "    # Find all the positions where the words occur in the collection\n",
    "    word_positions = np.where(np.isin(all_word_ids, word_ids))[0]\n",
    "\n",
    "    return word_positions"
   ]
  },
  {
   "cell_type": "markdown",
   "metadata": {
    "id": "9bB-69p-m4q7"
   },
   "source": [
    "Here we'll check to see all the places where the word \"bank\" appears in the collection."
   ]
  },
  {
   "cell_type": "code",
   "execution_count": null,
   "metadata": {
    "colab": {
     "base_uri": "https://localhost:8080/"
    },
    "id": "OZKWT3L32GZM",
    "outputId": "0fb44023-4ce4-4b3a-bb0c-aba201dea85c",
    "tags": []
   },
   "outputs": [],
   "source": [
    "get_word_positions([\"bank\"])"
   ]
  },
  {
   "cell_type": "code",
   "execution_count": null,
   "metadata": {
    "id": "ukKSAiSV3E8a",
    "tags": []
   },
   "outputs": [],
   "source": [
    "word_positions = get_word_positions([\"bank\"])"
   ]
  },
  {
   "cell_type": "markdown",
   "metadata": {
    "id": "kx35pWc0dqIT"
   },
   "source": [
    "## **Find word from word position**"
   ]
  },
  {
   "cell_type": "markdown",
   "metadata": {
    "id": "9db1FKmAm-7p"
   },
   "source": [
    "Nice! Now we know all the positions where the word \"bank\" appears in the collection. But it would be more helpful to know the actual words that appear in context around it. To find these context words, we have to convert position IDs back into words."
   ]
  },
  {
   "cell_type": "code",
   "execution_count": null,
   "metadata": {
    "id": "t_0q-9Uodt__",
    "tags": []
   },
   "outputs": [],
   "source": [
    "# Here we create an array so that we can go backwards from numeric token IDs to words\n",
    "word_lookup = np.empty(tokenizer.vocab_size, dtype=\"O\")\n",
    "\n",
    "for word, index in tokenizer.vocab.items():\n",
    "    word_lookup[index] = word"
   ]
  },
  {
   "cell_type": "markdown",
   "metadata": {
    "id": "U_Dt6HyVsidn"
   },
   "source": [
    "Now we can use `word_lookup` to find a word based on its position in the collection."
   ]
  },
  {
   "cell_type": "code",
   "execution_count": null,
   "metadata": {
    "colab": {
     "base_uri": "https://localhost:8080/"
    },
    "id": "4vSMuKJBoLuN",
    "outputId": "dbf95f6c-d729-4798-8379-a4873e24fcdb",
    "tags": []
   },
   "outputs": [],
   "source": [
    "word_positions = get_word_positions([\"bank\"])\n",
    "\n",
    "for word_position in word_positions:\n",
    "    print(f'{word_position:>10} {word_lookup[all_word_ids[word_position]]}')"
   ]
  },
  {
   "cell_type": "markdown",
   "metadata": {
    "id": "0KwzuaBxpkwG"
   },
   "source": [
    "We can also look for the 3 words that come before \"bank\" and the 3 words that come after it."
   ]
  },
  {
   "cell_type": "code",
   "execution_count": null,
   "metadata": {
    "colab": {
     "base_uri": "https://localhost:8080/"
    },
    "id": "eJ_zg3cNfJum",
    "outputId": "7d51bf49-2c49-47da-d17a-801ecbd171b9",
    "tags": []
   },
   "outputs": [],
   "source": [
    "word_positions = get_word_positions([\"bank\"])\n",
    "\n",
    "for word_position in word_positions:\n",
    "\n",
    "    # Slice 3 words before \"bank\"\n",
    "    start_pos = word_position - 3\n",
    "    # Slice 3 words after \"bank\"\n",
    "    end_pos = word_position + 4\n",
    "\n",
    "    context_words = word_lookup[all_word_ids[start_pos:end_pos]]\n",
    "    # Join the words together\n",
    "    context_words = ' '.join(context_words)\n",
    "    print(word_position, context_words)"
   ]
  },
  {
   "cell_type": "markdown",
   "metadata": {
    "id": "_9ssdFSBANkN"
   },
   "source": [
    "Let's make some functions that will help us get the context words around a certain word position for whatever size window (certain number of words before and after) that we want.\n",
    "\n",
    "The first function `get_context()` will simply return the tokens without cleaning them, and the second function `get_context_clean()` will return the tokens in a more readable fashion."
   ]
  },
  {
   "cell_type": "code",
   "execution_count": null,
   "metadata": {
    "id": "DQDmbTABgQF9",
    "tags": []
   },
   "outputs": [],
   "source": [
    "def get_context(word_id, window_size=10):\n",
    "\n",
    "    \"\"\"Simply get the tokens that occur before and after word position\"\"\"\n",
    "\n",
    "    start_pos = max(0, word_id - window_size) # The token where we will start the context view\n",
    "    end_pos = min(word_id + window_size + 1, len(all_word_ids)) # The token where we will end the context view\n",
    "\n",
    "    # Make a list called tokens and use word_lookup to get the words for given token IDs from starting position up to the keyword\n",
    "    tokens = [word_lookup[word] for word in all_word_ids[start_pos:end_pos] ]\n",
    "\n",
    "    context_words = \" \".join(tokens)\n",
    "\n",
    "    return context_words"
   ]
  },
  {
   "cell_type": "code",
   "execution_count": null,
   "metadata": {
    "id": "5lHshYA2-zxY",
    "tags": []
   },
   "outputs": [],
   "source": [
    "import re\n",
    "\n",
    "def get_context_clean(word_id, window_size=10):\n",
    "\n",
    "    \"\"\"Get the tokens that occur before and after word position AND make them more readable\"\"\"\n",
    "\n",
    "    keyword = word_lookup[all_word_ids[word_id]]\n",
    "    start_pos = max(0, word_id - window_size) # The token where we will start the context view\n",
    "    end_pos = min(word_id + window_size + 1, len(all_word_ids)) # The token where we will end the context view\n",
    "\n",
    "    # Make a list called tokens and use word_lookup to get the words for given token IDs from starting position up to the keyword\n",
    "    tokens = [word_lookup[word] for word in all_word_ids[start_pos:end_pos] ]\n",
    "\n",
    "    # Make wordpieces slightly more readable\n",
    "    # This is probably not the most efficient way to clean and correct for weird spacing\n",
    "    context_words = \" \".join(tokens)\n",
    "    context_words = re.sub(r'\\s+([##])', r'\\1', context_words)\n",
    "    context_words = re.sub(r'##', r'', context_words)\n",
    "    context_words = re.sub('\\s+\\'s', '\\'s', context_words)\n",
    "    context_words = re.sub('\\s+\\'d', '\\'d', context_words)\n",
    "    context_words = re.sub('\\s\\'er', '\\'er', context_words)\n",
    "    context_words = re.sub(r'\\s+([-,:?.!;])', r'\\1', context_words)\n",
    "    context_words = re.sub(r'([-\\'\"])\\s+', r'\\1', context_words)\n",
    "    context_words = re.sub('\\s+\\'s', '\\'s', context_words)\n",
    "    context_words = re.sub('\\s+\\'d', '\\'d', context_words)\n",
    "\n",
    "    # Bold the keyword by putting asterisks around it\n",
    "    if keyword in context_words:\n",
    "        context_words = re.sub(f\"\\\\b{keyword}\\\\b\", f\"**{keyword}**\", context_words)\n",
    "        context_words = re.sub(f\"\\\\b({keyword}[esdtrlying]+)\\\\b\", fr\"**\\1**\", context_words)\n",
    "\n",
    "    return context_words"
   ]
  },
  {
   "cell_type": "markdown",
   "metadata": {
    "id": "0-SQVh1zyblT"
   },
   "source": [
    "To visualize the search keyword even more easily, we're going to import a couple of Python modules that will allow us to output text with bolded words and other styling. Here we will make a function `print_md()` that will allow us to print with Markdown styling."
   ]
  },
  {
   "cell_type": "code",
   "execution_count": null,
   "metadata": {
    "id": "SPIho4qIGGqp",
    "tags": []
   },
   "outputs": [],
   "source": [
    "from IPython.display import Markdown, display\n",
    "\n",
    "def print_md(string):\n",
    "    display(Markdown(string))"
   ]
  },
  {
   "cell_type": "code",
   "execution_count": null,
   "metadata": {
    "colab": {
     "base_uri": "https://localhost:8080/",
     "height": 1000
    },
    "id": "UksbSqkagabE",
    "outputId": "20fef764-862a-4b3f-d151-17f3df6ee59c",
    "tags": []
   },
   "outputs": [],
   "source": [
    "word_positions = get_word_positions([\"bank\"])\n",
    "for word_position in word_positions:\n",
    "    print_md(f\"{word_position}:  {get_context_clean(word_position)}\")"
   ]
  },
  {
   "cell_type": "markdown",
   "metadata": {
    "id": "FHpPAIpHelDv"
   },
   "source": [
    "Here we make a list of all the context views for our keyword."
   ]
  },
  {
   "cell_type": "code",
   "execution_count": null,
   "metadata": {
    "id": "jBKdEKzO3ndD",
    "tags": []
   },
   "outputs": [],
   "source": [
    "word_positions = get_word_positions([\"bank\"])\n",
    "\n",
    "keyword_contexts = []\n",
    "keyword_contexts_tokens = []\n",
    "\n",
    "for position in word_positions:\n",
    "    keyword_contexts.append(get_context_clean(position))\n",
    "    keyword_contexts_tokens.append(get_context(position))"
   ]
  },
  {
   "cell_type": "markdown",
   "metadata": {
    "id": "FOW3UJCU941G"
   },
   "source": [
    "## **Get word vectors and reduce them with PCA**"
   ]
  },
  {
   "cell_type": "markdown",
   "metadata": {
    "id": "Xggu6BRkAgGu"
   },
   "source": [
    "Finally, we don't just want to *read* all the instances of \"bank\" in the collection, we want to *measure* the similarity of all the instances of \"bank.\"\n",
    "\n",
    "To measure similarity between all the instances of \"bank,\" we will take the vectors for each instance and then use PCA to reduce each 768-dimensionsal vector to the 2 dimensions that capture the most variation."
   ]
  },
  {
   "cell_type": "code",
   "execution_count": null,
   "metadata": {
    "colab": {
     "base_uri": "https://localhost:8080/",
     "height": 75
    },
    "id": "ZnaABMiLsTAQ",
    "outputId": "c82740f3-21e7-4e34-eb4f-27932928db6b",
    "tags": []
   },
   "outputs": [],
   "source": [
    "word_positions = get_word_positions([\"bank\"])\n",
    "pca = PCA(n_components=2)\n",
    "pca.fit(all_word_vectors[word_positions,:].T)"
   ]
  },
  {
   "cell_type": "markdown",
   "metadata": {
    "id": "nPWjXDxpevTe"
   },
   "source": [
    "Then, for convenience, we will put these PCA results into a Pandas DataFrame, which will use to generate an interactive plot."
   ]
  },
  {
   "cell_type": "code",
   "execution_count": null,
   "metadata": {
    "colab": {
     "base_uri": "https://localhost:8080/",
     "height": 293
    },
    "id": "XUxuru27DrMm",
    "outputId": "920b5dba-0e52-4bdd-df4a-26fb6f3bf302",
    "tags": []
   },
   "outputs": [],
   "source": [
    "df = pd.DataFrame({\"x\": pca.components_[0,:], \"y\": pca.components_[1,:],\n",
    "                   \"context\": keyword_contexts, \"tokens\": keyword_contexts_tokens})\n",
    "df.head()"
   ]
  },
  {
   "cell_type": "markdown",
   "metadata": {
    "id": "quwSCsFDUywu"
   },
   "source": [
    "## **Match context with original text and metadata**"
   ]
  },
  {
   "cell_type": "markdown",
   "metadata": {
    "id": "IA3Cd2pgwDcY"
   },
   "source": [
    "It's helpful (and fun!) to know where each instance of a word actually comes from — which poem, which poet, which time period, which Public-Domain-Poetry.com web page. The easiest method we've found for matching a bit of context with its original poem and metdata is to 1) add a tokenized version of each poem to our original Pandas Dataframe 2) check to see if the context shows up in a poem 3) and if so, grab the original poem and metadata."
   ]
  },
  {
   "cell_type": "code",
   "execution_count": null,
   "metadata": {
    "id": "DmY6MMGIhWGJ",
    "tags": []
   },
   "outputs": [],
   "source": [
    "# Tokenize all the poems\n",
    "tokenized_poems = tokenizer(poetry_texts, truncation=True, padding=True, return_tensors=\"pt\")\n",
    "\n",
    "# Get a list of all the tokens for each poem\n",
    "all_tokenized_poems = []\n",
    "for i in range(len(tokenized_poems['input_ids'])):\n",
    "    all_tokenized_poems.append(' '.join(tokenized_poems[i].tokens))\n",
    "\n",
    "# Add them to the original DataFrame\n",
    "poetry_df['tokens'] = all_tokenized_poems"
   ]
  },
  {
   "cell_type": "code",
   "execution_count": null,
   "metadata": {
    "colab": {
     "base_uri": "https://localhost:8080/",
     "height": 0
    },
    "id": "qTeZ4WfCh_d_",
    "outputId": "7fa55a1a-0389-4edf-f0a7-a7de0c3e95f2",
    "tags": []
   },
   "outputs": [],
   "source": [
    "poetry_df.head(2)"
   ]
  },
  {
   "cell_type": "code",
   "execution_count": null,
   "metadata": {
    "id": "8Uoqk2yQjQhH",
    "tags": []
   },
   "outputs": [],
   "source": [
    "def find_original_poem(rows):\n",
    "\n",
    "    \"\"\"This function checks to see whether the context tokens show up in the original poem,\n",
    "    and if so, returns metadata about the title, author, period, and URL for that poem\"\"\"\n",
    "\n",
    "    text = rows['tokens'].replace('**', '')\n",
    "    text = text[55:70]\n",
    "\n",
    "    if poetry_df['tokens'].str.contains(text, regex=False).any() == True :\n",
    "        row = poetry_df[poetry_df['tokens'].str.contains(text, regex=False)].values[0]\n",
    "        title, author, period, link = row[0], row[1], row[7], row[6]\n",
    "        return author, title, period, link\n",
    "    else:\n",
    "        return None, None, None, None"
   ]
  },
  {
   "cell_type": "code",
   "execution_count": null,
   "metadata": {
    "id": "KA3qC3py0uwf",
    "tags": []
   },
   "outputs": [],
   "source": [
    "df[['title', 'author', 'period', 'link']] = df.apply(find_original_poem, axis='columns', result_type='expand')"
   ]
  },
  {
   "cell_type": "code",
   "execution_count": null,
   "metadata": {
    "colab": {
     "base_uri": "https://localhost:8080/",
     "height": 0
    },
    "id": "hFlCB-aqy_h5",
    "outputId": "a3616c3b-fbe1-4613-88fc-8b2f5d1e920d",
    "tags": []
   },
   "outputs": [],
   "source": [
    "df.head()"
   ]
  },
  {
   "cell_type": "markdown",
   "metadata": {
    "id": "eu4SZ7R7U8Na"
   },
   "source": [
    "## **Plot word embeddings**"
   ]
  },
  {
   "cell_type": "markdown",
   "metadata": {
    "id": "g5PQYxa_ezps"
   },
   "source": [
    "Lastly, we will plot the words vectors from this DataFrame with the Python data viz library [Altair](https://altair-viz.github.io/gallery/scatter_tooltips.html)."
   ]
  },
  {
   "cell_type": "code",
   "execution_count": null,
   "metadata": {
    "colab": {
     "base_uri": "https://localhost:8080/",
     "height": 585
    },
    "id": "hE_kCW9QUDKX",
    "outputId": "91614f2e-567c-4ad7-db03-b936a55c93cc",
    "tags": []
   },
   "outputs": [],
   "source": [
    "alt.Chart(df,title=\"Word Similarity: Bank\").mark_circle(size=200).encode(\n",
    "    alt.X('x',\n",
    "        scale=alt.Scale(zero=False)\n",
    "    ), y=\"y\",\n",
    "    # If you click a point, take you to the URL link\n",
    "    href=\"link\",\n",
    "    # The categories that show up in the hover tooltip\n",
    "    tooltip=['title', 'context', 'author', 'period']\n",
    "    ).interactive().properties(\n",
    "    width=500,\n",
    "    height=500\n",
    ")"
   ]
  },
  {
   "cell_type": "markdown",
   "metadata": {
    "id": "vLSjJc8-IZJ_"
   },
   "source": [
    "## **Plot word embeddings from keywords (all at once!)**"
   ]
  },
  {
   "cell_type": "markdown",
   "metadata": {
    "id": "dPXChKeD-Gd6"
   },
   "source": [
    "We can put the code from the previous few sections into a single cell and plot the BERT word embeddings for any list of words. Let's look at the words \"nature,\" \"religion,\" \"science,\" and \"art.\""
   ]
  },
  {
   "cell_type": "code",
   "execution_count": null,
   "metadata": {
    "colab": {
     "base_uri": "https://localhost:8080/",
     "height": 585
    },
    "id": "dA-SdhjlprIj",
    "outputId": "d57b3011-681f-41bc-b554-f8f3363ca4c9",
    "tags": []
   },
   "outputs": [],
   "source": [
    "# List of keywords that you want to compare\n",
    "keywords = ['nature', 'religion', 'science', 'art']\n",
    "\n",
    "# How to color the points in the plot. The other option is \"period\" for time period\n",
    "color_by = 'word'\n",
    "\n",
    "# Get all word positions\n",
    "word_positions = get_word_positions(keywords)\n",
    "\n",
    "# Get all contexts around the words\n",
    "keyword_contexts = []\n",
    "keyword_contexts_tokens = []\n",
    "words = []\n",
    "\n",
    "for position in word_positions:\n",
    "    words.append(word_lookup[all_word_ids[position]])\n",
    "    keyword_contexts.append(get_context_clean(position))\n",
    "    keyword_contexts_tokens.append(get_context(position))\n",
    "\n",
    "# Reduce word vectors with PCA\n",
    "pca = PCA(n_components=2)\n",
    "pca.fit(all_word_vectors[word_positions,:].T)\n",
    "\n",
    "# Make a DataFrame with PCA results\n",
    "df = pd.DataFrame({\"x\": pca.components_[0,:], \"y\": pca.components_[1,:],\n",
    "                   \"context\": keyword_contexts, \"tokens\": keyword_contexts_tokens, \"word\": words})\n",
    "# Match original text and metadata\n",
    "df[['title', 'author', 'period', 'link']] = df.apply(find_original_poem, axis='columns', result_type='expand')\n",
    "\n",
    "# Rename columns so that the context shows up as the \"title\" in the tooltip (bigger and bolded)\n",
    "df = df.rename(columns={'title': 'poem_title', 'context': 'title'})\n",
    "\n",
    "# Make the plot\n",
    "alt.Chart(df, title=f\"Word Similarity: {', '.join(keywords).title()}\").mark_circle(size=200).encode(\n",
    "    alt.X('x',\n",
    "        scale=alt.Scale(zero=False)\n",
    "    ), y=\"y\",\n",
    "    color= color_by,\n",
    "    href=\"link\",\n",
    "    tooltip=['title', 'word', 'poem_title', 'author', 'period']\n",
    "    ).interactive().properties(\n",
    "    width=500,\n",
    "    height=500\n",
    ")"
   ]
  },
  {
   "cell_type": "markdown",
   "metadata": {
    "id": "b8t76MW9-ZY8"
   },
   "source": [
    "Let's examine the words \"nature,\" \"religion,\" \"science,\" and \"art\" again but this time color the points by their time period."
   ]
  },
  {
   "cell_type": "code",
   "execution_count": null,
   "metadata": {
    "colab": {
     "base_uri": "https://localhost:8080/",
     "height": 585
    },
    "id": "MYvTEC7_2jIr",
    "outputId": "2d0d941f-1b65-4d83-e316-9b47ce31ed55",
    "tags": []
   },
   "outputs": [],
   "source": [
    "# List of keywords that you want to compare\n",
    "keywords = ['nature', 'religion', 'science', 'art']\n",
    "\n",
    "# How to color the points in the plot\n",
    "color_by = 'period'\n",
    "\n",
    "# Get all word positions\n",
    "word_positions = get_word_positions(keywords)\n",
    "\n",
    "# Get all contexts around the words\n",
    "keyword_contexts = []\n",
    "keyword_contexts_tokens = []\n",
    "words = []\n",
    "\n",
    "for position in word_positions:\n",
    "    words.append(word_lookup[all_word_ids[position]])\n",
    "    keyword_contexts.append(get_context_clean(position))\n",
    "    keyword_contexts_tokens.append(get_context(position))\n",
    "\n",
    "# Reduce word vectors with PCA\n",
    "pca = PCA(n_components=2)\n",
    "pca.fit(all_word_vectors[word_positions,:].T)\n",
    "\n",
    "# Make a DataFrame with PCA results\n",
    "df = pd.DataFrame({\"x\": pca.components_[0,:], \"y\": pca.components_[1,:],\n",
    "                   \"context\": keyword_contexts, \"tokens\": keyword_contexts_tokens, \"word\": words})\n",
    "# Match original text and metadata\n",
    "df[['title', 'author', 'period', 'link']] = df.apply(find_original_poem, axis='columns', result_type='expand')\n",
    "\n",
    "# Rename columns so that the context shows up as the \"title\" in the tooltip (bigger and bolded)\n",
    "df = df.rename(columns={'title': 'poem_title', 'context': 'title'})\n",
    "\n",
    "# Make the plot\n",
    "alt.Chart(df, title=f\"Word Similarity: {', '.join(keywords).title()}\").mark_circle(size=200).encode(\n",
    "    alt.X('x',\n",
    "        scale=alt.Scale(zero=False)\n",
    "    ), y=\"y\",\n",
    "    color= color_by,\n",
    "    href=\"link\",\n",
    "    tooltip=['title', 'word', 'poem_title', 'author', 'period']\n",
    "    ).interactive().properties(\n",
    "    width=500,\n",
    "    height=500\n",
    ")"
   ]
  },
  {
   "cell_type": "markdown",
   "metadata": {
    "id": "6FP132HwHQzU"
   },
   "source": [
    "Let's compare the words \"mean,\" \"thin,\" \"average\", and \"cruel.\""
   ]
  },
  {
   "cell_type": "code",
   "execution_count": null,
   "metadata": {
    "colab": {
     "base_uri": "https://localhost:8080/",
     "height": 585
    },
    "id": "dyQ5IN6OF1gR",
    "outputId": "62479358-638f-403f-f556-dcb56e6a4715",
    "tags": []
   },
   "outputs": [],
   "source": [
    "# List of keywords that you want to compare\n",
    "keywords = ['mean', 'thin', 'average', 'cruel']\n",
    "\n",
    "# How to color the points in the plot. The other option is \"period\" for time period\n",
    "color_by = 'word'\n",
    "\n",
    "# Get all word positions\n",
    "word_positions = get_word_positions(keywords)\n",
    "\n",
    "# Get all contexts around the words\n",
    "keyword_contexts = []\n",
    "keyword_contexts_tokens = []\n",
    "words = []\n",
    "\n",
    "for position in word_positions:\n",
    "    words.append(word_lookup[all_word_ids[position]])\n",
    "    keyword_contexts.append(get_context_clean(position))\n",
    "    keyword_contexts_tokens.append(get_context(position))\n",
    "\n",
    "# Reduce word vectors with PCA\n",
    "pca = PCA(n_components=2)\n",
    "pca.fit(all_word_vectors[word_positions,:].T)\n",
    "\n",
    "# Make a DataFrame with PCA results\n",
    "df = pd.DataFrame({\"x\": pca.components_[0,:], \"y\": pca.components_[1,:],\n",
    "                   \"context\": keyword_contexts, \"tokens\": keyword_contexts_tokens, \"word\": words})\n",
    "# Match original text and metadata\n",
    "df[['title', 'author', 'period', 'link']] = df.apply(find_original_poem, axis='columns', result_type='expand')\n",
    "\n",
    "# Rename columns so that the context shows up as the \"title\" in the tooltip (bigger and bolded)\n",
    "df = df.rename(columns={'title': 'poem_title', 'context': 'title'})\n",
    "\n",
    "# Make the plot\n",
    "alt.Chart(df, title=f\"Word Similarity: {', '.join(keywords).title()}\").mark_circle(size=200).encode(\n",
    "    alt.X('x',\n",
    "        scale=alt.Scale(zero=False)\n",
    "    ), y=\"y\",\n",
    "    color= color_by,\n",
    "    href=\"link\",\n",
    "    tooltip=['title', 'word', 'poem_title', 'author', 'period']\n",
    "    ).interactive().properties(\n",
    "    width=500,\n",
    "    height=500\n",
    ")"
   ]
  },
  {
   "cell_type": "markdown",
   "metadata": {
    "id": "FSigZdkxHX2N"
   },
   "source": [
    "See the difference between our static embeddings and these contextual ones"
   ]
  },
  {
   "cell_type": "code",
   "execution_count": null,
   "metadata": {
    "colab": {
     "base_uri": "https://localhost:8080/",
     "height": 585
    },
    "id": "qpAy-NUbGsca",
    "outputId": "a4439a97-7a6a-4084-f8d8-acd3a21555c3"
   },
   "outputs": [],
   "source": [
    "# List of keywords that you want to compare\n",
    "keywords = ['bank', 'river', 'money', 'coffee', 'kitten']\n",
    "\n",
    "# How to color the points in the plot. The other option is \"period\" for time period\n",
    "color_by = 'word'\n",
    "\n",
    "# Get all word positions\n",
    "word_positions = get_word_positions(keywords)\n",
    "\n",
    "# Get all contexts around the words\n",
    "keyword_contexts = []\n",
    "keyword_contexts_tokens = []\n",
    "words = []\n",
    "\n",
    "for position in word_positions:\n",
    "    words.append(word_lookup[all_word_ids[position]])\n",
    "    keyword_contexts.append(get_context_clean(position))\n",
    "    keyword_contexts_tokens.append(get_context(position))\n",
    "\n",
    "# Reduce word vectors with PCA\n",
    "pca = PCA(n_components=2)\n",
    "pca.fit(all_word_vectors[word_positions,:].T)\n",
    "\n",
    "# Make a DataFrame with PCA results\n",
    "df = pd.DataFrame({\"x\": pca.components_[0,:], \"y\": pca.components_[1,:],\n",
    "                   \"context\": keyword_contexts, \"tokens\": keyword_contexts_tokens, \"word\": words})\n",
    "# Match original text and metadata\n",
    "df[['title', 'author', 'period', 'link']] = df.apply(find_original_poem, axis='columns', result_type='expand')\n",
    "\n",
    "# Rename columns so that the context shows up as the \"title\" in the tooltip (bigger and bolded)\n",
    "df = df.rename(columns={'title': 'poem_title', 'context': 'title'})\n",
    "\n",
    "# Make the plot\n",
    "alt.Chart(df, title=f\"Word Similarity: {', '.join(keywords).title()}\").mark_circle(size=200).encode(\n",
    "    alt.X('x',\n",
    "        scale=alt.Scale(zero=False)\n",
    "    ), y=\"y\",\n",
    "    color= color_by,\n",
    "    href=\"link\",\n",
    "    tooltip=['title', 'word', 'poem_title', 'author', 'period']\n",
    "    ).interactive().properties(\n",
    "    width=500,\n",
    "    height=500\n",
    ")"
   ]
  },
  {
   "cell_type": "markdown",
   "metadata": {
    "id": "AXG-ZNIlIOA9"
   },
   "source": [
    "## **Find word similarity from a specific word position**"
   ]
  },
  {
   "cell_type": "markdown",
   "metadata": {
    "id": "oqC1kn1sBDb7"
   },
   "source": [
    "We can also search *all* of the vectors for words similar to a query word."
   ]
  },
  {
   "cell_type": "code",
   "execution_count": null,
   "metadata": {
    "id": "NzxT2oC-3sDN",
    "tags": []
   },
   "outputs": [],
   "source": [
    "def get_nearest(query_vector, n=20):\n",
    "    cosines = all_word_vectors.dot(query_vector)\n",
    "    ordering = np.flip(np.argsort(cosines))\n",
    "    return ordering[:n]"
   ]
  },
  {
   "cell_type": "markdown",
   "metadata": {
    "id": "e-ZnvlA0hEQJ"
   },
   "source": [
    "To do so, we need to find the specific word position of our desired search keyword."
   ]
  },
  {
   "cell_type": "code",
   "execution_count": null,
   "metadata": {
    "colab": {
     "base_uri": "https://localhost:8080/",
     "height": 1000
    },
    "id": "sQP16q9Fgebk",
    "outputId": "dba4c9f3-0d48-4632-8889-8faef62d2cb1",
    "tags": []
   },
   "outputs": [],
   "source": [
    "word_positions = get_word_positions(['bank'])\n",
    "\n",
    "for word_position in word_positions:\n",
    "    print_md(f\"{word_position}: {get_context_clean(word_position)}\")"
   ]
  },
  {
   "cell_type": "code",
   "execution_count": null,
   "metadata": {
    "id": "Us6ATXKhgz_k",
    "tags": []
   },
   "outputs": [],
   "source": [
    "keyword_position = 940804"
   ]
  },
  {
   "cell_type": "code",
   "execution_count": null,
   "metadata": {
    "colab": {
     "base_uri": "https://localhost:8080/",
     "height": 1000
    },
    "id": "kw_oyyOk5ual",
    "outputId": "4558b46b-3bcc-4bea-be76-848734c340bc",
    "tags": []
   },
   "outputs": [],
   "source": [
    "contexts = [get_context_clean(token_id) for token_id in get_nearest(all_word_vectors[keyword_position,:])]\n",
    "\n",
    "for context in contexts:\n",
    "    print_md(context)"
   ]
  },
  {
   "cell_type": "code",
   "execution_count": null,
   "metadata": {},
   "outputs": [],
   "source": []
  }
 ],
 "metadata": {
  "accelerator": "GPU",
  "colab": {
   "collapsed_sections": [
    "quwSCsFDUywu"
   ],
   "provenance": []
  },
  "kernelspec": {
   "display_name": "Python 3 (ipykernel)",
   "language": "python",
   "name": "python3"
  },
  "language_info": {
   "codemirror_mode": {
    "name": "ipython",
    "version": 3
   },
   "file_extension": ".py",
   "mimetype": "text/x-python",
   "name": "python",
   "nbconvert_exporter": "python",
   "pygments_lexer": "ipython3",
   "version": "3.11.4"
  },
  "widgets": {
   "application/vnd.jupyter.widget-state+json": {
    "0509139eb69044e9932a5925705d9c8a": {
     "model_module": "@jupyter-widgets/controls",
     "model_module_version": "1.5.0",
     "model_name": "HBoxModel",
     "state": {
      "_dom_classes": [],
      "_model_module": "@jupyter-widgets/controls",
      "_model_module_version": "1.5.0",
      "_model_name": "HBoxModel",
      "_view_count": null,
      "_view_module": "@jupyter-widgets/controls",
      "_view_module_version": "1.5.0",
      "_view_name": "HBoxView",
      "box_style": "",
      "children": [
       "IPY_MODEL_8d714ea5ef264a198d4d3327615db71d",
       "IPY_MODEL_0ec2f7aa3ef6416493b0056d76a56f64",
       "IPY_MODEL_275835e2e04940508864d3cf799f258e"
      ],
      "layout": "IPY_MODEL_b739fe5724a34a4b9a054f60f9a08ba5"
     }
    },
    "0786e07fd446428a9083e2c3eee9f5a2": {
     "model_module": "@jupyter-widgets/base",
     "model_module_version": "1.2.0",
     "model_name": "LayoutModel",
     "state": {
      "_model_module": "@jupyter-widgets/base",
      "_model_module_version": "1.2.0",
      "_model_name": "LayoutModel",
      "_view_count": null,
      "_view_module": "@jupyter-widgets/base",
      "_view_module_version": "1.2.0",
      "_view_name": "LayoutView",
      "align_content": null,
      "align_items": null,
      "align_self": null,
      "border": null,
      "bottom": null,
      "display": null,
      "flex": null,
      "flex_flow": null,
      "grid_area": null,
      "grid_auto_columns": null,
      "grid_auto_flow": null,
      "grid_auto_rows": null,
      "grid_column": null,
      "grid_gap": null,
      "grid_row": null,
      "grid_template_areas": null,
      "grid_template_columns": null,
      "grid_template_rows": null,
      "height": null,
      "justify_content": null,
      "justify_items": null,
      "left": null,
      "margin": null,
      "max_height": null,
      "max_width": null,
      "min_height": null,
      "min_width": null,
      "object_fit": null,
      "object_position": null,
      "order": null,
      "overflow": null,
      "overflow_x": null,
      "overflow_y": null,
      "padding": null,
      "right": null,
      "top": null,
      "visibility": null,
      "width": null
     }
    },
    "08e4c191f6e84fb68a23aae2b9a51742": {
     "model_module": "@jupyter-widgets/controls",
     "model_module_version": "1.5.0",
     "model_name": "ProgressStyleModel",
     "state": {
      "_model_module": "@jupyter-widgets/controls",
      "_model_module_version": "1.5.0",
      "_model_name": "ProgressStyleModel",
      "_view_count": null,
      "_view_module": "@jupyter-widgets/base",
      "_view_module_version": "1.2.0",
      "_view_name": "StyleView",
      "bar_color": null,
      "description_width": ""
     }
    },
    "0b5bc039c05e443ea326ef95b25ef75e": {
     "model_module": "@jupyter-widgets/controls",
     "model_module_version": "1.5.0",
     "model_name": "HBoxModel",
     "state": {
      "_dom_classes": [],
      "_model_module": "@jupyter-widgets/controls",
      "_model_module_version": "1.5.0",
      "_model_name": "HBoxModel",
      "_view_count": null,
      "_view_module": "@jupyter-widgets/controls",
      "_view_module_version": "1.5.0",
      "_view_name": "HBoxView",
      "box_style": "",
      "children": [
       "IPY_MODEL_edffc083ccc64fc4aea4ba69e9d96e7d",
       "IPY_MODEL_b75fd96303824cbdae743d8ecef6fdce",
       "IPY_MODEL_79276eecfcd14092b9ed83a6533bb723"
      ],
      "layout": "IPY_MODEL_c44d4b524c4345b2a8469b44be1cc36c"
     }
    },
    "0bb54eb7d13e42f8a7e4973eda2e949f": {
     "model_module": "@jupyter-widgets/controls",
     "model_module_version": "1.5.0",
     "model_name": "DescriptionStyleModel",
     "state": {
      "_model_module": "@jupyter-widgets/controls",
      "_model_module_version": "1.5.0",
      "_model_name": "DescriptionStyleModel",
      "_view_count": null,
      "_view_module": "@jupyter-widgets/base",
      "_view_module_version": "1.2.0",
      "_view_name": "StyleView",
      "description_width": ""
     }
    },
    "0eb61716436343d79c915c83bc28be83": {
     "model_module": "@jupyter-widgets/base",
     "model_module_version": "1.2.0",
     "model_name": "LayoutModel",
     "state": {
      "_model_module": "@jupyter-widgets/base",
      "_model_module_version": "1.2.0",
      "_model_name": "LayoutModel",
      "_view_count": null,
      "_view_module": "@jupyter-widgets/base",
      "_view_module_version": "1.2.0",
      "_view_name": "LayoutView",
      "align_content": null,
      "align_items": null,
      "align_self": null,
      "border": null,
      "bottom": null,
      "display": null,
      "flex": null,
      "flex_flow": null,
      "grid_area": null,
      "grid_auto_columns": null,
      "grid_auto_flow": null,
      "grid_auto_rows": null,
      "grid_column": null,
      "grid_gap": null,
      "grid_row": null,
      "grid_template_areas": null,
      "grid_template_columns": null,
      "grid_template_rows": null,
      "height": null,
      "justify_content": null,
      "justify_items": null,
      "left": null,
      "margin": null,
      "max_height": null,
      "max_width": null,
      "min_height": null,
      "min_width": null,
      "object_fit": null,
      "object_position": null,
      "order": null,
      "overflow": null,
      "overflow_x": null,
      "overflow_y": null,
      "padding": null,
      "right": null,
      "top": null,
      "visibility": null,
      "width": null
     }
    },
    "0ec2f7aa3ef6416493b0056d76a56f64": {
     "model_module": "@jupyter-widgets/controls",
     "model_module_version": "1.5.0",
     "model_name": "FloatProgressModel",
     "state": {
      "_dom_classes": [],
      "_model_module": "@jupyter-widgets/controls",
      "_model_module_version": "1.5.0",
      "_model_name": "FloatProgressModel",
      "_view_count": null,
      "_view_module": "@jupyter-widgets/controls",
      "_view_module_version": "1.5.0",
      "_view_name": "ProgressView",
      "bar_style": "success",
      "description": "",
      "description_tooltip": null,
      "layout": "IPY_MODEL_ef57f2af381c48d9b2044883a4197e2e",
      "max": 483,
      "min": 0,
      "orientation": "horizontal",
      "style": "IPY_MODEL_20fa87cdd37b4bf589b694e66443f4a6",
      "value": 483
     }
    },
    "0f9292c9d79640218efcceb5a18a1e9d": {
     "model_module": "@jupyter-widgets/controls",
     "model_module_version": "1.5.0",
     "model_name": "HTMLModel",
     "state": {
      "_dom_classes": [],
      "_model_module": "@jupyter-widgets/controls",
      "_model_module_version": "1.5.0",
      "_model_name": "HTMLModel",
      "_view_count": null,
      "_view_module": "@jupyter-widgets/controls",
      "_view_module_version": "1.5.0",
      "_view_name": "HTMLView",
      "description": "",
      "description_tooltip": null,
      "layout": "IPY_MODEL_0786e07fd446428a9083e2c3eee9f5a2",
      "placeholder": "​",
      "style": "IPY_MODEL_563a67d90aed44ddbe609d7827c203d9",
      "value": "Downloading model.safetensors: 100%"
     }
    },
    "16a80915daa040318030826f7f458465": {
     "model_module": "@jupyter-widgets/controls",
     "model_module_version": "1.5.0",
     "model_name": "DescriptionStyleModel",
     "state": {
      "_model_module": "@jupyter-widgets/controls",
      "_model_module_version": "1.5.0",
      "_model_name": "DescriptionStyleModel",
      "_view_count": null,
      "_view_module": "@jupyter-widgets/base",
      "_view_module_version": "1.2.0",
      "_view_name": "StyleView",
      "description_width": ""
     }
    },
    "1ab5abd87d044dd8a2bae602adab82e6": {
     "model_module": "@jupyter-widgets/controls",
     "model_module_version": "1.5.0",
     "model_name": "HTMLModel",
     "state": {
      "_dom_classes": [],
      "_model_module": "@jupyter-widgets/controls",
      "_model_module_version": "1.5.0",
      "_model_name": "HTMLModel",
      "_view_count": null,
      "_view_module": "@jupyter-widgets/controls",
      "_view_module_version": "1.5.0",
      "_view_name": "HTMLView",
      "description": "",
      "description_tooltip": null,
      "layout": "IPY_MODEL_c38a2b3bb8a44e3cbcc31a500e8c7a04",
      "placeholder": "​",
      "style": "IPY_MODEL_16a80915daa040318030826f7f458465",
      "value": " 232k/232k [00:00&lt;00:00, 1.46MB/s]"
     }
    },
    "1fdcde59d6564c1c8e36004a4b8c9fc7": {
     "model_module": "@jupyter-widgets/base",
     "model_module_version": "1.2.0",
     "model_name": "LayoutModel",
     "state": {
      "_model_module": "@jupyter-widgets/base",
      "_model_module_version": "1.2.0",
      "_model_name": "LayoutModel",
      "_view_count": null,
      "_view_module": "@jupyter-widgets/base",
      "_view_module_version": "1.2.0",
      "_view_name": "LayoutView",
      "align_content": null,
      "align_items": null,
      "align_self": null,
      "border": null,
      "bottom": null,
      "display": null,
      "flex": null,
      "flex_flow": null,
      "grid_area": null,
      "grid_auto_columns": null,
      "grid_auto_flow": null,
      "grid_auto_rows": null,
      "grid_column": null,
      "grid_gap": null,
      "grid_row": null,
      "grid_template_areas": null,
      "grid_template_columns": null,
      "grid_template_rows": null,
      "height": null,
      "justify_content": null,
      "justify_items": null,
      "left": null,
      "margin": null,
      "max_height": null,
      "max_width": null,
      "min_height": null,
      "min_width": null,
      "object_fit": null,
      "object_position": null,
      "order": null,
      "overflow": null,
      "overflow_x": null,
      "overflow_y": null,
      "padding": null,
      "right": null,
      "top": null,
      "visibility": null,
      "width": null
     }
    },
    "20fa87cdd37b4bf589b694e66443f4a6": {
     "model_module": "@jupyter-widgets/controls",
     "model_module_version": "1.5.0",
     "model_name": "ProgressStyleModel",
     "state": {
      "_model_module": "@jupyter-widgets/controls",
      "_model_module_version": "1.5.0",
      "_model_name": "ProgressStyleModel",
      "_view_count": null,
      "_view_module": "@jupyter-widgets/base",
      "_view_module_version": "1.2.0",
      "_view_name": "StyleView",
      "bar_color": null,
      "description_width": ""
     }
    },
    "21ad9d3e9a254774ad41dc4e5a12066f": {
     "model_module": "@jupyter-widgets/controls",
     "model_module_version": "1.5.0",
     "model_name": "DescriptionStyleModel",
     "state": {
      "_model_module": "@jupyter-widgets/controls",
      "_model_module_version": "1.5.0",
      "_model_name": "DescriptionStyleModel",
      "_view_count": null,
      "_view_module": "@jupyter-widgets/base",
      "_view_module_version": "1.2.0",
      "_view_name": "StyleView",
      "description_width": ""
     }
    },
    "26425be9a4e54ccbb4cc5ef73077d149": {
     "model_module": "@jupyter-widgets/controls",
     "model_module_version": "1.5.0",
     "model_name": "HBoxModel",
     "state": {
      "_dom_classes": [],
      "_model_module": "@jupyter-widgets/controls",
      "_model_module_version": "1.5.0",
      "_model_name": "HBoxModel",
      "_view_count": null,
      "_view_module": "@jupyter-widgets/controls",
      "_view_module_version": "1.5.0",
      "_view_name": "HBoxView",
      "box_style": "",
      "children": [
       "IPY_MODEL_709218ee899c4a93ac4fbf6f84703c85",
       "IPY_MODEL_707a405d5a2a485e9a7881e76ed949b9",
       "IPY_MODEL_acc1a7b5a33f4b908e0307d887c27f25"
      ],
      "layout": "IPY_MODEL_7c150c596db34cc4928d8c765ff7e7e0"
     }
    },
    "275835e2e04940508864d3cf799f258e": {
     "model_module": "@jupyter-widgets/controls",
     "model_module_version": "1.5.0",
     "model_name": "HTMLModel",
     "state": {
      "_dom_classes": [],
      "_model_module": "@jupyter-widgets/controls",
      "_model_module_version": "1.5.0",
      "_model_name": "HTMLModel",
      "_view_count": null,
      "_view_module": "@jupyter-widgets/controls",
      "_view_module_version": "1.5.0",
      "_view_name": "HTMLView",
      "description": "",
      "description_tooltip": null,
      "layout": "IPY_MODEL_6c3234f0a8c441209b1bcd5a34cdbf77",
      "placeholder": "​",
      "style": "IPY_MODEL_f6b367791e264c52b2298a90dce57abb",
      "value": " 483/483 [00:00&lt;00:00, 13.0kB/s]"
     }
    },
    "4a466c48f54c4fd2b71a94f20cf608c5": {
     "model_module": "@jupyter-widgets/base",
     "model_module_version": "1.2.0",
     "model_name": "LayoutModel",
     "state": {
      "_model_module": "@jupyter-widgets/base",
      "_model_module_version": "1.2.0",
      "_model_name": "LayoutModel",
      "_view_count": null,
      "_view_module": "@jupyter-widgets/base",
      "_view_module_version": "1.2.0",
      "_view_name": "LayoutView",
      "align_content": null,
      "align_items": null,
      "align_self": null,
      "border": null,
      "bottom": null,
      "display": null,
      "flex": null,
      "flex_flow": null,
      "grid_area": null,
      "grid_auto_columns": null,
      "grid_auto_flow": null,
      "grid_auto_rows": null,
      "grid_column": null,
      "grid_gap": null,
      "grid_row": null,
      "grid_template_areas": null,
      "grid_template_columns": null,
      "grid_template_rows": null,
      "height": null,
      "justify_content": null,
      "justify_items": null,
      "left": null,
      "margin": null,
      "max_height": null,
      "max_width": null,
      "min_height": null,
      "min_width": null,
      "object_fit": null,
      "object_position": null,
      "order": null,
      "overflow": null,
      "overflow_x": null,
      "overflow_y": null,
      "padding": null,
      "right": null,
      "top": null,
      "visibility": null,
      "width": null
     }
    },
    "563a67d90aed44ddbe609d7827c203d9": {
     "model_module": "@jupyter-widgets/controls",
     "model_module_version": "1.5.0",
     "model_name": "DescriptionStyleModel",
     "state": {
      "_model_module": "@jupyter-widgets/controls",
      "_model_module_version": "1.5.0",
      "_model_name": "DescriptionStyleModel",
      "_view_count": null,
      "_view_module": "@jupyter-widgets/base",
      "_view_module_version": "1.2.0",
      "_view_name": "StyleView",
      "description_width": ""
     }
    },
    "60a9584e8ee44b38873c2a939f77b73b": {
     "model_module": "@jupyter-widgets/base",
     "model_module_version": "1.2.0",
     "model_name": "LayoutModel",
     "state": {
      "_model_module": "@jupyter-widgets/base",
      "_model_module_version": "1.2.0",
      "_model_name": "LayoutModel",
      "_view_count": null,
      "_view_module": "@jupyter-widgets/base",
      "_view_module_version": "1.2.0",
      "_view_name": "LayoutView",
      "align_content": null,
      "align_items": null,
      "align_self": null,
      "border": null,
      "bottom": null,
      "display": null,
      "flex": null,
      "flex_flow": null,
      "grid_area": null,
      "grid_auto_columns": null,
      "grid_auto_flow": null,
      "grid_auto_rows": null,
      "grid_column": null,
      "grid_gap": null,
      "grid_row": null,
      "grid_template_areas": null,
      "grid_template_columns": null,
      "grid_template_rows": null,
      "height": null,
      "justify_content": null,
      "justify_items": null,
      "left": null,
      "margin": null,
      "max_height": null,
      "max_width": null,
      "min_height": null,
      "min_width": null,
      "object_fit": null,
      "object_position": null,
      "order": null,
      "overflow": null,
      "overflow_x": null,
      "overflow_y": null,
      "padding": null,
      "right": null,
      "top": null,
      "visibility": null,
      "width": null
     }
    },
    "64ee8a6e3b6446ca8ad11e64f9460b07": {
     "model_module": "@jupyter-widgets/controls",
     "model_module_version": "1.5.0",
     "model_name": "HBoxModel",
     "state": {
      "_dom_classes": [],
      "_model_module": "@jupyter-widgets/controls",
      "_model_module_version": "1.5.0",
      "_model_name": "HBoxModel",
      "_view_count": null,
      "_view_module": "@jupyter-widgets/controls",
      "_view_module_version": "1.5.0",
      "_view_name": "HBoxView",
      "box_style": "",
      "children": [
       "IPY_MODEL_0f9292c9d79640218efcceb5a18a1e9d",
       "IPY_MODEL_6e764f2f47624c1784013439981eca7a",
       "IPY_MODEL_d2d535eb15404b1c96d1ae1cb507a149"
      ],
      "layout": "IPY_MODEL_8e8932b65e1c4eeb90c23c4d2408b332"
     }
    },
    "6c3234f0a8c441209b1bcd5a34cdbf77": {
     "model_module": "@jupyter-widgets/base",
     "model_module_version": "1.2.0",
     "model_name": "LayoutModel",
     "state": {
      "_model_module": "@jupyter-widgets/base",
      "_model_module_version": "1.2.0",
      "_model_name": "LayoutModel",
      "_view_count": null,
      "_view_module": "@jupyter-widgets/base",
      "_view_module_version": "1.2.0",
      "_view_name": "LayoutView",
      "align_content": null,
      "align_items": null,
      "align_self": null,
      "border": null,
      "bottom": null,
      "display": null,
      "flex": null,
      "flex_flow": null,
      "grid_area": null,
      "grid_auto_columns": null,
      "grid_auto_flow": null,
      "grid_auto_rows": null,
      "grid_column": null,
      "grid_gap": null,
      "grid_row": null,
      "grid_template_areas": null,
      "grid_template_columns": null,
      "grid_template_rows": null,
      "height": null,
      "justify_content": null,
      "justify_items": null,
      "left": null,
      "margin": null,
      "max_height": null,
      "max_width": null,
      "min_height": null,
      "min_width": null,
      "object_fit": null,
      "object_position": null,
      "order": null,
      "overflow": null,
      "overflow_x": null,
      "overflow_y": null,
      "padding": null,
      "right": null,
      "top": null,
      "visibility": null,
      "width": null
     }
    },
    "6e764f2f47624c1784013439981eca7a": {
     "model_module": "@jupyter-widgets/controls",
     "model_module_version": "1.5.0",
     "model_name": "FloatProgressModel",
     "state": {
      "_dom_classes": [],
      "_model_module": "@jupyter-widgets/controls",
      "_model_module_version": "1.5.0",
      "_model_name": "FloatProgressModel",
      "_view_count": null,
      "_view_module": "@jupyter-widgets/controls",
      "_view_module_version": "1.5.0",
      "_view_name": "ProgressView",
      "bar_style": "success",
      "description": "",
      "description_tooltip": null,
      "layout": "IPY_MODEL_0eb61716436343d79c915c83bc28be83",
      "max": 267954768,
      "min": 0,
      "orientation": "horizontal",
      "style": "IPY_MODEL_b6f870afbc904e458003114a920a01a0",
      "value": 267954768
     }
    },
    "707a405d5a2a485e9a7881e76ed949b9": {
     "model_module": "@jupyter-widgets/controls",
     "model_module_version": "1.5.0",
     "model_name": "FloatProgressModel",
     "state": {
      "_dom_classes": [],
      "_model_module": "@jupyter-widgets/controls",
      "_model_module_version": "1.5.0",
      "_model_name": "FloatProgressModel",
      "_view_count": null,
      "_view_module": "@jupyter-widgets/controls",
      "_view_module_version": "1.5.0",
      "_view_name": "ProgressView",
      "bar_style": "success",
      "description": "",
      "description_tooltip": null,
      "layout": "IPY_MODEL_a37779becbd84eafa59a728e80ce6505",
      "max": 28,
      "min": 0,
      "orientation": "horizontal",
      "style": "IPY_MODEL_8c3c3bc62b624f79847099b30aa845cc",
      "value": 28
     }
    },
    "709218ee899c4a93ac4fbf6f84703c85": {
     "model_module": "@jupyter-widgets/controls",
     "model_module_version": "1.5.0",
     "model_name": "HTMLModel",
     "state": {
      "_dom_classes": [],
      "_model_module": "@jupyter-widgets/controls",
      "_model_module_version": "1.5.0",
      "_model_name": "HTMLModel",
      "_view_count": null,
      "_view_module": "@jupyter-widgets/controls",
      "_view_module_version": "1.5.0",
      "_view_name": "HTMLView",
      "description": "",
      "description_tooltip": null,
      "layout": "IPY_MODEL_60a9584e8ee44b38873c2a939f77b73b",
      "placeholder": "​",
      "style": "IPY_MODEL_b2b7669b0aed4b34ae64d972a81deb07",
      "value": "Downloading (…)okenizer_config.json: 100%"
     }
    },
    "74913eb6cebe40fba5596253b7750b4f": {
     "model_module": "@jupyter-widgets/base",
     "model_module_version": "1.2.0",
     "model_name": "LayoutModel",
     "state": {
      "_model_module": "@jupyter-widgets/base",
      "_model_module_version": "1.2.0",
      "_model_name": "LayoutModel",
      "_view_count": null,
      "_view_module": "@jupyter-widgets/base",
      "_view_module_version": "1.2.0",
      "_view_name": "LayoutView",
      "align_content": null,
      "align_items": null,
      "align_self": null,
      "border": null,
      "bottom": null,
      "display": null,
      "flex": null,
      "flex_flow": null,
      "grid_area": null,
      "grid_auto_columns": null,
      "grid_auto_flow": null,
      "grid_auto_rows": null,
      "grid_column": null,
      "grid_gap": null,
      "grid_row": null,
      "grid_template_areas": null,
      "grid_template_columns": null,
      "grid_template_rows": null,
      "height": null,
      "justify_content": null,
      "justify_items": null,
      "left": null,
      "margin": null,
      "max_height": null,
      "max_width": null,
      "min_height": null,
      "min_width": null,
      "object_fit": null,
      "object_position": null,
      "order": null,
      "overflow": null,
      "overflow_x": null,
      "overflow_y": null,
      "padding": null,
      "right": null,
      "top": null,
      "visibility": null,
      "width": null
     }
    },
    "79276eecfcd14092b9ed83a6533bb723": {
     "model_module": "@jupyter-widgets/controls",
     "model_module_version": "1.5.0",
     "model_name": "HTMLModel",
     "state": {
      "_dom_classes": [],
      "_model_module": "@jupyter-widgets/controls",
      "_model_module_version": "1.5.0",
      "_model_name": "HTMLModel",
      "_view_count": null,
      "_view_module": "@jupyter-widgets/controls",
      "_view_module_version": "1.5.0",
      "_view_name": "HTMLView",
      "description": "",
      "description_tooltip": null,
      "layout": "IPY_MODEL_cccc081d60234be7b6e15cd1fc6806c9",
      "placeholder": "​",
      "style": "IPY_MODEL_ccd7a6556a2a47ea89a3965d52cab4c6",
      "value": " 466k/466k [00:00&lt;00:00, 4.39MB/s]"
     }
    },
    "7bf7fe2f28dd4c0db5524c135b34a6b2": {
     "model_module": "@jupyter-widgets/base",
     "model_module_version": "1.2.0",
     "model_name": "LayoutModel",
     "state": {
      "_model_module": "@jupyter-widgets/base",
      "_model_module_version": "1.2.0",
      "_model_name": "LayoutModel",
      "_view_count": null,
      "_view_module": "@jupyter-widgets/base",
      "_view_module_version": "1.2.0",
      "_view_name": "LayoutView",
      "align_content": null,
      "align_items": null,
      "align_self": null,
      "border": null,
      "bottom": null,
      "display": null,
      "flex": null,
      "flex_flow": null,
      "grid_area": null,
      "grid_auto_columns": null,
      "grid_auto_flow": null,
      "grid_auto_rows": null,
      "grid_column": null,
      "grid_gap": null,
      "grid_row": null,
      "grid_template_areas": null,
      "grid_template_columns": null,
      "grid_template_rows": null,
      "height": null,
      "justify_content": null,
      "justify_items": null,
      "left": null,
      "margin": null,
      "max_height": null,
      "max_width": null,
      "min_height": null,
      "min_width": null,
      "object_fit": null,
      "object_position": null,
      "order": null,
      "overflow": null,
      "overflow_x": null,
      "overflow_y": null,
      "padding": null,
      "right": null,
      "top": null,
      "visibility": null,
      "width": null
     }
    },
    "7c150c596db34cc4928d8c765ff7e7e0": {
     "model_module": "@jupyter-widgets/base",
     "model_module_version": "1.2.0",
     "model_name": "LayoutModel",
     "state": {
      "_model_module": "@jupyter-widgets/base",
      "_model_module_version": "1.2.0",
      "_model_name": "LayoutModel",
      "_view_count": null,
      "_view_module": "@jupyter-widgets/base",
      "_view_module_version": "1.2.0",
      "_view_name": "LayoutView",
      "align_content": null,
      "align_items": null,
      "align_self": null,
      "border": null,
      "bottom": null,
      "display": null,
      "flex": null,
      "flex_flow": null,
      "grid_area": null,
      "grid_auto_columns": null,
      "grid_auto_flow": null,
      "grid_auto_rows": null,
      "grid_column": null,
      "grid_gap": null,
      "grid_row": null,
      "grid_template_areas": null,
      "grid_template_columns": null,
      "grid_template_rows": null,
      "height": null,
      "justify_content": null,
      "justify_items": null,
      "left": null,
      "margin": null,
      "max_height": null,
      "max_width": null,
      "min_height": null,
      "min_width": null,
      "object_fit": null,
      "object_position": null,
      "order": null,
      "overflow": null,
      "overflow_x": null,
      "overflow_y": null,
      "padding": null,
      "right": null,
      "top": null,
      "visibility": null,
      "width": null
     }
    },
    "8c3c3bc62b624f79847099b30aa845cc": {
     "model_module": "@jupyter-widgets/controls",
     "model_module_version": "1.5.0",
     "model_name": "ProgressStyleModel",
     "state": {
      "_model_module": "@jupyter-widgets/controls",
      "_model_module_version": "1.5.0",
      "_model_name": "ProgressStyleModel",
      "_view_count": null,
      "_view_module": "@jupyter-widgets/base",
      "_view_module_version": "1.2.0",
      "_view_name": "StyleView",
      "bar_color": null,
      "description_width": ""
     }
    },
    "8d714ea5ef264a198d4d3327615db71d": {
     "model_module": "@jupyter-widgets/controls",
     "model_module_version": "1.5.0",
     "model_name": "HTMLModel",
     "state": {
      "_dom_classes": [],
      "_model_module": "@jupyter-widgets/controls",
      "_model_module_version": "1.5.0",
      "_model_name": "HTMLModel",
      "_view_count": null,
      "_view_module": "@jupyter-widgets/controls",
      "_view_module_version": "1.5.0",
      "_view_name": "HTMLView",
      "description": "",
      "description_tooltip": null,
      "layout": "IPY_MODEL_97d765635d6f4fe68a0df06462b6f865",
      "placeholder": "​",
      "style": "IPY_MODEL_be5495466eb149d4939ae8d1ad2149bb",
      "value": "Downloading (…)lve/main/config.json: 100%"
     }
    },
    "8e8932b65e1c4eeb90c23c4d2408b332": {
     "model_module": "@jupyter-widgets/base",
     "model_module_version": "1.2.0",
     "model_name": "LayoutModel",
     "state": {
      "_model_module": "@jupyter-widgets/base",
      "_model_module_version": "1.2.0",
      "_model_name": "LayoutModel",
      "_view_count": null,
      "_view_module": "@jupyter-widgets/base",
      "_view_module_version": "1.2.0",
      "_view_name": "LayoutView",
      "align_content": null,
      "align_items": null,
      "align_self": null,
      "border": null,
      "bottom": null,
      "display": null,
      "flex": null,
      "flex_flow": null,
      "grid_area": null,
      "grid_auto_columns": null,
      "grid_auto_flow": null,
      "grid_auto_rows": null,
      "grid_column": null,
      "grid_gap": null,
      "grid_row": null,
      "grid_template_areas": null,
      "grid_template_columns": null,
      "grid_template_rows": null,
      "height": null,
      "justify_content": null,
      "justify_items": null,
      "left": null,
      "margin": null,
      "max_height": null,
      "max_width": null,
      "min_height": null,
      "min_width": null,
      "object_fit": null,
      "object_position": null,
      "order": null,
      "overflow": null,
      "overflow_x": null,
      "overflow_y": null,
      "padding": null,
      "right": null,
      "top": null,
      "visibility": null,
      "width": null
     }
    },
    "97d765635d6f4fe68a0df06462b6f865": {
     "model_module": "@jupyter-widgets/base",
     "model_module_version": "1.2.0",
     "model_name": "LayoutModel",
     "state": {
      "_model_module": "@jupyter-widgets/base",
      "_model_module_version": "1.2.0",
      "_model_name": "LayoutModel",
      "_view_count": null,
      "_view_module": "@jupyter-widgets/base",
      "_view_module_version": "1.2.0",
      "_view_name": "LayoutView",
      "align_content": null,
      "align_items": null,
      "align_self": null,
      "border": null,
      "bottom": null,
      "display": null,
      "flex": null,
      "flex_flow": null,
      "grid_area": null,
      "grid_auto_columns": null,
      "grid_auto_flow": null,
      "grid_auto_rows": null,
      "grid_column": null,
      "grid_gap": null,
      "grid_row": null,
      "grid_template_areas": null,
      "grid_template_columns": null,
      "grid_template_rows": null,
      "height": null,
      "justify_content": null,
      "justify_items": null,
      "left": null,
      "margin": null,
      "max_height": null,
      "max_width": null,
      "min_height": null,
      "min_width": null,
      "object_fit": null,
      "object_position": null,
      "order": null,
      "overflow": null,
      "overflow_x": null,
      "overflow_y": null,
      "padding": null,
      "right": null,
      "top": null,
      "visibility": null,
      "width": null
     }
    },
    "9c9ee2ef3c1348d684969031ea1cc24a": {
     "model_module": "@jupyter-widgets/controls",
     "model_module_version": "1.5.0",
     "model_name": "DescriptionStyleModel",
     "state": {
      "_model_module": "@jupyter-widgets/controls",
      "_model_module_version": "1.5.0",
      "_model_name": "DescriptionStyleModel",
      "_view_count": null,
      "_view_module": "@jupyter-widgets/base",
      "_view_module_version": "1.2.0",
      "_view_name": "StyleView",
      "description_width": ""
     }
    },
    "a37779becbd84eafa59a728e80ce6505": {
     "model_module": "@jupyter-widgets/base",
     "model_module_version": "1.2.0",
     "model_name": "LayoutModel",
     "state": {
      "_model_module": "@jupyter-widgets/base",
      "_model_module_version": "1.2.0",
      "_model_name": "LayoutModel",
      "_view_count": null,
      "_view_module": "@jupyter-widgets/base",
      "_view_module_version": "1.2.0",
      "_view_name": "LayoutView",
      "align_content": null,
      "align_items": null,
      "align_self": null,
      "border": null,
      "bottom": null,
      "display": null,
      "flex": null,
      "flex_flow": null,
      "grid_area": null,
      "grid_auto_columns": null,
      "grid_auto_flow": null,
      "grid_auto_rows": null,
      "grid_column": null,
      "grid_gap": null,
      "grid_row": null,
      "grid_template_areas": null,
      "grid_template_columns": null,
      "grid_template_rows": null,
      "height": null,
      "justify_content": null,
      "justify_items": null,
      "left": null,
      "margin": null,
      "max_height": null,
      "max_width": null,
      "min_height": null,
      "min_width": null,
      "object_fit": null,
      "object_position": null,
      "order": null,
      "overflow": null,
      "overflow_x": null,
      "overflow_y": null,
      "padding": null,
      "right": null,
      "top": null,
      "visibility": null,
      "width": null
     }
    },
    "acc1a7b5a33f4b908e0307d887c27f25": {
     "model_module": "@jupyter-widgets/controls",
     "model_module_version": "1.5.0",
     "model_name": "HTMLModel",
     "state": {
      "_dom_classes": [],
      "_model_module": "@jupyter-widgets/controls",
      "_model_module_version": "1.5.0",
      "_model_name": "HTMLModel",
      "_view_count": null,
      "_view_module": "@jupyter-widgets/controls",
      "_view_module_version": "1.5.0",
      "_view_name": "HTMLView",
      "description": "",
      "description_tooltip": null,
      "layout": "IPY_MODEL_7bf7fe2f28dd4c0db5524c135b34a6b2",
      "placeholder": "​",
      "style": "IPY_MODEL_21ad9d3e9a254774ad41dc4e5a12066f",
      "value": " 28.0/28.0 [00:00&lt;00:00, 795B/s]"
     }
    },
    "b0b994f704fa49b8a4170561946befe7": {
     "model_module": "@jupyter-widgets/controls",
     "model_module_version": "1.5.0",
     "model_name": "HBoxModel",
     "state": {
      "_dom_classes": [],
      "_model_module": "@jupyter-widgets/controls",
      "_model_module_version": "1.5.0",
      "_model_name": "HBoxModel",
      "_view_count": null,
      "_view_module": "@jupyter-widgets/controls",
      "_view_module_version": "1.5.0",
      "_view_name": "HBoxView",
      "box_style": "",
      "children": [
       "IPY_MODEL_f566acdf3ff941f89aa0115ed1da5542",
       "IPY_MODEL_cc4d2930127840c2b26c34d8c9e3e3ac",
       "IPY_MODEL_1ab5abd87d044dd8a2bae602adab82e6"
      ],
      "layout": "IPY_MODEL_1fdcde59d6564c1c8e36004a4b8c9fc7"
     }
    },
    "b2b7669b0aed4b34ae64d972a81deb07": {
     "model_module": "@jupyter-widgets/controls",
     "model_module_version": "1.5.0",
     "model_name": "DescriptionStyleModel",
     "state": {
      "_model_module": "@jupyter-widgets/controls",
      "_model_module_version": "1.5.0",
      "_model_name": "DescriptionStyleModel",
      "_view_count": null,
      "_view_module": "@jupyter-widgets/base",
      "_view_module_version": "1.2.0",
      "_view_name": "StyleView",
      "description_width": ""
     }
    },
    "b6f870afbc904e458003114a920a01a0": {
     "model_module": "@jupyter-widgets/controls",
     "model_module_version": "1.5.0",
     "model_name": "ProgressStyleModel",
     "state": {
      "_model_module": "@jupyter-widgets/controls",
      "_model_module_version": "1.5.0",
      "_model_name": "ProgressStyleModel",
      "_view_count": null,
      "_view_module": "@jupyter-widgets/base",
      "_view_module_version": "1.2.0",
      "_view_name": "StyleView",
      "bar_color": null,
      "description_width": ""
     }
    },
    "b739fe5724a34a4b9a054f60f9a08ba5": {
     "model_module": "@jupyter-widgets/base",
     "model_module_version": "1.2.0",
     "model_name": "LayoutModel",
     "state": {
      "_model_module": "@jupyter-widgets/base",
      "_model_module_version": "1.2.0",
      "_model_name": "LayoutModel",
      "_view_count": null,
      "_view_module": "@jupyter-widgets/base",
      "_view_module_version": "1.2.0",
      "_view_name": "LayoutView",
      "align_content": null,
      "align_items": null,
      "align_self": null,
      "border": null,
      "bottom": null,
      "display": null,
      "flex": null,
      "flex_flow": null,
      "grid_area": null,
      "grid_auto_columns": null,
      "grid_auto_flow": null,
      "grid_auto_rows": null,
      "grid_column": null,
      "grid_gap": null,
      "grid_row": null,
      "grid_template_areas": null,
      "grid_template_columns": null,
      "grid_template_rows": null,
      "height": null,
      "justify_content": null,
      "justify_items": null,
      "left": null,
      "margin": null,
      "max_height": null,
      "max_width": null,
      "min_height": null,
      "min_width": null,
      "object_fit": null,
      "object_position": null,
      "order": null,
      "overflow": null,
      "overflow_x": null,
      "overflow_y": null,
      "padding": null,
      "right": null,
      "top": null,
      "visibility": null,
      "width": null
     }
    },
    "b75fd96303824cbdae743d8ecef6fdce": {
     "model_module": "@jupyter-widgets/controls",
     "model_module_version": "1.5.0",
     "model_name": "FloatProgressModel",
     "state": {
      "_dom_classes": [],
      "_model_module": "@jupyter-widgets/controls",
      "_model_module_version": "1.5.0",
      "_model_name": "FloatProgressModel",
      "_view_count": null,
      "_view_module": "@jupyter-widgets/controls",
      "_view_module_version": "1.5.0",
      "_view_name": "ProgressView",
      "bar_style": "success",
      "description": "",
      "description_tooltip": null,
      "layout": "IPY_MODEL_4a466c48f54c4fd2b71a94f20cf608c5",
      "max": 466062,
      "min": 0,
      "orientation": "horizontal",
      "style": "IPY_MODEL_08e4c191f6e84fb68a23aae2b9a51742",
      "value": 466062
     }
    },
    "be5495466eb149d4939ae8d1ad2149bb": {
     "model_module": "@jupyter-widgets/controls",
     "model_module_version": "1.5.0",
     "model_name": "DescriptionStyleModel",
     "state": {
      "_model_module": "@jupyter-widgets/controls",
      "_model_module_version": "1.5.0",
      "_model_name": "DescriptionStyleModel",
      "_view_count": null,
      "_view_module": "@jupyter-widgets/base",
      "_view_module_version": "1.2.0",
      "_view_name": "StyleView",
      "description_width": ""
     }
    },
    "c023d4859cc641a2bf7138ccc43b101b": {
     "model_module": "@jupyter-widgets/base",
     "model_module_version": "1.2.0",
     "model_name": "LayoutModel",
     "state": {
      "_model_module": "@jupyter-widgets/base",
      "_model_module_version": "1.2.0",
      "_model_name": "LayoutModel",
      "_view_count": null,
      "_view_module": "@jupyter-widgets/base",
      "_view_module_version": "1.2.0",
      "_view_name": "LayoutView",
      "align_content": null,
      "align_items": null,
      "align_self": null,
      "border": null,
      "bottom": null,
      "display": null,
      "flex": null,
      "flex_flow": null,
      "grid_area": null,
      "grid_auto_columns": null,
      "grid_auto_flow": null,
      "grid_auto_rows": null,
      "grid_column": null,
      "grid_gap": null,
      "grid_row": null,
      "grid_template_areas": null,
      "grid_template_columns": null,
      "grid_template_rows": null,
      "height": null,
      "justify_content": null,
      "justify_items": null,
      "left": null,
      "margin": null,
      "max_height": null,
      "max_width": null,
      "min_height": null,
      "min_width": null,
      "object_fit": null,
      "object_position": null,
      "order": null,
      "overflow": null,
      "overflow_x": null,
      "overflow_y": null,
      "padding": null,
      "right": null,
      "top": null,
      "visibility": null,
      "width": null
     }
    },
    "c38a2b3bb8a44e3cbcc31a500e8c7a04": {
     "model_module": "@jupyter-widgets/base",
     "model_module_version": "1.2.0",
     "model_name": "LayoutModel",
     "state": {
      "_model_module": "@jupyter-widgets/base",
      "_model_module_version": "1.2.0",
      "_model_name": "LayoutModel",
      "_view_count": null,
      "_view_module": "@jupyter-widgets/base",
      "_view_module_version": "1.2.0",
      "_view_name": "LayoutView",
      "align_content": null,
      "align_items": null,
      "align_self": null,
      "border": null,
      "bottom": null,
      "display": null,
      "flex": null,
      "flex_flow": null,
      "grid_area": null,
      "grid_auto_columns": null,
      "grid_auto_flow": null,
      "grid_auto_rows": null,
      "grid_column": null,
      "grid_gap": null,
      "grid_row": null,
      "grid_template_areas": null,
      "grid_template_columns": null,
      "grid_template_rows": null,
      "height": null,
      "justify_content": null,
      "justify_items": null,
      "left": null,
      "margin": null,
      "max_height": null,
      "max_width": null,
      "min_height": null,
      "min_width": null,
      "object_fit": null,
      "object_position": null,
      "order": null,
      "overflow": null,
      "overflow_x": null,
      "overflow_y": null,
      "padding": null,
      "right": null,
      "top": null,
      "visibility": null,
      "width": null
     }
    },
    "c44d4b524c4345b2a8469b44be1cc36c": {
     "model_module": "@jupyter-widgets/base",
     "model_module_version": "1.2.0",
     "model_name": "LayoutModel",
     "state": {
      "_model_module": "@jupyter-widgets/base",
      "_model_module_version": "1.2.0",
      "_model_name": "LayoutModel",
      "_view_count": null,
      "_view_module": "@jupyter-widgets/base",
      "_view_module_version": "1.2.0",
      "_view_name": "LayoutView",
      "align_content": null,
      "align_items": null,
      "align_self": null,
      "border": null,
      "bottom": null,
      "display": null,
      "flex": null,
      "flex_flow": null,
      "grid_area": null,
      "grid_auto_columns": null,
      "grid_auto_flow": null,
      "grid_auto_rows": null,
      "grid_column": null,
      "grid_gap": null,
      "grid_row": null,
      "grid_template_areas": null,
      "grid_template_columns": null,
      "grid_template_rows": null,
      "height": null,
      "justify_content": null,
      "justify_items": null,
      "left": null,
      "margin": null,
      "max_height": null,
      "max_width": null,
      "min_height": null,
      "min_width": null,
      "object_fit": null,
      "object_position": null,
      "order": null,
      "overflow": null,
      "overflow_x": null,
      "overflow_y": null,
      "padding": null,
      "right": null,
      "top": null,
      "visibility": null,
      "width": null
     }
    },
    "cc4d2930127840c2b26c34d8c9e3e3ac": {
     "model_module": "@jupyter-widgets/controls",
     "model_module_version": "1.5.0",
     "model_name": "FloatProgressModel",
     "state": {
      "_dom_classes": [],
      "_model_module": "@jupyter-widgets/controls",
      "_model_module_version": "1.5.0",
      "_model_name": "FloatProgressModel",
      "_view_count": null,
      "_view_module": "@jupyter-widgets/controls",
      "_view_module_version": "1.5.0",
      "_view_name": "ProgressView",
      "bar_style": "success",
      "description": "",
      "description_tooltip": null,
      "layout": "IPY_MODEL_d4e107e5aede4148b70a14bd0bbce207",
      "max": 231508,
      "min": 0,
      "orientation": "horizontal",
      "style": "IPY_MODEL_d3c3ceff6e364115bd9828d1b83d0df1",
      "value": 231508
     }
    },
    "cccc081d60234be7b6e15cd1fc6806c9": {
     "model_module": "@jupyter-widgets/base",
     "model_module_version": "1.2.0",
     "model_name": "LayoutModel",
     "state": {
      "_model_module": "@jupyter-widgets/base",
      "_model_module_version": "1.2.0",
      "_model_name": "LayoutModel",
      "_view_count": null,
      "_view_module": "@jupyter-widgets/base",
      "_view_module_version": "1.2.0",
      "_view_name": "LayoutView",
      "align_content": null,
      "align_items": null,
      "align_self": null,
      "border": null,
      "bottom": null,
      "display": null,
      "flex": null,
      "flex_flow": null,
      "grid_area": null,
      "grid_auto_columns": null,
      "grid_auto_flow": null,
      "grid_auto_rows": null,
      "grid_column": null,
      "grid_gap": null,
      "grid_row": null,
      "grid_template_areas": null,
      "grid_template_columns": null,
      "grid_template_rows": null,
      "height": null,
      "justify_content": null,
      "justify_items": null,
      "left": null,
      "margin": null,
      "max_height": null,
      "max_width": null,
      "min_height": null,
      "min_width": null,
      "object_fit": null,
      "object_position": null,
      "order": null,
      "overflow": null,
      "overflow_x": null,
      "overflow_y": null,
      "padding": null,
      "right": null,
      "top": null,
      "visibility": null,
      "width": null
     }
    },
    "ccd7a6556a2a47ea89a3965d52cab4c6": {
     "model_module": "@jupyter-widgets/controls",
     "model_module_version": "1.5.0",
     "model_name": "DescriptionStyleModel",
     "state": {
      "_model_module": "@jupyter-widgets/controls",
      "_model_module_version": "1.5.0",
      "_model_name": "DescriptionStyleModel",
      "_view_count": null,
      "_view_module": "@jupyter-widgets/base",
      "_view_module_version": "1.2.0",
      "_view_name": "StyleView",
      "description_width": ""
     }
    },
    "d2d535eb15404b1c96d1ae1cb507a149": {
     "model_module": "@jupyter-widgets/controls",
     "model_module_version": "1.5.0",
     "model_name": "HTMLModel",
     "state": {
      "_dom_classes": [],
      "_model_module": "@jupyter-widgets/controls",
      "_model_module_version": "1.5.0",
      "_model_name": "HTMLModel",
      "_view_count": null,
      "_view_module": "@jupyter-widgets/controls",
      "_view_module_version": "1.5.0",
      "_view_name": "HTMLView",
      "description": "",
      "description_tooltip": null,
      "layout": "IPY_MODEL_c023d4859cc641a2bf7138ccc43b101b",
      "placeholder": "​",
      "style": "IPY_MODEL_9c9ee2ef3c1348d684969031ea1cc24a",
      "value": " 268M/268M [00:02&lt;00:00, 110MB/s]"
     }
    },
    "d3c3ceff6e364115bd9828d1b83d0df1": {
     "model_module": "@jupyter-widgets/controls",
     "model_module_version": "1.5.0",
     "model_name": "ProgressStyleModel",
     "state": {
      "_model_module": "@jupyter-widgets/controls",
      "_model_module_version": "1.5.0",
      "_model_name": "ProgressStyleModel",
      "_view_count": null,
      "_view_module": "@jupyter-widgets/base",
      "_view_module_version": "1.2.0",
      "_view_name": "StyleView",
      "bar_color": null,
      "description_width": ""
     }
    },
    "d4e107e5aede4148b70a14bd0bbce207": {
     "model_module": "@jupyter-widgets/base",
     "model_module_version": "1.2.0",
     "model_name": "LayoutModel",
     "state": {
      "_model_module": "@jupyter-widgets/base",
      "_model_module_version": "1.2.0",
      "_model_name": "LayoutModel",
      "_view_count": null,
      "_view_module": "@jupyter-widgets/base",
      "_view_module_version": "1.2.0",
      "_view_name": "LayoutView",
      "align_content": null,
      "align_items": null,
      "align_self": null,
      "border": null,
      "bottom": null,
      "display": null,
      "flex": null,
      "flex_flow": null,
      "grid_area": null,
      "grid_auto_columns": null,
      "grid_auto_flow": null,
      "grid_auto_rows": null,
      "grid_column": null,
      "grid_gap": null,
      "grid_row": null,
      "grid_template_areas": null,
      "grid_template_columns": null,
      "grid_template_rows": null,
      "height": null,
      "justify_content": null,
      "justify_items": null,
      "left": null,
      "margin": null,
      "max_height": null,
      "max_width": null,
      "min_height": null,
      "min_width": null,
      "object_fit": null,
      "object_position": null,
      "order": null,
      "overflow": null,
      "overflow_x": null,
      "overflow_y": null,
      "padding": null,
      "right": null,
      "top": null,
      "visibility": null,
      "width": null
     }
    },
    "ed48a22e6a5547068e500d6ddf25eba9": {
     "model_module": "@jupyter-widgets/base",
     "model_module_version": "1.2.0",
     "model_name": "LayoutModel",
     "state": {
      "_model_module": "@jupyter-widgets/base",
      "_model_module_version": "1.2.0",
      "_model_name": "LayoutModel",
      "_view_count": null,
      "_view_module": "@jupyter-widgets/base",
      "_view_module_version": "1.2.0",
      "_view_name": "LayoutView",
      "align_content": null,
      "align_items": null,
      "align_self": null,
      "border": null,
      "bottom": null,
      "display": null,
      "flex": null,
      "flex_flow": null,
      "grid_area": null,
      "grid_auto_columns": null,
      "grid_auto_flow": null,
      "grid_auto_rows": null,
      "grid_column": null,
      "grid_gap": null,
      "grid_row": null,
      "grid_template_areas": null,
      "grid_template_columns": null,
      "grid_template_rows": null,
      "height": null,
      "justify_content": null,
      "justify_items": null,
      "left": null,
      "margin": null,
      "max_height": null,
      "max_width": null,
      "min_height": null,
      "min_width": null,
      "object_fit": null,
      "object_position": null,
      "order": null,
      "overflow": null,
      "overflow_x": null,
      "overflow_y": null,
      "padding": null,
      "right": null,
      "top": null,
      "visibility": null,
      "width": null
     }
    },
    "edffc083ccc64fc4aea4ba69e9d96e7d": {
     "model_module": "@jupyter-widgets/controls",
     "model_module_version": "1.5.0",
     "model_name": "HTMLModel",
     "state": {
      "_dom_classes": [],
      "_model_module": "@jupyter-widgets/controls",
      "_model_module_version": "1.5.0",
      "_model_name": "HTMLModel",
      "_view_count": null,
      "_view_module": "@jupyter-widgets/controls",
      "_view_module_version": "1.5.0",
      "_view_name": "HTMLView",
      "description": "",
      "description_tooltip": null,
      "layout": "IPY_MODEL_74913eb6cebe40fba5596253b7750b4f",
      "placeholder": "​",
      "style": "IPY_MODEL_ff2d2a38728d411184a4b70a143a18e4",
      "value": "Downloading (…)/main/tokenizer.json: 100%"
     }
    },
    "ef57f2af381c48d9b2044883a4197e2e": {
     "model_module": "@jupyter-widgets/base",
     "model_module_version": "1.2.0",
     "model_name": "LayoutModel",
     "state": {
      "_model_module": "@jupyter-widgets/base",
      "_model_module_version": "1.2.0",
      "_model_name": "LayoutModel",
      "_view_count": null,
      "_view_module": "@jupyter-widgets/base",
      "_view_module_version": "1.2.0",
      "_view_name": "LayoutView",
      "align_content": null,
      "align_items": null,
      "align_self": null,
      "border": null,
      "bottom": null,
      "display": null,
      "flex": null,
      "flex_flow": null,
      "grid_area": null,
      "grid_auto_columns": null,
      "grid_auto_flow": null,
      "grid_auto_rows": null,
      "grid_column": null,
      "grid_gap": null,
      "grid_row": null,
      "grid_template_areas": null,
      "grid_template_columns": null,
      "grid_template_rows": null,
      "height": null,
      "justify_content": null,
      "justify_items": null,
      "left": null,
      "margin": null,
      "max_height": null,
      "max_width": null,
      "min_height": null,
      "min_width": null,
      "object_fit": null,
      "object_position": null,
      "order": null,
      "overflow": null,
      "overflow_x": null,
      "overflow_y": null,
      "padding": null,
      "right": null,
      "top": null,
      "visibility": null,
      "width": null
     }
    },
    "f566acdf3ff941f89aa0115ed1da5542": {
     "model_module": "@jupyter-widgets/controls",
     "model_module_version": "1.5.0",
     "model_name": "HTMLModel",
     "state": {
      "_dom_classes": [],
      "_model_module": "@jupyter-widgets/controls",
      "_model_module_version": "1.5.0",
      "_model_name": "HTMLModel",
      "_view_count": null,
      "_view_module": "@jupyter-widgets/controls",
      "_view_module_version": "1.5.0",
      "_view_name": "HTMLView",
      "description": "",
      "description_tooltip": null,
      "layout": "IPY_MODEL_ed48a22e6a5547068e500d6ddf25eba9",
      "placeholder": "​",
      "style": "IPY_MODEL_0bb54eb7d13e42f8a7e4973eda2e949f",
      "value": "Downloading (…)solve/main/vocab.txt: 100%"
     }
    },
    "f6b367791e264c52b2298a90dce57abb": {
     "model_module": "@jupyter-widgets/controls",
     "model_module_version": "1.5.0",
     "model_name": "DescriptionStyleModel",
     "state": {
      "_model_module": "@jupyter-widgets/controls",
      "_model_module_version": "1.5.0",
      "_model_name": "DescriptionStyleModel",
      "_view_count": null,
      "_view_module": "@jupyter-widgets/base",
      "_view_module_version": "1.2.0",
      "_view_name": "StyleView",
      "description_width": ""
     }
    },
    "ff2d2a38728d411184a4b70a143a18e4": {
     "model_module": "@jupyter-widgets/controls",
     "model_module_version": "1.5.0",
     "model_name": "DescriptionStyleModel",
     "state": {
      "_model_module": "@jupyter-widgets/controls",
      "_model_module_version": "1.5.0",
      "_model_name": "DescriptionStyleModel",
      "_view_count": null,
      "_view_module": "@jupyter-widgets/base",
      "_view_module_version": "1.2.0",
      "_view_name": "StyleView",
      "description_width": ""
     }
    }
   }
  }
 },
 "nbformat": 4,
 "nbformat_minor": 4
}
