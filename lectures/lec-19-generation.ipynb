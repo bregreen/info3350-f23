{
  "cells": [
    {
      "cell_type": "markdown",
      "metadata": {
        "id": "Rzt6rNDAE_Rj"
      },
      "source": [
        "# INFO 3350/6350\n",
        "\n",
        "## Lecture 19: Zero-shot learning\n",
        "\n",
        "## To do\n",
        "\n",
        "* Week 14: No new reading\n",
        "* PS5 in flight\n",
        "  * Due Thursday, 11/30 (the week after Thanksgiving), at 11:59pm\n",
        "* Final exam/project to be released by Thanksgiving\n",
        "  * Due Saturday, December 9, at **noon** per Registrar"
      ]
    },
    {
      "cell_type": "markdown",
      "metadata": {
        "id": "Tq34y2T2Wy2H"
      },
      "source": [
        "# Zero-shot learning\n",
        "\n",
        "Our goal is to learn what **zero-shot** (and few-shot) **learning** is, how to do it, and how to evaluate different prompting strategies.\n",
        "\n",
        "## What is zero-shot learning and how is it different from fine-tuning?\n",
        "\n",
        "In lecture 16, we saw how to **fine-tune** an existing pretrained language model by changing its weights in response to a new task. In contrast, the **zero-shot** paradigm leaves model weights untouched. This makes it much faster than fine-tuning, though zero-shot accuracy is sometimes lower.\n",
        "\n",
        "In the zero-shot paradigm, the main idea is to construct an input to the model and then compare which label is most likely, all without changing model parameters. And since there's no training (i.e. changing model parameters), there's no train/test split. All data is treated as evaluation data here.\n",
        "\n",
        "## Example task: predicting genre of a reviewed book\n",
        "\n",
        "Let's consider the book review genre classification task.  In this book review task, an *example* consists of a review's text, and its *label* is the genre of the book. Here's a sample example in the dataset:\n",
        "```\n",
        "This series is quite seriously a joke\n",
        "in the realm of vampire novels. Even\n",
        "though it's targeted for a young\n",
        "audience, there's really no excuse for\n",
        "this poorly done series...\n",
        "```\n",
        "Its corresponding label is `fantasy`.\n",
        "\n",
        "With zero-shot learning, we can't just feed examples into an LM the way we could with fine-tuning. We need to add additional text to the beginning and/or end of an example because the model's parameters are not being changed. The **prompt** (also called a **template**) is all the extra text that we add around an example in order to get a useful output from an LLM. We'll see several different prompts and prompting strategies below.\n",
        "\n",
        "With the current generation of powerful generative language models, this paradigm will often be the first thing to try when evaluating a new task."
      ]
    },
    {
      "cell_type": "markdown",
      "metadata": {
        "id": "1GqrQJdq1W15"
      },
      "source": [
        "## Setup"
      ]
    },
    {
      "cell_type": "markdown",
      "metadata": {
        "id": "zNANyy8V2uyv"
      },
      "source": [
        "### Setup: choose a runtime with a GPU\n",
        "\n",
        "You need a GPU to run the code below. If you don't have one, you will get an error like: `RuntimeError: Found no NVIDIA driver on your system.`\n",
        "\n"
      ]
    },
    {
      "cell_type": "markdown",
      "metadata": {
        "id": "3VYubr3K2a-6"
      },
      "source": [
        "### Setup: install and import packages"
      ]
    },
    {
      "cell_type": "code",
      "execution_count": 1,
      "metadata": {
        "colab": {
          "base_uri": "https://localhost:8080/"
        },
        "id": "yJ29BPYL2eSh",
        "outputId": "4ae5e04f-009f-479e-dcaa-1312dc0a041a"
      },
      "outputs": [
        {
          "output_type": "stream",
          "name": "stdout",
          "text": [
            "Requirement already satisfied: sentencepiece in /usr/local/lib/python3.10/dist-packages (0.1.99)\n",
            "Requirement already satisfied: transformers in /usr/local/lib/python3.10/dist-packages (4.35.2)\n",
            "Requirement already satisfied: filelock in /usr/local/lib/python3.10/dist-packages (from transformers) (3.13.1)\n",
            "Requirement already satisfied: huggingface-hub<1.0,>=0.16.4 in /usr/local/lib/python3.10/dist-packages (from transformers) (0.19.3)\n",
            "Requirement already satisfied: numpy>=1.17 in /usr/local/lib/python3.10/dist-packages (from transformers) (1.23.5)\n",
            "Requirement already satisfied: packaging>=20.0 in /usr/local/lib/python3.10/dist-packages (from transformers) (23.2)\n",
            "Requirement already satisfied: pyyaml>=5.1 in /usr/local/lib/python3.10/dist-packages (from transformers) (6.0.1)\n",
            "Requirement already satisfied: regex!=2019.12.17 in /usr/local/lib/python3.10/dist-packages (from transformers) (2023.6.3)\n",
            "Requirement already satisfied: requests in /usr/local/lib/python3.10/dist-packages (from transformers) (2.31.0)\n",
            "Requirement already satisfied: tokenizers<0.19,>=0.14 in /usr/local/lib/python3.10/dist-packages (from transformers) (0.15.0)\n",
            "Requirement already satisfied: safetensors>=0.3.1 in /usr/local/lib/python3.10/dist-packages (from transformers) (0.4.0)\n",
            "Requirement already satisfied: tqdm>=4.27 in /usr/local/lib/python3.10/dist-packages (from transformers) (4.66.1)\n",
            "Requirement already satisfied: fsspec>=2023.5.0 in /usr/local/lib/python3.10/dist-packages (from huggingface-hub<1.0,>=0.16.4->transformers) (2023.6.0)\n",
            "Requirement already satisfied: typing-extensions>=3.7.4.3 in /usr/local/lib/python3.10/dist-packages (from huggingface-hub<1.0,>=0.16.4->transformers) (4.5.0)\n",
            "Requirement already satisfied: charset-normalizer<4,>=2 in /usr/local/lib/python3.10/dist-packages (from requests->transformers) (3.3.2)\n",
            "Requirement already satisfied: idna<4,>=2.5 in /usr/local/lib/python3.10/dist-packages (from requests->transformers) (3.4)\n",
            "Requirement already satisfied: urllib3<3,>=1.21.1 in /usr/local/lib/python3.10/dist-packages (from requests->transformers) (2.0.7)\n",
            "Requirement already satisfied: certifi>=2017.4.17 in /usr/local/lib/python3.10/dist-packages (from requests->transformers) (2023.7.22)\n"
          ]
        }
      ],
      "source": [
        "# Install packages that we need\n",
        "!pip install sentencepiece\n",
        "!pip install transformers"
      ]
    },
    {
      "cell_type": "code",
      "execution_count": 2,
      "metadata": {
        "id": "LQmMMX-eHmgF"
      },
      "outputs": [],
      "source": [
        "# Import packages\n",
        "\n",
        "# For downloading data\n",
        "import gdown\n",
        "# For working with JSON files\n",
        "import json\n",
        "# For working with LMs\n",
        "from transformers import T5Tokenizer, T5ForConditionalGeneration\n",
        "import torch\n",
        "import numpy as np\n",
        "import pandas as pd\n",
        "import random\n",
        "# For status bars\n",
        "from tqdm.notebook import tqdm\n",
        "# To display markdown\n",
        "from IPython.display import display, Markdown"
      ]
    },
    {
      "cell_type": "markdown",
      "metadata": {
        "id": "mt0d_lQL3Ccc"
      },
      "source": [
        "### Load the model\n",
        "\n",
        "We'll use **FLAN-T5 Large** for our genre-prediction task. FLAN-T5 is a generative encoder-decoder model. If you are interested in other models, you can download others from Hugging Face, such as [Falcon-7b-instruct](https://huggingface.co/tiiuae/falcon-7b-Instruct) or [Llama 2](https://huggingface.co/meta-llama/Llama-2-7b-hf)."
      ]
    },
    {
      "cell_type": "code",
      "execution_count": 3,
      "metadata": {
        "colab": {
          "base_uri": "https://localhost:8080/"
        },
        "id": "jNLe0iz13ECv",
        "outputId": "2381e053-3e04-4c8c-cffc-ec2b0346979f"
      },
      "outputs": [
        {
          "output_type": "stream",
          "name": "stderr",
          "text": [
            "You are using the default legacy behaviour of the <class 'transformers.models.t5.tokenization_t5.T5Tokenizer'>. This is expected, and simply means that the `legacy` (previous) behavior will be used so nothing changes for you. If you want to use the new behaviour, set `legacy=False`. This should only be set if you understand what it means, and thouroughly read the reason why this was added as explained in https://github.com/huggingface/transformers/pull/24565\n",
            "Special tokens have been added in the vocabulary, make sure the associated word embeddings are fine-tuned or trained.\n"
          ]
        }
      ],
      "source": [
        "# Load the model\n",
        "device = \"cuda\"\n",
        "model_id = \"google/flan-t5-large\"\n",
        "model_filename_string = 'flan-t5-large'\n",
        "model_string = 'FLAN-T5 Large'\n",
        "model = T5ForConditionalGeneration.from_pretrained(model_id).to(device)\n",
        "tokenizer = T5Tokenizer.from_pretrained(model_id)"
      ]
    },
    {
      "cell_type": "markdown",
      "metadata": {
        "id": "Z8_Scqt0O3Ae"
      },
      "source": [
        "## Language models predict the next word"
      ]
    },
    {
      "cell_type": "markdown",
      "metadata": {
        "id": "NPySNFtqVQpK"
      },
      "source": [
        "Before we get to how to set up zero-shot learning, let's use a simplified example to see how it works.\n",
        "\n",
        "Pretrained language models take as input a sentence (give or take; perhaps much more text) and produce the most likely next token.\n",
        "\n",
        "We can see a simple example when we ask the language model for the most likely token that follows the phrase: `\"A cerulean warbler is a kind of \"`. The token \"bird\" is the [factually correct answer](https://www.allaboutbirds.org/guide/Cerulean_Warbler/overview), so we can hope that the token \"bird\" will be the most likely.\n",
        "\n",
        "The following code takes as input a string of text and returns the top 4 predicted next tokens. The important part is that it takes in a sentence and outputs which tokens are most likely according to the model."
      ]
    },
    {
      "cell_type": "code",
      "execution_count": 4,
      "metadata": {
        "id": "vxSk1WYhsjG9"
      },
      "outputs": [],
      "source": [
        "# Give the model text as input, and get the top k predictions for the next token\n",
        "def get_top_k_token_predictions(text, k=4):\n",
        "  inputs = tokenizer(text, return_tensors=\"pt\")\n",
        "  input_ids = inputs.input_ids.to(device)\n",
        "  decoder_inputs = tokenizer(\"<pad>\", return_tensors=\"pt\")\n",
        "  decoder_input_ids = decoder_inputs.input_ids.to(device)\n",
        "  with torch.no_grad():\n",
        "    outputs = model(input_ids=input_ids, decoder_input_ids=decoder_input_ids)\n",
        "\n",
        "  # Get the probability distribution over next tokens\n",
        "  #print('Logits layer shape:', outputs.logits.shape) # print shape of output logits\n",
        "  logits = outputs.logits[0, -1, :].cpu()\n",
        "  probabilities = logits.softmax(dim=0).numpy()\n",
        "  top_k_token_ids = np.argsort(probabilities)[::-1][1:k+1]\n",
        "  print('Top four predictions for next token:')\n",
        "  for i, token_id in enumerate(top_k_token_ids):\n",
        "    print(f'  {probabilities[token_id]:.4f} probability: {tokenizer.decode(token_id)} (token ID {token_id})')"
      ]
    },
    {
      "cell_type": "code",
      "execution_count": 5,
      "metadata": {
        "colab": {
          "base_uri": "https://localhost:8080/"
        },
        "id": "-3UER5xsagXR",
        "outputId": "5962c56d-ce1d-4625-8d3b-9f4e094e67f3"
      },
      "outputs": [
        {
          "output_type": "stream",
          "name": "stdout",
          "text": [
            "Top four predictions for next token:\n",
            "  0.1145 probability: bird (token ID 5963)\n",
            "  0.0910 probability: fly (token ID 3971)\n",
            "  0.0776 probability: fish (token ID 2495)\n",
            "  0.0466 probability: snake (token ID 17599)\n"
          ]
        }
      ],
      "source": [
        "get_top_k_token_predictions(\"A cerulean warbler is a kind of \")"
      ]
    },
    {
      "cell_type": "markdown",
      "metadata": {
        "id": "ybPm_B57sued"
      },
      "source": [
        "The top prediction is the word \"bird\", as we hoped! The other top words are all nouns.\n",
        "\n",
        "But what happens when we have a question that isn't immediately answered by the model's next token? For example, say we want to know what color a cerulean warbler is, and we give the model as input `\"A cerulean warbler is \"`:\n",
        "\n"
      ]
    },
    {
      "cell_type": "code",
      "execution_count": 6,
      "metadata": {
        "colab": {
          "base_uri": "https://localhost:8080/"
        },
        "id": "VgiBMPWXzepb",
        "outputId": "a944b309-ed0d-4df7-ce91-31a8c53f3918"
      },
      "outputs": [
        {
          "output_type": "stream",
          "name": "stdout",
          "text": [
            "Top four predictions for next token:\n",
            "  0.1209 probability: weave (token ID 21938)\n",
            "  0.0636 probability: bird (token ID 5963)\n",
            "  0.0570 probability: </s> (token ID 1)\n",
            "  0.0550 probability: war (token ID 615)\n"
          ]
        }
      ],
      "source": [
        "get_top_k_token_predictions(\"A cerulean warbler is \")"
      ]
    },
    {
      "cell_type": "markdown",
      "metadata": {
        "id": "AbYvA7MDzkYc"
      },
      "source": [
        "Not one of the top four predictions is even a color! This input text is less specific than the first one we tried--it's not clear what kind of word should follow the text here. We can get around this by comparing the likelihoods of specific words. Run the following code to get the likelihoods of the two options \"red\", or \"blue\":"
      ]
    },
    {
      "cell_type": "code",
      "execution_count": 7,
      "metadata": {
        "id": "2WbEKdfByPhY"
      },
      "outputs": [],
      "source": [
        "def get_probability_of_specific_words(text, words):\n",
        "  inputs = tokenizer(text, return_tensors=\"pt\")\n",
        "  input_ids = inputs.input_ids.to(device)\n",
        "  decoder_inputs = tokenizer(\"<pad>\", return_tensors=\"pt\")\n",
        "  decoder_input_ids = decoder_inputs.input_ids.to(device)\n",
        "  with torch.no_grad():\n",
        "    outputs = model(input_ids=input_ids, decoder_input_ids=decoder_input_ids)\n",
        "  logits = outputs.logits[0, -1, :].cpu()\n",
        "  probabilities = logits.softmax(dim=0).numpy()\n",
        "  for word in words:\n",
        "    token_id = tokenizer.encode(word)[0]\n",
        "    print(f'  {probabilities[token_id]:.8f} probability: {word} (token ID {token_id})')"
      ]
    },
    {
      "cell_type": "code",
      "execution_count": 8,
      "metadata": {
        "colab": {
          "base_uri": "https://localhost:8080/"
        },
        "id": "IwK9l_Zvv8fF",
        "outputId": "2aa58f03-ad89-4e58-f9d2-ae1a85a9343c"
      },
      "outputs": [
        {
          "output_type": "stream",
          "name": "stdout",
          "text": [
            "  0.00002273 probability: red (token ID 1131)\n",
            "  0.00249429 probability: blue (token ID 1692)\n"
          ]
        }
      ],
      "source": [
        "choices = ['red', 'blue']\n",
        "get_probability_of_specific_words(\"A cerulean warbler is \", choices)"
      ]
    },
    {
      "cell_type": "markdown",
      "metadata": {
        "id": "6_q-Hzkpy6lq"
      },
      "source": [
        "Even though neither \"blue\" nor \"red\" is among the most likely next tokens, the model assigns more probability to \"blue\" than to \"red\". In fact, the model places more than 100 times as much probability on \"blue\" than on \"red\"! So in this more limited evaluation, we can say that the model chose the correct answer.\n",
        "\n",
        "We can combine this process of comparing likelihoods of specific answers with changing the text that we use as input to the model."
      ]
    },
    {
      "cell_type": "markdown",
      "metadata": {
        "id": "I2HjqH3Ixh5i"
      },
      "source": [
        "## How to set up a zero-shot evaluation"
      ]
    },
    {
      "cell_type": "markdown",
      "metadata": {
        "id": "oY5NH8FgQFu8"
      },
      "source": [
        "Let's consider the book review task that was introduced in lecture 16."
      ]
    },
    {
      "cell_type": "code",
      "execution_count": 9,
      "metadata": {
        "id": "TdsYMKRHcvEi"
      },
      "outputs": [],
      "source": [
        "# Download prepared book review data\n",
        "texts_url = 'https://drive.google.com/uc?id=1qEZ3k9fZa_KITSQtFlhHq7zImUbBYCY2'\n",
        "labels_url = 'https://drive.google.com/uc?id=1d-6abYwcwKfbYYdVH7mys7IeF4j9BMXP'\n",
        "texts_filename = 'book_review_texts.json'\n",
        "labels_filename = 'book_review_labels.json'\n",
        "gdown.download(texts_url, texts_filename, quiet=True)\n",
        "gdown.download(labels_url, labels_filename, quiet=True)\n",
        "# And now load the data\n",
        "with open(texts_filename, 'r') as f:\n",
        "  all_texts = json.load(f)\n",
        "with open(labels_filename, 'r') as f:\n",
        "  all_labels = json.load(f)"
      ]
    },
    {
      "cell_type": "markdown",
      "metadata": {
        "id": "4wthDjFFcypW"
      },
      "source": [
        "We've seen what an **example** (also called a document) is before. In this book review task, an example consists of a review's text, and its **label** is the genre of the book. Here's a sample example in the dataset:\n",
        "```\n",
        "This series is quite seriously a joke\n",
        "in the realm of vampire novels. Even\n",
        "though it's targeted for a young\n",
        "audience, there's really no excuse for\n",
        "this poorly done series...\n",
        "```\n",
        "Its corresponding label is `fantasy`.\n",
        "\n",
        "But we can't just feed examples into an LM the way we could with fine-tuning. With **zero-shot learning**, we need to add additional text to the beginning and/or end of an example because the model's parameters are not being changed.\n",
        "\n",
        "The **prompt** is all the extra text that we add around an example in order to get a useful output from an LLM. We'll see several different prompts throughout this part of the tutorial."
      ]
    },
    {
      "cell_type": "markdown",
      "metadata": {
        "id": "tCWQ4dBy6joU"
      },
      "source": [
        "### Construct a dataset and task: `history/biography` vs. `poetry`"
      ]
    },
    {
      "cell_type": "markdown",
      "metadata": {
        "id": "vlPVxr68dD1c"
      },
      "source": [
        "**Constructing the dataset and task**\n",
        "\n",
        "For this task, we'll limit ourselves just to reviews of books in two genres: `history/biography` and `poetry`. We'll try to tell them apart.\n",
        "\n",
        "First, we'll select just 100 documents that are labeled with `history_biography` or `poetry` ..."
      ]
    },
    {
      "cell_type": "code",
      "execution_count": 10,
      "metadata": {
        "id": "lr6mEdpCuA-C"
      },
      "outputs": [],
      "source": [
        "# This function keeps only the first n examples that are\n",
        "# labeled with either label_1 or label_2 (with 50% from each label)\n",
        "def subsample_two_classes(all_texts, all_labels, label_1, label_2, n):\n",
        "  # Convert to numpy array for easier indexing\n",
        "  all_texts = np.array(all_texts)\n",
        "  all_labels = np.array(all_labels)\n",
        "  # Take the first n/2 examples from each class in order to have a balanced task\n",
        "  idxs_label_1 = np.where(all_labels == label_1)[0].tolist()\n",
        "  idxs_label_2 = np.where(all_labels == label_2)[0].tolist()\n",
        "  n_each_class = int(n/2)\n",
        "  idxs_label_1 = idxs_label_1[:n_each_class]\n",
        "  idxs_label_2 = idxs_label_2[:n_each_class]\n",
        "  subset_idxs = idxs_label_1 + idxs_label_2\n",
        "  # Shuffle the order of examples\n",
        "  random.shuffle(subset_idxs)\n",
        "  # Actually select the indexes and return the\n",
        "  subset_texts = list(all_texts[subset_idxs])\n",
        "  subset_labels = list(all_labels[subset_idxs])\n",
        "  return subset_texts, subset_labels"
      ]
    },
    {
      "cell_type": "code",
      "execution_count": 11,
      "metadata": {
        "id": "_7vzXUmm6jQo"
      },
      "outputs": [],
      "source": [
        "# Now take only book reviews for books in these two genres\n",
        "task_texts, task_labels = subsample_two_classes(all_texts, all_labels,\n",
        "                                                'history_biography', 'poetry',\n",
        "                                                n=100)"
      ]
    },
    {
      "cell_type": "markdown",
      "metadata": {
        "id": "agZkJ0glIKbk"
      },
      "source": [
        "The labels are currently called `history_biography` and `poetry`. The actual names of the labels matter in this zero-shot setting because we are evaluating the likelihood of each (unlike in the fine-tuning paradigm, where the names do not matter). Let's replace the unwieldy underscore with a slash so that `history_biography` becomes `history/biography`."
      ]
    },
    {
      "cell_type": "code",
      "execution_count": 12,
      "metadata": {
        "id": "bEoN_oUfz5J-"
      },
      "outputs": [],
      "source": [
        "# Map the original label to a new name for that label\n",
        "# We will evaluate with the new name\n",
        "original_label_to_new_name = {\n",
        "    'history_biography': 'history/biography',\n",
        "    'poetry': 'poetry',\n",
        "}\n",
        "# This is the list of choices the model will evaluate\n",
        "#possible_choices = ['history/biography', 'poetry']\n",
        "possible_choices = list(original_label_to_new_name.values())\n",
        "\n",
        "# This function renames the labels\n",
        "def rename_labels(labels, label_dict):\n",
        "  return [label_dict[l] for l in labels]\n",
        "\n",
        "# Now call the function to rename history_biography to history/biography\n",
        "task_labels = rename_labels(task_labels, original_label_to_new_name)"
      ]
    },
    {
      "cell_type": "markdown",
      "metadata": {
        "id": "KDHPV9pfPLOj"
      },
      "source": [
        "### How to set up evaluation for a single example"
      ]
    },
    {
      "cell_type": "markdown",
      "metadata": {
        "id": "pGNzhedLTuu0"
      },
      "source": [
        "\n",
        "\n",
        "Let's start evaluating the model's performance on the task of telling book review genres apart, and let's do so by evaluating a single example.\n",
        "\n",
        "An important choice here is the **prompt**. A prompt is a kind of template that maps an example to a specific text input for the language model. We'll shortly see some examples.\n",
        "\n",
        "There are several steps we need to implement for evaluation:\n",
        "\n",
        "1. Choose a prompt\n",
        "2. Choose an example\n",
        "3. Create a prompted example that we will give as input to the model\n",
        "4. Get the model's *loss* for each possible choice of continuation that we are evaluating. Loss is a measure of how likely the continuation is.\n",
        "5. Determine if the correct answer has the *lowest* loss. If it does, then we say the model classified the example correctly. If it doesn't, then we say the model classified the example incorrectly."
      ]
    },
    {
      "cell_type": "markdown",
      "metadata": {
        "id": "CPSrV1hZL-Km"
      },
      "source": [
        "***1. Choose a prompt***\n",
        "\n",
        "First, let's try a prompt that explicitly states the question. A prompt is also called a **template** because it provides a formula for taking an example's text and the possible choices and producing an input to the model. It is essentially a pattern with gaps, carefully structured so that likely continuations will be relevant. A prompt is necessary because we don't expect the next word after an example to be particularly meaningful.\n",
        "\n",
        "Here's an example prompt for the book review genre prediction task:\n",
        "\n",
        "```\n",
        "Which genre of book is the following review about?\n",
        "Review: <text>\n",
        "Choices: <choice 1> or <choice 2>\n",
        "Answer:\n",
        "```\n",
        "\n",
        "The following function takes as input an example's text and the allowable choices that we are evaluating. It outputs the **prompted example**, which is what we will call the combination of a template filled in with an example's text."
      ]
    },
    {
      "cell_type": "code",
      "execution_count": 13,
      "metadata": {
        "id": "RcjF8ct5WaXB"
      },
      "outputs": [],
      "source": [
        "def apply_prompt_1(text, possible_choices):\n",
        "  return f'Which genre of book is the following review about?\\nReview: {text}\\nChoices: {possible_choices[0]} or {possible_choices[1]}\\nAnswer:'"
      ]
    },
    {
      "cell_type": "markdown",
      "metadata": {
        "id": "6W_5LJPhYf3b"
      },
      "source": [
        "***2. Choose an example***\n",
        "\n",
        "Let's use the following example in this section:"
      ]
    },
    {
      "cell_type": "code",
      "execution_count": 14,
      "metadata": {
        "id": "SIyratBeUOdx"
      },
      "outputs": [],
      "source": [
        "text = \"I am doing some preliminary research and decided to start with Shakespeare.\"\n",
        "label = \"history/biography\""
      ]
    },
    {
      "cell_type": "markdown",
      "metadata": {
        "id": "pxZOfLajYteN"
      },
      "source": [
        "***3. Apply the prompt***\n",
        "\n",
        "Here's the same example after the prompt has been applied:\n",
        "\n",
        "```\n",
        "Which genre of book is the following review about?\n",
        "Review: I am doing some preliminary research and decided to start with Shakespeare.\n",
        "Choices: history/biography or poetry\n",
        "Answer:\n",
        "```"
      ]
    },
    {
      "cell_type": "code",
      "execution_count": 15,
      "metadata": {
        "id": "ZabQjG4HYxRK",
        "colab": {
          "base_uri": "https://localhost:8080/"
        },
        "outputId": "f621097d-1eb0-4989-ee5e-f79dc8604d56"
      },
      "outputs": [
        {
          "output_type": "stream",
          "name": "stdout",
          "text": [
            "Which genre of book is the following review about?\n",
            "Review: I am doing some preliminary research and decided to start with Shakespeare.\n",
            "Choices: history/biography or poetry\n",
            "Answer:\n"
          ]
        }
      ],
      "source": [
        "# Apply the prompt to the example\n",
        "prompted_text = apply_prompt_1(text, possible_choices)\n",
        "print(prompted_text)"
      ]
    },
    {
      "cell_type": "markdown",
      "metadata": {
        "id": "E042j1B8Y1Sw"
      },
      "source": [
        "***4. Evaluate the language model on the prompted input***\n",
        "\n",
        "First, we need to tokenize the prompted example and put the result on the GPU:"
      ]
    },
    {
      "cell_type": "code",
      "execution_count": 16,
      "metadata": {
        "id": "uxvXZMH8TtwH"
      },
      "outputs": [],
      "source": [
        "# Tokenize the input\n",
        "input = tokenizer(prompted_text, return_tensors='pt', truncation=True)\n",
        "# Put input tensors on the GPU\n",
        "input_ids = input.input_ids.to(device)"
      ]
    },
    {
      "cell_type": "markdown",
      "metadata": {
        "id": "SV5wai6Daugn"
      },
      "source": [
        "Our goal is to determine which possible label the model places more probability on. Hopefully, it places more probability on the correct choice, which in this case is `history/biography`.\n",
        "\n",
        "The key to this step is that we are actually going to query the evaluation several times: once for each possible label choice. For a given choice, we will get the model's **loss** with that choice as the proposed continuation of the prompted example. A choice with a lower loss is *more* likely. In the cerulean warbler example above, we took the model's prediction to be the word with the highest probability. Here we will equivalently define model's prediction to be the choice with the *lowest* loss.\n",
        "\n",
        "Technical note: The Hugging Face FLAN-T5 model reports loss as the normalized [cross-entropy loss](https://ml-cheatsheet.readthedocs.io/en/latest/loss_functions.html) (the standard loss function in language modeling) per number of tokens in the proposed label. This means that longer labels will not be penalized unfairly."
      ]
    },
    {
      "cell_type": "code",
      "execution_count": 17,
      "metadata": {
        "id": "_jVfDM5_VIDH"
      },
      "outputs": [],
      "source": [
        "losses_and_targets = []\n",
        "for target_pretokenized in possible_choices:\n",
        "    # Tokenize the current label choice\n",
        "    target = tokenizer(target_pretokenized, return_tensors='pt', truncation=True)\n",
        "    # Put target tensor on GPU\n",
        "    target_ids = target.input_ids.to(device)\n",
        "    with torch.no_grad():\n",
        "        # Run the prompted example through the model and get the loss of the\n",
        "        # current possible choice\n",
        "        outputs = model(input_ids, labels=target_ids)\n",
        "    loss = outputs.loss.item()\n",
        "    losses_and_targets.append((loss, target_pretokenized))"
      ]
    },
    {
      "cell_type": "markdown",
      "metadata": {
        "id": "lRIejwSnVdFr"
      },
      "source": [
        "Now we can see the model's loss for each answer:"
      ]
    },
    {
      "cell_type": "code",
      "execution_count": 18,
      "metadata": {
        "colab": {
          "base_uri": "https://localhost:8080/"
        },
        "id": "UgdTdmg2V1uZ",
        "outputId": "3e6ea8f2-beec-4126-97da-df419ecb3cdd"
      },
      "outputs": [
        {
          "output_type": "stream",
          "name": "stdout",
          "text": [
            "history/biography: 0.1607\n",
            "poetry: 0.3800\n"
          ]
        }
      ],
      "source": [
        "for loss, target in losses_and_targets:\n",
        "  print(f'{target}: {loss:.4f}')"
      ]
    },
    {
      "cell_type": "markdown",
      "metadata": {
        "id": "cl42jkcDc8hc"
      },
      "source": [
        "***5. Does the correct label have the lowest loss?***"
      ]
    },
    {
      "cell_type": "markdown",
      "metadata": {
        "id": "m3RtBlX-WFmz"
      },
      "source": [
        "The last step is to programmatically rank these targets and determine if the correct label has the lowest loss (i.e. is the most likely continuation among the choices). If it does, then the model gave a correct prediction for this promtped example. If the other label has a lower loss, then the model gave an incorrect prediction."
      ]
    },
    {
      "cell_type": "code",
      "execution_count": 19,
      "metadata": {
        "colab": {
          "base_uri": "https://localhost:8080/"
        },
        "id": "iF9QFlmLWMpY",
        "outputId": "26449607-d9c5-4fb4-acf0-dfa900d538b5"
      },
      "outputs": [
        {
          "output_type": "stream",
          "name": "stdout",
          "text": [
            "The model made a correct prediction: True\n"
          ]
        }
      ],
      "source": [
        "losses_and_targets.sort()\n",
        "lowest_loss, best_choice = losses_and_targets[0]\n",
        "correct_prediction = (best_choice == label)\n",
        "print(f'The model made a correct prediction: {correct_prediction}')"
      ]
    },
    {
      "cell_type": "markdown",
      "metadata": {
        "id": "stUPqcUSTaf0"
      },
      "source": [
        "***Putting it altogether into an evaluation function***\n",
        "\n",
        "Let's put it all together into one function that takes in a prompted example with its label and determines whether the language model places the most probability on that correct answer as the text's continuation. We'll be calling this function a lot shortly."
      ]
    },
    {
      "cell_type": "code",
      "execution_count": 20,
      "metadata": {
        "id": "bUJ0oJhgSUD_"
      },
      "outputs": [],
      "source": [
        "# This function classifies one example, determining if the model places more\n",
        "# probability on the right answer.\n",
        "# Input: an example text that has already been prompted,\n",
        "#        the corresponding label,\n",
        "#        a list of possible choices to evaluate\n",
        "#        a flag for whether to print additional info\n",
        "# Output: whether the prediction is correct (True if correct, False if incorrect)\n",
        "def classify_example(text, label, possible_choices, verbose):\n",
        "    # Print the example and label if we're in verbose mode\n",
        "    if verbose:\n",
        "      # Format the text with indents so it's easier to read when printed\n",
        "      indented_text = text.replace(\"\\n\", \"\\n\\t\")\n",
        "      print(f'Input text to the model:\\n\\t{indented_text}')\n",
        "      print(f'Label: {label}')\n",
        "    # Tokenize the input\n",
        "    input = tokenizer(text, return_tensors='pt', truncation=True)\n",
        "    # Put input tensors on the GPU\n",
        "    input_ids = input.input_ids.to(device)\n",
        "    # Compare the scores of possible targets\n",
        "    losses_and_targets = []\n",
        "    for target_pretokenized in possible_choices:\n",
        "        target = tokenizer(target_pretokenized, return_tensors='pt', truncation=True)\n",
        "        # put target tensor on GPU\n",
        "        target_ids = target.input_ids.to(device)\n",
        "        with torch.no_grad():\n",
        "            # Run the prompted example through the model\n",
        "            outputs = model(input_ids, labels=target_ids)\n",
        "        loss = outputs.loss.item()\n",
        "        losses_and_targets.append((loss, target_pretokenized))\n",
        "    # This example was classified correctly if the correct choice has the\n",
        "    # highest log-likelihood per token\n",
        "    # (we normalize by number of tokens so that longer answers aren't penalized)\n",
        "    losses_and_targets.sort()\n",
        "    _, best_choice = losses_and_targets[0]\n",
        "    if best_choice == label:\n",
        "        correct_prediction = True\n",
        "        is_correct_text = 'Correct'\n",
        "    else:\n",
        "        correct_prediction = False\n",
        "        is_correct_text = 'Wrong'\n",
        "    if verbose:\n",
        "        print(f'{is_correct_text} prediction: {best_choice}\\n')\n",
        "    # Return True if the prediction is correct, False otherwise\n",
        "    return correct_prediction"
      ]
    },
    {
      "cell_type": "markdown",
      "metadata": {
        "id": "6kBFtcGLWc47"
      },
      "source": [
        "When we run the above code on the same example, we see that we get the same answer we had before we put all the code together into a function:"
      ]
    },
    {
      "cell_type": "code",
      "execution_count": 21,
      "metadata": {
        "colab": {
          "base_uri": "https://localhost:8080/"
        },
        "id": "Xjp9W8SSWjvC",
        "outputId": "3fdffc21-bc40-4d73-8bdb-1789dccada1f"
      },
      "outputs": [
        {
          "output_type": "stream",
          "name": "stdout",
          "text": [
            "Input text to the model:\n",
            "\tWhich genre of book is the following review about?\n",
            "\tReview: I am doing some preliminary research and decided to start with Shakespeare.\n",
            "\tChoices: history/biography or poetry\n",
            "\tAnswer:\n",
            "Label: history/biography\n",
            "Correct prediction: history/biography\n",
            "\n"
          ]
        }
      ],
      "source": [
        "correct_prediction = classify_example(prompted_text, label, possible_choices, verbose=True)"
      ]
    },
    {
      "cell_type": "markdown",
      "metadata": {
        "id": "gGUWyXBFRWRz"
      },
      "source": [
        "### Evaluating a whole dataset"
      ]
    },
    {
      "cell_type": "markdown",
      "metadata": {
        "id": "cqXHSfMndlfG"
      },
      "source": [
        "\n",
        "\n",
        "We can now use the evaluation function we just built to evaluate an entire dataset instead of just a single example.\n",
        "\n",
        "We will evaluate how well the model performs on this dataset with this prompt by using simple **accuracy**, which is an appropriate for a two-class problem with evenly balanced classes. If we had imbalanced classes or multiple labels, we would want use use weighted average F1 or similar.\n",
        "\n"
      ]
    },
    {
      "cell_type": "code",
      "execution_count": 22,
      "metadata": {
        "id": "n0jQ1j1Xd07v"
      },
      "outputs": [],
      "source": [
        "# This function takes in a whole dataset of prompted examples with labels\n",
        "# And returns the accuracy\n",
        "def classify_dataset(prompted_examples, labels, possible_choices, verbose=False):\n",
        "    num_examples = len(prompted_examples)\n",
        "    correct_predictions = [] # 0 = incorrect, 1 = correct\n",
        "    for i in tqdm(range(num_examples)):\n",
        "        prompted_example = prompted_examples[i]\n",
        "        label = labels[i]\n",
        "        # Print the first five examples: this will be true if we are at\n",
        "        # the first five examples and the verbose argument was already set to true\n",
        "        verbose_example = (i < 5) & verbose\n",
        "        correct_prediction = classify_example(prompted_example, label,\n",
        "                                              possible_choices, verbose_example)\n",
        "        # Convert true/false into an integer\n",
        "        # (so we can easily get the percentage that are true)\n",
        "        correct_predictions.append(int(correct_prediction))\n",
        "    accuracy = sum(correct_predictions) / len(correct_predictions)\n",
        "    return accuracy"
      ]
    },
    {
      "cell_type": "markdown",
      "metadata": {
        "id": "6fJxIGN2e6Vx"
      },
      "source": [
        "Now we can run the function on the whole dataset. Remember that the (unprompted) dataset is stored in the variables named `task_texts` and `task_labels`."
      ]
    },
    {
      "cell_type": "code",
      "execution_count": 23,
      "metadata": {
        "colab": {
          "base_uri": "https://localhost:8080/",
          "height": 1000,
          "referenced_widgets": [
            "a259bc7f580640b5839676835135427f",
            "3012206afde04e2f972b6f61e31640f4",
            "7c94299fef10458987b553613ee5c60d",
            "c5c4ecbee9914fa78d1f5c8880812cb0",
            "6c6207c9d341464f933e6007e2e92b90",
            "c0dfbda366be4a61a9b43a329c771e50",
            "ca06bb693d404c2b968ce8d18351f814",
            "b379637f215d404188ff2b396a104894",
            "0c7eb46b9b804cd0aab1f4779eec6d5d",
            "7046325cde5847319b1f6c2f53ae7e1d",
            "70ead58950c3449babb26e965d41a9f6"
          ]
        },
        "id": "Xix8LoaWe6bt",
        "outputId": "55289c84-880f-473a-b7e4-529ae3e3ecef"
      },
      "outputs": [
        {
          "output_type": "display_data",
          "data": {
            "text/plain": [
              "<IPython.core.display.Markdown object>"
            ],
            "text/markdown": "**Prompt 1:**"
          },
          "metadata": {}
        },
        {
          "output_type": "display_data",
          "data": {
            "text/plain": [
              "  0%|          | 0/100 [00:00<?, ?it/s]"
            ],
            "application/vnd.jupyter.widget-view+json": {
              "version_major": 2,
              "version_minor": 0,
              "model_id": "a259bc7f580640b5839676835135427f"
            }
          },
          "metadata": {}
        },
        {
          "output_type": "stream",
          "name": "stdout",
          "text": [
            "Input text to the model:\n",
            "\tWhich genre of book is the following review about?\n",
            "\tReview: I am doing some preliminary research and decided to start with Shakespeare.\n",
            "\tChoices: history/biography or poetry\n",
            "\tAnswer:\n",
            "Label: history/biography\n",
            "Correct prediction: history/biography\n",
            "\n",
            "Input text to the model:\n",
            "\tWhich genre of book is the following review about?\n",
            "\tReview: Beautiful prose, intriguing character, immersive historical (WWII) backdrop. A masterpiece!\n",
            "\tChoices: history/biography or poetry\n",
            "\tAnswer:\n",
            "Label: history/biography\n",
            "Correct prediction: history/biography\n",
            "\n",
            "Input text to the model:\n",
            "\tWhich genre of book is the following review about?\n",
            "\tReview: During the latter part of Nero's reign, a number of prominent Romans were implicated in a conspiracy to kill Nero and install Gaius Calpurnius Piso as emperor. Among these were Lucan, a famous poet, and Seneca, a philosopher and Nero's tutor when he was young. This novel is a collection of communications mostly between Tigellinus, the head of the Praetorian Guard and Paenus, a tribune of the Secret Police. Also included are intercepted letters between Seneca and Lucan, who was Seneca's nephew. Quite a few of the \"conspirators\" were executed or forced to commit suicide, and others were exiled. I really like epistolary novels, and this was a good one. Although I do wonder that Tigellinus and Paenus would spend so much time writing to each other; you'd think most of their communications would have been face-to-face.\n",
            "\tChoices: history/biography or poetry\n",
            "\tAnswer:\n",
            "Label: history/biography\n",
            "Correct prediction: history/biography\n",
            "\n",
            "Input text to the model:\n",
            "\tWhich genre of book is the following review about?\n",
            "\tReview: BEAUTIFUL, ABSOLUTELY OUTSTANDING...\n",
            "\tChoices: history/biography or poetry\n",
            "\tAnswer:\n",
            "Label: poetry\n",
            "Wrong prediction: history/biography\n",
            "\n",
            "Input text to the model:\n",
            "\tWhich genre of book is the following review about?\n",
            "\tReview: mbdy'y .. qr@ hdh lktb knt 'wl mn nSyH@ l'stdh bll fDl f~ Hdythh `n rwyt bmwq f~ ktbh ljmyl f~ 'HDn lktb wknt nSyHth h~ dkhwl `lm bmwq lthr~ wlbdy` mn khll hdh lktb \n",
            "\t thny : kn l~ Hdyth m` 'Hd l'Sdq Hwl 'db lsyr@ ldhty@ wqrth , qlt n n l'fDl qr@ '`ml lktb wlkhtm ykwn bsyrth ldhtyh wql hw 'n lbd bh 'fDl \"qr' `n lktb wHyth b`dyn qr'lh \" \n",
            "\t wll'mn@ b`d lnth mn hdh lktb bd't 'myl bshkl kbyr l~ qwl lSdyq .. \n",
            "\t 'db lsyr@ ldhtyh bshkl `m 'db thr~ jd blmnf`h wlfy'dh nhyk `n 'nh sbyl hm jd lfhm 'db lktb w'b`dh bshkl 'kthr `mq l 'nh mn lmdhsh 'n tjls mstryH lt'khdh khbrt 'Hd m dhq lwylt lblwG mqSdh , Hy@ b'kmlh tqdm lk `l~ Tbq mn dhhb lt'khdh mn fwy'dh wmnf`h .. \n",
            "\t Hdyth bmwq mdhsh , rGm Hznh wnZrth lswdwy@ lmdynth l 'nh Hdyth jdhb wmthyr , Hdythh `n sTnbwl lHzynh byn lmjd lDy'` wltrykh l`ryq wbyn Hlth lqy'mh wlt~ `br `nh b'nh kn yr~ mdynth Hzynh k'nh \"byD wswd \" , lHdyth `n 'db sTnbwl lHzn~ ldhyn t'thr bhm bmwq jd wktb `n mdynth mstmd \"Hznh\" mn Hywthm lby's@ , lHdyth `n b`D lmw'rkhyn ldhyn nlt sTnbwl lkthyr mn ktbthm , lHdyth `n b`D fnn~ lqrn lts` `shr wl`shryn wnSyb sTnbwl mn jdrythm lry'`h wl`Zym@ , lHdyth `n lbwsfwr wmrwr lshHnt mnh .. f~ Hdyth bmwq `n lbwsfwr wdhkryth m`h sHr wllh ! \n",
            "\t kl dhlk kn hm blnsbh ly .. kn \"mmyz \" l'nh j f~ SlH rGbt~ lqr@ hdhh lsyr , t`rft `l~ smt wlHZt lmHt kthyr@ f~ Hdyth bmwq `n mdynth blt'kyd stj`l qr@ rwyth 'mr mkhtlf , lkn qym@ lktb l`Zm~ knt f~ Hdythh `n nfsh .. \n",
            "\t d`n ntfq 'wl `l~ sh~ , lktb mhm kn `Zym wmmyz mn mkhtlf lnwH~ l yrq~ 'bd lqym@ lktb w lrwy@ 'w '~ sh~ tTl` `lyh tjd fyh shbh mnk , tlk l'shy lt~ tHmlh bdkhlk , tlk l`Tfh wdhlk lsh`wr lqb` bdkhlk wldh~ n'khdh `nh fkr@ 'nh Hbys f~ lnfs l ydry `nh 'Hd '~ sh~ , - l bd mn wjwd b`D mn hdhh l'shy bdkhln - Hynm tjd 'Hdhm yshrkk hdh \"lsh~ \" Ht~ lw bdwn bd '~ Hlwl .. fqT mfhwm \"lmshrk@ \" blHdyth yj`l l'mr mthyr jd .. `l~ l'ql blnsbh l~ \n",
            "\t bkhtSr hdh m Hdth m`~ f~ jzy'yt Hdyth bmwq `n nfsh \n",
            "\t lywm , wbyn 'Swt l'Sdq wDjyjhm , Swt lmhnds@ l`l~ wlHdyth `n \"lGz \" .. sh`rt bmll shdyd f'khdht jnb wnfrdt bhdh lktb , 'thn lqrh knt 'sh`r b'n lkl yrqbn~ , knt '`tqd tmm 'n Hdyth bmwq .. tlk lsTwr lt~ '`ydh 'kthr mn mrh ln~ wjdt lkthyr mn~ fyh , 'sh`r wk'n bmwq wqf qry' bSwt `l~ byn lzml wl'Sdq .. tmlkn~ sh`wr 'nn~ knt Hml sr `Zym wbmwq 'fshh lmn Hwl~ whm ln ynZrwn Hwlhm nZr@ l`rfyn bkl sh~ , 'rf` r's~ .. 'nZr Hwl~ lkl mntbh lHdyth lmHDr@ .. 'dfn r's~ mr@ 'khr~ bHrS byn klmt bmwq .. hkdh Zl lHl Ht~ nthyt mn lktb \n",
            "\t nthyt mn ktb~ w'drkt 'nh mn 'kthr lktb lt~ kshft l~ dht~ w\"fDHtn~ \" mm nfs~ , '`tqd 'nh Gy@ lqr@ l`Zm~ mhm khtlft lsbl wlTrq , Hdyth bmwq lSdq .. bshkl 'w bakhr 'wSln~ lkhby bnfs~ amnt tmm bjhl~ bh .. \n",
            "\t rbm l tkn syr@ mlhm@ 'w `Zym@ , rbm tstHq lfZ \"mmyz@ \" fqT `l~ lmstw~ l`m lkn blnsb@ l~ knt Hdyth bmwq lh 'thr `Zym f~ nfs~ , rGm kl sh~ .. 'Hbbth jd\n",
            "\tChoices: history/biography or poetry\n",
            "\tAnswer:\n",
            "Label: history/biography\n",
            "Correct prediction: history/biography\n",
            "\n"
          ]
        },
        {
          "output_type": "display_data",
          "data": {
            "text/plain": [
              "<IPython.core.display.Markdown object>"
            ],
            "text/markdown": "**Prompt 1 accuracy: 76.00%**"
          },
          "metadata": {}
        }
      ],
      "source": [
        "# First prompt the examples\n",
        "task_texts_prompt_1 = [apply_prompt_1(t, possible_choices) for t in task_texts]\n",
        "display(Markdown('**Prompt 1:**'))\n",
        "# Then evaluate\n",
        "accuracy = classify_dataset(task_texts_prompt_1, task_labels,\n",
        "                                       possible_choices, verbose=True)\n",
        "# Print the accuracy\n",
        "display(Markdown(f'**Prompt 1 accuracy: {accuracy*100:.2f}%**'))"
      ]
    },
    {
      "cell_type": "markdown",
      "metadata": {
        "id": "QhmljbSrl_jt"
      },
      "source": [
        "**The language model achieves 76% accuracy on this task with this prompt.**\n",
        "\n",
        "**Random baseline:** How well could we expect to do on this task if we guessed labels uniformly at random (i.e., if we guessed `poetry` half of the time and `history/biography` the other half of the time)? Since the dataset's labels are split evenly between the two classes, this random baseline would achieve 50% accuracy on average. So the language model is well above random chance performance with this prompt.\n",
        "\n",
        "We're now in a position to easily change the prompt and see how performance changes."
      ]
    },
    {
      "cell_type": "markdown",
      "metadata": {
        "id": "rIUXCVosD9D2"
      },
      "source": [
        "### Changing the prompt impacts task performance\n",
        "\n",
        "The ingredients we have for an evaluation so far are:\n",
        "\n",
        "- the model (FLAN-T5 Large)\n",
        "- the dataset (Goodreads book reviews)\n",
        "- the task (classifying history/biography reviews against poetry reviews)\n",
        "- the label names (`history/biography` vs. `poetry`)\n",
        "- the prompt (`Which genre of book is the following review about?\n",
        "Review: <text>\n",
        "Choices: <choice 1> or <choice 2>\n",
        "Answer:`)\n",
        "\n",
        "We're now going to change *just* the prompt and see whether performance changes above or below the 76% accuracy that this prompt affords. Everything else (the model, dataset, and task) will be kept the same. This is easy and quick in the zero-shot classification setting because there is no re-training or re-fine-tuning step. We just have to change the prompted examples that we give as input to the model.\n",
        "\n",
        "We might have just gotten lucky with the first prompt that we chose. Let's try four new prompt variants.\n",
        "\n",
        "Here is the example input under the different prompts:\n",
        "\n",
        "**Prompt 2:**\n",
        "```\n",
        "Review: I am doing some preliminary research and decided to start with Shakespeare.\n",
        "Choices: history/biography or poetry\n",
        "Genre:\n",
        "```\n",
        "\n",
        "**Prompt 3:**\n",
        "```\n",
        "Review: I am doing some preliminary research and decided to start with Shakespeare.\n",
        "Genre:\n",
        "```\n",
        "\n",
        "**Prompt 4:**\n",
        "```\n",
        "Review: I am doing some preliminary research and decided to start with Shakespeare.\n",
        "Which genre of book is the review about?\n",
        "```\n",
        "\n",
        "**Prompt 5:**\n",
        "```\n",
        "Review: I am doing some preliminary research and decided to start with Shakespeare.\n",
        "Choices: history/biography or poetry\n",
        "Answer:\n",
        "```\n",
        "\n",
        "Run the following code to get the results for these prompts. It will take a minute or two to run.\n"
      ]
    },
    {
      "cell_type": "code",
      "execution_count": 24,
      "metadata": {
        "colab": {
          "base_uri": "https://localhost:8080/",
          "height": 487,
          "referenced_widgets": [
            "0b817c813e1d40ad95048459626bafd5",
            "cf2a2bf323764448820c3fc3c564b851",
            "15c04c9c5e2b404faa6f1f1e66bfc9b2",
            "aec129e0a88f4e9d95cb4328d7e57e32",
            "19981b5699fc43efa044071c87fc8fe6",
            "f7f4d830dfc148908974666e315b5598",
            "758d6038a9c34bf79b5ff0a57209b94b",
            "7998cf643a35446c8b650afdfbba65f0",
            "ba1af6a4388340f28f8911afe5333127",
            "5cdb5c5caa2341c3b7caea81fb1360b9",
            "848e93058ca4414a8ab5035a003cf60f",
            "8e021f167ed7499e8c1653e4135f93ea",
            "44a14a62abfb4ac680b3a35053df960a",
            "02edcff8e0594d72822b995af192389a",
            "6b4081731fdf4e7aa769871f4aacfd6e",
            "487f679b2de044188118b4be3e4a71e5",
            "1e10657413c74ffd986c474b54e3c32c",
            "ebf09d67e18c46389b95ba1842853cb7",
            "4bd08d349b734fc084e159ad0b6ccc72",
            "43370cf1bc76473cbfb990e19b4fde6b",
            "65211264438a412c8a17b65624de4312",
            "241f5d158e3c48809201a3272fd93b47",
            "d9551270f4aa4f6f9d278e6860c824e9",
            "5a7298d345074c59828101750f8b69fe",
            "d307909db4ac429583ca3fa1e33b7b72",
            "cc7ee356299a43398814849f2136a1e0",
            "6e43e97585ec4aadbcd135d744a7599b",
            "394dfd64f859406f936bd9df4f7fe707",
            "af241c99b3c945aa877ef530f4b1f602",
            "f0e0f53ce8f44c31806899b34b4ccffe",
            "e802e77b7d244dd7888b8e9f0391bb42",
            "81b87f673b9d4bf98d7d551dd994feef",
            "a556124d553f407b901cb89b69fd2be8",
            "e2ce3fed9eab46f598fd534718826f71",
            "40964b6afbc841e79e1f50d813240a5d",
            "dde860313d5c4037a0352c17f669be32",
            "7711680bc0a4465d9f2de3c953bea012",
            "499ca827fdd6404aa0ba76152520fdd9",
            "a9349cdc6e4449d499ed570171b1044d",
            "85c34363c6b844b39bc03ed7a7642b30",
            "f5b520035d58449db6836695732b7814",
            "20444868bbc5476eb40d1026cc8cc007",
            "1735fb54344e41c191d3324464e97369",
            "1f07ac0e876b49f7b6af0df94a782089"
          ]
        },
        "id": "frYQqgUxGSkC",
        "outputId": "6c98231c-15dd-41e6-990e-b8c2e01709ce"
      },
      "outputs": [
        {
          "output_type": "display_data",
          "data": {
            "text/plain": [
              "<IPython.core.display.Markdown object>"
            ],
            "text/markdown": "**Prompt 2:**"
          },
          "metadata": {}
        },
        {
          "output_type": "display_data",
          "data": {
            "text/plain": [
              "  0%|          | 0/100 [00:00<?, ?it/s]"
            ],
            "application/vnd.jupyter.widget-view+json": {
              "version_major": 2,
              "version_minor": 0,
              "model_id": "0b817c813e1d40ad95048459626bafd5"
            }
          },
          "metadata": {}
        },
        {
          "output_type": "display_data",
          "data": {
            "text/plain": [
              "<IPython.core.display.Markdown object>"
            ],
            "text/markdown": "**Prompt 2 accuracy: 83.00%**"
          },
          "metadata": {}
        },
        {
          "output_type": "stream",
          "name": "stdout",
          "text": [
            "\n"
          ]
        },
        {
          "output_type": "display_data",
          "data": {
            "text/plain": [
              "<IPython.core.display.Markdown object>"
            ],
            "text/markdown": "**Prompt 3:**"
          },
          "metadata": {}
        },
        {
          "output_type": "display_data",
          "data": {
            "text/plain": [
              "  0%|          | 0/100 [00:00<?, ?it/s]"
            ],
            "application/vnd.jupyter.widget-view+json": {
              "version_major": 2,
              "version_minor": 0,
              "model_id": "8e021f167ed7499e8c1653e4135f93ea"
            }
          },
          "metadata": {}
        },
        {
          "output_type": "display_data",
          "data": {
            "text/plain": [
              "<IPython.core.display.Markdown object>"
            ],
            "text/markdown": "**Prompt 3 accuracy: 75.00%**"
          },
          "metadata": {}
        },
        {
          "output_type": "stream",
          "name": "stdout",
          "text": [
            "\n"
          ]
        },
        {
          "output_type": "display_data",
          "data": {
            "text/plain": [
              "<IPython.core.display.Markdown object>"
            ],
            "text/markdown": "**Prompt 4:**"
          },
          "metadata": {}
        },
        {
          "output_type": "display_data",
          "data": {
            "text/plain": [
              "  0%|          | 0/100 [00:00<?, ?it/s]"
            ],
            "application/vnd.jupyter.widget-view+json": {
              "version_major": 2,
              "version_minor": 0,
              "model_id": "d9551270f4aa4f6f9d278e6860c824e9"
            }
          },
          "metadata": {}
        },
        {
          "output_type": "display_data",
          "data": {
            "text/plain": [
              "<IPython.core.display.Markdown object>"
            ],
            "text/markdown": "**Prompt 4 accuracy: 71.00%**"
          },
          "metadata": {}
        },
        {
          "output_type": "stream",
          "name": "stdout",
          "text": [
            "\n"
          ]
        },
        {
          "output_type": "display_data",
          "data": {
            "text/plain": [
              "<IPython.core.display.Markdown object>"
            ],
            "text/markdown": "**Prompt 5:**"
          },
          "metadata": {}
        },
        {
          "output_type": "display_data",
          "data": {
            "text/plain": [
              "  0%|          | 0/100 [00:00<?, ?it/s]"
            ],
            "application/vnd.jupyter.widget-view+json": {
              "version_major": 2,
              "version_minor": 0,
              "model_id": "e2ce3fed9eab46f598fd534718826f71"
            }
          },
          "metadata": {}
        },
        {
          "output_type": "display_data",
          "data": {
            "text/plain": [
              "<IPython.core.display.Markdown object>"
            ],
            "text/markdown": "**Prompt 5 accuracy: 80.00%**"
          },
          "metadata": {}
        },
        {
          "output_type": "stream",
          "name": "stdout",
          "text": [
            "\n",
            "CPU times: user 1min 4s, sys: 6.34 s, total: 1min 11s\n",
            "Wall time: 1min 13s\n"
          ]
        }
      ],
      "source": [
        "%%time\n",
        "# First define the prompt template functions\n",
        "\n",
        "def apply_prompt_2(text, possible_choices):\n",
        "  return f'Review: {text}\\nChoices: {possible_choices[0]} or {possible_choices[1]}\\nGenre:'\n",
        "\n",
        "def apply_prompt_3(text, possible_choices):\n",
        "  return f'Review: {text}\\nGenre:'\n",
        "\n",
        "def apply_prompt_4(text, possible_choices):\n",
        "  return f'\\nReview: {text}\\nWhich genre of book is the review about?'\n",
        "\n",
        "def apply_prompt_5(text, possible_choices):\n",
        "  return f'Review: {text}\\nChoices: {possible_choices[0]} or {possible_choices[1]}\\nAnswer:'\n",
        "\n",
        "# Now evaluate all four of the new prompts\n",
        "for prompt_num, prompt_fn in zip([2, 3, 4, 5],\n",
        "                                 [apply_prompt_2, apply_prompt_3, apply_prompt_4, apply_prompt_5]):\n",
        "  display(Markdown(f'**Prompt {prompt_num}:**'))\n",
        "  task_texts_prompt = [prompt_fn(t, possible_choices) for t in task_texts]\n",
        "  accuracy = classify_dataset(task_texts_prompt, task_labels,\n",
        "                              possible_choices, verbose=False)\n",
        "  # Print the accuracy, followed by an empty line break\n",
        "  display(Markdown(f'**Prompt {prompt_num} accuracy: {accuracy*100:.2f}%**'))\n",
        "  print()"
      ]
    },
    {
      "cell_type": "markdown",
      "metadata": {
        "id": "GCvIrvodH86k"
      },
      "source": [
        "Prompt 2 achieves the highest accuracy, of 85%. All five prompts do pretty well, but prompt 2 does the best. This is just like the original prompt 1 that we tried, but the final word in the prompted examples is `Genre:` rather than `Answer:`. Even small changes like this can impact zero-shot performance! That's why it's important to try several different prompt templates."
      ]
    },
    {
      "cell_type": "markdown",
      "metadata": {
        "id": "75P5zNWqSwJI"
      },
      "source": [
        "**How much does prompting actually help?**\n",
        "\n",
        "We've seen that prompting achieves relatively high accuracy. How well would the model perform without any prompting at all? What if we just input the raw example text to the model, in the same way that we could if we were fine-tuning the model?\n",
        "\n",
        "Here, the original example will be unchanged. Our running example becomes simply:\n",
        "`I am doing some preliminary research and decided to start with Shakespeare.` It is then input to the model with no additional text.\n",
        "\n",
        "Let's find out how well this works!"
      ]
    },
    {
      "cell_type": "code",
      "execution_count": 25,
      "metadata": {
        "colab": {
          "base_uri": "https://localhost:8080/",
          "height": 108,
          "referenced_widgets": [
            "18a22a0d7a274b73a3a862b2cbe5f1e8",
            "90bee716f32e4a1bac20d5f5a11ae1e5",
            "120326d5e7024515934f65719029c184",
            "2172300a0a214ba7b368bbbe9f546fc8",
            "db8f1bc5a77046439cd93bff27a6d601",
            "0c9de012f1844390a072078da0133fbe",
            "ed1cec493e634aae9580b6e9e13d6041",
            "d50ef04c105746a3ad3ce305b045a129",
            "03d991ff72954eb1b04f4387ea5679f7",
            "885f4f3398de49efb7c72416d1177d32",
            "447695ddd1304dac962dfd2869d3a6dc"
          ]
        },
        "id": "3W3d3W87iHpl",
        "outputId": "23fca1e0-13aa-466e-99b6-b13efd82451e"
      },
      "outputs": [
        {
          "output_type": "display_data",
          "data": {
            "text/plain": [
              "<IPython.core.display.Markdown object>"
            ],
            "text/markdown": "**Original text:**"
          },
          "metadata": {}
        },
        {
          "output_type": "display_data",
          "data": {
            "text/plain": [
              "  0%|          | 0/100 [00:00<?, ?it/s]"
            ],
            "application/vnd.jupyter.widget-view+json": {
              "version_major": 2,
              "version_minor": 0,
              "model_id": "18a22a0d7a274b73a3a862b2cbe5f1e8"
            }
          },
          "metadata": {}
        },
        {
          "output_type": "display_data",
          "data": {
            "text/plain": [
              "<IPython.core.display.Markdown object>"
            ],
            "text/markdown": "**Original text accuracy: 59.00%**"
          },
          "metadata": {}
        }
      ],
      "source": [
        "# Evaluate without prompting the examples\n",
        "display(Markdown('**Original text:**'))\n",
        "accuracy = classify_dataset(task_texts, task_labels,\n",
        "                            possible_choices, verbose=False)\n",
        "display(Markdown(f'**Original text accuracy: {accuracy*100:.2f}%**'))"
      ]
    },
    {
      "cell_type": "markdown",
      "metadata": {
        "id": "DwNKErDBS5L_"
      },
      "source": [
        "**Final results:** Using the original text without a prompt only achieves 59% accuracy. All prompts do better than random guessing (50% accuracy) but prompt 2 still achieves the highest accuracy.\n",
        "\n",
        "\n",
        "| Prompt number | Prompt template | Accuracy |\n",
        "|:------:|:--------|:----:|\n",
        "| 1 | `Which genre of book is the following review about?`<br/>`Review: <text>`<br/>`Choices: <choice 1> or <choice 2>`<br/>`Answer:` |76%|\n",
        "| 2 | `Review: <text>`<br/>`Choices: <choice 1> or <choice 2>`<br/>`Genre:` | 83%|\n",
        "| 3 | `Review: <text>`<br/>`Genre:` | 75%|\n",
        "| 4 | `Review: <text>`<br/>`Which genre of book is the review about?`|71%|\n",
        "| 5 | `Review: <text>`<br/>`Choices: <choice 1> or <choice 2>`<br/>`Answer:`| 80%|\n",
        "| Original text | `<text>` | 59% |\n",
        "| Random baseline | n/a | 50% |\n",
        "\n",
        "**Takeaway:** When you are doing zero-shot classification, the choice of prompt can make a **big** difference in performance. We haven't tried all possible prompts, so it may be possible to do even better at this task--experiment and find out!\n",
        "\n"
      ]
    },
    {
      "cell_type": "markdown",
      "metadata": {
        "id": "q4prZa4yNyZZ"
      },
      "source": [
        "### Changing the dataset/task: `fantasy_paranormal` vs. `romance`"
      ]
    },
    {
      "cell_type": "markdown",
      "metadata": {
        "id": "BqjwSXTjOIu0"
      },
      "source": [
        "Remember that the ingredients we have for an evaluation so far are:\n",
        "\n",
        "- the model\n",
        "- the dataset\n",
        "- the task\n",
        "- the label names\n",
        "- the prompt\n",
        "\n",
        "Now let's do the same process of trying out different prompts with a different dataset and task combination. Say that we're interested in the differences between fantasy and romance books instead of the differences between history/biography and poetry. We will do the following:\n",
        "\n",
        "1. Pick new book reviews that are labeled as fantasy and romance\n",
        "2. Rerun the evaluation code on the new dataset/task with the same prompts as before.\n",
        "\n",
        "\n",
        "We'll try to classify reviews as either `fantasy` or `romance`. We'll use the same prompts as above on just the reviews of books in these two genres. We can even reuse all our code!"
      ]
    },
    {
      "cell_type": "code",
      "execution_count": 26,
      "metadata": {
        "id": "59jGWnV-NyZa"
      },
      "outputs": [],
      "source": [
        "# First take 100 book reviews of fantasy and romance books\n",
        "task_texts, task_labels = subsample_two_classes(all_texts, all_labels,\n",
        "                                                'fantasy_paranormal', 'romance',\n",
        "                                                n=100)\n",
        "# Convert labels\n",
        "original_label_to_new_name = {\n",
        "    'fantasy_paranormal': 'fantasy',\n",
        "    'romance': 'romance',\n",
        "}\n",
        "# This is the list of choices the model will evaluate\n",
        "possible_choices = list(original_label_to_new_name.values())\n",
        "# Now call the function to rename fantasy_paranormal to fantasy\n",
        "task_labels = rename_labels(task_labels, original_label_to_new_name)"
      ]
    },
    {
      "cell_type": "code",
      "execution_count": 27,
      "metadata": {
        "id": "dosEXKxpjBpd",
        "colab": {
          "base_uri": "https://localhost:8080/",
          "height": 686,
          "referenced_widgets": [
            "cac1c62056d145eea9d1ab7109c0e6e4",
            "f9cd998bafeb4965aba5cda13ef0df96",
            "65ac8a832e61463581d0fab1b1b2484a",
            "6240985ac89e44b6a4fd66e53efd6b3e",
            "765aee544be64ba5b586874b411108ca",
            "5a3903819f04470faf27e2c11a64c5b5",
            "e33db9d6cd4e4bd59e347e29a6945eca",
            "88aefe43bfb2494d8c3446b765dc5771",
            "9a8d2ccb61704ac0ab893210eb366526",
            "35f654aa4aab46ad93a51c7019d7df82",
            "29d55ab93099429aa600563dcd110f1b",
            "3c7ee75d387a4831924f1f26c3a6e8da",
            "8474b76d0866467b847b255127fcfa08",
            "f3f1a0a2f87a44f28f1dee17717984a4",
            "a155ceb6e066440f91cd2afdd75b3bdb",
            "cc4c620656084d67a59894b951963089",
            "fc24b88d6ea04a61bd029ea5fafaa23b",
            "0e97876dbe664697ade8222af6f51e1a",
            "e89918737e274627b25523c523c00837",
            "c4aa69aa1f044a9d910d9f1a83338c35",
            "76314bf154074946beeac0328b44b61a",
            "28560d360fe64eefa4f4fe9505370c20",
            "a425ed270e2c4683ba627c4f224e5e93",
            "ad36ed946d144a32b1e9ea706eeae462",
            "1308f47570e44ceca8a9739b267b736b",
            "08688c9af29944d7b51c11aebc099239",
            "51274d2ea2dd41b9bd981f42e33991da",
            "d45b87f0045646639b84996be38fc2be",
            "9b35f79beb734e1ea119a46a381f08eb",
            "c306797855f04bb683320fa8ee9f7912",
            "c78555df801743bdb36b89d0867bdc8e",
            "eda3bfb1117242748ed3b26cac2a2772",
            "d5d2c3011db2453b80441904dfc3b336",
            "b08431b4076c44378634268ff2d82b8b",
            "bd770a248e54405e87b16d71fee207fa",
            "9e3f5b94126847adb265227e60afd28f",
            "f0d72522b60842cea5d5d12f201be6b7",
            "ca6b0a930bb642b78a1b1293c98083dd",
            "87465956204942ef9cee2fedfc33d734",
            "a5168dfb07c04e4c87f0515da0645fd4",
            "276cf14e01af4fe9b56e0c2f32d7114b",
            "11531e78cc574fe6955bc597660dcc1b",
            "a701d63fd7f749bca7739cde654e521f",
            "5f1a9e638f224c0990a637d9fa2cae7c",
            "4597097c5274409ba3b3d117ea421a41",
            "1e58466bd09e44ce973610fab712edd8",
            "37f9da280dfb4676b26497c10405225d",
            "b3b5e0e651024c099ccacd01a62b8879",
            "23d3c2ffc23d407ca81b312773a821c0",
            "f3f3769f855044798329da18b4819f00",
            "87f81415ca944126af0ae05e85282282",
            "57a17afc8c2d428ebf3f54323a24e5e0",
            "e80e517f3b7d4b07b52336d442366d6b",
            "fe7d3c76fc72455283f27b4387363c9d",
            "2f0038203b6f4cd3bd1e248d1cf951b6",
            "0256315c10fa4a398347383a85716530",
            "9c6086e49ad2414080e281f6cac81a4c",
            "398b7cbcae08497a90202c699cad66e6",
            "d42686a76c8d4391a3e37a0dc74868a1",
            "1cba27b0b90a496aaa525f84e4d0d6c9",
            "d0183fdbce2843f59f00f46055be1bea",
            "66804a5eb35843cdbaf1bccfc16f808f",
            "fc81c002978c4f21ae4a17f61e72254f",
            "21fc49d1b9dd4f0ea66a16359d657e68",
            "1822302b6c1b465dbb92746cb9ab3866",
            "914026265a634093b3d2db38c835ea5d"
          ]
        },
        "outputId": "ee7de8b4-eb8e-4d27-b6f9-0cddeb7a47ec"
      },
      "outputs": [
        {
          "output_type": "display_data",
          "data": {
            "text/plain": [
              "<IPython.core.display.Markdown object>"
            ],
            "text/markdown": "**Prompt 1:**"
          },
          "metadata": {}
        },
        {
          "output_type": "display_data",
          "data": {
            "text/plain": [
              "  0%|          | 0/100 [00:00<?, ?it/s]"
            ],
            "application/vnd.jupyter.widget-view+json": {
              "version_major": 2,
              "version_minor": 0,
              "model_id": "cac1c62056d145eea9d1ab7109c0e6e4"
            }
          },
          "metadata": {}
        },
        {
          "output_type": "display_data",
          "data": {
            "text/plain": [
              "<IPython.core.display.Markdown object>"
            ],
            "text/markdown": "**Prompt 1 accuracy: 72.00%**"
          },
          "metadata": {}
        },
        {
          "output_type": "stream",
          "name": "stdout",
          "text": [
            "\n"
          ]
        },
        {
          "output_type": "display_data",
          "data": {
            "text/plain": [
              "<IPython.core.display.Markdown object>"
            ],
            "text/markdown": "**Prompt 2:**"
          },
          "metadata": {}
        },
        {
          "output_type": "display_data",
          "data": {
            "text/plain": [
              "  0%|          | 0/100 [00:00<?, ?it/s]"
            ],
            "application/vnd.jupyter.widget-view+json": {
              "version_major": 2,
              "version_minor": 0,
              "model_id": "3c7ee75d387a4831924f1f26c3a6e8da"
            }
          },
          "metadata": {}
        },
        {
          "output_type": "display_data",
          "data": {
            "text/plain": [
              "<IPython.core.display.Markdown object>"
            ],
            "text/markdown": "**Prompt 2 accuracy: 65.00%**"
          },
          "metadata": {}
        },
        {
          "output_type": "stream",
          "name": "stdout",
          "text": [
            "\n"
          ]
        },
        {
          "output_type": "display_data",
          "data": {
            "text/plain": [
              "<IPython.core.display.Markdown object>"
            ],
            "text/markdown": "**Prompt 3:**"
          },
          "metadata": {}
        },
        {
          "output_type": "display_data",
          "data": {
            "text/plain": [
              "  0%|          | 0/100 [00:00<?, ?it/s]"
            ],
            "application/vnd.jupyter.widget-view+json": {
              "version_major": 2,
              "version_minor": 0,
              "model_id": "a425ed270e2c4683ba627c4f224e5e93"
            }
          },
          "metadata": {}
        },
        {
          "output_type": "display_data",
          "data": {
            "text/plain": [
              "<IPython.core.display.Markdown object>"
            ],
            "text/markdown": "**Prompt 3 accuracy: 62.00%**"
          },
          "metadata": {}
        },
        {
          "output_type": "stream",
          "name": "stdout",
          "text": [
            "\n"
          ]
        },
        {
          "output_type": "display_data",
          "data": {
            "text/plain": [
              "<IPython.core.display.Markdown object>"
            ],
            "text/markdown": "**Prompt 4:**"
          },
          "metadata": {}
        },
        {
          "output_type": "display_data",
          "data": {
            "text/plain": [
              "  0%|          | 0/100 [00:00<?, ?it/s]"
            ],
            "application/vnd.jupyter.widget-view+json": {
              "version_major": 2,
              "version_minor": 0,
              "model_id": "b08431b4076c44378634268ff2d82b8b"
            }
          },
          "metadata": {}
        },
        {
          "output_type": "display_data",
          "data": {
            "text/plain": [
              "<IPython.core.display.Markdown object>"
            ],
            "text/markdown": "**Prompt 4 accuracy: 70.00%**"
          },
          "metadata": {}
        },
        {
          "output_type": "stream",
          "name": "stdout",
          "text": [
            "\n"
          ]
        },
        {
          "output_type": "display_data",
          "data": {
            "text/plain": [
              "<IPython.core.display.Markdown object>"
            ],
            "text/markdown": "**Prompt 5:**"
          },
          "metadata": {}
        },
        {
          "output_type": "display_data",
          "data": {
            "text/plain": [
              "  0%|          | 0/100 [00:00<?, ?it/s]"
            ],
            "application/vnd.jupyter.widget-view+json": {
              "version_major": 2,
              "version_minor": 0,
              "model_id": "4597097c5274409ba3b3d117ea421a41"
            }
          },
          "metadata": {}
        },
        {
          "output_type": "display_data",
          "data": {
            "text/plain": [
              "<IPython.core.display.Markdown object>"
            ],
            "text/markdown": "**Prompt 5 accuracy: 63.00%**"
          },
          "metadata": {}
        },
        {
          "output_type": "stream",
          "name": "stdout",
          "text": [
            "\n"
          ]
        },
        {
          "output_type": "display_data",
          "data": {
            "text/plain": [
              "<IPython.core.display.Markdown object>"
            ],
            "text/markdown": "**Original text:**"
          },
          "metadata": {}
        },
        {
          "output_type": "display_data",
          "data": {
            "text/plain": [
              "  0%|          | 0/100 [00:00<?, ?it/s]"
            ],
            "application/vnd.jupyter.widget-view+json": {
              "version_major": 2,
              "version_minor": 0,
              "model_id": "0256315c10fa4a398347383a85716530"
            }
          },
          "metadata": {}
        },
        {
          "output_type": "display_data",
          "data": {
            "text/plain": [
              "<IPython.core.display.Markdown object>"
            ],
            "text/markdown": "**Original text accuracy: 63.00%**"
          },
          "metadata": {}
        },
        {
          "output_type": "stream",
          "name": "stdout",
          "text": [
            "CPU times: user 1min 37s, sys: 10.8 s, total: 1min 47s\n",
            "Wall time: 1min 50s\n"
          ]
        }
      ],
      "source": [
        "%%time\n",
        "# Now evaluate the new dataset/task with the same prompts as before\n",
        "for prompt_num, prompt_fn in zip([1, 2, 3, 4, 5, 6],\n",
        "                                 [apply_prompt_1, apply_prompt_2, apply_prompt_3,\n",
        "                                  apply_prompt_4, apply_prompt_5]):\n",
        "  display(Markdown(f'**Prompt {prompt_num}:**'))\n",
        "  task_texts_prompt = [prompt_fn(t, possible_choices) for t in task_texts]\n",
        "  accuracy = classify_dataset(task_texts_prompt, task_labels,\n",
        "                              possible_choices, verbose=False)\n",
        "  # Print the accuracy, followed by an empty line break\n",
        "  display(Markdown(f'**Prompt {prompt_num} accuracy: {accuracy*100:.2f}%**'))\n",
        "  print()\n",
        "# Also evaluate the original text\n",
        "display(Markdown('**Original text:**'))\n",
        "accuracy = classify_dataset(task_texts, task_labels,\n",
        "                            possible_choices, verbose=False)\n",
        "display(Markdown(f'**Original text accuracy: {accuracy*100:.2f}%**'))"
      ]
    },
    {
      "cell_type": "markdown",
      "metadata": {
        "id": "sAbbbpaqPP7o"
      },
      "source": [
        "**Results:** Telling these two genres apart is more difficult than the previous task. Prompt 1 achieves the highest accuracy.\n",
        "\n",
        "\n",
        "| Prompt number | Prompt template | Accuracy |\n",
        "|:------:|:--------|:----:|\n",
        "| 1 | `Which genre of book is the following review about?`<br/>`Review: <text>`<br/>`Choices: <choice 1> or <choice 2>`<br/>`Answer:` |72%|\n",
        "| 2 | `Review: <text>`<br/>`Choices: <choice 1> or <choice 2>`<br/>`Genre:` | 65%|\n",
        "| 3 | `Review: <text>`<br/>`Genre:` | 62%|\n",
        "| 4 | `Review: <text>`<br/>`Which genre of book is the review about?`|70%|\n",
        "| 5 | `Review: <text>`<br/>`Choices: <choice 1> or <choice 2>`<br/>`Answer:`| 63%|\n",
        "| Original text | `<text>` |  63%|\n",
        "| Random baseline | n/a | 50% |\n",
        "\n",
        "**Takeaway:** A different prompt works better for this task than the previous task. It's important to not just rely on a single prompt, even when the tasks are very similar. Seemingly small differences can impact performance."
      ]
    },
    {
      "cell_type": "markdown",
      "metadata": {
        "id": "QzFV3g1uPxT_"
      },
      "source": [
        "## Predicting narrative vs. non-narrative"
      ]
    },
    {
      "cell_type": "markdown",
      "metadata": {
        "id": "XZKpEnreP3ha"
      },
      "source": [
        "Let's try designing prompts for another task. This time, we'll use a dataset of texts that are labeled as either narrative or non-narrative. The [original data](https://doi.org/10.6084/m9.figshare.21656780.v1) accompanied the article \"Towards a Data-Driven Theory of Narrativity\" by Andrew Piper and Sunyam Bagga in New Literary History, 2023. We saw this dataset in lecture 18.\n",
        "\n",
        "For our evaluation ingredients, we'll be changing everything except the language model:\n",
        "- the model\n",
        "- **the dataset**\n",
        "- **the task**\n",
        "- **the label names**\n",
        "- **the prompt**"
      ]
    },
    {
      "cell_type": "markdown",
      "metadata": {
        "id": "ra6eBmfGRbYe"
      },
      "source": [
        "### Load prepared narrativity data"
      ]
    },
    {
      "cell_type": "code",
      "execution_count": 28,
      "metadata": {
        "id": "2bIUM0LSRagH"
      },
      "outputs": [],
      "source": [
        "# First download the file to the Colab runtime\n",
        "url = 'https://drive.google.com/uc?id=1gmVTLcfdzjjpr9P0x7OPjoS1hpu76t0-'\n",
        "filename = 'narrativity.csv'\n",
        "gdown.download(url, filename, quiet=True)\n",
        "# Load the data\n",
        "narrativity_df = pd.read_csv(filename)\n",
        "# Store the data in lists\n",
        "all_texts = narrativity_df['text'].tolist()\n",
        "all_labels = narrativity_df['label'].tolist()\n",
        "# Sample only the first 100 documents\n",
        "all_texts = all_texts[:100]\n",
        "all_labels = all_labels[:100]"
      ]
    },
    {
      "cell_type": "markdown",
      "metadata": {
        "id": "iNmTzAfhSNtj"
      },
      "source": [
        "### Evaluate different prompts on this dataset"
      ]
    },
    {
      "cell_type": "markdown",
      "metadata": {
        "id": "l6Ra2ywem3vM"
      },
      "source": [
        "Just like with book review genre classification, we can try different prompts. Let's use slight variations on the prompts we used for the book reviews tasks. Here is a single example prompted in the different ways. Its label is `narrative`.\n",
        "\n",
        "**Original text: raw example without additional text**\n",
        "\n",
        "```\n",
        "The year before, in 1835, it had been the right\n",
        "of states to tell postmasters to suppress\n",
        "abolitionist mailings. Now, in the last full\n",
        "year of the Jackson presidency...\n",
        "```\n",
        "\n",
        "**Prompt 1:**\n",
        "\n",
        "```\n",
        "Which genre does the following text belong to?\n",
        "Text: The year before, in 1835, it had been the right of states to tell postmasters to suppress abolitionist mailings. Now, in the last full year of the Jackson presidency...\n",
        "Choices: narrative or non-narrative\n",
        "Answer:\n",
        "```\n",
        "\n",
        "**Prompt 2:**\n",
        "\n",
        "```\n",
        "Text: The year before, in 1835, it had been the right of states to tell postmasters to suppress abolitionist mailings. Now, in the last full year of the Jackson presidency...\n",
        "Choices: narrative or non-narrative\n",
        "Answer:\n",
        "```\n",
        "\n",
        "**Prompt 3:**\n",
        "\n",
        "```\n",
        "Text: The year before, in 1835, it had been the right of states to tell postmasters to suppress abolitionist mailings. Now, in the last full year of the Jackson presidency...\n",
        "Answer:\n",
        "```\n",
        "\n",
        "**Prompt 4:**\n",
        "\n",
        "```\n",
        "Text: The year before, in 1835, it had been the right of states to tell postmasters to suppress abolitionist mailings. Now, in the last full year of the Jackson presidency...\n",
        "Which genre does this text belong to?\n",
        "```\n",
        "\n",
        "We can implement these prompts just like we did before.\n",
        "Run the following code to try all these different prompts:"
      ]
    },
    {
      "cell_type": "code",
      "execution_count": 29,
      "metadata": {
        "id": "_WrQI1YQoWKE",
        "colab": {
          "base_uri": "https://localhost:8080/",
          "height": 578,
          "referenced_widgets": [
            "d7856be2ee364c70b2aaf234a54fe6db",
            "f9e080cd5245459985ac9ab7ed29ca3b",
            "fa791df39df241f89c256eddee721c01",
            "dd2715bbdba24de79726f928667480f9",
            "80d49ad9c4274dd283da37fd2600b836",
            "4a9df1b9e37d45dea883a9280bd631bd",
            "693418198bfe4fde8a2b31fc3624ebe8",
            "aca0c68869074fb7b839f7cdee78b599",
            "e5ebb5d838184b0fa0dc6600fc69694e",
            "c58085ac07f44a9c95ad407936863b2f",
            "a896541d293c47f6a8a887f5394a7e69",
            "cdbcbda14ab4439082fd8f9fe903be95",
            "1e6c7bf2ad7e403f94b5fe17d078cf8e",
            "382140aca5dc4342bb6406335237f3bd",
            "fe3127417eb148c29914c8b6613d889d",
            "6a316488552742e2a87948f936d076f5",
            "0335417acb1743f79ff51598224015e1",
            "7e70681aba824d4fb2b35031f9984d1e",
            "105e24fca2ba4c549433b9e784186c90",
            "72a982ea4b694246af30f16c38a3b2a1",
            "da3a7bb843e1491e8a9bfc97e97cc6a4",
            "2a6e6f7f57894a58a02885a41316d4a1",
            "6bbde2f36fee41b4bba14e56b210d131",
            "bcec49a58b9c451fa57ed74ae446d096",
            "5356bc8433b34fc1ab206870315f8a92",
            "ba6c9933d30c420d81841de58d9db32b",
            "b85fd09b7b31411babe9c75db4d7601b",
            "5e6b477781fc473b833d73d17baeecc3",
            "caf04f6108974bcd9fa2aa2c30327e65",
            "3f60e69ec77347a2a11aba8385a49e86",
            "82505ca554af4d86ae39efddf3d2e420",
            "bc84838fc23a43649a8299aaf9529be3",
            "55fb0192123349acaf2b0c892d281e34",
            "11d748d624444fcf8df251c125a1896d",
            "c7fe092daf0f47e0be7e7387b0f9fa20",
            "85be72a7f85248c99c7e6e2c1fca1468",
            "e6da05d90fa940cbb508e1b2bdc84540",
            "d867973d57e7434b919bee72eec9976c",
            "56c8d3465be24b4fbd40570d9630e61c",
            "6b9ed0d0822c42c88af3932e3dab8ec0",
            "b4d6b8619a7a4ad4b1143d896ecad668",
            "76a6cacff7ef403c9270c775f163b438",
            "505580a4cb014176ba73c06e04257c37",
            "42d101aaa90b4ac098a5b63b2241b226",
            "7454b590541740449e387ba97a96ba88",
            "e1252f42f2d24efb8a1a0872be350ffa",
            "30dd17142058458eae7af3c32ec6330c",
            "a0300d92c9d14140a41197d5680d97e1",
            "b93db431a71f44b6a144d6972946df58",
            "cf112032e7204c4e8b15e2f2ea6b30a2",
            "dbc5b23324264c3c9fdf79ba93b3d9e2",
            "ab3dcafa73eb43f897a9a314fe7218b1",
            "6289860ff47845dc9b77f0db6b6b569c",
            "d9f9a62e3b3c4c95b280be262a637f0c",
            "940052441c844a0dbbbe87b89338e780"
          ]
        },
        "outputId": "9117f38f-e8d2-4dec-d81b-1ca174b8f891"
      },
      "outputs": [
        {
          "output_type": "display_data",
          "data": {
            "text/plain": [
              "<IPython.core.display.Markdown object>"
            ],
            "text/markdown": "**Prompt 1:**"
          },
          "metadata": {}
        },
        {
          "output_type": "display_data",
          "data": {
            "text/plain": [
              "  0%|          | 0/100 [00:00<?, ?it/s]"
            ],
            "application/vnd.jupyter.widget-view+json": {
              "version_major": 2,
              "version_minor": 0,
              "model_id": "d7856be2ee364c70b2aaf234a54fe6db"
            }
          },
          "metadata": {}
        },
        {
          "output_type": "display_data",
          "data": {
            "text/plain": [
              "<IPython.core.display.Markdown object>"
            ],
            "text/markdown": "**Prompt 1 accuracy: 49.00%**"
          },
          "metadata": {}
        },
        {
          "output_type": "stream",
          "name": "stdout",
          "text": [
            "\n"
          ]
        },
        {
          "output_type": "display_data",
          "data": {
            "text/plain": [
              "<IPython.core.display.Markdown object>"
            ],
            "text/markdown": "**Prompt 2:**"
          },
          "metadata": {}
        },
        {
          "output_type": "display_data",
          "data": {
            "text/plain": [
              "  0%|          | 0/100 [00:00<?, ?it/s]"
            ],
            "application/vnd.jupyter.widget-view+json": {
              "version_major": 2,
              "version_minor": 0,
              "model_id": "cdbcbda14ab4439082fd8f9fe903be95"
            }
          },
          "metadata": {}
        },
        {
          "output_type": "display_data",
          "data": {
            "text/plain": [
              "<IPython.core.display.Markdown object>"
            ],
            "text/markdown": "**Prompt 2 accuracy: 75.00%**"
          },
          "metadata": {}
        },
        {
          "output_type": "stream",
          "name": "stdout",
          "text": [
            "\n"
          ]
        },
        {
          "output_type": "display_data",
          "data": {
            "text/plain": [
              "<IPython.core.display.Markdown object>"
            ],
            "text/markdown": "**Prompt 3:**"
          },
          "metadata": {}
        },
        {
          "output_type": "display_data",
          "data": {
            "text/plain": [
              "  0%|          | 0/100 [00:00<?, ?it/s]"
            ],
            "application/vnd.jupyter.widget-view+json": {
              "version_major": 2,
              "version_minor": 0,
              "model_id": "6bbde2f36fee41b4bba14e56b210d131"
            }
          },
          "metadata": {}
        },
        {
          "output_type": "display_data",
          "data": {
            "text/plain": [
              "<IPython.core.display.Markdown object>"
            ],
            "text/markdown": "**Prompt 3 accuracy: 50.00%**"
          },
          "metadata": {}
        },
        {
          "output_type": "stream",
          "name": "stdout",
          "text": [
            "\n"
          ]
        },
        {
          "output_type": "display_data",
          "data": {
            "text/plain": [
              "<IPython.core.display.Markdown object>"
            ],
            "text/markdown": "**Prompt 4:**"
          },
          "metadata": {}
        },
        {
          "output_type": "display_data",
          "data": {
            "text/plain": [
              "  0%|          | 0/100 [00:00<?, ?it/s]"
            ],
            "application/vnd.jupyter.widget-view+json": {
              "version_major": 2,
              "version_minor": 0,
              "model_id": "11d748d624444fcf8df251c125a1896d"
            }
          },
          "metadata": {}
        },
        {
          "output_type": "display_data",
          "data": {
            "text/plain": [
              "<IPython.core.display.Markdown object>"
            ],
            "text/markdown": "**Prompt 4 accuracy: 63.00%**"
          },
          "metadata": {}
        },
        {
          "output_type": "stream",
          "name": "stdout",
          "text": [
            "\n"
          ]
        },
        {
          "output_type": "display_data",
          "data": {
            "text/plain": [
              "<IPython.core.display.Markdown object>"
            ],
            "text/markdown": "**Original text:**"
          },
          "metadata": {}
        },
        {
          "output_type": "display_data",
          "data": {
            "text/plain": [
              "  0%|          | 0/100 [00:00<?, ?it/s]"
            ],
            "application/vnd.jupyter.widget-view+json": {
              "version_major": 2,
              "version_minor": 0,
              "model_id": "7454b590541740449e387ba97a96ba88"
            }
          },
          "metadata": {}
        },
        {
          "output_type": "display_data",
          "data": {
            "text/plain": [
              "<IPython.core.display.Markdown object>"
            ],
            "text/markdown": "**Original text accuracy: 50.00%**"
          },
          "metadata": {}
        },
        {
          "output_type": "stream",
          "name": "stdout",
          "text": [
            "CPU times: user 1min 19s, sys: 6.14 s, total: 1min 25s\n",
            "Wall time: 1min 27s\n"
          ]
        }
      ],
      "source": [
        "%%time\n",
        "possible_choices = ['narrative', 'non-narrative']\n",
        "\n",
        "def apply_prompt_1(text, possible_choices):\n",
        "  return f'Which genre does the following text belong to?\\nText: {text}\\nChoices: {possible_choices[0]} or {possible_choices[1]}\\nAnswer:'\n",
        "\n",
        "def apply_prompt_2(text, possible_choices):\n",
        "  return f'Text: {text}\\nChoices: {possible_choices[0]} or {possible_choices[1]}\\nAnswer:'\n",
        "\n",
        "def apply_prompt_3(text, possible_choices):\n",
        "  return f'Text: {text}\\nAnswer:'\n",
        "\n",
        "def apply_prompt_4(text, possible_choices):\n",
        "  return f'\\Text: {text}\\nWhich genre does this text belong to?'\n",
        "\n",
        "for prompt_num, prompt_fn in zip([1, 2, 3, 4],\n",
        "                                 [apply_prompt_1, apply_prompt_2,\n",
        "                                  apply_prompt_3, apply_prompt_4]):\n",
        "  display(Markdown(f'**Prompt {prompt_num}:**'))\n",
        "  all_texts_prompt = [prompt_fn(t, possible_choices) for t in all_texts]\n",
        "  accuracy = classify_dataset(all_texts_prompt, all_labels,\n",
        "                              possible_choices, verbose=False)\n",
        "  # Print the accuracy, followed by an empty line break\n",
        "  display(Markdown(f'**Prompt {prompt_num} accuracy: {accuracy*100:.2f}%**'))\n",
        "  print()\n",
        "\n",
        "# Also evaluate the original text\n",
        "display(Markdown('**Original text:**'))\n",
        "accuracy = classify_dataset(all_texts, all_labels,\n",
        "                            possible_choices, verbose=False)\n",
        "display(Markdown(f'**Original text accuracy: {accuracy*100:.2f}%**'))"
      ]
    },
    {
      "cell_type": "markdown",
      "metadata": {
        "id": "yV0EfN7PxhOC"
      },
      "source": [
        "**Results:** Prompt 2 performs the best.\n",
        "\n",
        "| Prompt number | Prompt text | Accuracy |\n",
        "|:-------------:|:------------|:--------:|\n",
        "| 1 | `Which genre does the following text belong to?`<br/>`Text: <text>`<br/>`Choices: <choice 1> or <choice 2>`<br/>`Answer:` | 49% |\n",
        "| 2 | `Text: <text>`<br/>`Choices: <choice 1> or <choice 2>`<br/>`Answer:` | 75% |\n",
        "| 3 | `Text: <text>`<br/>`Answer:` | 50% |\n",
        "| 4 | `Text: <text>`<br/>`Which genre does this text belong to?` | 63% |\n",
        "| Original text | `<text>` | 50% |\n",
        "| Random baseline | n/a | 50% |\n",
        "\n",
        "There's even more variation in performance among the prompts for this task. While most prompts performed similarly for book review genre classification, only two of them did better than random chance on this narrative detection task."
      ]
    },
    {
      "cell_type": "markdown",
      "metadata": {
        "id": "DjAM4cXrmyU3"
      },
      "source": [
        "### Changing the names of labels can impact performance, too\n",
        "\n",
        "Instead of directly comparing the probabilities of the words `narrative` and `non-narrative`, we can turn this task into a Yes or No question. Of the ingredients for an evaluation, we'll be changing the label names here. This also means slightly changing the prompts, too, to deal with the new label names:\n",
        "\n",
        "- the model\n",
        "- the dataset\n",
        "- the task\n",
        "- **the label names**\n",
        "- **the prompt**\n",
        "\n",
        "The following code converts the the `narrative label` to `Yes` and the `non-narrative` label to `No`:"
      ]
    },
    {
      "cell_type": "code",
      "execution_count": 30,
      "metadata": {
        "id": "mBQEnkR6oivv"
      },
      "outputs": [],
      "source": [
        "original_label_to_new_name = {\n",
        "    'narrative': 'Yes',\n",
        "    'non-narrative': 'No',\n",
        "}\n",
        "# This is the list of choices the model will evaluate\n",
        "possible_choices = list(original_label_to_new_name.values())\n",
        "# Now call the function to rename fantasy_paranormal to fantasy\n",
        "all_labels = rename_labels(all_labels, original_label_to_new_name)"
      ]
    },
    {
      "cell_type": "markdown",
      "metadata": {
        "id": "aRFSSSDmqSx3"
      },
      "source": [
        "Now we can adapt the previous prompts to be a yes or no question, and evaluate the new prompts:"
      ]
    },
    {
      "cell_type": "code",
      "execution_count": 31,
      "metadata": {
        "id": "IF9Pr2KSsv5v",
        "colab": {
          "base_uri": "https://localhost:8080/",
          "height": 578,
          "referenced_widgets": [
            "b9c40bc9ab544386bf5837490901c8a1",
            "ed4cfaec7a104b99a5e601c591a61d58",
            "295475edf2a845138a91bb25dcfce527",
            "146158c312ce41d1b52c105aadff933b",
            "0c45355ff8cd43138f8c330a8ad99fd1",
            "92d8474cce2f4a1dbb69937798f9b951",
            "f9c879f6168f400ca5e1958e021491fd",
            "c5ab508594664e249f31a81191fd5e66",
            "b0148d4378984a2fa04e645e7f816b8c",
            "bda21484b0bf483289912beb62cd83cb",
            "c1876239a6b44c498949fed1a71020ad",
            "014dfcddb7e542fd818c8810f68b930a",
            "b4c5955c21e649ecaa8e1501b3838f45",
            "915331547c214ddb943f39c0c6b3b28a",
            "b766bcc9b8084b38a846665dc7cee506",
            "e300e09284fa4974b850141320e37c2e",
            "9a8787b0ee304df989ba6814e2404a8d",
            "2fe983e6b8664a8c98870933fc702efe",
            "721239b65ae94497b904bb1785e98e79",
            "56f11b15faa44257a15c18f60044d58d",
            "2e2c97ec6399418eb0e6c8e583359054",
            "f43fa709650a46e4b789253a5f8be915",
            "a7eec23c86c742438c0ff49757894f28",
            "792276d71839404b8c637c92e636fe1c",
            "bcc90dd4f4884aef858d8267ee6b80b3",
            "905cd1aa1739402f97b3b3f5c4045d4a",
            "b7f6922fe1e64a88a55402ca35aef434",
            "20d8202c114f43bc94b52a7932af646c",
            "f84f5a11e0f74993bab84e2a3a98bcd4",
            "2330ab4df5c84ffc88f9ed5a2c4207c9",
            "894afa0ae5ee4162b582d64481f66f28",
            "f3e5aa0daa7a4ceda0b917f2b016b7eb",
            "3769f170e0644c86ba5403ab18393c40",
            "dc0c12351aff4e32a29c1faeb60703ad",
            "c145b5fa29724b2a9960ab1cdd105f19",
            "de7c9be0cac04c1f91ced6215124b6fd",
            "ae444dc1e91547f386af51f3368d9a48",
            "1b1b4a6c02e6495baddd4ac10118e0a2",
            "3d24bdb891a44379ad8cee3b717fddf7",
            "88a773f4eca54994bb38add3ab10e196",
            "7717de36f3a24107be3445ad507632bf",
            "2175c23a07054409a9e26c96e3d44135",
            "60441696cece480f86194b293c489c53",
            "aa83bba5f2344f14b17ecdc84d27607a",
            "a6b1183c314c4950ab855a479225c915",
            "ec533409acc14b49b2f8f8ca89bb9d10",
            "786dfc16423c429c9450615aaacc2ae8",
            "b4c562be125244598a2bb907a429a5cb",
            "c52f02055e794279a13829c766f2e5df",
            "c67207356cc247f0990cda90d5a3f26f",
            "fe9d7808032e485fb3c28734aadc896c",
            "68b64e3e4ea24620bf502c6e8315cce3",
            "7c2868a721c54e89a5a2f61ddaa271a1",
            "c7345b7039924703bb489d0666e459c1",
            "6969e5cd7b2545c4b58e8b358ee1637d"
          ]
        },
        "outputId": "c6500321-13a4-4cb3-f9a7-8523d208b244"
      },
      "outputs": [
        {
          "output_type": "display_data",
          "data": {
            "text/plain": [
              "<IPython.core.display.Markdown object>"
            ],
            "text/markdown": "**Prompt 1:**"
          },
          "metadata": {}
        },
        {
          "output_type": "display_data",
          "data": {
            "text/plain": [
              "  0%|          | 0/100 [00:00<?, ?it/s]"
            ],
            "application/vnd.jupyter.widget-view+json": {
              "version_major": 2,
              "version_minor": 0,
              "model_id": "b9c40bc9ab544386bf5837490901c8a1"
            }
          },
          "metadata": {}
        },
        {
          "output_type": "display_data",
          "data": {
            "text/plain": [
              "<IPython.core.display.Markdown object>"
            ],
            "text/markdown": "**Prompt 1 accuracy: 54.00%**"
          },
          "metadata": {}
        },
        {
          "output_type": "stream",
          "name": "stdout",
          "text": [
            "\n"
          ]
        },
        {
          "output_type": "display_data",
          "data": {
            "text/plain": [
              "<IPython.core.display.Markdown object>"
            ],
            "text/markdown": "**Prompt 2:**"
          },
          "metadata": {}
        },
        {
          "output_type": "display_data",
          "data": {
            "text/plain": [
              "  0%|          | 0/100 [00:00<?, ?it/s]"
            ],
            "application/vnd.jupyter.widget-view+json": {
              "version_major": 2,
              "version_minor": 0,
              "model_id": "014dfcddb7e542fd818c8810f68b930a"
            }
          },
          "metadata": {}
        },
        {
          "output_type": "display_data",
          "data": {
            "text/plain": [
              "<IPython.core.display.Markdown object>"
            ],
            "text/markdown": "**Prompt 2 accuracy: 47.00%**"
          },
          "metadata": {}
        },
        {
          "output_type": "stream",
          "name": "stdout",
          "text": [
            "\n"
          ]
        },
        {
          "output_type": "display_data",
          "data": {
            "text/plain": [
              "<IPython.core.display.Markdown object>"
            ],
            "text/markdown": "**Prompt 3:**"
          },
          "metadata": {}
        },
        {
          "output_type": "display_data",
          "data": {
            "text/plain": [
              "  0%|          | 0/100 [00:00<?, ?it/s]"
            ],
            "application/vnd.jupyter.widget-view+json": {
              "version_major": 2,
              "version_minor": 0,
              "model_id": "a7eec23c86c742438c0ff49757894f28"
            }
          },
          "metadata": {}
        },
        {
          "output_type": "display_data",
          "data": {
            "text/plain": [
              "<IPython.core.display.Markdown object>"
            ],
            "text/markdown": "**Prompt 3 accuracy: 49.00%**"
          },
          "metadata": {}
        },
        {
          "output_type": "stream",
          "name": "stdout",
          "text": [
            "\n"
          ]
        },
        {
          "output_type": "display_data",
          "data": {
            "text/plain": [
              "<IPython.core.display.Markdown object>"
            ],
            "text/markdown": "**Prompt 4:**"
          },
          "metadata": {}
        },
        {
          "output_type": "display_data",
          "data": {
            "text/plain": [
              "  0%|          | 0/100 [00:00<?, ?it/s]"
            ],
            "application/vnd.jupyter.widget-view+json": {
              "version_major": 2,
              "version_minor": 0,
              "model_id": "dc0c12351aff4e32a29c1faeb60703ad"
            }
          },
          "metadata": {}
        },
        {
          "output_type": "display_data",
          "data": {
            "text/plain": [
              "<IPython.core.display.Markdown object>"
            ],
            "text/markdown": "**Prompt 4 accuracy: 50.00%**"
          },
          "metadata": {}
        },
        {
          "output_type": "stream",
          "name": "stdout",
          "text": [
            "\n"
          ]
        },
        {
          "output_type": "display_data",
          "data": {
            "text/plain": [
              "<IPython.core.display.Markdown object>"
            ],
            "text/markdown": "**Original text:**"
          },
          "metadata": {}
        },
        {
          "output_type": "display_data",
          "data": {
            "text/plain": [
              "  0%|          | 0/100 [00:00<?, ?it/s]"
            ],
            "application/vnd.jupyter.widget-view+json": {
              "version_major": 2,
              "version_minor": 0,
              "model_id": "a6b1183c314c4950ab855a479225c915"
            }
          },
          "metadata": {}
        },
        {
          "output_type": "display_data",
          "data": {
            "text/plain": [
              "<IPython.core.display.Markdown object>"
            ],
            "text/markdown": "**Original text accuracy: 30.00%**"
          },
          "metadata": {}
        },
        {
          "output_type": "stream",
          "name": "stdout",
          "text": [
            "CPU times: user 1min 18s, sys: 5.24 s, total: 1min 23s\n",
            "Wall time: 1min 25s\n"
          ]
        }
      ],
      "source": [
        "%%time\n",
        "def apply_prompt_1(text, possible_choices):\n",
        "  return f'Is the following text narrative?\\nText: {text}\\nChoices: {possible_choices[0]} or {possible_choices[1]}\\nAnswer:'\n",
        "\n",
        "def apply_prompt_2(text, possible_choices):\n",
        "  return f'Text: {text}\\nChoices: {possible_choices[0]} or {possible_choices[1]}\\nAnswer:'\n",
        "\n",
        "def apply_prompt_3(text, possible_choices):\n",
        "  return f'Text: {text}\\nAnswer:'\n",
        "\n",
        "def apply_prompt_4(text, possible_choices):\n",
        "  return f'\\Text: {text}\\nIs the preceding text narrative?'\n",
        "\n",
        "for prompt_num, prompt_fn in zip([1, 2, 3, 4],\n",
        "                                 [apply_prompt_1, apply_prompt_2,\n",
        "                                  apply_prompt_3, apply_prompt_4]):\n",
        "  display(Markdown(f'**Prompt {prompt_num}:**'))\n",
        "  all_texts_prompt = [prompt_fn(t, possible_choices) for t in all_texts]\n",
        "  accuracy = classify_dataset(all_texts_prompt, all_labels,\n",
        "                              possible_choices, verbose=False)\n",
        "  # Print the accuracy, followed by an empty line break\n",
        "  display(Markdown(f'**Prompt {prompt_num} accuracy: {accuracy*100:.2f}%**'))\n",
        "  print()\n",
        "\n",
        "# Also evaluate the original text\n",
        "display(Markdown('**Original text:**'))\n",
        "accuracy = classify_dataset(all_texts, all_labels,\n",
        "                            possible_choices, verbose=False)\n",
        "display(Markdown(f'**Original text accuracy: {accuracy*100:.2f}%**'))"
      ]
    },
    {
      "cell_type": "markdown",
      "metadata": {
        "id": "52ptfrMIyTGu"
      },
      "source": [
        "**Results:**\n",
        "\n",
        "| Prompt number | Prompt text | Accuracy |\n",
        "|:-------------:|:------------|:--------:|\n",
        "| 1 | `Is the following text narrative?`<br/>`Text: <text>`<br/>`Choices: Yes or No`<br/>`Answer:` | 54% |\n",
        "| 2 | `Text: <text>`<br/>`Choices: Yes or No`<br/>`Answer:` | 47% |\n",
        "| 3 | `Text: <text>`<br/>`Answer:` | 49% |\n",
        "| 4 | `Text: <text>`<br/>`Is the preceding text narrative?` | 50% |\n",
        "| Original text | `<text>` | 30% |\n",
        "| Random baseline | n/a | 50% |\n",
        "\n",
        "Changing the labels dramatically changed the performance on this task. Only one prompt is able to (barely) achieve better than random performance.\n",
        "\n",
        "**Takeaway:** If your task seems difficult, experiment with alternate labels and phrasings.\n"
      ]
    }
  ],
  "metadata": {
    "accelerator": "GPU",
    "colab": {
      "provenance": []
    },
    "kernelspec": {
      "display_name": "Python 3",
      "name": "python3"
    },
    "language_info": {
      "name": "python"
    },
    "widgets": {
      "application/vnd.jupyter.widget-state+json": {
        "a259bc7f580640b5839676835135427f": {
          "model_module": "@jupyter-widgets/controls",
          "model_name": "HBoxModel",
          "model_module_version": "1.5.0",
          "state": {
            "_dom_classes": [],
            "_model_module": "@jupyter-widgets/controls",
            "_model_module_version": "1.5.0",
            "_model_name": "HBoxModel",
            "_view_count": null,
            "_view_module": "@jupyter-widgets/controls",
            "_view_module_version": "1.5.0",
            "_view_name": "HBoxView",
            "box_style": "",
            "children": [
              "IPY_MODEL_3012206afde04e2f972b6f61e31640f4",
              "IPY_MODEL_7c94299fef10458987b553613ee5c60d",
              "IPY_MODEL_c5c4ecbee9914fa78d1f5c8880812cb0"
            ],
            "layout": "IPY_MODEL_6c6207c9d341464f933e6007e2e92b90"
          }
        },
        "3012206afde04e2f972b6f61e31640f4": {
          "model_module": "@jupyter-widgets/controls",
          "model_name": "HTMLModel",
          "model_module_version": "1.5.0",
          "state": {
            "_dom_classes": [],
            "_model_module": "@jupyter-widgets/controls",
            "_model_module_version": "1.5.0",
            "_model_name": "HTMLModel",
            "_view_count": null,
            "_view_module": "@jupyter-widgets/controls",
            "_view_module_version": "1.5.0",
            "_view_name": "HTMLView",
            "description": "",
            "description_tooltip": null,
            "layout": "IPY_MODEL_c0dfbda366be4a61a9b43a329c771e50",
            "placeholder": "​",
            "style": "IPY_MODEL_ca06bb693d404c2b968ce8d18351f814",
            "value": "100%"
          }
        },
        "7c94299fef10458987b553613ee5c60d": {
          "model_module": "@jupyter-widgets/controls",
          "model_name": "FloatProgressModel",
          "model_module_version": "1.5.0",
          "state": {
            "_dom_classes": [],
            "_model_module": "@jupyter-widgets/controls",
            "_model_module_version": "1.5.0",
            "_model_name": "FloatProgressModel",
            "_view_count": null,
            "_view_module": "@jupyter-widgets/controls",
            "_view_module_version": "1.5.0",
            "_view_name": "ProgressView",
            "bar_style": "success",
            "description": "",
            "description_tooltip": null,
            "layout": "IPY_MODEL_b379637f215d404188ff2b396a104894",
            "max": 100,
            "min": 0,
            "orientation": "horizontal",
            "style": "IPY_MODEL_0c7eb46b9b804cd0aab1f4779eec6d5d",
            "value": 100
          }
        },
        "c5c4ecbee9914fa78d1f5c8880812cb0": {
          "model_module": "@jupyter-widgets/controls",
          "model_name": "HTMLModel",
          "model_module_version": "1.5.0",
          "state": {
            "_dom_classes": [],
            "_model_module": "@jupyter-widgets/controls",
            "_model_module_version": "1.5.0",
            "_model_name": "HTMLModel",
            "_view_count": null,
            "_view_module": "@jupyter-widgets/controls",
            "_view_module_version": "1.5.0",
            "_view_name": "HTMLView",
            "description": "",
            "description_tooltip": null,
            "layout": "IPY_MODEL_7046325cde5847319b1f6c2f53ae7e1d",
            "placeholder": "​",
            "style": "IPY_MODEL_70ead58950c3449babb26e965d41a9f6",
            "value": " 100/100 [00:17&lt;00:00,  7.38it/s]"
          }
        },
        "6c6207c9d341464f933e6007e2e92b90": {
          "model_module": "@jupyter-widgets/base",
          "model_name": "LayoutModel",
          "model_module_version": "1.2.0",
          "state": {
            "_model_module": "@jupyter-widgets/base",
            "_model_module_version": "1.2.0",
            "_model_name": "LayoutModel",
            "_view_count": null,
            "_view_module": "@jupyter-widgets/base",
            "_view_module_version": "1.2.0",
            "_view_name": "LayoutView",
            "align_content": null,
            "align_items": null,
            "align_self": null,
            "border": null,
            "bottom": null,
            "display": null,
            "flex": null,
            "flex_flow": null,
            "grid_area": null,
            "grid_auto_columns": null,
            "grid_auto_flow": null,
            "grid_auto_rows": null,
            "grid_column": null,
            "grid_gap": null,
            "grid_row": null,
            "grid_template_areas": null,
            "grid_template_columns": null,
            "grid_template_rows": null,
            "height": null,
            "justify_content": null,
            "justify_items": null,
            "left": null,
            "margin": null,
            "max_height": null,
            "max_width": null,
            "min_height": null,
            "min_width": null,
            "object_fit": null,
            "object_position": null,
            "order": null,
            "overflow": null,
            "overflow_x": null,
            "overflow_y": null,
            "padding": null,
            "right": null,
            "top": null,
            "visibility": null,
            "width": null
          }
        },
        "c0dfbda366be4a61a9b43a329c771e50": {
          "model_module": "@jupyter-widgets/base",
          "model_name": "LayoutModel",
          "model_module_version": "1.2.0",
          "state": {
            "_model_module": "@jupyter-widgets/base",
            "_model_module_version": "1.2.0",
            "_model_name": "LayoutModel",
            "_view_count": null,
            "_view_module": "@jupyter-widgets/base",
            "_view_module_version": "1.2.0",
            "_view_name": "LayoutView",
            "align_content": null,
            "align_items": null,
            "align_self": null,
            "border": null,
            "bottom": null,
            "display": null,
            "flex": null,
            "flex_flow": null,
            "grid_area": null,
            "grid_auto_columns": null,
            "grid_auto_flow": null,
            "grid_auto_rows": null,
            "grid_column": null,
            "grid_gap": null,
            "grid_row": null,
            "grid_template_areas": null,
            "grid_template_columns": null,
            "grid_template_rows": null,
            "height": null,
            "justify_content": null,
            "justify_items": null,
            "left": null,
            "margin": null,
            "max_height": null,
            "max_width": null,
            "min_height": null,
            "min_width": null,
            "object_fit": null,
            "object_position": null,
            "order": null,
            "overflow": null,
            "overflow_x": null,
            "overflow_y": null,
            "padding": null,
            "right": null,
            "top": null,
            "visibility": null,
            "width": null
          }
        },
        "ca06bb693d404c2b968ce8d18351f814": {
          "model_module": "@jupyter-widgets/controls",
          "model_name": "DescriptionStyleModel",
          "model_module_version": "1.5.0",
          "state": {
            "_model_module": "@jupyter-widgets/controls",
            "_model_module_version": "1.5.0",
            "_model_name": "DescriptionStyleModel",
            "_view_count": null,
            "_view_module": "@jupyter-widgets/base",
            "_view_module_version": "1.2.0",
            "_view_name": "StyleView",
            "description_width": ""
          }
        },
        "b379637f215d404188ff2b396a104894": {
          "model_module": "@jupyter-widgets/base",
          "model_name": "LayoutModel",
          "model_module_version": "1.2.0",
          "state": {
            "_model_module": "@jupyter-widgets/base",
            "_model_module_version": "1.2.0",
            "_model_name": "LayoutModel",
            "_view_count": null,
            "_view_module": "@jupyter-widgets/base",
            "_view_module_version": "1.2.0",
            "_view_name": "LayoutView",
            "align_content": null,
            "align_items": null,
            "align_self": null,
            "border": null,
            "bottom": null,
            "display": null,
            "flex": null,
            "flex_flow": null,
            "grid_area": null,
            "grid_auto_columns": null,
            "grid_auto_flow": null,
            "grid_auto_rows": null,
            "grid_column": null,
            "grid_gap": null,
            "grid_row": null,
            "grid_template_areas": null,
            "grid_template_columns": null,
            "grid_template_rows": null,
            "height": null,
            "justify_content": null,
            "justify_items": null,
            "left": null,
            "margin": null,
            "max_height": null,
            "max_width": null,
            "min_height": null,
            "min_width": null,
            "object_fit": null,
            "object_position": null,
            "order": null,
            "overflow": null,
            "overflow_x": null,
            "overflow_y": null,
            "padding": null,
            "right": null,
            "top": null,
            "visibility": null,
            "width": null
          }
        },
        "0c7eb46b9b804cd0aab1f4779eec6d5d": {
          "model_module": "@jupyter-widgets/controls",
          "model_name": "ProgressStyleModel",
          "model_module_version": "1.5.0",
          "state": {
            "_model_module": "@jupyter-widgets/controls",
            "_model_module_version": "1.5.0",
            "_model_name": "ProgressStyleModel",
            "_view_count": null,
            "_view_module": "@jupyter-widgets/base",
            "_view_module_version": "1.2.0",
            "_view_name": "StyleView",
            "bar_color": null,
            "description_width": ""
          }
        },
        "7046325cde5847319b1f6c2f53ae7e1d": {
          "model_module": "@jupyter-widgets/base",
          "model_name": "LayoutModel",
          "model_module_version": "1.2.0",
          "state": {
            "_model_module": "@jupyter-widgets/base",
            "_model_module_version": "1.2.0",
            "_model_name": "LayoutModel",
            "_view_count": null,
            "_view_module": "@jupyter-widgets/base",
            "_view_module_version": "1.2.0",
            "_view_name": "LayoutView",
            "align_content": null,
            "align_items": null,
            "align_self": null,
            "border": null,
            "bottom": null,
            "display": null,
            "flex": null,
            "flex_flow": null,
            "grid_area": null,
            "grid_auto_columns": null,
            "grid_auto_flow": null,
            "grid_auto_rows": null,
            "grid_column": null,
            "grid_gap": null,
            "grid_row": null,
            "grid_template_areas": null,
            "grid_template_columns": null,
            "grid_template_rows": null,
            "height": null,
            "justify_content": null,
            "justify_items": null,
            "left": null,
            "margin": null,
            "max_height": null,
            "max_width": null,
            "min_height": null,
            "min_width": null,
            "object_fit": null,
            "object_position": null,
            "order": null,
            "overflow": null,
            "overflow_x": null,
            "overflow_y": null,
            "padding": null,
            "right": null,
            "top": null,
            "visibility": null,
            "width": null
          }
        },
        "70ead58950c3449babb26e965d41a9f6": {
          "model_module": "@jupyter-widgets/controls",
          "model_name": "DescriptionStyleModel",
          "model_module_version": "1.5.0",
          "state": {
            "_model_module": "@jupyter-widgets/controls",
            "_model_module_version": "1.5.0",
            "_model_name": "DescriptionStyleModel",
            "_view_count": null,
            "_view_module": "@jupyter-widgets/base",
            "_view_module_version": "1.2.0",
            "_view_name": "StyleView",
            "description_width": ""
          }
        },
        "0b817c813e1d40ad95048459626bafd5": {
          "model_module": "@jupyter-widgets/controls",
          "model_name": "HBoxModel",
          "model_module_version": "1.5.0",
          "state": {
            "_dom_classes": [],
            "_model_module": "@jupyter-widgets/controls",
            "_model_module_version": "1.5.0",
            "_model_name": "HBoxModel",
            "_view_count": null,
            "_view_module": "@jupyter-widgets/controls",
            "_view_module_version": "1.5.0",
            "_view_name": "HBoxView",
            "box_style": "",
            "children": [
              "IPY_MODEL_cf2a2bf323764448820c3fc3c564b851",
              "IPY_MODEL_15c04c9c5e2b404faa6f1f1e66bfc9b2",
              "IPY_MODEL_aec129e0a88f4e9d95cb4328d7e57e32"
            ],
            "layout": "IPY_MODEL_19981b5699fc43efa044071c87fc8fe6"
          }
        },
        "cf2a2bf323764448820c3fc3c564b851": {
          "model_module": "@jupyter-widgets/controls",
          "model_name": "HTMLModel",
          "model_module_version": "1.5.0",
          "state": {
            "_dom_classes": [],
            "_model_module": "@jupyter-widgets/controls",
            "_model_module_version": "1.5.0",
            "_model_name": "HTMLModel",
            "_view_count": null,
            "_view_module": "@jupyter-widgets/controls",
            "_view_module_version": "1.5.0",
            "_view_name": "HTMLView",
            "description": "",
            "description_tooltip": null,
            "layout": "IPY_MODEL_f7f4d830dfc148908974666e315b5598",
            "placeholder": "​",
            "style": "IPY_MODEL_758d6038a9c34bf79b5ff0a57209b94b",
            "value": "100%"
          }
        },
        "15c04c9c5e2b404faa6f1f1e66bfc9b2": {
          "model_module": "@jupyter-widgets/controls",
          "model_name": "FloatProgressModel",
          "model_module_version": "1.5.0",
          "state": {
            "_dom_classes": [],
            "_model_module": "@jupyter-widgets/controls",
            "_model_module_version": "1.5.0",
            "_model_name": "FloatProgressModel",
            "_view_count": null,
            "_view_module": "@jupyter-widgets/controls",
            "_view_module_version": "1.5.0",
            "_view_name": "ProgressView",
            "bar_style": "success",
            "description": "",
            "description_tooltip": null,
            "layout": "IPY_MODEL_7998cf643a35446c8b650afdfbba65f0",
            "max": 100,
            "min": 0,
            "orientation": "horizontal",
            "style": "IPY_MODEL_ba1af6a4388340f28f8911afe5333127",
            "value": 100
          }
        },
        "aec129e0a88f4e9d95cb4328d7e57e32": {
          "model_module": "@jupyter-widgets/controls",
          "model_name": "HTMLModel",
          "model_module_version": "1.5.0",
          "state": {
            "_dom_classes": [],
            "_model_module": "@jupyter-widgets/controls",
            "_model_module_version": "1.5.0",
            "_model_name": "HTMLModel",
            "_view_count": null,
            "_view_module": "@jupyter-widgets/controls",
            "_view_module_version": "1.5.0",
            "_view_name": "HTMLView",
            "description": "",
            "description_tooltip": null,
            "layout": "IPY_MODEL_5cdb5c5caa2341c3b7caea81fb1360b9",
            "placeholder": "​",
            "style": "IPY_MODEL_848e93058ca4414a8ab5035a003cf60f",
            "value": " 100/100 [00:18&lt;00:00,  5.89it/s]"
          }
        },
        "19981b5699fc43efa044071c87fc8fe6": {
          "model_module": "@jupyter-widgets/base",
          "model_name": "LayoutModel",
          "model_module_version": "1.2.0",
          "state": {
            "_model_module": "@jupyter-widgets/base",
            "_model_module_version": "1.2.0",
            "_model_name": "LayoutModel",
            "_view_count": null,
            "_view_module": "@jupyter-widgets/base",
            "_view_module_version": "1.2.0",
            "_view_name": "LayoutView",
            "align_content": null,
            "align_items": null,
            "align_self": null,
            "border": null,
            "bottom": null,
            "display": null,
            "flex": null,
            "flex_flow": null,
            "grid_area": null,
            "grid_auto_columns": null,
            "grid_auto_flow": null,
            "grid_auto_rows": null,
            "grid_column": null,
            "grid_gap": null,
            "grid_row": null,
            "grid_template_areas": null,
            "grid_template_columns": null,
            "grid_template_rows": null,
            "height": null,
            "justify_content": null,
            "justify_items": null,
            "left": null,
            "margin": null,
            "max_height": null,
            "max_width": null,
            "min_height": null,
            "min_width": null,
            "object_fit": null,
            "object_position": null,
            "order": null,
            "overflow": null,
            "overflow_x": null,
            "overflow_y": null,
            "padding": null,
            "right": null,
            "top": null,
            "visibility": null,
            "width": null
          }
        },
        "f7f4d830dfc148908974666e315b5598": {
          "model_module": "@jupyter-widgets/base",
          "model_name": "LayoutModel",
          "model_module_version": "1.2.0",
          "state": {
            "_model_module": "@jupyter-widgets/base",
            "_model_module_version": "1.2.0",
            "_model_name": "LayoutModel",
            "_view_count": null,
            "_view_module": "@jupyter-widgets/base",
            "_view_module_version": "1.2.0",
            "_view_name": "LayoutView",
            "align_content": null,
            "align_items": null,
            "align_self": null,
            "border": null,
            "bottom": null,
            "display": null,
            "flex": null,
            "flex_flow": null,
            "grid_area": null,
            "grid_auto_columns": null,
            "grid_auto_flow": null,
            "grid_auto_rows": null,
            "grid_column": null,
            "grid_gap": null,
            "grid_row": null,
            "grid_template_areas": null,
            "grid_template_columns": null,
            "grid_template_rows": null,
            "height": null,
            "justify_content": null,
            "justify_items": null,
            "left": null,
            "margin": null,
            "max_height": null,
            "max_width": null,
            "min_height": null,
            "min_width": null,
            "object_fit": null,
            "object_position": null,
            "order": null,
            "overflow": null,
            "overflow_x": null,
            "overflow_y": null,
            "padding": null,
            "right": null,
            "top": null,
            "visibility": null,
            "width": null
          }
        },
        "758d6038a9c34bf79b5ff0a57209b94b": {
          "model_module": "@jupyter-widgets/controls",
          "model_name": "DescriptionStyleModel",
          "model_module_version": "1.5.0",
          "state": {
            "_model_module": "@jupyter-widgets/controls",
            "_model_module_version": "1.5.0",
            "_model_name": "DescriptionStyleModel",
            "_view_count": null,
            "_view_module": "@jupyter-widgets/base",
            "_view_module_version": "1.2.0",
            "_view_name": "StyleView",
            "description_width": ""
          }
        },
        "7998cf643a35446c8b650afdfbba65f0": {
          "model_module": "@jupyter-widgets/base",
          "model_name": "LayoutModel",
          "model_module_version": "1.2.0",
          "state": {
            "_model_module": "@jupyter-widgets/base",
            "_model_module_version": "1.2.0",
            "_model_name": "LayoutModel",
            "_view_count": null,
            "_view_module": "@jupyter-widgets/base",
            "_view_module_version": "1.2.0",
            "_view_name": "LayoutView",
            "align_content": null,
            "align_items": null,
            "align_self": null,
            "border": null,
            "bottom": null,
            "display": null,
            "flex": null,
            "flex_flow": null,
            "grid_area": null,
            "grid_auto_columns": null,
            "grid_auto_flow": null,
            "grid_auto_rows": null,
            "grid_column": null,
            "grid_gap": null,
            "grid_row": null,
            "grid_template_areas": null,
            "grid_template_columns": null,
            "grid_template_rows": null,
            "height": null,
            "justify_content": null,
            "justify_items": null,
            "left": null,
            "margin": null,
            "max_height": null,
            "max_width": null,
            "min_height": null,
            "min_width": null,
            "object_fit": null,
            "object_position": null,
            "order": null,
            "overflow": null,
            "overflow_x": null,
            "overflow_y": null,
            "padding": null,
            "right": null,
            "top": null,
            "visibility": null,
            "width": null
          }
        },
        "ba1af6a4388340f28f8911afe5333127": {
          "model_module": "@jupyter-widgets/controls",
          "model_name": "ProgressStyleModel",
          "model_module_version": "1.5.0",
          "state": {
            "_model_module": "@jupyter-widgets/controls",
            "_model_module_version": "1.5.0",
            "_model_name": "ProgressStyleModel",
            "_view_count": null,
            "_view_module": "@jupyter-widgets/base",
            "_view_module_version": "1.2.0",
            "_view_name": "StyleView",
            "bar_color": null,
            "description_width": ""
          }
        },
        "5cdb5c5caa2341c3b7caea81fb1360b9": {
          "model_module": "@jupyter-widgets/base",
          "model_name": "LayoutModel",
          "model_module_version": "1.2.0",
          "state": {
            "_model_module": "@jupyter-widgets/base",
            "_model_module_version": "1.2.0",
            "_model_name": "LayoutModel",
            "_view_count": null,
            "_view_module": "@jupyter-widgets/base",
            "_view_module_version": "1.2.0",
            "_view_name": "LayoutView",
            "align_content": null,
            "align_items": null,
            "align_self": null,
            "border": null,
            "bottom": null,
            "display": null,
            "flex": null,
            "flex_flow": null,
            "grid_area": null,
            "grid_auto_columns": null,
            "grid_auto_flow": null,
            "grid_auto_rows": null,
            "grid_column": null,
            "grid_gap": null,
            "grid_row": null,
            "grid_template_areas": null,
            "grid_template_columns": null,
            "grid_template_rows": null,
            "height": null,
            "justify_content": null,
            "justify_items": null,
            "left": null,
            "margin": null,
            "max_height": null,
            "max_width": null,
            "min_height": null,
            "min_width": null,
            "object_fit": null,
            "object_position": null,
            "order": null,
            "overflow": null,
            "overflow_x": null,
            "overflow_y": null,
            "padding": null,
            "right": null,
            "top": null,
            "visibility": null,
            "width": null
          }
        },
        "848e93058ca4414a8ab5035a003cf60f": {
          "model_module": "@jupyter-widgets/controls",
          "model_name": "DescriptionStyleModel",
          "model_module_version": "1.5.0",
          "state": {
            "_model_module": "@jupyter-widgets/controls",
            "_model_module_version": "1.5.0",
            "_model_name": "DescriptionStyleModel",
            "_view_count": null,
            "_view_module": "@jupyter-widgets/base",
            "_view_module_version": "1.2.0",
            "_view_name": "StyleView",
            "description_width": ""
          }
        },
        "8e021f167ed7499e8c1653e4135f93ea": {
          "model_module": "@jupyter-widgets/controls",
          "model_name": "HBoxModel",
          "model_module_version": "1.5.0",
          "state": {
            "_dom_classes": [],
            "_model_module": "@jupyter-widgets/controls",
            "_model_module_version": "1.5.0",
            "_model_name": "HBoxModel",
            "_view_count": null,
            "_view_module": "@jupyter-widgets/controls",
            "_view_module_version": "1.5.0",
            "_view_name": "HBoxView",
            "box_style": "",
            "children": [
              "IPY_MODEL_44a14a62abfb4ac680b3a35053df960a",
              "IPY_MODEL_02edcff8e0594d72822b995af192389a",
              "IPY_MODEL_6b4081731fdf4e7aa769871f4aacfd6e"
            ],
            "layout": "IPY_MODEL_487f679b2de044188118b4be3e4a71e5"
          }
        },
        "44a14a62abfb4ac680b3a35053df960a": {
          "model_module": "@jupyter-widgets/controls",
          "model_name": "HTMLModel",
          "model_module_version": "1.5.0",
          "state": {
            "_dom_classes": [],
            "_model_module": "@jupyter-widgets/controls",
            "_model_module_version": "1.5.0",
            "_model_name": "HTMLModel",
            "_view_count": null,
            "_view_module": "@jupyter-widgets/controls",
            "_view_module_version": "1.5.0",
            "_view_name": "HTMLView",
            "description": "",
            "description_tooltip": null,
            "layout": "IPY_MODEL_1e10657413c74ffd986c474b54e3c32c",
            "placeholder": "​",
            "style": "IPY_MODEL_ebf09d67e18c46389b95ba1842853cb7",
            "value": "100%"
          }
        },
        "02edcff8e0594d72822b995af192389a": {
          "model_module": "@jupyter-widgets/controls",
          "model_name": "FloatProgressModel",
          "model_module_version": "1.5.0",
          "state": {
            "_dom_classes": [],
            "_model_module": "@jupyter-widgets/controls",
            "_model_module_version": "1.5.0",
            "_model_name": "FloatProgressModel",
            "_view_count": null,
            "_view_module": "@jupyter-widgets/controls",
            "_view_module_version": "1.5.0",
            "_view_name": "ProgressView",
            "bar_style": "success",
            "description": "",
            "description_tooltip": null,
            "layout": "IPY_MODEL_4bd08d349b734fc084e159ad0b6ccc72",
            "max": 100,
            "min": 0,
            "orientation": "horizontal",
            "style": "IPY_MODEL_43370cf1bc76473cbfb990e19b4fde6b",
            "value": 100
          }
        },
        "6b4081731fdf4e7aa769871f4aacfd6e": {
          "model_module": "@jupyter-widgets/controls",
          "model_name": "HTMLModel",
          "model_module_version": "1.5.0",
          "state": {
            "_dom_classes": [],
            "_model_module": "@jupyter-widgets/controls",
            "_model_module_version": "1.5.0",
            "_model_name": "HTMLModel",
            "_view_count": null,
            "_view_module": "@jupyter-widgets/controls",
            "_view_module_version": "1.5.0",
            "_view_name": "HTMLView",
            "description": "",
            "description_tooltip": null,
            "layout": "IPY_MODEL_65211264438a412c8a17b65624de4312",
            "placeholder": "​",
            "style": "IPY_MODEL_241f5d158e3c48809201a3272fd93b47",
            "value": " 100/100 [00:18&lt;00:00,  7.69it/s]"
          }
        },
        "487f679b2de044188118b4be3e4a71e5": {
          "model_module": "@jupyter-widgets/base",
          "model_name": "LayoutModel",
          "model_module_version": "1.2.0",
          "state": {
            "_model_module": "@jupyter-widgets/base",
            "_model_module_version": "1.2.0",
            "_model_name": "LayoutModel",
            "_view_count": null,
            "_view_module": "@jupyter-widgets/base",
            "_view_module_version": "1.2.0",
            "_view_name": "LayoutView",
            "align_content": null,
            "align_items": null,
            "align_self": null,
            "border": null,
            "bottom": null,
            "display": null,
            "flex": null,
            "flex_flow": null,
            "grid_area": null,
            "grid_auto_columns": null,
            "grid_auto_flow": null,
            "grid_auto_rows": null,
            "grid_column": null,
            "grid_gap": null,
            "grid_row": null,
            "grid_template_areas": null,
            "grid_template_columns": null,
            "grid_template_rows": null,
            "height": null,
            "justify_content": null,
            "justify_items": null,
            "left": null,
            "margin": null,
            "max_height": null,
            "max_width": null,
            "min_height": null,
            "min_width": null,
            "object_fit": null,
            "object_position": null,
            "order": null,
            "overflow": null,
            "overflow_x": null,
            "overflow_y": null,
            "padding": null,
            "right": null,
            "top": null,
            "visibility": null,
            "width": null
          }
        },
        "1e10657413c74ffd986c474b54e3c32c": {
          "model_module": "@jupyter-widgets/base",
          "model_name": "LayoutModel",
          "model_module_version": "1.2.0",
          "state": {
            "_model_module": "@jupyter-widgets/base",
            "_model_module_version": "1.2.0",
            "_model_name": "LayoutModel",
            "_view_count": null,
            "_view_module": "@jupyter-widgets/base",
            "_view_module_version": "1.2.0",
            "_view_name": "LayoutView",
            "align_content": null,
            "align_items": null,
            "align_self": null,
            "border": null,
            "bottom": null,
            "display": null,
            "flex": null,
            "flex_flow": null,
            "grid_area": null,
            "grid_auto_columns": null,
            "grid_auto_flow": null,
            "grid_auto_rows": null,
            "grid_column": null,
            "grid_gap": null,
            "grid_row": null,
            "grid_template_areas": null,
            "grid_template_columns": null,
            "grid_template_rows": null,
            "height": null,
            "justify_content": null,
            "justify_items": null,
            "left": null,
            "margin": null,
            "max_height": null,
            "max_width": null,
            "min_height": null,
            "min_width": null,
            "object_fit": null,
            "object_position": null,
            "order": null,
            "overflow": null,
            "overflow_x": null,
            "overflow_y": null,
            "padding": null,
            "right": null,
            "top": null,
            "visibility": null,
            "width": null
          }
        },
        "ebf09d67e18c46389b95ba1842853cb7": {
          "model_module": "@jupyter-widgets/controls",
          "model_name": "DescriptionStyleModel",
          "model_module_version": "1.5.0",
          "state": {
            "_model_module": "@jupyter-widgets/controls",
            "_model_module_version": "1.5.0",
            "_model_name": "DescriptionStyleModel",
            "_view_count": null,
            "_view_module": "@jupyter-widgets/base",
            "_view_module_version": "1.2.0",
            "_view_name": "StyleView",
            "description_width": ""
          }
        },
        "4bd08d349b734fc084e159ad0b6ccc72": {
          "model_module": "@jupyter-widgets/base",
          "model_name": "LayoutModel",
          "model_module_version": "1.2.0",
          "state": {
            "_model_module": "@jupyter-widgets/base",
            "_model_module_version": "1.2.0",
            "_model_name": "LayoutModel",
            "_view_count": null,
            "_view_module": "@jupyter-widgets/base",
            "_view_module_version": "1.2.0",
            "_view_name": "LayoutView",
            "align_content": null,
            "align_items": null,
            "align_self": null,
            "border": null,
            "bottom": null,
            "display": null,
            "flex": null,
            "flex_flow": null,
            "grid_area": null,
            "grid_auto_columns": null,
            "grid_auto_flow": null,
            "grid_auto_rows": null,
            "grid_column": null,
            "grid_gap": null,
            "grid_row": null,
            "grid_template_areas": null,
            "grid_template_columns": null,
            "grid_template_rows": null,
            "height": null,
            "justify_content": null,
            "justify_items": null,
            "left": null,
            "margin": null,
            "max_height": null,
            "max_width": null,
            "min_height": null,
            "min_width": null,
            "object_fit": null,
            "object_position": null,
            "order": null,
            "overflow": null,
            "overflow_x": null,
            "overflow_y": null,
            "padding": null,
            "right": null,
            "top": null,
            "visibility": null,
            "width": null
          }
        },
        "43370cf1bc76473cbfb990e19b4fde6b": {
          "model_module": "@jupyter-widgets/controls",
          "model_name": "ProgressStyleModel",
          "model_module_version": "1.5.0",
          "state": {
            "_model_module": "@jupyter-widgets/controls",
            "_model_module_version": "1.5.0",
            "_model_name": "ProgressStyleModel",
            "_view_count": null,
            "_view_module": "@jupyter-widgets/base",
            "_view_module_version": "1.2.0",
            "_view_name": "StyleView",
            "bar_color": null,
            "description_width": ""
          }
        },
        "65211264438a412c8a17b65624de4312": {
          "model_module": "@jupyter-widgets/base",
          "model_name": "LayoutModel",
          "model_module_version": "1.2.0",
          "state": {
            "_model_module": "@jupyter-widgets/base",
            "_model_module_version": "1.2.0",
            "_model_name": "LayoutModel",
            "_view_count": null,
            "_view_module": "@jupyter-widgets/base",
            "_view_module_version": "1.2.0",
            "_view_name": "LayoutView",
            "align_content": null,
            "align_items": null,
            "align_self": null,
            "border": null,
            "bottom": null,
            "display": null,
            "flex": null,
            "flex_flow": null,
            "grid_area": null,
            "grid_auto_columns": null,
            "grid_auto_flow": null,
            "grid_auto_rows": null,
            "grid_column": null,
            "grid_gap": null,
            "grid_row": null,
            "grid_template_areas": null,
            "grid_template_columns": null,
            "grid_template_rows": null,
            "height": null,
            "justify_content": null,
            "justify_items": null,
            "left": null,
            "margin": null,
            "max_height": null,
            "max_width": null,
            "min_height": null,
            "min_width": null,
            "object_fit": null,
            "object_position": null,
            "order": null,
            "overflow": null,
            "overflow_x": null,
            "overflow_y": null,
            "padding": null,
            "right": null,
            "top": null,
            "visibility": null,
            "width": null
          }
        },
        "241f5d158e3c48809201a3272fd93b47": {
          "model_module": "@jupyter-widgets/controls",
          "model_name": "DescriptionStyleModel",
          "model_module_version": "1.5.0",
          "state": {
            "_model_module": "@jupyter-widgets/controls",
            "_model_module_version": "1.5.0",
            "_model_name": "DescriptionStyleModel",
            "_view_count": null,
            "_view_module": "@jupyter-widgets/base",
            "_view_module_version": "1.2.0",
            "_view_name": "StyleView",
            "description_width": ""
          }
        },
        "d9551270f4aa4f6f9d278e6860c824e9": {
          "model_module": "@jupyter-widgets/controls",
          "model_name": "HBoxModel",
          "model_module_version": "1.5.0",
          "state": {
            "_dom_classes": [],
            "_model_module": "@jupyter-widgets/controls",
            "_model_module_version": "1.5.0",
            "_model_name": "HBoxModel",
            "_view_count": null,
            "_view_module": "@jupyter-widgets/controls",
            "_view_module_version": "1.5.0",
            "_view_name": "HBoxView",
            "box_style": "",
            "children": [
              "IPY_MODEL_5a7298d345074c59828101750f8b69fe",
              "IPY_MODEL_d307909db4ac429583ca3fa1e33b7b72",
              "IPY_MODEL_cc7ee356299a43398814849f2136a1e0"
            ],
            "layout": "IPY_MODEL_6e43e97585ec4aadbcd135d744a7599b"
          }
        },
        "5a7298d345074c59828101750f8b69fe": {
          "model_module": "@jupyter-widgets/controls",
          "model_name": "HTMLModel",
          "model_module_version": "1.5.0",
          "state": {
            "_dom_classes": [],
            "_model_module": "@jupyter-widgets/controls",
            "_model_module_version": "1.5.0",
            "_model_name": "HTMLModel",
            "_view_count": null,
            "_view_module": "@jupyter-widgets/controls",
            "_view_module_version": "1.5.0",
            "_view_name": "HTMLView",
            "description": "",
            "description_tooltip": null,
            "layout": "IPY_MODEL_394dfd64f859406f936bd9df4f7fe707",
            "placeholder": "​",
            "style": "IPY_MODEL_af241c99b3c945aa877ef530f4b1f602",
            "value": "100%"
          }
        },
        "d307909db4ac429583ca3fa1e33b7b72": {
          "model_module": "@jupyter-widgets/controls",
          "model_name": "FloatProgressModel",
          "model_module_version": "1.5.0",
          "state": {
            "_dom_classes": [],
            "_model_module": "@jupyter-widgets/controls",
            "_model_module_version": "1.5.0",
            "_model_name": "FloatProgressModel",
            "_view_count": null,
            "_view_module": "@jupyter-widgets/controls",
            "_view_module_version": "1.5.0",
            "_view_name": "ProgressView",
            "bar_style": "success",
            "description": "",
            "description_tooltip": null,
            "layout": "IPY_MODEL_f0e0f53ce8f44c31806899b34b4ccffe",
            "max": 100,
            "min": 0,
            "orientation": "horizontal",
            "style": "IPY_MODEL_e802e77b7d244dd7888b8e9f0391bb42",
            "value": 100
          }
        },
        "cc7ee356299a43398814849f2136a1e0": {
          "model_module": "@jupyter-widgets/controls",
          "model_name": "HTMLModel",
          "model_module_version": "1.5.0",
          "state": {
            "_dom_classes": [],
            "_model_module": "@jupyter-widgets/controls",
            "_model_module_version": "1.5.0",
            "_model_name": "HTMLModel",
            "_view_count": null,
            "_view_module": "@jupyter-widgets/controls",
            "_view_module_version": "1.5.0",
            "_view_name": "HTMLView",
            "description": "",
            "description_tooltip": null,
            "layout": "IPY_MODEL_81b87f673b9d4bf98d7d551dd994feef",
            "placeholder": "​",
            "style": "IPY_MODEL_a556124d553f407b901cb89b69fd2be8",
            "value": " 100/100 [00:19&lt;00:00,  7.59it/s]"
          }
        },
        "6e43e97585ec4aadbcd135d744a7599b": {
          "model_module": "@jupyter-widgets/base",
          "model_name": "LayoutModel",
          "model_module_version": "1.2.0",
          "state": {
            "_model_module": "@jupyter-widgets/base",
            "_model_module_version": "1.2.0",
            "_model_name": "LayoutModel",
            "_view_count": null,
            "_view_module": "@jupyter-widgets/base",
            "_view_module_version": "1.2.0",
            "_view_name": "LayoutView",
            "align_content": null,
            "align_items": null,
            "align_self": null,
            "border": null,
            "bottom": null,
            "display": null,
            "flex": null,
            "flex_flow": null,
            "grid_area": null,
            "grid_auto_columns": null,
            "grid_auto_flow": null,
            "grid_auto_rows": null,
            "grid_column": null,
            "grid_gap": null,
            "grid_row": null,
            "grid_template_areas": null,
            "grid_template_columns": null,
            "grid_template_rows": null,
            "height": null,
            "justify_content": null,
            "justify_items": null,
            "left": null,
            "margin": null,
            "max_height": null,
            "max_width": null,
            "min_height": null,
            "min_width": null,
            "object_fit": null,
            "object_position": null,
            "order": null,
            "overflow": null,
            "overflow_x": null,
            "overflow_y": null,
            "padding": null,
            "right": null,
            "top": null,
            "visibility": null,
            "width": null
          }
        },
        "394dfd64f859406f936bd9df4f7fe707": {
          "model_module": "@jupyter-widgets/base",
          "model_name": "LayoutModel",
          "model_module_version": "1.2.0",
          "state": {
            "_model_module": "@jupyter-widgets/base",
            "_model_module_version": "1.2.0",
            "_model_name": "LayoutModel",
            "_view_count": null,
            "_view_module": "@jupyter-widgets/base",
            "_view_module_version": "1.2.0",
            "_view_name": "LayoutView",
            "align_content": null,
            "align_items": null,
            "align_self": null,
            "border": null,
            "bottom": null,
            "display": null,
            "flex": null,
            "flex_flow": null,
            "grid_area": null,
            "grid_auto_columns": null,
            "grid_auto_flow": null,
            "grid_auto_rows": null,
            "grid_column": null,
            "grid_gap": null,
            "grid_row": null,
            "grid_template_areas": null,
            "grid_template_columns": null,
            "grid_template_rows": null,
            "height": null,
            "justify_content": null,
            "justify_items": null,
            "left": null,
            "margin": null,
            "max_height": null,
            "max_width": null,
            "min_height": null,
            "min_width": null,
            "object_fit": null,
            "object_position": null,
            "order": null,
            "overflow": null,
            "overflow_x": null,
            "overflow_y": null,
            "padding": null,
            "right": null,
            "top": null,
            "visibility": null,
            "width": null
          }
        },
        "af241c99b3c945aa877ef530f4b1f602": {
          "model_module": "@jupyter-widgets/controls",
          "model_name": "DescriptionStyleModel",
          "model_module_version": "1.5.0",
          "state": {
            "_model_module": "@jupyter-widgets/controls",
            "_model_module_version": "1.5.0",
            "_model_name": "DescriptionStyleModel",
            "_view_count": null,
            "_view_module": "@jupyter-widgets/base",
            "_view_module_version": "1.2.0",
            "_view_name": "StyleView",
            "description_width": ""
          }
        },
        "f0e0f53ce8f44c31806899b34b4ccffe": {
          "model_module": "@jupyter-widgets/base",
          "model_name": "LayoutModel",
          "model_module_version": "1.2.0",
          "state": {
            "_model_module": "@jupyter-widgets/base",
            "_model_module_version": "1.2.0",
            "_model_name": "LayoutModel",
            "_view_count": null,
            "_view_module": "@jupyter-widgets/base",
            "_view_module_version": "1.2.0",
            "_view_name": "LayoutView",
            "align_content": null,
            "align_items": null,
            "align_self": null,
            "border": null,
            "bottom": null,
            "display": null,
            "flex": null,
            "flex_flow": null,
            "grid_area": null,
            "grid_auto_columns": null,
            "grid_auto_flow": null,
            "grid_auto_rows": null,
            "grid_column": null,
            "grid_gap": null,
            "grid_row": null,
            "grid_template_areas": null,
            "grid_template_columns": null,
            "grid_template_rows": null,
            "height": null,
            "justify_content": null,
            "justify_items": null,
            "left": null,
            "margin": null,
            "max_height": null,
            "max_width": null,
            "min_height": null,
            "min_width": null,
            "object_fit": null,
            "object_position": null,
            "order": null,
            "overflow": null,
            "overflow_x": null,
            "overflow_y": null,
            "padding": null,
            "right": null,
            "top": null,
            "visibility": null,
            "width": null
          }
        },
        "e802e77b7d244dd7888b8e9f0391bb42": {
          "model_module": "@jupyter-widgets/controls",
          "model_name": "ProgressStyleModel",
          "model_module_version": "1.5.0",
          "state": {
            "_model_module": "@jupyter-widgets/controls",
            "_model_module_version": "1.5.0",
            "_model_name": "ProgressStyleModel",
            "_view_count": null,
            "_view_module": "@jupyter-widgets/base",
            "_view_module_version": "1.2.0",
            "_view_name": "StyleView",
            "bar_color": null,
            "description_width": ""
          }
        },
        "81b87f673b9d4bf98d7d551dd994feef": {
          "model_module": "@jupyter-widgets/base",
          "model_name": "LayoutModel",
          "model_module_version": "1.2.0",
          "state": {
            "_model_module": "@jupyter-widgets/base",
            "_model_module_version": "1.2.0",
            "_model_name": "LayoutModel",
            "_view_count": null,
            "_view_module": "@jupyter-widgets/base",
            "_view_module_version": "1.2.0",
            "_view_name": "LayoutView",
            "align_content": null,
            "align_items": null,
            "align_self": null,
            "border": null,
            "bottom": null,
            "display": null,
            "flex": null,
            "flex_flow": null,
            "grid_area": null,
            "grid_auto_columns": null,
            "grid_auto_flow": null,
            "grid_auto_rows": null,
            "grid_column": null,
            "grid_gap": null,
            "grid_row": null,
            "grid_template_areas": null,
            "grid_template_columns": null,
            "grid_template_rows": null,
            "height": null,
            "justify_content": null,
            "justify_items": null,
            "left": null,
            "margin": null,
            "max_height": null,
            "max_width": null,
            "min_height": null,
            "min_width": null,
            "object_fit": null,
            "object_position": null,
            "order": null,
            "overflow": null,
            "overflow_x": null,
            "overflow_y": null,
            "padding": null,
            "right": null,
            "top": null,
            "visibility": null,
            "width": null
          }
        },
        "a556124d553f407b901cb89b69fd2be8": {
          "model_module": "@jupyter-widgets/controls",
          "model_name": "DescriptionStyleModel",
          "model_module_version": "1.5.0",
          "state": {
            "_model_module": "@jupyter-widgets/controls",
            "_model_module_version": "1.5.0",
            "_model_name": "DescriptionStyleModel",
            "_view_count": null,
            "_view_module": "@jupyter-widgets/base",
            "_view_module_version": "1.2.0",
            "_view_name": "StyleView",
            "description_width": ""
          }
        },
        "e2ce3fed9eab46f598fd534718826f71": {
          "model_module": "@jupyter-widgets/controls",
          "model_name": "HBoxModel",
          "model_module_version": "1.5.0",
          "state": {
            "_dom_classes": [],
            "_model_module": "@jupyter-widgets/controls",
            "_model_module_version": "1.5.0",
            "_model_name": "HBoxModel",
            "_view_count": null,
            "_view_module": "@jupyter-widgets/controls",
            "_view_module_version": "1.5.0",
            "_view_name": "HBoxView",
            "box_style": "",
            "children": [
              "IPY_MODEL_40964b6afbc841e79e1f50d813240a5d",
              "IPY_MODEL_dde860313d5c4037a0352c17f669be32",
              "IPY_MODEL_7711680bc0a4465d9f2de3c953bea012"
            ],
            "layout": "IPY_MODEL_499ca827fdd6404aa0ba76152520fdd9"
          }
        },
        "40964b6afbc841e79e1f50d813240a5d": {
          "model_module": "@jupyter-widgets/controls",
          "model_name": "HTMLModel",
          "model_module_version": "1.5.0",
          "state": {
            "_dom_classes": [],
            "_model_module": "@jupyter-widgets/controls",
            "_model_module_version": "1.5.0",
            "_model_name": "HTMLModel",
            "_view_count": null,
            "_view_module": "@jupyter-widgets/controls",
            "_view_module_version": "1.5.0",
            "_view_name": "HTMLView",
            "description": "",
            "description_tooltip": null,
            "layout": "IPY_MODEL_a9349cdc6e4449d499ed570171b1044d",
            "placeholder": "​",
            "style": "IPY_MODEL_85c34363c6b844b39bc03ed7a7642b30",
            "value": "100%"
          }
        },
        "dde860313d5c4037a0352c17f669be32": {
          "model_module": "@jupyter-widgets/controls",
          "model_name": "FloatProgressModel",
          "model_module_version": "1.5.0",
          "state": {
            "_dom_classes": [],
            "_model_module": "@jupyter-widgets/controls",
            "_model_module_version": "1.5.0",
            "_model_name": "FloatProgressModel",
            "_view_count": null,
            "_view_module": "@jupyter-widgets/controls",
            "_view_module_version": "1.5.0",
            "_view_name": "ProgressView",
            "bar_style": "success",
            "description": "",
            "description_tooltip": null,
            "layout": "IPY_MODEL_f5b520035d58449db6836695732b7814",
            "max": 100,
            "min": 0,
            "orientation": "horizontal",
            "style": "IPY_MODEL_20444868bbc5476eb40d1026cc8cc007",
            "value": 100
          }
        },
        "7711680bc0a4465d9f2de3c953bea012": {
          "model_module": "@jupyter-widgets/controls",
          "model_name": "HTMLModel",
          "model_module_version": "1.5.0",
          "state": {
            "_dom_classes": [],
            "_model_module": "@jupyter-widgets/controls",
            "_model_module_version": "1.5.0",
            "_model_name": "HTMLModel",
            "_view_count": null,
            "_view_module": "@jupyter-widgets/controls",
            "_view_module_version": "1.5.0",
            "_view_name": "HTMLView",
            "description": "",
            "description_tooltip": null,
            "layout": "IPY_MODEL_1735fb54344e41c191d3324464e97369",
            "placeholder": "​",
            "style": "IPY_MODEL_1f07ac0e876b49f7b6af0df94a782089",
            "value": " 100/100 [00:17&lt;00:00,  6.11it/s]"
          }
        },
        "499ca827fdd6404aa0ba76152520fdd9": {
          "model_module": "@jupyter-widgets/base",
          "model_name": "LayoutModel",
          "model_module_version": "1.2.0",
          "state": {
            "_model_module": "@jupyter-widgets/base",
            "_model_module_version": "1.2.0",
            "_model_name": "LayoutModel",
            "_view_count": null,
            "_view_module": "@jupyter-widgets/base",
            "_view_module_version": "1.2.0",
            "_view_name": "LayoutView",
            "align_content": null,
            "align_items": null,
            "align_self": null,
            "border": null,
            "bottom": null,
            "display": null,
            "flex": null,
            "flex_flow": null,
            "grid_area": null,
            "grid_auto_columns": null,
            "grid_auto_flow": null,
            "grid_auto_rows": null,
            "grid_column": null,
            "grid_gap": null,
            "grid_row": null,
            "grid_template_areas": null,
            "grid_template_columns": null,
            "grid_template_rows": null,
            "height": null,
            "justify_content": null,
            "justify_items": null,
            "left": null,
            "margin": null,
            "max_height": null,
            "max_width": null,
            "min_height": null,
            "min_width": null,
            "object_fit": null,
            "object_position": null,
            "order": null,
            "overflow": null,
            "overflow_x": null,
            "overflow_y": null,
            "padding": null,
            "right": null,
            "top": null,
            "visibility": null,
            "width": null
          }
        },
        "a9349cdc6e4449d499ed570171b1044d": {
          "model_module": "@jupyter-widgets/base",
          "model_name": "LayoutModel",
          "model_module_version": "1.2.0",
          "state": {
            "_model_module": "@jupyter-widgets/base",
            "_model_module_version": "1.2.0",
            "_model_name": "LayoutModel",
            "_view_count": null,
            "_view_module": "@jupyter-widgets/base",
            "_view_module_version": "1.2.0",
            "_view_name": "LayoutView",
            "align_content": null,
            "align_items": null,
            "align_self": null,
            "border": null,
            "bottom": null,
            "display": null,
            "flex": null,
            "flex_flow": null,
            "grid_area": null,
            "grid_auto_columns": null,
            "grid_auto_flow": null,
            "grid_auto_rows": null,
            "grid_column": null,
            "grid_gap": null,
            "grid_row": null,
            "grid_template_areas": null,
            "grid_template_columns": null,
            "grid_template_rows": null,
            "height": null,
            "justify_content": null,
            "justify_items": null,
            "left": null,
            "margin": null,
            "max_height": null,
            "max_width": null,
            "min_height": null,
            "min_width": null,
            "object_fit": null,
            "object_position": null,
            "order": null,
            "overflow": null,
            "overflow_x": null,
            "overflow_y": null,
            "padding": null,
            "right": null,
            "top": null,
            "visibility": null,
            "width": null
          }
        },
        "85c34363c6b844b39bc03ed7a7642b30": {
          "model_module": "@jupyter-widgets/controls",
          "model_name": "DescriptionStyleModel",
          "model_module_version": "1.5.0",
          "state": {
            "_model_module": "@jupyter-widgets/controls",
            "_model_module_version": "1.5.0",
            "_model_name": "DescriptionStyleModel",
            "_view_count": null,
            "_view_module": "@jupyter-widgets/base",
            "_view_module_version": "1.2.0",
            "_view_name": "StyleView",
            "description_width": ""
          }
        },
        "f5b520035d58449db6836695732b7814": {
          "model_module": "@jupyter-widgets/base",
          "model_name": "LayoutModel",
          "model_module_version": "1.2.0",
          "state": {
            "_model_module": "@jupyter-widgets/base",
            "_model_module_version": "1.2.0",
            "_model_name": "LayoutModel",
            "_view_count": null,
            "_view_module": "@jupyter-widgets/base",
            "_view_module_version": "1.2.0",
            "_view_name": "LayoutView",
            "align_content": null,
            "align_items": null,
            "align_self": null,
            "border": null,
            "bottom": null,
            "display": null,
            "flex": null,
            "flex_flow": null,
            "grid_area": null,
            "grid_auto_columns": null,
            "grid_auto_flow": null,
            "grid_auto_rows": null,
            "grid_column": null,
            "grid_gap": null,
            "grid_row": null,
            "grid_template_areas": null,
            "grid_template_columns": null,
            "grid_template_rows": null,
            "height": null,
            "justify_content": null,
            "justify_items": null,
            "left": null,
            "margin": null,
            "max_height": null,
            "max_width": null,
            "min_height": null,
            "min_width": null,
            "object_fit": null,
            "object_position": null,
            "order": null,
            "overflow": null,
            "overflow_x": null,
            "overflow_y": null,
            "padding": null,
            "right": null,
            "top": null,
            "visibility": null,
            "width": null
          }
        },
        "20444868bbc5476eb40d1026cc8cc007": {
          "model_module": "@jupyter-widgets/controls",
          "model_name": "ProgressStyleModel",
          "model_module_version": "1.5.0",
          "state": {
            "_model_module": "@jupyter-widgets/controls",
            "_model_module_version": "1.5.0",
            "_model_name": "ProgressStyleModel",
            "_view_count": null,
            "_view_module": "@jupyter-widgets/base",
            "_view_module_version": "1.2.0",
            "_view_name": "StyleView",
            "bar_color": null,
            "description_width": ""
          }
        },
        "1735fb54344e41c191d3324464e97369": {
          "model_module": "@jupyter-widgets/base",
          "model_name": "LayoutModel",
          "model_module_version": "1.2.0",
          "state": {
            "_model_module": "@jupyter-widgets/base",
            "_model_module_version": "1.2.0",
            "_model_name": "LayoutModel",
            "_view_count": null,
            "_view_module": "@jupyter-widgets/base",
            "_view_module_version": "1.2.0",
            "_view_name": "LayoutView",
            "align_content": null,
            "align_items": null,
            "align_self": null,
            "border": null,
            "bottom": null,
            "display": null,
            "flex": null,
            "flex_flow": null,
            "grid_area": null,
            "grid_auto_columns": null,
            "grid_auto_flow": null,
            "grid_auto_rows": null,
            "grid_column": null,
            "grid_gap": null,
            "grid_row": null,
            "grid_template_areas": null,
            "grid_template_columns": null,
            "grid_template_rows": null,
            "height": null,
            "justify_content": null,
            "justify_items": null,
            "left": null,
            "margin": null,
            "max_height": null,
            "max_width": null,
            "min_height": null,
            "min_width": null,
            "object_fit": null,
            "object_position": null,
            "order": null,
            "overflow": null,
            "overflow_x": null,
            "overflow_y": null,
            "padding": null,
            "right": null,
            "top": null,
            "visibility": null,
            "width": null
          }
        },
        "1f07ac0e876b49f7b6af0df94a782089": {
          "model_module": "@jupyter-widgets/controls",
          "model_name": "DescriptionStyleModel",
          "model_module_version": "1.5.0",
          "state": {
            "_model_module": "@jupyter-widgets/controls",
            "_model_module_version": "1.5.0",
            "_model_name": "DescriptionStyleModel",
            "_view_count": null,
            "_view_module": "@jupyter-widgets/base",
            "_view_module_version": "1.2.0",
            "_view_name": "StyleView",
            "description_width": ""
          }
        },
        "18a22a0d7a274b73a3a862b2cbe5f1e8": {
          "model_module": "@jupyter-widgets/controls",
          "model_name": "HBoxModel",
          "model_module_version": "1.5.0",
          "state": {
            "_dom_classes": [],
            "_model_module": "@jupyter-widgets/controls",
            "_model_module_version": "1.5.0",
            "_model_name": "HBoxModel",
            "_view_count": null,
            "_view_module": "@jupyter-widgets/controls",
            "_view_module_version": "1.5.0",
            "_view_name": "HBoxView",
            "box_style": "",
            "children": [
              "IPY_MODEL_90bee716f32e4a1bac20d5f5a11ae1e5",
              "IPY_MODEL_120326d5e7024515934f65719029c184",
              "IPY_MODEL_2172300a0a214ba7b368bbbe9f546fc8"
            ],
            "layout": "IPY_MODEL_db8f1bc5a77046439cd93bff27a6d601"
          }
        },
        "90bee716f32e4a1bac20d5f5a11ae1e5": {
          "model_module": "@jupyter-widgets/controls",
          "model_name": "HTMLModel",
          "model_module_version": "1.5.0",
          "state": {
            "_dom_classes": [],
            "_model_module": "@jupyter-widgets/controls",
            "_model_module_version": "1.5.0",
            "_model_name": "HTMLModel",
            "_view_count": null,
            "_view_module": "@jupyter-widgets/controls",
            "_view_module_version": "1.5.0",
            "_view_name": "HTMLView",
            "description": "",
            "description_tooltip": null,
            "layout": "IPY_MODEL_0c9de012f1844390a072078da0133fbe",
            "placeholder": "​",
            "style": "IPY_MODEL_ed1cec493e634aae9580b6e9e13d6041",
            "value": "100%"
          }
        },
        "120326d5e7024515934f65719029c184": {
          "model_module": "@jupyter-widgets/controls",
          "model_name": "FloatProgressModel",
          "model_module_version": "1.5.0",
          "state": {
            "_dom_classes": [],
            "_model_module": "@jupyter-widgets/controls",
            "_model_module_version": "1.5.0",
            "_model_name": "FloatProgressModel",
            "_view_count": null,
            "_view_module": "@jupyter-widgets/controls",
            "_view_module_version": "1.5.0",
            "_view_name": "ProgressView",
            "bar_style": "success",
            "description": "",
            "description_tooltip": null,
            "layout": "IPY_MODEL_d50ef04c105746a3ad3ce305b045a129",
            "max": 100,
            "min": 0,
            "orientation": "horizontal",
            "style": "IPY_MODEL_03d991ff72954eb1b04f4387ea5679f7",
            "value": 100
          }
        },
        "2172300a0a214ba7b368bbbe9f546fc8": {
          "model_module": "@jupyter-widgets/controls",
          "model_name": "HTMLModel",
          "model_module_version": "1.5.0",
          "state": {
            "_dom_classes": [],
            "_model_module": "@jupyter-widgets/controls",
            "_model_module_version": "1.5.0",
            "_model_name": "HTMLModel",
            "_view_count": null,
            "_view_module": "@jupyter-widgets/controls",
            "_view_module_version": "1.5.0",
            "_view_name": "HTMLView",
            "description": "",
            "description_tooltip": null,
            "layout": "IPY_MODEL_885f4f3398de49efb7c72416d1177d32",
            "placeholder": "​",
            "style": "IPY_MODEL_447695ddd1304dac962dfd2869d3a6dc",
            "value": " 100/100 [00:17&lt;00:00,  7.81it/s]"
          }
        },
        "db8f1bc5a77046439cd93bff27a6d601": {
          "model_module": "@jupyter-widgets/base",
          "model_name": "LayoutModel",
          "model_module_version": "1.2.0",
          "state": {
            "_model_module": "@jupyter-widgets/base",
            "_model_module_version": "1.2.0",
            "_model_name": "LayoutModel",
            "_view_count": null,
            "_view_module": "@jupyter-widgets/base",
            "_view_module_version": "1.2.0",
            "_view_name": "LayoutView",
            "align_content": null,
            "align_items": null,
            "align_self": null,
            "border": null,
            "bottom": null,
            "display": null,
            "flex": null,
            "flex_flow": null,
            "grid_area": null,
            "grid_auto_columns": null,
            "grid_auto_flow": null,
            "grid_auto_rows": null,
            "grid_column": null,
            "grid_gap": null,
            "grid_row": null,
            "grid_template_areas": null,
            "grid_template_columns": null,
            "grid_template_rows": null,
            "height": null,
            "justify_content": null,
            "justify_items": null,
            "left": null,
            "margin": null,
            "max_height": null,
            "max_width": null,
            "min_height": null,
            "min_width": null,
            "object_fit": null,
            "object_position": null,
            "order": null,
            "overflow": null,
            "overflow_x": null,
            "overflow_y": null,
            "padding": null,
            "right": null,
            "top": null,
            "visibility": null,
            "width": null
          }
        },
        "0c9de012f1844390a072078da0133fbe": {
          "model_module": "@jupyter-widgets/base",
          "model_name": "LayoutModel",
          "model_module_version": "1.2.0",
          "state": {
            "_model_module": "@jupyter-widgets/base",
            "_model_module_version": "1.2.0",
            "_model_name": "LayoutModel",
            "_view_count": null,
            "_view_module": "@jupyter-widgets/base",
            "_view_module_version": "1.2.0",
            "_view_name": "LayoutView",
            "align_content": null,
            "align_items": null,
            "align_self": null,
            "border": null,
            "bottom": null,
            "display": null,
            "flex": null,
            "flex_flow": null,
            "grid_area": null,
            "grid_auto_columns": null,
            "grid_auto_flow": null,
            "grid_auto_rows": null,
            "grid_column": null,
            "grid_gap": null,
            "grid_row": null,
            "grid_template_areas": null,
            "grid_template_columns": null,
            "grid_template_rows": null,
            "height": null,
            "justify_content": null,
            "justify_items": null,
            "left": null,
            "margin": null,
            "max_height": null,
            "max_width": null,
            "min_height": null,
            "min_width": null,
            "object_fit": null,
            "object_position": null,
            "order": null,
            "overflow": null,
            "overflow_x": null,
            "overflow_y": null,
            "padding": null,
            "right": null,
            "top": null,
            "visibility": null,
            "width": null
          }
        },
        "ed1cec493e634aae9580b6e9e13d6041": {
          "model_module": "@jupyter-widgets/controls",
          "model_name": "DescriptionStyleModel",
          "model_module_version": "1.5.0",
          "state": {
            "_model_module": "@jupyter-widgets/controls",
            "_model_module_version": "1.5.0",
            "_model_name": "DescriptionStyleModel",
            "_view_count": null,
            "_view_module": "@jupyter-widgets/base",
            "_view_module_version": "1.2.0",
            "_view_name": "StyleView",
            "description_width": ""
          }
        },
        "d50ef04c105746a3ad3ce305b045a129": {
          "model_module": "@jupyter-widgets/base",
          "model_name": "LayoutModel",
          "model_module_version": "1.2.0",
          "state": {
            "_model_module": "@jupyter-widgets/base",
            "_model_module_version": "1.2.0",
            "_model_name": "LayoutModel",
            "_view_count": null,
            "_view_module": "@jupyter-widgets/base",
            "_view_module_version": "1.2.0",
            "_view_name": "LayoutView",
            "align_content": null,
            "align_items": null,
            "align_self": null,
            "border": null,
            "bottom": null,
            "display": null,
            "flex": null,
            "flex_flow": null,
            "grid_area": null,
            "grid_auto_columns": null,
            "grid_auto_flow": null,
            "grid_auto_rows": null,
            "grid_column": null,
            "grid_gap": null,
            "grid_row": null,
            "grid_template_areas": null,
            "grid_template_columns": null,
            "grid_template_rows": null,
            "height": null,
            "justify_content": null,
            "justify_items": null,
            "left": null,
            "margin": null,
            "max_height": null,
            "max_width": null,
            "min_height": null,
            "min_width": null,
            "object_fit": null,
            "object_position": null,
            "order": null,
            "overflow": null,
            "overflow_x": null,
            "overflow_y": null,
            "padding": null,
            "right": null,
            "top": null,
            "visibility": null,
            "width": null
          }
        },
        "03d991ff72954eb1b04f4387ea5679f7": {
          "model_module": "@jupyter-widgets/controls",
          "model_name": "ProgressStyleModel",
          "model_module_version": "1.5.0",
          "state": {
            "_model_module": "@jupyter-widgets/controls",
            "_model_module_version": "1.5.0",
            "_model_name": "ProgressStyleModel",
            "_view_count": null,
            "_view_module": "@jupyter-widgets/base",
            "_view_module_version": "1.2.0",
            "_view_name": "StyleView",
            "bar_color": null,
            "description_width": ""
          }
        },
        "885f4f3398de49efb7c72416d1177d32": {
          "model_module": "@jupyter-widgets/base",
          "model_name": "LayoutModel",
          "model_module_version": "1.2.0",
          "state": {
            "_model_module": "@jupyter-widgets/base",
            "_model_module_version": "1.2.0",
            "_model_name": "LayoutModel",
            "_view_count": null,
            "_view_module": "@jupyter-widgets/base",
            "_view_module_version": "1.2.0",
            "_view_name": "LayoutView",
            "align_content": null,
            "align_items": null,
            "align_self": null,
            "border": null,
            "bottom": null,
            "display": null,
            "flex": null,
            "flex_flow": null,
            "grid_area": null,
            "grid_auto_columns": null,
            "grid_auto_flow": null,
            "grid_auto_rows": null,
            "grid_column": null,
            "grid_gap": null,
            "grid_row": null,
            "grid_template_areas": null,
            "grid_template_columns": null,
            "grid_template_rows": null,
            "height": null,
            "justify_content": null,
            "justify_items": null,
            "left": null,
            "margin": null,
            "max_height": null,
            "max_width": null,
            "min_height": null,
            "min_width": null,
            "object_fit": null,
            "object_position": null,
            "order": null,
            "overflow": null,
            "overflow_x": null,
            "overflow_y": null,
            "padding": null,
            "right": null,
            "top": null,
            "visibility": null,
            "width": null
          }
        },
        "447695ddd1304dac962dfd2869d3a6dc": {
          "model_module": "@jupyter-widgets/controls",
          "model_name": "DescriptionStyleModel",
          "model_module_version": "1.5.0",
          "state": {
            "_model_module": "@jupyter-widgets/controls",
            "_model_module_version": "1.5.0",
            "_model_name": "DescriptionStyleModel",
            "_view_count": null,
            "_view_module": "@jupyter-widgets/base",
            "_view_module_version": "1.2.0",
            "_view_name": "StyleView",
            "description_width": ""
          }
        },
        "cac1c62056d145eea9d1ab7109c0e6e4": {
          "model_module": "@jupyter-widgets/controls",
          "model_name": "HBoxModel",
          "model_module_version": "1.5.0",
          "state": {
            "_dom_classes": [],
            "_model_module": "@jupyter-widgets/controls",
            "_model_module_version": "1.5.0",
            "_model_name": "HBoxModel",
            "_view_count": null,
            "_view_module": "@jupyter-widgets/controls",
            "_view_module_version": "1.5.0",
            "_view_name": "HBoxView",
            "box_style": "",
            "children": [
              "IPY_MODEL_f9cd998bafeb4965aba5cda13ef0df96",
              "IPY_MODEL_65ac8a832e61463581d0fab1b1b2484a",
              "IPY_MODEL_6240985ac89e44b6a4fd66e53efd6b3e"
            ],
            "layout": "IPY_MODEL_765aee544be64ba5b586874b411108ca"
          }
        },
        "f9cd998bafeb4965aba5cda13ef0df96": {
          "model_module": "@jupyter-widgets/controls",
          "model_name": "HTMLModel",
          "model_module_version": "1.5.0",
          "state": {
            "_dom_classes": [],
            "_model_module": "@jupyter-widgets/controls",
            "_model_module_version": "1.5.0",
            "_model_name": "HTMLModel",
            "_view_count": null,
            "_view_module": "@jupyter-widgets/controls",
            "_view_module_version": "1.5.0",
            "_view_name": "HTMLView",
            "description": "",
            "description_tooltip": null,
            "layout": "IPY_MODEL_5a3903819f04470faf27e2c11a64c5b5",
            "placeholder": "​",
            "style": "IPY_MODEL_e33db9d6cd4e4bd59e347e29a6945eca",
            "value": "100%"
          }
        },
        "65ac8a832e61463581d0fab1b1b2484a": {
          "model_module": "@jupyter-widgets/controls",
          "model_name": "FloatProgressModel",
          "model_module_version": "1.5.0",
          "state": {
            "_dom_classes": [],
            "_model_module": "@jupyter-widgets/controls",
            "_model_module_version": "1.5.0",
            "_model_name": "FloatProgressModel",
            "_view_count": null,
            "_view_module": "@jupyter-widgets/controls",
            "_view_module_version": "1.5.0",
            "_view_name": "ProgressView",
            "bar_style": "success",
            "description": "",
            "description_tooltip": null,
            "layout": "IPY_MODEL_88aefe43bfb2494d8c3446b765dc5771",
            "max": 100,
            "min": 0,
            "orientation": "horizontal",
            "style": "IPY_MODEL_9a8d2ccb61704ac0ab893210eb366526",
            "value": 100
          }
        },
        "6240985ac89e44b6a4fd66e53efd6b3e": {
          "model_module": "@jupyter-widgets/controls",
          "model_name": "HTMLModel",
          "model_module_version": "1.5.0",
          "state": {
            "_dom_classes": [],
            "_model_module": "@jupyter-widgets/controls",
            "_model_module_version": "1.5.0",
            "_model_name": "HTMLModel",
            "_view_count": null,
            "_view_module": "@jupyter-widgets/controls",
            "_view_module_version": "1.5.0",
            "_view_name": "HTMLView",
            "description": "",
            "description_tooltip": null,
            "layout": "IPY_MODEL_35f654aa4aab46ad93a51c7019d7df82",
            "placeholder": "​",
            "style": "IPY_MODEL_29d55ab93099429aa600563dcd110f1b",
            "value": " 100/100 [00:18&lt;00:00,  5.57it/s]"
          }
        },
        "765aee544be64ba5b586874b411108ca": {
          "model_module": "@jupyter-widgets/base",
          "model_name": "LayoutModel",
          "model_module_version": "1.2.0",
          "state": {
            "_model_module": "@jupyter-widgets/base",
            "_model_module_version": "1.2.0",
            "_model_name": "LayoutModel",
            "_view_count": null,
            "_view_module": "@jupyter-widgets/base",
            "_view_module_version": "1.2.0",
            "_view_name": "LayoutView",
            "align_content": null,
            "align_items": null,
            "align_self": null,
            "border": null,
            "bottom": null,
            "display": null,
            "flex": null,
            "flex_flow": null,
            "grid_area": null,
            "grid_auto_columns": null,
            "grid_auto_flow": null,
            "grid_auto_rows": null,
            "grid_column": null,
            "grid_gap": null,
            "grid_row": null,
            "grid_template_areas": null,
            "grid_template_columns": null,
            "grid_template_rows": null,
            "height": null,
            "justify_content": null,
            "justify_items": null,
            "left": null,
            "margin": null,
            "max_height": null,
            "max_width": null,
            "min_height": null,
            "min_width": null,
            "object_fit": null,
            "object_position": null,
            "order": null,
            "overflow": null,
            "overflow_x": null,
            "overflow_y": null,
            "padding": null,
            "right": null,
            "top": null,
            "visibility": null,
            "width": null
          }
        },
        "5a3903819f04470faf27e2c11a64c5b5": {
          "model_module": "@jupyter-widgets/base",
          "model_name": "LayoutModel",
          "model_module_version": "1.2.0",
          "state": {
            "_model_module": "@jupyter-widgets/base",
            "_model_module_version": "1.2.0",
            "_model_name": "LayoutModel",
            "_view_count": null,
            "_view_module": "@jupyter-widgets/base",
            "_view_module_version": "1.2.0",
            "_view_name": "LayoutView",
            "align_content": null,
            "align_items": null,
            "align_self": null,
            "border": null,
            "bottom": null,
            "display": null,
            "flex": null,
            "flex_flow": null,
            "grid_area": null,
            "grid_auto_columns": null,
            "grid_auto_flow": null,
            "grid_auto_rows": null,
            "grid_column": null,
            "grid_gap": null,
            "grid_row": null,
            "grid_template_areas": null,
            "grid_template_columns": null,
            "grid_template_rows": null,
            "height": null,
            "justify_content": null,
            "justify_items": null,
            "left": null,
            "margin": null,
            "max_height": null,
            "max_width": null,
            "min_height": null,
            "min_width": null,
            "object_fit": null,
            "object_position": null,
            "order": null,
            "overflow": null,
            "overflow_x": null,
            "overflow_y": null,
            "padding": null,
            "right": null,
            "top": null,
            "visibility": null,
            "width": null
          }
        },
        "e33db9d6cd4e4bd59e347e29a6945eca": {
          "model_module": "@jupyter-widgets/controls",
          "model_name": "DescriptionStyleModel",
          "model_module_version": "1.5.0",
          "state": {
            "_model_module": "@jupyter-widgets/controls",
            "_model_module_version": "1.5.0",
            "_model_name": "DescriptionStyleModel",
            "_view_count": null,
            "_view_module": "@jupyter-widgets/base",
            "_view_module_version": "1.2.0",
            "_view_name": "StyleView",
            "description_width": ""
          }
        },
        "88aefe43bfb2494d8c3446b765dc5771": {
          "model_module": "@jupyter-widgets/base",
          "model_name": "LayoutModel",
          "model_module_version": "1.2.0",
          "state": {
            "_model_module": "@jupyter-widgets/base",
            "_model_module_version": "1.2.0",
            "_model_name": "LayoutModel",
            "_view_count": null,
            "_view_module": "@jupyter-widgets/base",
            "_view_module_version": "1.2.0",
            "_view_name": "LayoutView",
            "align_content": null,
            "align_items": null,
            "align_self": null,
            "border": null,
            "bottom": null,
            "display": null,
            "flex": null,
            "flex_flow": null,
            "grid_area": null,
            "grid_auto_columns": null,
            "grid_auto_flow": null,
            "grid_auto_rows": null,
            "grid_column": null,
            "grid_gap": null,
            "grid_row": null,
            "grid_template_areas": null,
            "grid_template_columns": null,
            "grid_template_rows": null,
            "height": null,
            "justify_content": null,
            "justify_items": null,
            "left": null,
            "margin": null,
            "max_height": null,
            "max_width": null,
            "min_height": null,
            "min_width": null,
            "object_fit": null,
            "object_position": null,
            "order": null,
            "overflow": null,
            "overflow_x": null,
            "overflow_y": null,
            "padding": null,
            "right": null,
            "top": null,
            "visibility": null,
            "width": null
          }
        },
        "9a8d2ccb61704ac0ab893210eb366526": {
          "model_module": "@jupyter-widgets/controls",
          "model_name": "ProgressStyleModel",
          "model_module_version": "1.5.0",
          "state": {
            "_model_module": "@jupyter-widgets/controls",
            "_model_module_version": "1.5.0",
            "_model_name": "ProgressStyleModel",
            "_view_count": null,
            "_view_module": "@jupyter-widgets/base",
            "_view_module_version": "1.2.0",
            "_view_name": "StyleView",
            "bar_color": null,
            "description_width": ""
          }
        },
        "35f654aa4aab46ad93a51c7019d7df82": {
          "model_module": "@jupyter-widgets/base",
          "model_name": "LayoutModel",
          "model_module_version": "1.2.0",
          "state": {
            "_model_module": "@jupyter-widgets/base",
            "_model_module_version": "1.2.0",
            "_model_name": "LayoutModel",
            "_view_count": null,
            "_view_module": "@jupyter-widgets/base",
            "_view_module_version": "1.2.0",
            "_view_name": "LayoutView",
            "align_content": null,
            "align_items": null,
            "align_self": null,
            "border": null,
            "bottom": null,
            "display": null,
            "flex": null,
            "flex_flow": null,
            "grid_area": null,
            "grid_auto_columns": null,
            "grid_auto_flow": null,
            "grid_auto_rows": null,
            "grid_column": null,
            "grid_gap": null,
            "grid_row": null,
            "grid_template_areas": null,
            "grid_template_columns": null,
            "grid_template_rows": null,
            "height": null,
            "justify_content": null,
            "justify_items": null,
            "left": null,
            "margin": null,
            "max_height": null,
            "max_width": null,
            "min_height": null,
            "min_width": null,
            "object_fit": null,
            "object_position": null,
            "order": null,
            "overflow": null,
            "overflow_x": null,
            "overflow_y": null,
            "padding": null,
            "right": null,
            "top": null,
            "visibility": null,
            "width": null
          }
        },
        "29d55ab93099429aa600563dcd110f1b": {
          "model_module": "@jupyter-widgets/controls",
          "model_name": "DescriptionStyleModel",
          "model_module_version": "1.5.0",
          "state": {
            "_model_module": "@jupyter-widgets/controls",
            "_model_module_version": "1.5.0",
            "_model_name": "DescriptionStyleModel",
            "_view_count": null,
            "_view_module": "@jupyter-widgets/base",
            "_view_module_version": "1.2.0",
            "_view_name": "StyleView",
            "description_width": ""
          }
        },
        "3c7ee75d387a4831924f1f26c3a6e8da": {
          "model_module": "@jupyter-widgets/controls",
          "model_name": "HBoxModel",
          "model_module_version": "1.5.0",
          "state": {
            "_dom_classes": [],
            "_model_module": "@jupyter-widgets/controls",
            "_model_module_version": "1.5.0",
            "_model_name": "HBoxModel",
            "_view_count": null,
            "_view_module": "@jupyter-widgets/controls",
            "_view_module_version": "1.5.0",
            "_view_name": "HBoxView",
            "box_style": "",
            "children": [
              "IPY_MODEL_8474b76d0866467b847b255127fcfa08",
              "IPY_MODEL_f3f1a0a2f87a44f28f1dee17717984a4",
              "IPY_MODEL_a155ceb6e066440f91cd2afdd75b3bdb"
            ],
            "layout": "IPY_MODEL_cc4c620656084d67a59894b951963089"
          }
        },
        "8474b76d0866467b847b255127fcfa08": {
          "model_module": "@jupyter-widgets/controls",
          "model_name": "HTMLModel",
          "model_module_version": "1.5.0",
          "state": {
            "_dom_classes": [],
            "_model_module": "@jupyter-widgets/controls",
            "_model_module_version": "1.5.0",
            "_model_name": "HTMLModel",
            "_view_count": null,
            "_view_module": "@jupyter-widgets/controls",
            "_view_module_version": "1.5.0",
            "_view_name": "HTMLView",
            "description": "",
            "description_tooltip": null,
            "layout": "IPY_MODEL_fc24b88d6ea04a61bd029ea5fafaa23b",
            "placeholder": "​",
            "style": "IPY_MODEL_0e97876dbe664697ade8222af6f51e1a",
            "value": "100%"
          }
        },
        "f3f1a0a2f87a44f28f1dee17717984a4": {
          "model_module": "@jupyter-widgets/controls",
          "model_name": "FloatProgressModel",
          "model_module_version": "1.5.0",
          "state": {
            "_dom_classes": [],
            "_model_module": "@jupyter-widgets/controls",
            "_model_module_version": "1.5.0",
            "_model_name": "FloatProgressModel",
            "_view_count": null,
            "_view_module": "@jupyter-widgets/controls",
            "_view_module_version": "1.5.0",
            "_view_name": "ProgressView",
            "bar_style": "success",
            "description": "",
            "description_tooltip": null,
            "layout": "IPY_MODEL_e89918737e274627b25523c523c00837",
            "max": 100,
            "min": 0,
            "orientation": "horizontal",
            "style": "IPY_MODEL_c4aa69aa1f044a9d910d9f1a83338c35",
            "value": 100
          }
        },
        "a155ceb6e066440f91cd2afdd75b3bdb": {
          "model_module": "@jupyter-widgets/controls",
          "model_name": "HTMLModel",
          "model_module_version": "1.5.0",
          "state": {
            "_dom_classes": [],
            "_model_module": "@jupyter-widgets/controls",
            "_model_module_version": "1.5.0",
            "_model_name": "HTMLModel",
            "_view_count": null,
            "_view_module": "@jupyter-widgets/controls",
            "_view_module_version": "1.5.0",
            "_view_name": "HTMLView",
            "description": "",
            "description_tooltip": null,
            "layout": "IPY_MODEL_76314bf154074946beeac0328b44b61a",
            "placeholder": "​",
            "style": "IPY_MODEL_28560d360fe64eefa4f4fe9505370c20",
            "value": " 100/100 [00:18&lt;00:00,  4.83it/s]"
          }
        },
        "cc4c620656084d67a59894b951963089": {
          "model_module": "@jupyter-widgets/base",
          "model_name": "LayoutModel",
          "model_module_version": "1.2.0",
          "state": {
            "_model_module": "@jupyter-widgets/base",
            "_model_module_version": "1.2.0",
            "_model_name": "LayoutModel",
            "_view_count": null,
            "_view_module": "@jupyter-widgets/base",
            "_view_module_version": "1.2.0",
            "_view_name": "LayoutView",
            "align_content": null,
            "align_items": null,
            "align_self": null,
            "border": null,
            "bottom": null,
            "display": null,
            "flex": null,
            "flex_flow": null,
            "grid_area": null,
            "grid_auto_columns": null,
            "grid_auto_flow": null,
            "grid_auto_rows": null,
            "grid_column": null,
            "grid_gap": null,
            "grid_row": null,
            "grid_template_areas": null,
            "grid_template_columns": null,
            "grid_template_rows": null,
            "height": null,
            "justify_content": null,
            "justify_items": null,
            "left": null,
            "margin": null,
            "max_height": null,
            "max_width": null,
            "min_height": null,
            "min_width": null,
            "object_fit": null,
            "object_position": null,
            "order": null,
            "overflow": null,
            "overflow_x": null,
            "overflow_y": null,
            "padding": null,
            "right": null,
            "top": null,
            "visibility": null,
            "width": null
          }
        },
        "fc24b88d6ea04a61bd029ea5fafaa23b": {
          "model_module": "@jupyter-widgets/base",
          "model_name": "LayoutModel",
          "model_module_version": "1.2.0",
          "state": {
            "_model_module": "@jupyter-widgets/base",
            "_model_module_version": "1.2.0",
            "_model_name": "LayoutModel",
            "_view_count": null,
            "_view_module": "@jupyter-widgets/base",
            "_view_module_version": "1.2.0",
            "_view_name": "LayoutView",
            "align_content": null,
            "align_items": null,
            "align_self": null,
            "border": null,
            "bottom": null,
            "display": null,
            "flex": null,
            "flex_flow": null,
            "grid_area": null,
            "grid_auto_columns": null,
            "grid_auto_flow": null,
            "grid_auto_rows": null,
            "grid_column": null,
            "grid_gap": null,
            "grid_row": null,
            "grid_template_areas": null,
            "grid_template_columns": null,
            "grid_template_rows": null,
            "height": null,
            "justify_content": null,
            "justify_items": null,
            "left": null,
            "margin": null,
            "max_height": null,
            "max_width": null,
            "min_height": null,
            "min_width": null,
            "object_fit": null,
            "object_position": null,
            "order": null,
            "overflow": null,
            "overflow_x": null,
            "overflow_y": null,
            "padding": null,
            "right": null,
            "top": null,
            "visibility": null,
            "width": null
          }
        },
        "0e97876dbe664697ade8222af6f51e1a": {
          "model_module": "@jupyter-widgets/controls",
          "model_name": "DescriptionStyleModel",
          "model_module_version": "1.5.0",
          "state": {
            "_model_module": "@jupyter-widgets/controls",
            "_model_module_version": "1.5.0",
            "_model_name": "DescriptionStyleModel",
            "_view_count": null,
            "_view_module": "@jupyter-widgets/base",
            "_view_module_version": "1.2.0",
            "_view_name": "StyleView",
            "description_width": ""
          }
        },
        "e89918737e274627b25523c523c00837": {
          "model_module": "@jupyter-widgets/base",
          "model_name": "LayoutModel",
          "model_module_version": "1.2.0",
          "state": {
            "_model_module": "@jupyter-widgets/base",
            "_model_module_version": "1.2.0",
            "_model_name": "LayoutModel",
            "_view_count": null,
            "_view_module": "@jupyter-widgets/base",
            "_view_module_version": "1.2.0",
            "_view_name": "LayoutView",
            "align_content": null,
            "align_items": null,
            "align_self": null,
            "border": null,
            "bottom": null,
            "display": null,
            "flex": null,
            "flex_flow": null,
            "grid_area": null,
            "grid_auto_columns": null,
            "grid_auto_flow": null,
            "grid_auto_rows": null,
            "grid_column": null,
            "grid_gap": null,
            "grid_row": null,
            "grid_template_areas": null,
            "grid_template_columns": null,
            "grid_template_rows": null,
            "height": null,
            "justify_content": null,
            "justify_items": null,
            "left": null,
            "margin": null,
            "max_height": null,
            "max_width": null,
            "min_height": null,
            "min_width": null,
            "object_fit": null,
            "object_position": null,
            "order": null,
            "overflow": null,
            "overflow_x": null,
            "overflow_y": null,
            "padding": null,
            "right": null,
            "top": null,
            "visibility": null,
            "width": null
          }
        },
        "c4aa69aa1f044a9d910d9f1a83338c35": {
          "model_module": "@jupyter-widgets/controls",
          "model_name": "ProgressStyleModel",
          "model_module_version": "1.5.0",
          "state": {
            "_model_module": "@jupyter-widgets/controls",
            "_model_module_version": "1.5.0",
            "_model_name": "ProgressStyleModel",
            "_view_count": null,
            "_view_module": "@jupyter-widgets/base",
            "_view_module_version": "1.2.0",
            "_view_name": "StyleView",
            "bar_color": null,
            "description_width": ""
          }
        },
        "76314bf154074946beeac0328b44b61a": {
          "model_module": "@jupyter-widgets/base",
          "model_name": "LayoutModel",
          "model_module_version": "1.2.0",
          "state": {
            "_model_module": "@jupyter-widgets/base",
            "_model_module_version": "1.2.0",
            "_model_name": "LayoutModel",
            "_view_count": null,
            "_view_module": "@jupyter-widgets/base",
            "_view_module_version": "1.2.0",
            "_view_name": "LayoutView",
            "align_content": null,
            "align_items": null,
            "align_self": null,
            "border": null,
            "bottom": null,
            "display": null,
            "flex": null,
            "flex_flow": null,
            "grid_area": null,
            "grid_auto_columns": null,
            "grid_auto_flow": null,
            "grid_auto_rows": null,
            "grid_column": null,
            "grid_gap": null,
            "grid_row": null,
            "grid_template_areas": null,
            "grid_template_columns": null,
            "grid_template_rows": null,
            "height": null,
            "justify_content": null,
            "justify_items": null,
            "left": null,
            "margin": null,
            "max_height": null,
            "max_width": null,
            "min_height": null,
            "min_width": null,
            "object_fit": null,
            "object_position": null,
            "order": null,
            "overflow": null,
            "overflow_x": null,
            "overflow_y": null,
            "padding": null,
            "right": null,
            "top": null,
            "visibility": null,
            "width": null
          }
        },
        "28560d360fe64eefa4f4fe9505370c20": {
          "model_module": "@jupyter-widgets/controls",
          "model_name": "DescriptionStyleModel",
          "model_module_version": "1.5.0",
          "state": {
            "_model_module": "@jupyter-widgets/controls",
            "_model_module_version": "1.5.0",
            "_model_name": "DescriptionStyleModel",
            "_view_count": null,
            "_view_module": "@jupyter-widgets/base",
            "_view_module_version": "1.2.0",
            "_view_name": "StyleView",
            "description_width": ""
          }
        },
        "a425ed270e2c4683ba627c4f224e5e93": {
          "model_module": "@jupyter-widgets/controls",
          "model_name": "HBoxModel",
          "model_module_version": "1.5.0",
          "state": {
            "_dom_classes": [],
            "_model_module": "@jupyter-widgets/controls",
            "_model_module_version": "1.5.0",
            "_model_name": "HBoxModel",
            "_view_count": null,
            "_view_module": "@jupyter-widgets/controls",
            "_view_module_version": "1.5.0",
            "_view_name": "HBoxView",
            "box_style": "",
            "children": [
              "IPY_MODEL_ad36ed946d144a32b1e9ea706eeae462",
              "IPY_MODEL_1308f47570e44ceca8a9739b267b736b",
              "IPY_MODEL_08688c9af29944d7b51c11aebc099239"
            ],
            "layout": "IPY_MODEL_51274d2ea2dd41b9bd981f42e33991da"
          }
        },
        "ad36ed946d144a32b1e9ea706eeae462": {
          "model_module": "@jupyter-widgets/controls",
          "model_name": "HTMLModel",
          "model_module_version": "1.5.0",
          "state": {
            "_dom_classes": [],
            "_model_module": "@jupyter-widgets/controls",
            "_model_module_version": "1.5.0",
            "_model_name": "HTMLModel",
            "_view_count": null,
            "_view_module": "@jupyter-widgets/controls",
            "_view_module_version": "1.5.0",
            "_view_name": "HTMLView",
            "description": "",
            "description_tooltip": null,
            "layout": "IPY_MODEL_d45b87f0045646639b84996be38fc2be",
            "placeholder": "​",
            "style": "IPY_MODEL_9b35f79beb734e1ea119a46a381f08eb",
            "value": "100%"
          }
        },
        "1308f47570e44ceca8a9739b267b736b": {
          "model_module": "@jupyter-widgets/controls",
          "model_name": "FloatProgressModel",
          "model_module_version": "1.5.0",
          "state": {
            "_dom_classes": [],
            "_model_module": "@jupyter-widgets/controls",
            "_model_module_version": "1.5.0",
            "_model_name": "FloatProgressModel",
            "_view_count": null,
            "_view_module": "@jupyter-widgets/controls",
            "_view_module_version": "1.5.0",
            "_view_name": "ProgressView",
            "bar_style": "success",
            "description": "",
            "description_tooltip": null,
            "layout": "IPY_MODEL_c306797855f04bb683320fa8ee9f7912",
            "max": 100,
            "min": 0,
            "orientation": "horizontal",
            "style": "IPY_MODEL_c78555df801743bdb36b89d0867bdc8e",
            "value": 100
          }
        },
        "08688c9af29944d7b51c11aebc099239": {
          "model_module": "@jupyter-widgets/controls",
          "model_name": "HTMLModel",
          "model_module_version": "1.5.0",
          "state": {
            "_dom_classes": [],
            "_model_module": "@jupyter-widgets/controls",
            "_model_module_version": "1.5.0",
            "_model_name": "HTMLModel",
            "_view_count": null,
            "_view_module": "@jupyter-widgets/controls",
            "_view_module_version": "1.5.0",
            "_view_name": "HTMLView",
            "description": "",
            "description_tooltip": null,
            "layout": "IPY_MODEL_eda3bfb1117242748ed3b26cac2a2772",
            "placeholder": "​",
            "style": "IPY_MODEL_d5d2c3011db2453b80441904dfc3b336",
            "value": " 100/100 [00:18&lt;00:00,  5.51it/s]"
          }
        },
        "51274d2ea2dd41b9bd981f42e33991da": {
          "model_module": "@jupyter-widgets/base",
          "model_name": "LayoutModel",
          "model_module_version": "1.2.0",
          "state": {
            "_model_module": "@jupyter-widgets/base",
            "_model_module_version": "1.2.0",
            "_model_name": "LayoutModel",
            "_view_count": null,
            "_view_module": "@jupyter-widgets/base",
            "_view_module_version": "1.2.0",
            "_view_name": "LayoutView",
            "align_content": null,
            "align_items": null,
            "align_self": null,
            "border": null,
            "bottom": null,
            "display": null,
            "flex": null,
            "flex_flow": null,
            "grid_area": null,
            "grid_auto_columns": null,
            "grid_auto_flow": null,
            "grid_auto_rows": null,
            "grid_column": null,
            "grid_gap": null,
            "grid_row": null,
            "grid_template_areas": null,
            "grid_template_columns": null,
            "grid_template_rows": null,
            "height": null,
            "justify_content": null,
            "justify_items": null,
            "left": null,
            "margin": null,
            "max_height": null,
            "max_width": null,
            "min_height": null,
            "min_width": null,
            "object_fit": null,
            "object_position": null,
            "order": null,
            "overflow": null,
            "overflow_x": null,
            "overflow_y": null,
            "padding": null,
            "right": null,
            "top": null,
            "visibility": null,
            "width": null
          }
        },
        "d45b87f0045646639b84996be38fc2be": {
          "model_module": "@jupyter-widgets/base",
          "model_name": "LayoutModel",
          "model_module_version": "1.2.0",
          "state": {
            "_model_module": "@jupyter-widgets/base",
            "_model_module_version": "1.2.0",
            "_model_name": "LayoutModel",
            "_view_count": null,
            "_view_module": "@jupyter-widgets/base",
            "_view_module_version": "1.2.0",
            "_view_name": "LayoutView",
            "align_content": null,
            "align_items": null,
            "align_self": null,
            "border": null,
            "bottom": null,
            "display": null,
            "flex": null,
            "flex_flow": null,
            "grid_area": null,
            "grid_auto_columns": null,
            "grid_auto_flow": null,
            "grid_auto_rows": null,
            "grid_column": null,
            "grid_gap": null,
            "grid_row": null,
            "grid_template_areas": null,
            "grid_template_columns": null,
            "grid_template_rows": null,
            "height": null,
            "justify_content": null,
            "justify_items": null,
            "left": null,
            "margin": null,
            "max_height": null,
            "max_width": null,
            "min_height": null,
            "min_width": null,
            "object_fit": null,
            "object_position": null,
            "order": null,
            "overflow": null,
            "overflow_x": null,
            "overflow_y": null,
            "padding": null,
            "right": null,
            "top": null,
            "visibility": null,
            "width": null
          }
        },
        "9b35f79beb734e1ea119a46a381f08eb": {
          "model_module": "@jupyter-widgets/controls",
          "model_name": "DescriptionStyleModel",
          "model_module_version": "1.5.0",
          "state": {
            "_model_module": "@jupyter-widgets/controls",
            "_model_module_version": "1.5.0",
            "_model_name": "DescriptionStyleModel",
            "_view_count": null,
            "_view_module": "@jupyter-widgets/base",
            "_view_module_version": "1.2.0",
            "_view_name": "StyleView",
            "description_width": ""
          }
        },
        "c306797855f04bb683320fa8ee9f7912": {
          "model_module": "@jupyter-widgets/base",
          "model_name": "LayoutModel",
          "model_module_version": "1.2.0",
          "state": {
            "_model_module": "@jupyter-widgets/base",
            "_model_module_version": "1.2.0",
            "_model_name": "LayoutModel",
            "_view_count": null,
            "_view_module": "@jupyter-widgets/base",
            "_view_module_version": "1.2.0",
            "_view_name": "LayoutView",
            "align_content": null,
            "align_items": null,
            "align_self": null,
            "border": null,
            "bottom": null,
            "display": null,
            "flex": null,
            "flex_flow": null,
            "grid_area": null,
            "grid_auto_columns": null,
            "grid_auto_flow": null,
            "grid_auto_rows": null,
            "grid_column": null,
            "grid_gap": null,
            "grid_row": null,
            "grid_template_areas": null,
            "grid_template_columns": null,
            "grid_template_rows": null,
            "height": null,
            "justify_content": null,
            "justify_items": null,
            "left": null,
            "margin": null,
            "max_height": null,
            "max_width": null,
            "min_height": null,
            "min_width": null,
            "object_fit": null,
            "object_position": null,
            "order": null,
            "overflow": null,
            "overflow_x": null,
            "overflow_y": null,
            "padding": null,
            "right": null,
            "top": null,
            "visibility": null,
            "width": null
          }
        },
        "c78555df801743bdb36b89d0867bdc8e": {
          "model_module": "@jupyter-widgets/controls",
          "model_name": "ProgressStyleModel",
          "model_module_version": "1.5.0",
          "state": {
            "_model_module": "@jupyter-widgets/controls",
            "_model_module_version": "1.5.0",
            "_model_name": "ProgressStyleModel",
            "_view_count": null,
            "_view_module": "@jupyter-widgets/base",
            "_view_module_version": "1.2.0",
            "_view_name": "StyleView",
            "bar_color": null,
            "description_width": ""
          }
        },
        "eda3bfb1117242748ed3b26cac2a2772": {
          "model_module": "@jupyter-widgets/base",
          "model_name": "LayoutModel",
          "model_module_version": "1.2.0",
          "state": {
            "_model_module": "@jupyter-widgets/base",
            "_model_module_version": "1.2.0",
            "_model_name": "LayoutModel",
            "_view_count": null,
            "_view_module": "@jupyter-widgets/base",
            "_view_module_version": "1.2.0",
            "_view_name": "LayoutView",
            "align_content": null,
            "align_items": null,
            "align_self": null,
            "border": null,
            "bottom": null,
            "display": null,
            "flex": null,
            "flex_flow": null,
            "grid_area": null,
            "grid_auto_columns": null,
            "grid_auto_flow": null,
            "grid_auto_rows": null,
            "grid_column": null,
            "grid_gap": null,
            "grid_row": null,
            "grid_template_areas": null,
            "grid_template_columns": null,
            "grid_template_rows": null,
            "height": null,
            "justify_content": null,
            "justify_items": null,
            "left": null,
            "margin": null,
            "max_height": null,
            "max_width": null,
            "min_height": null,
            "min_width": null,
            "object_fit": null,
            "object_position": null,
            "order": null,
            "overflow": null,
            "overflow_x": null,
            "overflow_y": null,
            "padding": null,
            "right": null,
            "top": null,
            "visibility": null,
            "width": null
          }
        },
        "d5d2c3011db2453b80441904dfc3b336": {
          "model_module": "@jupyter-widgets/controls",
          "model_name": "DescriptionStyleModel",
          "model_module_version": "1.5.0",
          "state": {
            "_model_module": "@jupyter-widgets/controls",
            "_model_module_version": "1.5.0",
            "_model_name": "DescriptionStyleModel",
            "_view_count": null,
            "_view_module": "@jupyter-widgets/base",
            "_view_module_version": "1.2.0",
            "_view_name": "StyleView",
            "description_width": ""
          }
        },
        "b08431b4076c44378634268ff2d82b8b": {
          "model_module": "@jupyter-widgets/controls",
          "model_name": "HBoxModel",
          "model_module_version": "1.5.0",
          "state": {
            "_dom_classes": [],
            "_model_module": "@jupyter-widgets/controls",
            "_model_module_version": "1.5.0",
            "_model_name": "HBoxModel",
            "_view_count": null,
            "_view_module": "@jupyter-widgets/controls",
            "_view_module_version": "1.5.0",
            "_view_name": "HBoxView",
            "box_style": "",
            "children": [
              "IPY_MODEL_bd770a248e54405e87b16d71fee207fa",
              "IPY_MODEL_9e3f5b94126847adb265227e60afd28f",
              "IPY_MODEL_f0d72522b60842cea5d5d12f201be6b7"
            ],
            "layout": "IPY_MODEL_ca6b0a930bb642b78a1b1293c98083dd"
          }
        },
        "bd770a248e54405e87b16d71fee207fa": {
          "model_module": "@jupyter-widgets/controls",
          "model_name": "HTMLModel",
          "model_module_version": "1.5.0",
          "state": {
            "_dom_classes": [],
            "_model_module": "@jupyter-widgets/controls",
            "_model_module_version": "1.5.0",
            "_model_name": "HTMLModel",
            "_view_count": null,
            "_view_module": "@jupyter-widgets/controls",
            "_view_module_version": "1.5.0",
            "_view_name": "HTMLView",
            "description": "",
            "description_tooltip": null,
            "layout": "IPY_MODEL_87465956204942ef9cee2fedfc33d734",
            "placeholder": "​",
            "style": "IPY_MODEL_a5168dfb07c04e4c87f0515da0645fd4",
            "value": "100%"
          }
        },
        "9e3f5b94126847adb265227e60afd28f": {
          "model_module": "@jupyter-widgets/controls",
          "model_name": "FloatProgressModel",
          "model_module_version": "1.5.0",
          "state": {
            "_dom_classes": [],
            "_model_module": "@jupyter-widgets/controls",
            "_model_module_version": "1.5.0",
            "_model_name": "FloatProgressModel",
            "_view_count": null,
            "_view_module": "@jupyter-widgets/controls",
            "_view_module_version": "1.5.0",
            "_view_name": "ProgressView",
            "bar_style": "success",
            "description": "",
            "description_tooltip": null,
            "layout": "IPY_MODEL_276cf14e01af4fe9b56e0c2f32d7114b",
            "max": 100,
            "min": 0,
            "orientation": "horizontal",
            "style": "IPY_MODEL_11531e78cc574fe6955bc597660dcc1b",
            "value": 100
          }
        },
        "f0d72522b60842cea5d5d12f201be6b7": {
          "model_module": "@jupyter-widgets/controls",
          "model_name": "HTMLModel",
          "model_module_version": "1.5.0",
          "state": {
            "_dom_classes": [],
            "_model_module": "@jupyter-widgets/controls",
            "_model_module_version": "1.5.0",
            "_model_name": "HTMLModel",
            "_view_count": null,
            "_view_module": "@jupyter-widgets/controls",
            "_view_module_version": "1.5.0",
            "_view_name": "HTMLView",
            "description": "",
            "description_tooltip": null,
            "layout": "IPY_MODEL_a701d63fd7f749bca7739cde654e521f",
            "placeholder": "​",
            "style": "IPY_MODEL_5f1a9e638f224c0990a637d9fa2cae7c",
            "value": " 100/100 [00:18&lt;00:00,  5.49it/s]"
          }
        },
        "ca6b0a930bb642b78a1b1293c98083dd": {
          "model_module": "@jupyter-widgets/base",
          "model_name": "LayoutModel",
          "model_module_version": "1.2.0",
          "state": {
            "_model_module": "@jupyter-widgets/base",
            "_model_module_version": "1.2.0",
            "_model_name": "LayoutModel",
            "_view_count": null,
            "_view_module": "@jupyter-widgets/base",
            "_view_module_version": "1.2.0",
            "_view_name": "LayoutView",
            "align_content": null,
            "align_items": null,
            "align_self": null,
            "border": null,
            "bottom": null,
            "display": null,
            "flex": null,
            "flex_flow": null,
            "grid_area": null,
            "grid_auto_columns": null,
            "grid_auto_flow": null,
            "grid_auto_rows": null,
            "grid_column": null,
            "grid_gap": null,
            "grid_row": null,
            "grid_template_areas": null,
            "grid_template_columns": null,
            "grid_template_rows": null,
            "height": null,
            "justify_content": null,
            "justify_items": null,
            "left": null,
            "margin": null,
            "max_height": null,
            "max_width": null,
            "min_height": null,
            "min_width": null,
            "object_fit": null,
            "object_position": null,
            "order": null,
            "overflow": null,
            "overflow_x": null,
            "overflow_y": null,
            "padding": null,
            "right": null,
            "top": null,
            "visibility": null,
            "width": null
          }
        },
        "87465956204942ef9cee2fedfc33d734": {
          "model_module": "@jupyter-widgets/base",
          "model_name": "LayoutModel",
          "model_module_version": "1.2.0",
          "state": {
            "_model_module": "@jupyter-widgets/base",
            "_model_module_version": "1.2.0",
            "_model_name": "LayoutModel",
            "_view_count": null,
            "_view_module": "@jupyter-widgets/base",
            "_view_module_version": "1.2.0",
            "_view_name": "LayoutView",
            "align_content": null,
            "align_items": null,
            "align_self": null,
            "border": null,
            "bottom": null,
            "display": null,
            "flex": null,
            "flex_flow": null,
            "grid_area": null,
            "grid_auto_columns": null,
            "grid_auto_flow": null,
            "grid_auto_rows": null,
            "grid_column": null,
            "grid_gap": null,
            "grid_row": null,
            "grid_template_areas": null,
            "grid_template_columns": null,
            "grid_template_rows": null,
            "height": null,
            "justify_content": null,
            "justify_items": null,
            "left": null,
            "margin": null,
            "max_height": null,
            "max_width": null,
            "min_height": null,
            "min_width": null,
            "object_fit": null,
            "object_position": null,
            "order": null,
            "overflow": null,
            "overflow_x": null,
            "overflow_y": null,
            "padding": null,
            "right": null,
            "top": null,
            "visibility": null,
            "width": null
          }
        },
        "a5168dfb07c04e4c87f0515da0645fd4": {
          "model_module": "@jupyter-widgets/controls",
          "model_name": "DescriptionStyleModel",
          "model_module_version": "1.5.0",
          "state": {
            "_model_module": "@jupyter-widgets/controls",
            "_model_module_version": "1.5.0",
            "_model_name": "DescriptionStyleModel",
            "_view_count": null,
            "_view_module": "@jupyter-widgets/base",
            "_view_module_version": "1.2.0",
            "_view_name": "StyleView",
            "description_width": ""
          }
        },
        "276cf14e01af4fe9b56e0c2f32d7114b": {
          "model_module": "@jupyter-widgets/base",
          "model_name": "LayoutModel",
          "model_module_version": "1.2.0",
          "state": {
            "_model_module": "@jupyter-widgets/base",
            "_model_module_version": "1.2.0",
            "_model_name": "LayoutModel",
            "_view_count": null,
            "_view_module": "@jupyter-widgets/base",
            "_view_module_version": "1.2.0",
            "_view_name": "LayoutView",
            "align_content": null,
            "align_items": null,
            "align_self": null,
            "border": null,
            "bottom": null,
            "display": null,
            "flex": null,
            "flex_flow": null,
            "grid_area": null,
            "grid_auto_columns": null,
            "grid_auto_flow": null,
            "grid_auto_rows": null,
            "grid_column": null,
            "grid_gap": null,
            "grid_row": null,
            "grid_template_areas": null,
            "grid_template_columns": null,
            "grid_template_rows": null,
            "height": null,
            "justify_content": null,
            "justify_items": null,
            "left": null,
            "margin": null,
            "max_height": null,
            "max_width": null,
            "min_height": null,
            "min_width": null,
            "object_fit": null,
            "object_position": null,
            "order": null,
            "overflow": null,
            "overflow_x": null,
            "overflow_y": null,
            "padding": null,
            "right": null,
            "top": null,
            "visibility": null,
            "width": null
          }
        },
        "11531e78cc574fe6955bc597660dcc1b": {
          "model_module": "@jupyter-widgets/controls",
          "model_name": "ProgressStyleModel",
          "model_module_version": "1.5.0",
          "state": {
            "_model_module": "@jupyter-widgets/controls",
            "_model_module_version": "1.5.0",
            "_model_name": "ProgressStyleModel",
            "_view_count": null,
            "_view_module": "@jupyter-widgets/base",
            "_view_module_version": "1.2.0",
            "_view_name": "StyleView",
            "bar_color": null,
            "description_width": ""
          }
        },
        "a701d63fd7f749bca7739cde654e521f": {
          "model_module": "@jupyter-widgets/base",
          "model_name": "LayoutModel",
          "model_module_version": "1.2.0",
          "state": {
            "_model_module": "@jupyter-widgets/base",
            "_model_module_version": "1.2.0",
            "_model_name": "LayoutModel",
            "_view_count": null,
            "_view_module": "@jupyter-widgets/base",
            "_view_module_version": "1.2.0",
            "_view_name": "LayoutView",
            "align_content": null,
            "align_items": null,
            "align_self": null,
            "border": null,
            "bottom": null,
            "display": null,
            "flex": null,
            "flex_flow": null,
            "grid_area": null,
            "grid_auto_columns": null,
            "grid_auto_flow": null,
            "grid_auto_rows": null,
            "grid_column": null,
            "grid_gap": null,
            "grid_row": null,
            "grid_template_areas": null,
            "grid_template_columns": null,
            "grid_template_rows": null,
            "height": null,
            "justify_content": null,
            "justify_items": null,
            "left": null,
            "margin": null,
            "max_height": null,
            "max_width": null,
            "min_height": null,
            "min_width": null,
            "object_fit": null,
            "object_position": null,
            "order": null,
            "overflow": null,
            "overflow_x": null,
            "overflow_y": null,
            "padding": null,
            "right": null,
            "top": null,
            "visibility": null,
            "width": null
          }
        },
        "5f1a9e638f224c0990a637d9fa2cae7c": {
          "model_module": "@jupyter-widgets/controls",
          "model_name": "DescriptionStyleModel",
          "model_module_version": "1.5.0",
          "state": {
            "_model_module": "@jupyter-widgets/controls",
            "_model_module_version": "1.5.0",
            "_model_name": "DescriptionStyleModel",
            "_view_count": null,
            "_view_module": "@jupyter-widgets/base",
            "_view_module_version": "1.2.0",
            "_view_name": "StyleView",
            "description_width": ""
          }
        },
        "4597097c5274409ba3b3d117ea421a41": {
          "model_module": "@jupyter-widgets/controls",
          "model_name": "HBoxModel",
          "model_module_version": "1.5.0",
          "state": {
            "_dom_classes": [],
            "_model_module": "@jupyter-widgets/controls",
            "_model_module_version": "1.5.0",
            "_model_name": "HBoxModel",
            "_view_count": null,
            "_view_module": "@jupyter-widgets/controls",
            "_view_module_version": "1.5.0",
            "_view_name": "HBoxView",
            "box_style": "",
            "children": [
              "IPY_MODEL_1e58466bd09e44ce973610fab712edd8",
              "IPY_MODEL_37f9da280dfb4676b26497c10405225d",
              "IPY_MODEL_b3b5e0e651024c099ccacd01a62b8879"
            ],
            "layout": "IPY_MODEL_23d3c2ffc23d407ca81b312773a821c0"
          }
        },
        "1e58466bd09e44ce973610fab712edd8": {
          "model_module": "@jupyter-widgets/controls",
          "model_name": "HTMLModel",
          "model_module_version": "1.5.0",
          "state": {
            "_dom_classes": [],
            "_model_module": "@jupyter-widgets/controls",
            "_model_module_version": "1.5.0",
            "_model_name": "HTMLModel",
            "_view_count": null,
            "_view_module": "@jupyter-widgets/controls",
            "_view_module_version": "1.5.0",
            "_view_name": "HTMLView",
            "description": "",
            "description_tooltip": null,
            "layout": "IPY_MODEL_f3f3769f855044798329da18b4819f00",
            "placeholder": "​",
            "style": "IPY_MODEL_87f81415ca944126af0ae05e85282282",
            "value": "100%"
          }
        },
        "37f9da280dfb4676b26497c10405225d": {
          "model_module": "@jupyter-widgets/controls",
          "model_name": "FloatProgressModel",
          "model_module_version": "1.5.0",
          "state": {
            "_dom_classes": [],
            "_model_module": "@jupyter-widgets/controls",
            "_model_module_version": "1.5.0",
            "_model_name": "FloatProgressModel",
            "_view_count": null,
            "_view_module": "@jupyter-widgets/controls",
            "_view_module_version": "1.5.0",
            "_view_name": "ProgressView",
            "bar_style": "success",
            "description": "",
            "description_tooltip": null,
            "layout": "IPY_MODEL_57a17afc8c2d428ebf3f54323a24e5e0",
            "max": 100,
            "min": 0,
            "orientation": "horizontal",
            "style": "IPY_MODEL_e80e517f3b7d4b07b52336d442366d6b",
            "value": 100
          }
        },
        "b3b5e0e651024c099ccacd01a62b8879": {
          "model_module": "@jupyter-widgets/controls",
          "model_name": "HTMLModel",
          "model_module_version": "1.5.0",
          "state": {
            "_dom_classes": [],
            "_model_module": "@jupyter-widgets/controls",
            "_model_module_version": "1.5.0",
            "_model_name": "HTMLModel",
            "_view_count": null,
            "_view_module": "@jupyter-widgets/controls",
            "_view_module_version": "1.5.0",
            "_view_name": "HTMLView",
            "description": "",
            "description_tooltip": null,
            "layout": "IPY_MODEL_fe7d3c76fc72455283f27b4387363c9d",
            "placeholder": "​",
            "style": "IPY_MODEL_2f0038203b6f4cd3bd1e248d1cf951b6",
            "value": " 100/100 [00:18&lt;00:00,  5.01it/s]"
          }
        },
        "23d3c2ffc23d407ca81b312773a821c0": {
          "model_module": "@jupyter-widgets/base",
          "model_name": "LayoutModel",
          "model_module_version": "1.2.0",
          "state": {
            "_model_module": "@jupyter-widgets/base",
            "_model_module_version": "1.2.0",
            "_model_name": "LayoutModel",
            "_view_count": null,
            "_view_module": "@jupyter-widgets/base",
            "_view_module_version": "1.2.0",
            "_view_name": "LayoutView",
            "align_content": null,
            "align_items": null,
            "align_self": null,
            "border": null,
            "bottom": null,
            "display": null,
            "flex": null,
            "flex_flow": null,
            "grid_area": null,
            "grid_auto_columns": null,
            "grid_auto_flow": null,
            "grid_auto_rows": null,
            "grid_column": null,
            "grid_gap": null,
            "grid_row": null,
            "grid_template_areas": null,
            "grid_template_columns": null,
            "grid_template_rows": null,
            "height": null,
            "justify_content": null,
            "justify_items": null,
            "left": null,
            "margin": null,
            "max_height": null,
            "max_width": null,
            "min_height": null,
            "min_width": null,
            "object_fit": null,
            "object_position": null,
            "order": null,
            "overflow": null,
            "overflow_x": null,
            "overflow_y": null,
            "padding": null,
            "right": null,
            "top": null,
            "visibility": null,
            "width": null
          }
        },
        "f3f3769f855044798329da18b4819f00": {
          "model_module": "@jupyter-widgets/base",
          "model_name": "LayoutModel",
          "model_module_version": "1.2.0",
          "state": {
            "_model_module": "@jupyter-widgets/base",
            "_model_module_version": "1.2.0",
            "_model_name": "LayoutModel",
            "_view_count": null,
            "_view_module": "@jupyter-widgets/base",
            "_view_module_version": "1.2.0",
            "_view_name": "LayoutView",
            "align_content": null,
            "align_items": null,
            "align_self": null,
            "border": null,
            "bottom": null,
            "display": null,
            "flex": null,
            "flex_flow": null,
            "grid_area": null,
            "grid_auto_columns": null,
            "grid_auto_flow": null,
            "grid_auto_rows": null,
            "grid_column": null,
            "grid_gap": null,
            "grid_row": null,
            "grid_template_areas": null,
            "grid_template_columns": null,
            "grid_template_rows": null,
            "height": null,
            "justify_content": null,
            "justify_items": null,
            "left": null,
            "margin": null,
            "max_height": null,
            "max_width": null,
            "min_height": null,
            "min_width": null,
            "object_fit": null,
            "object_position": null,
            "order": null,
            "overflow": null,
            "overflow_x": null,
            "overflow_y": null,
            "padding": null,
            "right": null,
            "top": null,
            "visibility": null,
            "width": null
          }
        },
        "87f81415ca944126af0ae05e85282282": {
          "model_module": "@jupyter-widgets/controls",
          "model_name": "DescriptionStyleModel",
          "model_module_version": "1.5.0",
          "state": {
            "_model_module": "@jupyter-widgets/controls",
            "_model_module_version": "1.5.0",
            "_model_name": "DescriptionStyleModel",
            "_view_count": null,
            "_view_module": "@jupyter-widgets/base",
            "_view_module_version": "1.2.0",
            "_view_name": "StyleView",
            "description_width": ""
          }
        },
        "57a17afc8c2d428ebf3f54323a24e5e0": {
          "model_module": "@jupyter-widgets/base",
          "model_name": "LayoutModel",
          "model_module_version": "1.2.0",
          "state": {
            "_model_module": "@jupyter-widgets/base",
            "_model_module_version": "1.2.0",
            "_model_name": "LayoutModel",
            "_view_count": null,
            "_view_module": "@jupyter-widgets/base",
            "_view_module_version": "1.2.0",
            "_view_name": "LayoutView",
            "align_content": null,
            "align_items": null,
            "align_self": null,
            "border": null,
            "bottom": null,
            "display": null,
            "flex": null,
            "flex_flow": null,
            "grid_area": null,
            "grid_auto_columns": null,
            "grid_auto_flow": null,
            "grid_auto_rows": null,
            "grid_column": null,
            "grid_gap": null,
            "grid_row": null,
            "grid_template_areas": null,
            "grid_template_columns": null,
            "grid_template_rows": null,
            "height": null,
            "justify_content": null,
            "justify_items": null,
            "left": null,
            "margin": null,
            "max_height": null,
            "max_width": null,
            "min_height": null,
            "min_width": null,
            "object_fit": null,
            "object_position": null,
            "order": null,
            "overflow": null,
            "overflow_x": null,
            "overflow_y": null,
            "padding": null,
            "right": null,
            "top": null,
            "visibility": null,
            "width": null
          }
        },
        "e80e517f3b7d4b07b52336d442366d6b": {
          "model_module": "@jupyter-widgets/controls",
          "model_name": "ProgressStyleModel",
          "model_module_version": "1.5.0",
          "state": {
            "_model_module": "@jupyter-widgets/controls",
            "_model_module_version": "1.5.0",
            "_model_name": "ProgressStyleModel",
            "_view_count": null,
            "_view_module": "@jupyter-widgets/base",
            "_view_module_version": "1.2.0",
            "_view_name": "StyleView",
            "bar_color": null,
            "description_width": ""
          }
        },
        "fe7d3c76fc72455283f27b4387363c9d": {
          "model_module": "@jupyter-widgets/base",
          "model_name": "LayoutModel",
          "model_module_version": "1.2.0",
          "state": {
            "_model_module": "@jupyter-widgets/base",
            "_model_module_version": "1.2.0",
            "_model_name": "LayoutModel",
            "_view_count": null,
            "_view_module": "@jupyter-widgets/base",
            "_view_module_version": "1.2.0",
            "_view_name": "LayoutView",
            "align_content": null,
            "align_items": null,
            "align_self": null,
            "border": null,
            "bottom": null,
            "display": null,
            "flex": null,
            "flex_flow": null,
            "grid_area": null,
            "grid_auto_columns": null,
            "grid_auto_flow": null,
            "grid_auto_rows": null,
            "grid_column": null,
            "grid_gap": null,
            "grid_row": null,
            "grid_template_areas": null,
            "grid_template_columns": null,
            "grid_template_rows": null,
            "height": null,
            "justify_content": null,
            "justify_items": null,
            "left": null,
            "margin": null,
            "max_height": null,
            "max_width": null,
            "min_height": null,
            "min_width": null,
            "object_fit": null,
            "object_position": null,
            "order": null,
            "overflow": null,
            "overflow_x": null,
            "overflow_y": null,
            "padding": null,
            "right": null,
            "top": null,
            "visibility": null,
            "width": null
          }
        },
        "2f0038203b6f4cd3bd1e248d1cf951b6": {
          "model_module": "@jupyter-widgets/controls",
          "model_name": "DescriptionStyleModel",
          "model_module_version": "1.5.0",
          "state": {
            "_model_module": "@jupyter-widgets/controls",
            "_model_module_version": "1.5.0",
            "_model_name": "DescriptionStyleModel",
            "_view_count": null,
            "_view_module": "@jupyter-widgets/base",
            "_view_module_version": "1.2.0",
            "_view_name": "StyleView",
            "description_width": ""
          }
        },
        "0256315c10fa4a398347383a85716530": {
          "model_module": "@jupyter-widgets/controls",
          "model_name": "HBoxModel",
          "model_module_version": "1.5.0",
          "state": {
            "_dom_classes": [],
            "_model_module": "@jupyter-widgets/controls",
            "_model_module_version": "1.5.0",
            "_model_name": "HBoxModel",
            "_view_count": null,
            "_view_module": "@jupyter-widgets/controls",
            "_view_module_version": "1.5.0",
            "_view_name": "HBoxView",
            "box_style": "",
            "children": [
              "IPY_MODEL_9c6086e49ad2414080e281f6cac81a4c",
              "IPY_MODEL_398b7cbcae08497a90202c699cad66e6",
              "IPY_MODEL_d42686a76c8d4391a3e37a0dc74868a1"
            ],
            "layout": "IPY_MODEL_1cba27b0b90a496aaa525f84e4d0d6c9"
          }
        },
        "9c6086e49ad2414080e281f6cac81a4c": {
          "model_module": "@jupyter-widgets/controls",
          "model_name": "HTMLModel",
          "model_module_version": "1.5.0",
          "state": {
            "_dom_classes": [],
            "_model_module": "@jupyter-widgets/controls",
            "_model_module_version": "1.5.0",
            "_model_name": "HTMLModel",
            "_view_count": null,
            "_view_module": "@jupyter-widgets/controls",
            "_view_module_version": "1.5.0",
            "_view_name": "HTMLView",
            "description": "",
            "description_tooltip": null,
            "layout": "IPY_MODEL_d0183fdbce2843f59f00f46055be1bea",
            "placeholder": "​",
            "style": "IPY_MODEL_66804a5eb35843cdbaf1bccfc16f808f",
            "value": "100%"
          }
        },
        "398b7cbcae08497a90202c699cad66e6": {
          "model_module": "@jupyter-widgets/controls",
          "model_name": "FloatProgressModel",
          "model_module_version": "1.5.0",
          "state": {
            "_dom_classes": [],
            "_model_module": "@jupyter-widgets/controls",
            "_model_module_version": "1.5.0",
            "_model_name": "FloatProgressModel",
            "_view_count": null,
            "_view_module": "@jupyter-widgets/controls",
            "_view_module_version": "1.5.0",
            "_view_name": "ProgressView",
            "bar_style": "success",
            "description": "",
            "description_tooltip": null,
            "layout": "IPY_MODEL_fc81c002978c4f21ae4a17f61e72254f",
            "max": 100,
            "min": 0,
            "orientation": "horizontal",
            "style": "IPY_MODEL_21fc49d1b9dd4f0ea66a16359d657e68",
            "value": 100
          }
        },
        "d42686a76c8d4391a3e37a0dc74868a1": {
          "model_module": "@jupyter-widgets/controls",
          "model_name": "HTMLModel",
          "model_module_version": "1.5.0",
          "state": {
            "_dom_classes": [],
            "_model_module": "@jupyter-widgets/controls",
            "_model_module_version": "1.5.0",
            "_model_name": "HTMLModel",
            "_view_count": null,
            "_view_module": "@jupyter-widgets/controls",
            "_view_module_version": "1.5.0",
            "_view_name": "HTMLView",
            "description": "",
            "description_tooltip": null,
            "layout": "IPY_MODEL_1822302b6c1b465dbb92746cb9ab3866",
            "placeholder": "​",
            "style": "IPY_MODEL_914026265a634093b3d2db38c835ea5d",
            "value": " 100/100 [00:18&lt;00:00,  5.65it/s]"
          }
        },
        "1cba27b0b90a496aaa525f84e4d0d6c9": {
          "model_module": "@jupyter-widgets/base",
          "model_name": "LayoutModel",
          "model_module_version": "1.2.0",
          "state": {
            "_model_module": "@jupyter-widgets/base",
            "_model_module_version": "1.2.0",
            "_model_name": "LayoutModel",
            "_view_count": null,
            "_view_module": "@jupyter-widgets/base",
            "_view_module_version": "1.2.0",
            "_view_name": "LayoutView",
            "align_content": null,
            "align_items": null,
            "align_self": null,
            "border": null,
            "bottom": null,
            "display": null,
            "flex": null,
            "flex_flow": null,
            "grid_area": null,
            "grid_auto_columns": null,
            "grid_auto_flow": null,
            "grid_auto_rows": null,
            "grid_column": null,
            "grid_gap": null,
            "grid_row": null,
            "grid_template_areas": null,
            "grid_template_columns": null,
            "grid_template_rows": null,
            "height": null,
            "justify_content": null,
            "justify_items": null,
            "left": null,
            "margin": null,
            "max_height": null,
            "max_width": null,
            "min_height": null,
            "min_width": null,
            "object_fit": null,
            "object_position": null,
            "order": null,
            "overflow": null,
            "overflow_x": null,
            "overflow_y": null,
            "padding": null,
            "right": null,
            "top": null,
            "visibility": null,
            "width": null
          }
        },
        "d0183fdbce2843f59f00f46055be1bea": {
          "model_module": "@jupyter-widgets/base",
          "model_name": "LayoutModel",
          "model_module_version": "1.2.0",
          "state": {
            "_model_module": "@jupyter-widgets/base",
            "_model_module_version": "1.2.0",
            "_model_name": "LayoutModel",
            "_view_count": null,
            "_view_module": "@jupyter-widgets/base",
            "_view_module_version": "1.2.0",
            "_view_name": "LayoutView",
            "align_content": null,
            "align_items": null,
            "align_self": null,
            "border": null,
            "bottom": null,
            "display": null,
            "flex": null,
            "flex_flow": null,
            "grid_area": null,
            "grid_auto_columns": null,
            "grid_auto_flow": null,
            "grid_auto_rows": null,
            "grid_column": null,
            "grid_gap": null,
            "grid_row": null,
            "grid_template_areas": null,
            "grid_template_columns": null,
            "grid_template_rows": null,
            "height": null,
            "justify_content": null,
            "justify_items": null,
            "left": null,
            "margin": null,
            "max_height": null,
            "max_width": null,
            "min_height": null,
            "min_width": null,
            "object_fit": null,
            "object_position": null,
            "order": null,
            "overflow": null,
            "overflow_x": null,
            "overflow_y": null,
            "padding": null,
            "right": null,
            "top": null,
            "visibility": null,
            "width": null
          }
        },
        "66804a5eb35843cdbaf1bccfc16f808f": {
          "model_module": "@jupyter-widgets/controls",
          "model_name": "DescriptionStyleModel",
          "model_module_version": "1.5.0",
          "state": {
            "_model_module": "@jupyter-widgets/controls",
            "_model_module_version": "1.5.0",
            "_model_name": "DescriptionStyleModel",
            "_view_count": null,
            "_view_module": "@jupyter-widgets/base",
            "_view_module_version": "1.2.0",
            "_view_name": "StyleView",
            "description_width": ""
          }
        },
        "fc81c002978c4f21ae4a17f61e72254f": {
          "model_module": "@jupyter-widgets/base",
          "model_name": "LayoutModel",
          "model_module_version": "1.2.0",
          "state": {
            "_model_module": "@jupyter-widgets/base",
            "_model_module_version": "1.2.0",
            "_model_name": "LayoutModel",
            "_view_count": null,
            "_view_module": "@jupyter-widgets/base",
            "_view_module_version": "1.2.0",
            "_view_name": "LayoutView",
            "align_content": null,
            "align_items": null,
            "align_self": null,
            "border": null,
            "bottom": null,
            "display": null,
            "flex": null,
            "flex_flow": null,
            "grid_area": null,
            "grid_auto_columns": null,
            "grid_auto_flow": null,
            "grid_auto_rows": null,
            "grid_column": null,
            "grid_gap": null,
            "grid_row": null,
            "grid_template_areas": null,
            "grid_template_columns": null,
            "grid_template_rows": null,
            "height": null,
            "justify_content": null,
            "justify_items": null,
            "left": null,
            "margin": null,
            "max_height": null,
            "max_width": null,
            "min_height": null,
            "min_width": null,
            "object_fit": null,
            "object_position": null,
            "order": null,
            "overflow": null,
            "overflow_x": null,
            "overflow_y": null,
            "padding": null,
            "right": null,
            "top": null,
            "visibility": null,
            "width": null
          }
        },
        "21fc49d1b9dd4f0ea66a16359d657e68": {
          "model_module": "@jupyter-widgets/controls",
          "model_name": "ProgressStyleModel",
          "model_module_version": "1.5.0",
          "state": {
            "_model_module": "@jupyter-widgets/controls",
            "_model_module_version": "1.5.0",
            "_model_name": "ProgressStyleModel",
            "_view_count": null,
            "_view_module": "@jupyter-widgets/base",
            "_view_module_version": "1.2.0",
            "_view_name": "StyleView",
            "bar_color": null,
            "description_width": ""
          }
        },
        "1822302b6c1b465dbb92746cb9ab3866": {
          "model_module": "@jupyter-widgets/base",
          "model_name": "LayoutModel",
          "model_module_version": "1.2.0",
          "state": {
            "_model_module": "@jupyter-widgets/base",
            "_model_module_version": "1.2.0",
            "_model_name": "LayoutModel",
            "_view_count": null,
            "_view_module": "@jupyter-widgets/base",
            "_view_module_version": "1.2.0",
            "_view_name": "LayoutView",
            "align_content": null,
            "align_items": null,
            "align_self": null,
            "border": null,
            "bottom": null,
            "display": null,
            "flex": null,
            "flex_flow": null,
            "grid_area": null,
            "grid_auto_columns": null,
            "grid_auto_flow": null,
            "grid_auto_rows": null,
            "grid_column": null,
            "grid_gap": null,
            "grid_row": null,
            "grid_template_areas": null,
            "grid_template_columns": null,
            "grid_template_rows": null,
            "height": null,
            "justify_content": null,
            "justify_items": null,
            "left": null,
            "margin": null,
            "max_height": null,
            "max_width": null,
            "min_height": null,
            "min_width": null,
            "object_fit": null,
            "object_position": null,
            "order": null,
            "overflow": null,
            "overflow_x": null,
            "overflow_y": null,
            "padding": null,
            "right": null,
            "top": null,
            "visibility": null,
            "width": null
          }
        },
        "914026265a634093b3d2db38c835ea5d": {
          "model_module": "@jupyter-widgets/controls",
          "model_name": "DescriptionStyleModel",
          "model_module_version": "1.5.0",
          "state": {
            "_model_module": "@jupyter-widgets/controls",
            "_model_module_version": "1.5.0",
            "_model_name": "DescriptionStyleModel",
            "_view_count": null,
            "_view_module": "@jupyter-widgets/base",
            "_view_module_version": "1.2.0",
            "_view_name": "StyleView",
            "description_width": ""
          }
        },
        "d7856be2ee364c70b2aaf234a54fe6db": {
          "model_module": "@jupyter-widgets/controls",
          "model_name": "HBoxModel",
          "model_module_version": "1.5.0",
          "state": {
            "_dom_classes": [],
            "_model_module": "@jupyter-widgets/controls",
            "_model_module_version": "1.5.0",
            "_model_name": "HBoxModel",
            "_view_count": null,
            "_view_module": "@jupyter-widgets/controls",
            "_view_module_version": "1.5.0",
            "_view_name": "HBoxView",
            "box_style": "",
            "children": [
              "IPY_MODEL_f9e080cd5245459985ac9ab7ed29ca3b",
              "IPY_MODEL_fa791df39df241f89c256eddee721c01",
              "IPY_MODEL_dd2715bbdba24de79726f928667480f9"
            ],
            "layout": "IPY_MODEL_80d49ad9c4274dd283da37fd2600b836"
          }
        },
        "f9e080cd5245459985ac9ab7ed29ca3b": {
          "model_module": "@jupyter-widgets/controls",
          "model_name": "HTMLModel",
          "model_module_version": "1.5.0",
          "state": {
            "_dom_classes": [],
            "_model_module": "@jupyter-widgets/controls",
            "_model_module_version": "1.5.0",
            "_model_name": "HTMLModel",
            "_view_count": null,
            "_view_module": "@jupyter-widgets/controls",
            "_view_module_version": "1.5.0",
            "_view_name": "HTMLView",
            "description": "",
            "description_tooltip": null,
            "layout": "IPY_MODEL_4a9df1b9e37d45dea883a9280bd631bd",
            "placeholder": "​",
            "style": "IPY_MODEL_693418198bfe4fde8a2b31fc3624ebe8",
            "value": "100%"
          }
        },
        "fa791df39df241f89c256eddee721c01": {
          "model_module": "@jupyter-widgets/controls",
          "model_name": "FloatProgressModel",
          "model_module_version": "1.5.0",
          "state": {
            "_dom_classes": [],
            "_model_module": "@jupyter-widgets/controls",
            "_model_module_version": "1.5.0",
            "_model_name": "FloatProgressModel",
            "_view_count": null,
            "_view_module": "@jupyter-widgets/controls",
            "_view_module_version": "1.5.0",
            "_view_name": "ProgressView",
            "bar_style": "success",
            "description": "",
            "description_tooltip": null,
            "layout": "IPY_MODEL_aca0c68869074fb7b839f7cdee78b599",
            "max": 100,
            "min": 0,
            "orientation": "horizontal",
            "style": "IPY_MODEL_e5ebb5d838184b0fa0dc6600fc69694e",
            "value": 100
          }
        },
        "dd2715bbdba24de79726f928667480f9": {
          "model_module": "@jupyter-widgets/controls",
          "model_name": "HTMLModel",
          "model_module_version": "1.5.0",
          "state": {
            "_dom_classes": [],
            "_model_module": "@jupyter-widgets/controls",
            "_model_module_version": "1.5.0",
            "_model_name": "HTMLModel",
            "_view_count": null,
            "_view_module": "@jupyter-widgets/controls",
            "_view_module_version": "1.5.0",
            "_view_name": "HTMLView",
            "description": "",
            "description_tooltip": null,
            "layout": "IPY_MODEL_c58085ac07f44a9c95ad407936863b2f",
            "placeholder": "​",
            "style": "IPY_MODEL_a896541d293c47f6a8a887f5394a7e69",
            "value": " 100/100 [00:17&lt;00:00,  6.27it/s]"
          }
        },
        "80d49ad9c4274dd283da37fd2600b836": {
          "model_module": "@jupyter-widgets/base",
          "model_name": "LayoutModel",
          "model_module_version": "1.2.0",
          "state": {
            "_model_module": "@jupyter-widgets/base",
            "_model_module_version": "1.2.0",
            "_model_name": "LayoutModel",
            "_view_count": null,
            "_view_module": "@jupyter-widgets/base",
            "_view_module_version": "1.2.0",
            "_view_name": "LayoutView",
            "align_content": null,
            "align_items": null,
            "align_self": null,
            "border": null,
            "bottom": null,
            "display": null,
            "flex": null,
            "flex_flow": null,
            "grid_area": null,
            "grid_auto_columns": null,
            "grid_auto_flow": null,
            "grid_auto_rows": null,
            "grid_column": null,
            "grid_gap": null,
            "grid_row": null,
            "grid_template_areas": null,
            "grid_template_columns": null,
            "grid_template_rows": null,
            "height": null,
            "justify_content": null,
            "justify_items": null,
            "left": null,
            "margin": null,
            "max_height": null,
            "max_width": null,
            "min_height": null,
            "min_width": null,
            "object_fit": null,
            "object_position": null,
            "order": null,
            "overflow": null,
            "overflow_x": null,
            "overflow_y": null,
            "padding": null,
            "right": null,
            "top": null,
            "visibility": null,
            "width": null
          }
        },
        "4a9df1b9e37d45dea883a9280bd631bd": {
          "model_module": "@jupyter-widgets/base",
          "model_name": "LayoutModel",
          "model_module_version": "1.2.0",
          "state": {
            "_model_module": "@jupyter-widgets/base",
            "_model_module_version": "1.2.0",
            "_model_name": "LayoutModel",
            "_view_count": null,
            "_view_module": "@jupyter-widgets/base",
            "_view_module_version": "1.2.0",
            "_view_name": "LayoutView",
            "align_content": null,
            "align_items": null,
            "align_self": null,
            "border": null,
            "bottom": null,
            "display": null,
            "flex": null,
            "flex_flow": null,
            "grid_area": null,
            "grid_auto_columns": null,
            "grid_auto_flow": null,
            "grid_auto_rows": null,
            "grid_column": null,
            "grid_gap": null,
            "grid_row": null,
            "grid_template_areas": null,
            "grid_template_columns": null,
            "grid_template_rows": null,
            "height": null,
            "justify_content": null,
            "justify_items": null,
            "left": null,
            "margin": null,
            "max_height": null,
            "max_width": null,
            "min_height": null,
            "min_width": null,
            "object_fit": null,
            "object_position": null,
            "order": null,
            "overflow": null,
            "overflow_x": null,
            "overflow_y": null,
            "padding": null,
            "right": null,
            "top": null,
            "visibility": null,
            "width": null
          }
        },
        "693418198bfe4fde8a2b31fc3624ebe8": {
          "model_module": "@jupyter-widgets/controls",
          "model_name": "DescriptionStyleModel",
          "model_module_version": "1.5.0",
          "state": {
            "_model_module": "@jupyter-widgets/controls",
            "_model_module_version": "1.5.0",
            "_model_name": "DescriptionStyleModel",
            "_view_count": null,
            "_view_module": "@jupyter-widgets/base",
            "_view_module_version": "1.2.0",
            "_view_name": "StyleView",
            "description_width": ""
          }
        },
        "aca0c68869074fb7b839f7cdee78b599": {
          "model_module": "@jupyter-widgets/base",
          "model_name": "LayoutModel",
          "model_module_version": "1.2.0",
          "state": {
            "_model_module": "@jupyter-widgets/base",
            "_model_module_version": "1.2.0",
            "_model_name": "LayoutModel",
            "_view_count": null,
            "_view_module": "@jupyter-widgets/base",
            "_view_module_version": "1.2.0",
            "_view_name": "LayoutView",
            "align_content": null,
            "align_items": null,
            "align_self": null,
            "border": null,
            "bottom": null,
            "display": null,
            "flex": null,
            "flex_flow": null,
            "grid_area": null,
            "grid_auto_columns": null,
            "grid_auto_flow": null,
            "grid_auto_rows": null,
            "grid_column": null,
            "grid_gap": null,
            "grid_row": null,
            "grid_template_areas": null,
            "grid_template_columns": null,
            "grid_template_rows": null,
            "height": null,
            "justify_content": null,
            "justify_items": null,
            "left": null,
            "margin": null,
            "max_height": null,
            "max_width": null,
            "min_height": null,
            "min_width": null,
            "object_fit": null,
            "object_position": null,
            "order": null,
            "overflow": null,
            "overflow_x": null,
            "overflow_y": null,
            "padding": null,
            "right": null,
            "top": null,
            "visibility": null,
            "width": null
          }
        },
        "e5ebb5d838184b0fa0dc6600fc69694e": {
          "model_module": "@jupyter-widgets/controls",
          "model_name": "ProgressStyleModel",
          "model_module_version": "1.5.0",
          "state": {
            "_model_module": "@jupyter-widgets/controls",
            "_model_module_version": "1.5.0",
            "_model_name": "ProgressStyleModel",
            "_view_count": null,
            "_view_module": "@jupyter-widgets/base",
            "_view_module_version": "1.2.0",
            "_view_name": "StyleView",
            "bar_color": null,
            "description_width": ""
          }
        },
        "c58085ac07f44a9c95ad407936863b2f": {
          "model_module": "@jupyter-widgets/base",
          "model_name": "LayoutModel",
          "model_module_version": "1.2.0",
          "state": {
            "_model_module": "@jupyter-widgets/base",
            "_model_module_version": "1.2.0",
            "_model_name": "LayoutModel",
            "_view_count": null,
            "_view_module": "@jupyter-widgets/base",
            "_view_module_version": "1.2.0",
            "_view_name": "LayoutView",
            "align_content": null,
            "align_items": null,
            "align_self": null,
            "border": null,
            "bottom": null,
            "display": null,
            "flex": null,
            "flex_flow": null,
            "grid_area": null,
            "grid_auto_columns": null,
            "grid_auto_flow": null,
            "grid_auto_rows": null,
            "grid_column": null,
            "grid_gap": null,
            "grid_row": null,
            "grid_template_areas": null,
            "grid_template_columns": null,
            "grid_template_rows": null,
            "height": null,
            "justify_content": null,
            "justify_items": null,
            "left": null,
            "margin": null,
            "max_height": null,
            "max_width": null,
            "min_height": null,
            "min_width": null,
            "object_fit": null,
            "object_position": null,
            "order": null,
            "overflow": null,
            "overflow_x": null,
            "overflow_y": null,
            "padding": null,
            "right": null,
            "top": null,
            "visibility": null,
            "width": null
          }
        },
        "a896541d293c47f6a8a887f5394a7e69": {
          "model_module": "@jupyter-widgets/controls",
          "model_name": "DescriptionStyleModel",
          "model_module_version": "1.5.0",
          "state": {
            "_model_module": "@jupyter-widgets/controls",
            "_model_module_version": "1.5.0",
            "_model_name": "DescriptionStyleModel",
            "_view_count": null,
            "_view_module": "@jupyter-widgets/base",
            "_view_module_version": "1.2.0",
            "_view_name": "StyleView",
            "description_width": ""
          }
        },
        "cdbcbda14ab4439082fd8f9fe903be95": {
          "model_module": "@jupyter-widgets/controls",
          "model_name": "HBoxModel",
          "model_module_version": "1.5.0",
          "state": {
            "_dom_classes": [],
            "_model_module": "@jupyter-widgets/controls",
            "_model_module_version": "1.5.0",
            "_model_name": "HBoxModel",
            "_view_count": null,
            "_view_module": "@jupyter-widgets/controls",
            "_view_module_version": "1.5.0",
            "_view_name": "HBoxView",
            "box_style": "",
            "children": [
              "IPY_MODEL_1e6c7bf2ad7e403f94b5fe17d078cf8e",
              "IPY_MODEL_382140aca5dc4342bb6406335237f3bd",
              "IPY_MODEL_fe3127417eb148c29914c8b6613d889d"
            ],
            "layout": "IPY_MODEL_6a316488552742e2a87948f936d076f5"
          }
        },
        "1e6c7bf2ad7e403f94b5fe17d078cf8e": {
          "model_module": "@jupyter-widgets/controls",
          "model_name": "HTMLModel",
          "model_module_version": "1.5.0",
          "state": {
            "_dom_classes": [],
            "_model_module": "@jupyter-widgets/controls",
            "_model_module_version": "1.5.0",
            "_model_name": "HTMLModel",
            "_view_count": null,
            "_view_module": "@jupyter-widgets/controls",
            "_view_module_version": "1.5.0",
            "_view_name": "HTMLView",
            "description": "",
            "description_tooltip": null,
            "layout": "IPY_MODEL_0335417acb1743f79ff51598224015e1",
            "placeholder": "​",
            "style": "IPY_MODEL_7e70681aba824d4fb2b35031f9984d1e",
            "value": "100%"
          }
        },
        "382140aca5dc4342bb6406335237f3bd": {
          "model_module": "@jupyter-widgets/controls",
          "model_name": "FloatProgressModel",
          "model_module_version": "1.5.0",
          "state": {
            "_dom_classes": [],
            "_model_module": "@jupyter-widgets/controls",
            "_model_module_version": "1.5.0",
            "_model_name": "FloatProgressModel",
            "_view_count": null,
            "_view_module": "@jupyter-widgets/controls",
            "_view_module_version": "1.5.0",
            "_view_name": "ProgressView",
            "bar_style": "success",
            "description": "",
            "description_tooltip": null,
            "layout": "IPY_MODEL_105e24fca2ba4c549433b9e784186c90",
            "max": 100,
            "min": 0,
            "orientation": "horizontal",
            "style": "IPY_MODEL_72a982ea4b694246af30f16c38a3b2a1",
            "value": 100
          }
        },
        "fe3127417eb148c29914c8b6613d889d": {
          "model_module": "@jupyter-widgets/controls",
          "model_name": "HTMLModel",
          "model_module_version": "1.5.0",
          "state": {
            "_dom_classes": [],
            "_model_module": "@jupyter-widgets/controls",
            "_model_module_version": "1.5.0",
            "_model_name": "HTMLModel",
            "_view_count": null,
            "_view_module": "@jupyter-widgets/controls",
            "_view_module_version": "1.5.0",
            "_view_name": "HTMLView",
            "description": "",
            "description_tooltip": null,
            "layout": "IPY_MODEL_da3a7bb843e1491e8a9bfc97e97cc6a4",
            "placeholder": "​",
            "style": "IPY_MODEL_2a6e6f7f57894a58a02885a41316d4a1",
            "value": " 100/100 [00:17&lt;00:00,  5.67it/s]"
          }
        },
        "6a316488552742e2a87948f936d076f5": {
          "model_module": "@jupyter-widgets/base",
          "model_name": "LayoutModel",
          "model_module_version": "1.2.0",
          "state": {
            "_model_module": "@jupyter-widgets/base",
            "_model_module_version": "1.2.0",
            "_model_name": "LayoutModel",
            "_view_count": null,
            "_view_module": "@jupyter-widgets/base",
            "_view_module_version": "1.2.0",
            "_view_name": "LayoutView",
            "align_content": null,
            "align_items": null,
            "align_self": null,
            "border": null,
            "bottom": null,
            "display": null,
            "flex": null,
            "flex_flow": null,
            "grid_area": null,
            "grid_auto_columns": null,
            "grid_auto_flow": null,
            "grid_auto_rows": null,
            "grid_column": null,
            "grid_gap": null,
            "grid_row": null,
            "grid_template_areas": null,
            "grid_template_columns": null,
            "grid_template_rows": null,
            "height": null,
            "justify_content": null,
            "justify_items": null,
            "left": null,
            "margin": null,
            "max_height": null,
            "max_width": null,
            "min_height": null,
            "min_width": null,
            "object_fit": null,
            "object_position": null,
            "order": null,
            "overflow": null,
            "overflow_x": null,
            "overflow_y": null,
            "padding": null,
            "right": null,
            "top": null,
            "visibility": null,
            "width": null
          }
        },
        "0335417acb1743f79ff51598224015e1": {
          "model_module": "@jupyter-widgets/base",
          "model_name": "LayoutModel",
          "model_module_version": "1.2.0",
          "state": {
            "_model_module": "@jupyter-widgets/base",
            "_model_module_version": "1.2.0",
            "_model_name": "LayoutModel",
            "_view_count": null,
            "_view_module": "@jupyter-widgets/base",
            "_view_module_version": "1.2.0",
            "_view_name": "LayoutView",
            "align_content": null,
            "align_items": null,
            "align_self": null,
            "border": null,
            "bottom": null,
            "display": null,
            "flex": null,
            "flex_flow": null,
            "grid_area": null,
            "grid_auto_columns": null,
            "grid_auto_flow": null,
            "grid_auto_rows": null,
            "grid_column": null,
            "grid_gap": null,
            "grid_row": null,
            "grid_template_areas": null,
            "grid_template_columns": null,
            "grid_template_rows": null,
            "height": null,
            "justify_content": null,
            "justify_items": null,
            "left": null,
            "margin": null,
            "max_height": null,
            "max_width": null,
            "min_height": null,
            "min_width": null,
            "object_fit": null,
            "object_position": null,
            "order": null,
            "overflow": null,
            "overflow_x": null,
            "overflow_y": null,
            "padding": null,
            "right": null,
            "top": null,
            "visibility": null,
            "width": null
          }
        },
        "7e70681aba824d4fb2b35031f9984d1e": {
          "model_module": "@jupyter-widgets/controls",
          "model_name": "DescriptionStyleModel",
          "model_module_version": "1.5.0",
          "state": {
            "_model_module": "@jupyter-widgets/controls",
            "_model_module_version": "1.5.0",
            "_model_name": "DescriptionStyleModel",
            "_view_count": null,
            "_view_module": "@jupyter-widgets/base",
            "_view_module_version": "1.2.0",
            "_view_name": "StyleView",
            "description_width": ""
          }
        },
        "105e24fca2ba4c549433b9e784186c90": {
          "model_module": "@jupyter-widgets/base",
          "model_name": "LayoutModel",
          "model_module_version": "1.2.0",
          "state": {
            "_model_module": "@jupyter-widgets/base",
            "_model_module_version": "1.2.0",
            "_model_name": "LayoutModel",
            "_view_count": null,
            "_view_module": "@jupyter-widgets/base",
            "_view_module_version": "1.2.0",
            "_view_name": "LayoutView",
            "align_content": null,
            "align_items": null,
            "align_self": null,
            "border": null,
            "bottom": null,
            "display": null,
            "flex": null,
            "flex_flow": null,
            "grid_area": null,
            "grid_auto_columns": null,
            "grid_auto_flow": null,
            "grid_auto_rows": null,
            "grid_column": null,
            "grid_gap": null,
            "grid_row": null,
            "grid_template_areas": null,
            "grid_template_columns": null,
            "grid_template_rows": null,
            "height": null,
            "justify_content": null,
            "justify_items": null,
            "left": null,
            "margin": null,
            "max_height": null,
            "max_width": null,
            "min_height": null,
            "min_width": null,
            "object_fit": null,
            "object_position": null,
            "order": null,
            "overflow": null,
            "overflow_x": null,
            "overflow_y": null,
            "padding": null,
            "right": null,
            "top": null,
            "visibility": null,
            "width": null
          }
        },
        "72a982ea4b694246af30f16c38a3b2a1": {
          "model_module": "@jupyter-widgets/controls",
          "model_name": "ProgressStyleModel",
          "model_module_version": "1.5.0",
          "state": {
            "_model_module": "@jupyter-widgets/controls",
            "_model_module_version": "1.5.0",
            "_model_name": "ProgressStyleModel",
            "_view_count": null,
            "_view_module": "@jupyter-widgets/base",
            "_view_module_version": "1.2.0",
            "_view_name": "StyleView",
            "bar_color": null,
            "description_width": ""
          }
        },
        "da3a7bb843e1491e8a9bfc97e97cc6a4": {
          "model_module": "@jupyter-widgets/base",
          "model_name": "LayoutModel",
          "model_module_version": "1.2.0",
          "state": {
            "_model_module": "@jupyter-widgets/base",
            "_model_module_version": "1.2.0",
            "_model_name": "LayoutModel",
            "_view_count": null,
            "_view_module": "@jupyter-widgets/base",
            "_view_module_version": "1.2.0",
            "_view_name": "LayoutView",
            "align_content": null,
            "align_items": null,
            "align_self": null,
            "border": null,
            "bottom": null,
            "display": null,
            "flex": null,
            "flex_flow": null,
            "grid_area": null,
            "grid_auto_columns": null,
            "grid_auto_flow": null,
            "grid_auto_rows": null,
            "grid_column": null,
            "grid_gap": null,
            "grid_row": null,
            "grid_template_areas": null,
            "grid_template_columns": null,
            "grid_template_rows": null,
            "height": null,
            "justify_content": null,
            "justify_items": null,
            "left": null,
            "margin": null,
            "max_height": null,
            "max_width": null,
            "min_height": null,
            "min_width": null,
            "object_fit": null,
            "object_position": null,
            "order": null,
            "overflow": null,
            "overflow_x": null,
            "overflow_y": null,
            "padding": null,
            "right": null,
            "top": null,
            "visibility": null,
            "width": null
          }
        },
        "2a6e6f7f57894a58a02885a41316d4a1": {
          "model_module": "@jupyter-widgets/controls",
          "model_name": "DescriptionStyleModel",
          "model_module_version": "1.5.0",
          "state": {
            "_model_module": "@jupyter-widgets/controls",
            "_model_module_version": "1.5.0",
            "_model_name": "DescriptionStyleModel",
            "_view_count": null,
            "_view_module": "@jupyter-widgets/base",
            "_view_module_version": "1.2.0",
            "_view_name": "StyleView",
            "description_width": ""
          }
        },
        "6bbde2f36fee41b4bba14e56b210d131": {
          "model_module": "@jupyter-widgets/controls",
          "model_name": "HBoxModel",
          "model_module_version": "1.5.0",
          "state": {
            "_dom_classes": [],
            "_model_module": "@jupyter-widgets/controls",
            "_model_module_version": "1.5.0",
            "_model_name": "HBoxModel",
            "_view_count": null,
            "_view_module": "@jupyter-widgets/controls",
            "_view_module_version": "1.5.0",
            "_view_name": "HBoxView",
            "box_style": "",
            "children": [
              "IPY_MODEL_bcec49a58b9c451fa57ed74ae446d096",
              "IPY_MODEL_5356bc8433b34fc1ab206870315f8a92",
              "IPY_MODEL_ba6c9933d30c420d81841de58d9db32b"
            ],
            "layout": "IPY_MODEL_b85fd09b7b31411babe9c75db4d7601b"
          }
        },
        "bcec49a58b9c451fa57ed74ae446d096": {
          "model_module": "@jupyter-widgets/controls",
          "model_name": "HTMLModel",
          "model_module_version": "1.5.0",
          "state": {
            "_dom_classes": [],
            "_model_module": "@jupyter-widgets/controls",
            "_model_module_version": "1.5.0",
            "_model_name": "HTMLModel",
            "_view_count": null,
            "_view_module": "@jupyter-widgets/controls",
            "_view_module_version": "1.5.0",
            "_view_name": "HTMLView",
            "description": "",
            "description_tooltip": null,
            "layout": "IPY_MODEL_5e6b477781fc473b833d73d17baeecc3",
            "placeholder": "​",
            "style": "IPY_MODEL_caf04f6108974bcd9fa2aa2c30327e65",
            "value": "100%"
          }
        },
        "5356bc8433b34fc1ab206870315f8a92": {
          "model_module": "@jupyter-widgets/controls",
          "model_name": "FloatProgressModel",
          "model_module_version": "1.5.0",
          "state": {
            "_dom_classes": [],
            "_model_module": "@jupyter-widgets/controls",
            "_model_module_version": "1.5.0",
            "_model_name": "FloatProgressModel",
            "_view_count": null,
            "_view_module": "@jupyter-widgets/controls",
            "_view_module_version": "1.5.0",
            "_view_name": "ProgressView",
            "bar_style": "success",
            "description": "",
            "description_tooltip": null,
            "layout": "IPY_MODEL_3f60e69ec77347a2a11aba8385a49e86",
            "max": 100,
            "min": 0,
            "orientation": "horizontal",
            "style": "IPY_MODEL_82505ca554af4d86ae39efddf3d2e420",
            "value": 100
          }
        },
        "ba6c9933d30c420d81841de58d9db32b": {
          "model_module": "@jupyter-widgets/controls",
          "model_name": "HTMLModel",
          "model_module_version": "1.5.0",
          "state": {
            "_dom_classes": [],
            "_model_module": "@jupyter-widgets/controls",
            "_model_module_version": "1.5.0",
            "_model_name": "HTMLModel",
            "_view_count": null,
            "_view_module": "@jupyter-widgets/controls",
            "_view_module_version": "1.5.0",
            "_view_name": "HTMLView",
            "description": "",
            "description_tooltip": null,
            "layout": "IPY_MODEL_bc84838fc23a43649a8299aaf9529be3",
            "placeholder": "​",
            "style": "IPY_MODEL_55fb0192123349acaf2b0c892d281e34",
            "value": " 100/100 [00:17&lt;00:00,  6.64it/s]"
          }
        },
        "b85fd09b7b31411babe9c75db4d7601b": {
          "model_module": "@jupyter-widgets/base",
          "model_name": "LayoutModel",
          "model_module_version": "1.2.0",
          "state": {
            "_model_module": "@jupyter-widgets/base",
            "_model_module_version": "1.2.0",
            "_model_name": "LayoutModel",
            "_view_count": null,
            "_view_module": "@jupyter-widgets/base",
            "_view_module_version": "1.2.0",
            "_view_name": "LayoutView",
            "align_content": null,
            "align_items": null,
            "align_self": null,
            "border": null,
            "bottom": null,
            "display": null,
            "flex": null,
            "flex_flow": null,
            "grid_area": null,
            "grid_auto_columns": null,
            "grid_auto_flow": null,
            "grid_auto_rows": null,
            "grid_column": null,
            "grid_gap": null,
            "grid_row": null,
            "grid_template_areas": null,
            "grid_template_columns": null,
            "grid_template_rows": null,
            "height": null,
            "justify_content": null,
            "justify_items": null,
            "left": null,
            "margin": null,
            "max_height": null,
            "max_width": null,
            "min_height": null,
            "min_width": null,
            "object_fit": null,
            "object_position": null,
            "order": null,
            "overflow": null,
            "overflow_x": null,
            "overflow_y": null,
            "padding": null,
            "right": null,
            "top": null,
            "visibility": null,
            "width": null
          }
        },
        "5e6b477781fc473b833d73d17baeecc3": {
          "model_module": "@jupyter-widgets/base",
          "model_name": "LayoutModel",
          "model_module_version": "1.2.0",
          "state": {
            "_model_module": "@jupyter-widgets/base",
            "_model_module_version": "1.2.0",
            "_model_name": "LayoutModel",
            "_view_count": null,
            "_view_module": "@jupyter-widgets/base",
            "_view_module_version": "1.2.0",
            "_view_name": "LayoutView",
            "align_content": null,
            "align_items": null,
            "align_self": null,
            "border": null,
            "bottom": null,
            "display": null,
            "flex": null,
            "flex_flow": null,
            "grid_area": null,
            "grid_auto_columns": null,
            "grid_auto_flow": null,
            "grid_auto_rows": null,
            "grid_column": null,
            "grid_gap": null,
            "grid_row": null,
            "grid_template_areas": null,
            "grid_template_columns": null,
            "grid_template_rows": null,
            "height": null,
            "justify_content": null,
            "justify_items": null,
            "left": null,
            "margin": null,
            "max_height": null,
            "max_width": null,
            "min_height": null,
            "min_width": null,
            "object_fit": null,
            "object_position": null,
            "order": null,
            "overflow": null,
            "overflow_x": null,
            "overflow_y": null,
            "padding": null,
            "right": null,
            "top": null,
            "visibility": null,
            "width": null
          }
        },
        "caf04f6108974bcd9fa2aa2c30327e65": {
          "model_module": "@jupyter-widgets/controls",
          "model_name": "DescriptionStyleModel",
          "model_module_version": "1.5.0",
          "state": {
            "_model_module": "@jupyter-widgets/controls",
            "_model_module_version": "1.5.0",
            "_model_name": "DescriptionStyleModel",
            "_view_count": null,
            "_view_module": "@jupyter-widgets/base",
            "_view_module_version": "1.2.0",
            "_view_name": "StyleView",
            "description_width": ""
          }
        },
        "3f60e69ec77347a2a11aba8385a49e86": {
          "model_module": "@jupyter-widgets/base",
          "model_name": "LayoutModel",
          "model_module_version": "1.2.0",
          "state": {
            "_model_module": "@jupyter-widgets/base",
            "_model_module_version": "1.2.0",
            "_model_name": "LayoutModel",
            "_view_count": null,
            "_view_module": "@jupyter-widgets/base",
            "_view_module_version": "1.2.0",
            "_view_name": "LayoutView",
            "align_content": null,
            "align_items": null,
            "align_self": null,
            "border": null,
            "bottom": null,
            "display": null,
            "flex": null,
            "flex_flow": null,
            "grid_area": null,
            "grid_auto_columns": null,
            "grid_auto_flow": null,
            "grid_auto_rows": null,
            "grid_column": null,
            "grid_gap": null,
            "grid_row": null,
            "grid_template_areas": null,
            "grid_template_columns": null,
            "grid_template_rows": null,
            "height": null,
            "justify_content": null,
            "justify_items": null,
            "left": null,
            "margin": null,
            "max_height": null,
            "max_width": null,
            "min_height": null,
            "min_width": null,
            "object_fit": null,
            "object_position": null,
            "order": null,
            "overflow": null,
            "overflow_x": null,
            "overflow_y": null,
            "padding": null,
            "right": null,
            "top": null,
            "visibility": null,
            "width": null
          }
        },
        "82505ca554af4d86ae39efddf3d2e420": {
          "model_module": "@jupyter-widgets/controls",
          "model_name": "ProgressStyleModel",
          "model_module_version": "1.5.0",
          "state": {
            "_model_module": "@jupyter-widgets/controls",
            "_model_module_version": "1.5.0",
            "_model_name": "ProgressStyleModel",
            "_view_count": null,
            "_view_module": "@jupyter-widgets/base",
            "_view_module_version": "1.2.0",
            "_view_name": "StyleView",
            "bar_color": null,
            "description_width": ""
          }
        },
        "bc84838fc23a43649a8299aaf9529be3": {
          "model_module": "@jupyter-widgets/base",
          "model_name": "LayoutModel",
          "model_module_version": "1.2.0",
          "state": {
            "_model_module": "@jupyter-widgets/base",
            "_model_module_version": "1.2.0",
            "_model_name": "LayoutModel",
            "_view_count": null,
            "_view_module": "@jupyter-widgets/base",
            "_view_module_version": "1.2.0",
            "_view_name": "LayoutView",
            "align_content": null,
            "align_items": null,
            "align_self": null,
            "border": null,
            "bottom": null,
            "display": null,
            "flex": null,
            "flex_flow": null,
            "grid_area": null,
            "grid_auto_columns": null,
            "grid_auto_flow": null,
            "grid_auto_rows": null,
            "grid_column": null,
            "grid_gap": null,
            "grid_row": null,
            "grid_template_areas": null,
            "grid_template_columns": null,
            "grid_template_rows": null,
            "height": null,
            "justify_content": null,
            "justify_items": null,
            "left": null,
            "margin": null,
            "max_height": null,
            "max_width": null,
            "min_height": null,
            "min_width": null,
            "object_fit": null,
            "object_position": null,
            "order": null,
            "overflow": null,
            "overflow_x": null,
            "overflow_y": null,
            "padding": null,
            "right": null,
            "top": null,
            "visibility": null,
            "width": null
          }
        },
        "55fb0192123349acaf2b0c892d281e34": {
          "model_module": "@jupyter-widgets/controls",
          "model_name": "DescriptionStyleModel",
          "model_module_version": "1.5.0",
          "state": {
            "_model_module": "@jupyter-widgets/controls",
            "_model_module_version": "1.5.0",
            "_model_name": "DescriptionStyleModel",
            "_view_count": null,
            "_view_module": "@jupyter-widgets/base",
            "_view_module_version": "1.2.0",
            "_view_name": "StyleView",
            "description_width": ""
          }
        },
        "11d748d624444fcf8df251c125a1896d": {
          "model_module": "@jupyter-widgets/controls",
          "model_name": "HBoxModel",
          "model_module_version": "1.5.0",
          "state": {
            "_dom_classes": [],
            "_model_module": "@jupyter-widgets/controls",
            "_model_module_version": "1.5.0",
            "_model_name": "HBoxModel",
            "_view_count": null,
            "_view_module": "@jupyter-widgets/controls",
            "_view_module_version": "1.5.0",
            "_view_name": "HBoxView",
            "box_style": "",
            "children": [
              "IPY_MODEL_c7fe092daf0f47e0be7e7387b0f9fa20",
              "IPY_MODEL_85be72a7f85248c99c7e6e2c1fca1468",
              "IPY_MODEL_e6da05d90fa940cbb508e1b2bdc84540"
            ],
            "layout": "IPY_MODEL_d867973d57e7434b919bee72eec9976c"
          }
        },
        "c7fe092daf0f47e0be7e7387b0f9fa20": {
          "model_module": "@jupyter-widgets/controls",
          "model_name": "HTMLModel",
          "model_module_version": "1.5.0",
          "state": {
            "_dom_classes": [],
            "_model_module": "@jupyter-widgets/controls",
            "_model_module_version": "1.5.0",
            "_model_name": "HTMLModel",
            "_view_count": null,
            "_view_module": "@jupyter-widgets/controls",
            "_view_module_version": "1.5.0",
            "_view_name": "HTMLView",
            "description": "",
            "description_tooltip": null,
            "layout": "IPY_MODEL_56c8d3465be24b4fbd40570d9630e61c",
            "placeholder": "​",
            "style": "IPY_MODEL_6b9ed0d0822c42c88af3932e3dab8ec0",
            "value": "100%"
          }
        },
        "85be72a7f85248c99c7e6e2c1fca1468": {
          "model_module": "@jupyter-widgets/controls",
          "model_name": "FloatProgressModel",
          "model_module_version": "1.5.0",
          "state": {
            "_dom_classes": [],
            "_model_module": "@jupyter-widgets/controls",
            "_model_module_version": "1.5.0",
            "_model_name": "FloatProgressModel",
            "_view_count": null,
            "_view_module": "@jupyter-widgets/controls",
            "_view_module_version": "1.5.0",
            "_view_name": "ProgressView",
            "bar_style": "success",
            "description": "",
            "description_tooltip": null,
            "layout": "IPY_MODEL_b4d6b8619a7a4ad4b1143d896ecad668",
            "max": 100,
            "min": 0,
            "orientation": "horizontal",
            "style": "IPY_MODEL_76a6cacff7ef403c9270c775f163b438",
            "value": 100
          }
        },
        "e6da05d90fa940cbb508e1b2bdc84540": {
          "model_module": "@jupyter-widgets/controls",
          "model_name": "HTMLModel",
          "model_module_version": "1.5.0",
          "state": {
            "_dom_classes": [],
            "_model_module": "@jupyter-widgets/controls",
            "_model_module_version": "1.5.0",
            "_model_name": "HTMLModel",
            "_view_count": null,
            "_view_module": "@jupyter-widgets/controls",
            "_view_module_version": "1.5.0",
            "_view_name": "HTMLView",
            "description": "",
            "description_tooltip": null,
            "layout": "IPY_MODEL_505580a4cb014176ba73c06e04257c37",
            "placeholder": "​",
            "style": "IPY_MODEL_42d101aaa90b4ac098a5b63b2241b226",
            "value": " 100/100 [00:17&lt;00:00,  6.61it/s]"
          }
        },
        "d867973d57e7434b919bee72eec9976c": {
          "model_module": "@jupyter-widgets/base",
          "model_name": "LayoutModel",
          "model_module_version": "1.2.0",
          "state": {
            "_model_module": "@jupyter-widgets/base",
            "_model_module_version": "1.2.0",
            "_model_name": "LayoutModel",
            "_view_count": null,
            "_view_module": "@jupyter-widgets/base",
            "_view_module_version": "1.2.0",
            "_view_name": "LayoutView",
            "align_content": null,
            "align_items": null,
            "align_self": null,
            "border": null,
            "bottom": null,
            "display": null,
            "flex": null,
            "flex_flow": null,
            "grid_area": null,
            "grid_auto_columns": null,
            "grid_auto_flow": null,
            "grid_auto_rows": null,
            "grid_column": null,
            "grid_gap": null,
            "grid_row": null,
            "grid_template_areas": null,
            "grid_template_columns": null,
            "grid_template_rows": null,
            "height": null,
            "justify_content": null,
            "justify_items": null,
            "left": null,
            "margin": null,
            "max_height": null,
            "max_width": null,
            "min_height": null,
            "min_width": null,
            "object_fit": null,
            "object_position": null,
            "order": null,
            "overflow": null,
            "overflow_x": null,
            "overflow_y": null,
            "padding": null,
            "right": null,
            "top": null,
            "visibility": null,
            "width": null
          }
        },
        "56c8d3465be24b4fbd40570d9630e61c": {
          "model_module": "@jupyter-widgets/base",
          "model_name": "LayoutModel",
          "model_module_version": "1.2.0",
          "state": {
            "_model_module": "@jupyter-widgets/base",
            "_model_module_version": "1.2.0",
            "_model_name": "LayoutModel",
            "_view_count": null,
            "_view_module": "@jupyter-widgets/base",
            "_view_module_version": "1.2.0",
            "_view_name": "LayoutView",
            "align_content": null,
            "align_items": null,
            "align_self": null,
            "border": null,
            "bottom": null,
            "display": null,
            "flex": null,
            "flex_flow": null,
            "grid_area": null,
            "grid_auto_columns": null,
            "grid_auto_flow": null,
            "grid_auto_rows": null,
            "grid_column": null,
            "grid_gap": null,
            "grid_row": null,
            "grid_template_areas": null,
            "grid_template_columns": null,
            "grid_template_rows": null,
            "height": null,
            "justify_content": null,
            "justify_items": null,
            "left": null,
            "margin": null,
            "max_height": null,
            "max_width": null,
            "min_height": null,
            "min_width": null,
            "object_fit": null,
            "object_position": null,
            "order": null,
            "overflow": null,
            "overflow_x": null,
            "overflow_y": null,
            "padding": null,
            "right": null,
            "top": null,
            "visibility": null,
            "width": null
          }
        },
        "6b9ed0d0822c42c88af3932e3dab8ec0": {
          "model_module": "@jupyter-widgets/controls",
          "model_name": "DescriptionStyleModel",
          "model_module_version": "1.5.0",
          "state": {
            "_model_module": "@jupyter-widgets/controls",
            "_model_module_version": "1.5.0",
            "_model_name": "DescriptionStyleModel",
            "_view_count": null,
            "_view_module": "@jupyter-widgets/base",
            "_view_module_version": "1.2.0",
            "_view_name": "StyleView",
            "description_width": ""
          }
        },
        "b4d6b8619a7a4ad4b1143d896ecad668": {
          "model_module": "@jupyter-widgets/base",
          "model_name": "LayoutModel",
          "model_module_version": "1.2.0",
          "state": {
            "_model_module": "@jupyter-widgets/base",
            "_model_module_version": "1.2.0",
            "_model_name": "LayoutModel",
            "_view_count": null,
            "_view_module": "@jupyter-widgets/base",
            "_view_module_version": "1.2.0",
            "_view_name": "LayoutView",
            "align_content": null,
            "align_items": null,
            "align_self": null,
            "border": null,
            "bottom": null,
            "display": null,
            "flex": null,
            "flex_flow": null,
            "grid_area": null,
            "grid_auto_columns": null,
            "grid_auto_flow": null,
            "grid_auto_rows": null,
            "grid_column": null,
            "grid_gap": null,
            "grid_row": null,
            "grid_template_areas": null,
            "grid_template_columns": null,
            "grid_template_rows": null,
            "height": null,
            "justify_content": null,
            "justify_items": null,
            "left": null,
            "margin": null,
            "max_height": null,
            "max_width": null,
            "min_height": null,
            "min_width": null,
            "object_fit": null,
            "object_position": null,
            "order": null,
            "overflow": null,
            "overflow_x": null,
            "overflow_y": null,
            "padding": null,
            "right": null,
            "top": null,
            "visibility": null,
            "width": null
          }
        },
        "76a6cacff7ef403c9270c775f163b438": {
          "model_module": "@jupyter-widgets/controls",
          "model_name": "ProgressStyleModel",
          "model_module_version": "1.5.0",
          "state": {
            "_model_module": "@jupyter-widgets/controls",
            "_model_module_version": "1.5.0",
            "_model_name": "ProgressStyleModel",
            "_view_count": null,
            "_view_module": "@jupyter-widgets/base",
            "_view_module_version": "1.2.0",
            "_view_name": "StyleView",
            "bar_color": null,
            "description_width": ""
          }
        },
        "505580a4cb014176ba73c06e04257c37": {
          "model_module": "@jupyter-widgets/base",
          "model_name": "LayoutModel",
          "model_module_version": "1.2.0",
          "state": {
            "_model_module": "@jupyter-widgets/base",
            "_model_module_version": "1.2.0",
            "_model_name": "LayoutModel",
            "_view_count": null,
            "_view_module": "@jupyter-widgets/base",
            "_view_module_version": "1.2.0",
            "_view_name": "LayoutView",
            "align_content": null,
            "align_items": null,
            "align_self": null,
            "border": null,
            "bottom": null,
            "display": null,
            "flex": null,
            "flex_flow": null,
            "grid_area": null,
            "grid_auto_columns": null,
            "grid_auto_flow": null,
            "grid_auto_rows": null,
            "grid_column": null,
            "grid_gap": null,
            "grid_row": null,
            "grid_template_areas": null,
            "grid_template_columns": null,
            "grid_template_rows": null,
            "height": null,
            "justify_content": null,
            "justify_items": null,
            "left": null,
            "margin": null,
            "max_height": null,
            "max_width": null,
            "min_height": null,
            "min_width": null,
            "object_fit": null,
            "object_position": null,
            "order": null,
            "overflow": null,
            "overflow_x": null,
            "overflow_y": null,
            "padding": null,
            "right": null,
            "top": null,
            "visibility": null,
            "width": null
          }
        },
        "42d101aaa90b4ac098a5b63b2241b226": {
          "model_module": "@jupyter-widgets/controls",
          "model_name": "DescriptionStyleModel",
          "model_module_version": "1.5.0",
          "state": {
            "_model_module": "@jupyter-widgets/controls",
            "_model_module_version": "1.5.0",
            "_model_name": "DescriptionStyleModel",
            "_view_count": null,
            "_view_module": "@jupyter-widgets/base",
            "_view_module_version": "1.2.0",
            "_view_name": "StyleView",
            "description_width": ""
          }
        },
        "7454b590541740449e387ba97a96ba88": {
          "model_module": "@jupyter-widgets/controls",
          "model_name": "HBoxModel",
          "model_module_version": "1.5.0",
          "state": {
            "_dom_classes": [],
            "_model_module": "@jupyter-widgets/controls",
            "_model_module_version": "1.5.0",
            "_model_name": "HBoxModel",
            "_view_count": null,
            "_view_module": "@jupyter-widgets/controls",
            "_view_module_version": "1.5.0",
            "_view_name": "HBoxView",
            "box_style": "",
            "children": [
              "IPY_MODEL_e1252f42f2d24efb8a1a0872be350ffa",
              "IPY_MODEL_30dd17142058458eae7af3c32ec6330c",
              "IPY_MODEL_a0300d92c9d14140a41197d5680d97e1"
            ],
            "layout": "IPY_MODEL_b93db431a71f44b6a144d6972946df58"
          }
        },
        "e1252f42f2d24efb8a1a0872be350ffa": {
          "model_module": "@jupyter-widgets/controls",
          "model_name": "HTMLModel",
          "model_module_version": "1.5.0",
          "state": {
            "_dom_classes": [],
            "_model_module": "@jupyter-widgets/controls",
            "_model_module_version": "1.5.0",
            "_model_name": "HTMLModel",
            "_view_count": null,
            "_view_module": "@jupyter-widgets/controls",
            "_view_module_version": "1.5.0",
            "_view_name": "HTMLView",
            "description": "",
            "description_tooltip": null,
            "layout": "IPY_MODEL_cf112032e7204c4e8b15e2f2ea6b30a2",
            "placeholder": "​",
            "style": "IPY_MODEL_dbc5b23324264c3c9fdf79ba93b3d9e2",
            "value": "100%"
          }
        },
        "30dd17142058458eae7af3c32ec6330c": {
          "model_module": "@jupyter-widgets/controls",
          "model_name": "FloatProgressModel",
          "model_module_version": "1.5.0",
          "state": {
            "_dom_classes": [],
            "_model_module": "@jupyter-widgets/controls",
            "_model_module_version": "1.5.0",
            "_model_name": "FloatProgressModel",
            "_view_count": null,
            "_view_module": "@jupyter-widgets/controls",
            "_view_module_version": "1.5.0",
            "_view_name": "ProgressView",
            "bar_style": "success",
            "description": "",
            "description_tooltip": null,
            "layout": "IPY_MODEL_ab3dcafa73eb43f897a9a314fe7218b1",
            "max": 100,
            "min": 0,
            "orientation": "horizontal",
            "style": "IPY_MODEL_6289860ff47845dc9b77f0db6b6b569c",
            "value": 100
          }
        },
        "a0300d92c9d14140a41197d5680d97e1": {
          "model_module": "@jupyter-widgets/controls",
          "model_name": "HTMLModel",
          "model_module_version": "1.5.0",
          "state": {
            "_dom_classes": [],
            "_model_module": "@jupyter-widgets/controls",
            "_model_module_version": "1.5.0",
            "_model_name": "HTMLModel",
            "_view_count": null,
            "_view_module": "@jupyter-widgets/controls",
            "_view_module_version": "1.5.0",
            "_view_name": "HTMLView",
            "description": "",
            "description_tooltip": null,
            "layout": "IPY_MODEL_d9f9a62e3b3c4c95b280be262a637f0c",
            "placeholder": "​",
            "style": "IPY_MODEL_940052441c844a0dbbbe87b89338e780",
            "value": " 100/100 [00:16&lt;00:00,  6.75it/s]"
          }
        },
        "b93db431a71f44b6a144d6972946df58": {
          "model_module": "@jupyter-widgets/base",
          "model_name": "LayoutModel",
          "model_module_version": "1.2.0",
          "state": {
            "_model_module": "@jupyter-widgets/base",
            "_model_module_version": "1.2.0",
            "_model_name": "LayoutModel",
            "_view_count": null,
            "_view_module": "@jupyter-widgets/base",
            "_view_module_version": "1.2.0",
            "_view_name": "LayoutView",
            "align_content": null,
            "align_items": null,
            "align_self": null,
            "border": null,
            "bottom": null,
            "display": null,
            "flex": null,
            "flex_flow": null,
            "grid_area": null,
            "grid_auto_columns": null,
            "grid_auto_flow": null,
            "grid_auto_rows": null,
            "grid_column": null,
            "grid_gap": null,
            "grid_row": null,
            "grid_template_areas": null,
            "grid_template_columns": null,
            "grid_template_rows": null,
            "height": null,
            "justify_content": null,
            "justify_items": null,
            "left": null,
            "margin": null,
            "max_height": null,
            "max_width": null,
            "min_height": null,
            "min_width": null,
            "object_fit": null,
            "object_position": null,
            "order": null,
            "overflow": null,
            "overflow_x": null,
            "overflow_y": null,
            "padding": null,
            "right": null,
            "top": null,
            "visibility": null,
            "width": null
          }
        },
        "cf112032e7204c4e8b15e2f2ea6b30a2": {
          "model_module": "@jupyter-widgets/base",
          "model_name": "LayoutModel",
          "model_module_version": "1.2.0",
          "state": {
            "_model_module": "@jupyter-widgets/base",
            "_model_module_version": "1.2.0",
            "_model_name": "LayoutModel",
            "_view_count": null,
            "_view_module": "@jupyter-widgets/base",
            "_view_module_version": "1.2.0",
            "_view_name": "LayoutView",
            "align_content": null,
            "align_items": null,
            "align_self": null,
            "border": null,
            "bottom": null,
            "display": null,
            "flex": null,
            "flex_flow": null,
            "grid_area": null,
            "grid_auto_columns": null,
            "grid_auto_flow": null,
            "grid_auto_rows": null,
            "grid_column": null,
            "grid_gap": null,
            "grid_row": null,
            "grid_template_areas": null,
            "grid_template_columns": null,
            "grid_template_rows": null,
            "height": null,
            "justify_content": null,
            "justify_items": null,
            "left": null,
            "margin": null,
            "max_height": null,
            "max_width": null,
            "min_height": null,
            "min_width": null,
            "object_fit": null,
            "object_position": null,
            "order": null,
            "overflow": null,
            "overflow_x": null,
            "overflow_y": null,
            "padding": null,
            "right": null,
            "top": null,
            "visibility": null,
            "width": null
          }
        },
        "dbc5b23324264c3c9fdf79ba93b3d9e2": {
          "model_module": "@jupyter-widgets/controls",
          "model_name": "DescriptionStyleModel",
          "model_module_version": "1.5.0",
          "state": {
            "_model_module": "@jupyter-widgets/controls",
            "_model_module_version": "1.5.0",
            "_model_name": "DescriptionStyleModel",
            "_view_count": null,
            "_view_module": "@jupyter-widgets/base",
            "_view_module_version": "1.2.0",
            "_view_name": "StyleView",
            "description_width": ""
          }
        },
        "ab3dcafa73eb43f897a9a314fe7218b1": {
          "model_module": "@jupyter-widgets/base",
          "model_name": "LayoutModel",
          "model_module_version": "1.2.0",
          "state": {
            "_model_module": "@jupyter-widgets/base",
            "_model_module_version": "1.2.0",
            "_model_name": "LayoutModel",
            "_view_count": null,
            "_view_module": "@jupyter-widgets/base",
            "_view_module_version": "1.2.0",
            "_view_name": "LayoutView",
            "align_content": null,
            "align_items": null,
            "align_self": null,
            "border": null,
            "bottom": null,
            "display": null,
            "flex": null,
            "flex_flow": null,
            "grid_area": null,
            "grid_auto_columns": null,
            "grid_auto_flow": null,
            "grid_auto_rows": null,
            "grid_column": null,
            "grid_gap": null,
            "grid_row": null,
            "grid_template_areas": null,
            "grid_template_columns": null,
            "grid_template_rows": null,
            "height": null,
            "justify_content": null,
            "justify_items": null,
            "left": null,
            "margin": null,
            "max_height": null,
            "max_width": null,
            "min_height": null,
            "min_width": null,
            "object_fit": null,
            "object_position": null,
            "order": null,
            "overflow": null,
            "overflow_x": null,
            "overflow_y": null,
            "padding": null,
            "right": null,
            "top": null,
            "visibility": null,
            "width": null
          }
        },
        "6289860ff47845dc9b77f0db6b6b569c": {
          "model_module": "@jupyter-widgets/controls",
          "model_name": "ProgressStyleModel",
          "model_module_version": "1.5.0",
          "state": {
            "_model_module": "@jupyter-widgets/controls",
            "_model_module_version": "1.5.0",
            "_model_name": "ProgressStyleModel",
            "_view_count": null,
            "_view_module": "@jupyter-widgets/base",
            "_view_module_version": "1.2.0",
            "_view_name": "StyleView",
            "bar_color": null,
            "description_width": ""
          }
        },
        "d9f9a62e3b3c4c95b280be262a637f0c": {
          "model_module": "@jupyter-widgets/base",
          "model_name": "LayoutModel",
          "model_module_version": "1.2.0",
          "state": {
            "_model_module": "@jupyter-widgets/base",
            "_model_module_version": "1.2.0",
            "_model_name": "LayoutModel",
            "_view_count": null,
            "_view_module": "@jupyter-widgets/base",
            "_view_module_version": "1.2.0",
            "_view_name": "LayoutView",
            "align_content": null,
            "align_items": null,
            "align_self": null,
            "border": null,
            "bottom": null,
            "display": null,
            "flex": null,
            "flex_flow": null,
            "grid_area": null,
            "grid_auto_columns": null,
            "grid_auto_flow": null,
            "grid_auto_rows": null,
            "grid_column": null,
            "grid_gap": null,
            "grid_row": null,
            "grid_template_areas": null,
            "grid_template_columns": null,
            "grid_template_rows": null,
            "height": null,
            "justify_content": null,
            "justify_items": null,
            "left": null,
            "margin": null,
            "max_height": null,
            "max_width": null,
            "min_height": null,
            "min_width": null,
            "object_fit": null,
            "object_position": null,
            "order": null,
            "overflow": null,
            "overflow_x": null,
            "overflow_y": null,
            "padding": null,
            "right": null,
            "top": null,
            "visibility": null,
            "width": null
          }
        },
        "940052441c844a0dbbbe87b89338e780": {
          "model_module": "@jupyter-widgets/controls",
          "model_name": "DescriptionStyleModel",
          "model_module_version": "1.5.0",
          "state": {
            "_model_module": "@jupyter-widgets/controls",
            "_model_module_version": "1.5.0",
            "_model_name": "DescriptionStyleModel",
            "_view_count": null,
            "_view_module": "@jupyter-widgets/base",
            "_view_module_version": "1.2.0",
            "_view_name": "StyleView",
            "description_width": ""
          }
        },
        "b9c40bc9ab544386bf5837490901c8a1": {
          "model_module": "@jupyter-widgets/controls",
          "model_name": "HBoxModel",
          "model_module_version": "1.5.0",
          "state": {
            "_dom_classes": [],
            "_model_module": "@jupyter-widgets/controls",
            "_model_module_version": "1.5.0",
            "_model_name": "HBoxModel",
            "_view_count": null,
            "_view_module": "@jupyter-widgets/controls",
            "_view_module_version": "1.5.0",
            "_view_name": "HBoxView",
            "box_style": "",
            "children": [
              "IPY_MODEL_ed4cfaec7a104b99a5e601c591a61d58",
              "IPY_MODEL_295475edf2a845138a91bb25dcfce527",
              "IPY_MODEL_146158c312ce41d1b52c105aadff933b"
            ],
            "layout": "IPY_MODEL_0c45355ff8cd43138f8c330a8ad99fd1"
          }
        },
        "ed4cfaec7a104b99a5e601c591a61d58": {
          "model_module": "@jupyter-widgets/controls",
          "model_name": "HTMLModel",
          "model_module_version": "1.5.0",
          "state": {
            "_dom_classes": [],
            "_model_module": "@jupyter-widgets/controls",
            "_model_module_version": "1.5.0",
            "_model_name": "HTMLModel",
            "_view_count": null,
            "_view_module": "@jupyter-widgets/controls",
            "_view_module_version": "1.5.0",
            "_view_name": "HTMLView",
            "description": "",
            "description_tooltip": null,
            "layout": "IPY_MODEL_92d8474cce2f4a1dbb69937798f9b951",
            "placeholder": "​",
            "style": "IPY_MODEL_f9c879f6168f400ca5e1958e021491fd",
            "value": "100%"
          }
        },
        "295475edf2a845138a91bb25dcfce527": {
          "model_module": "@jupyter-widgets/controls",
          "model_name": "FloatProgressModel",
          "model_module_version": "1.5.0",
          "state": {
            "_dom_classes": [],
            "_model_module": "@jupyter-widgets/controls",
            "_model_module_version": "1.5.0",
            "_model_name": "FloatProgressModel",
            "_view_count": null,
            "_view_module": "@jupyter-widgets/controls",
            "_view_module_version": "1.5.0",
            "_view_name": "ProgressView",
            "bar_style": "success",
            "description": "",
            "description_tooltip": null,
            "layout": "IPY_MODEL_c5ab508594664e249f31a81191fd5e66",
            "max": 100,
            "min": 0,
            "orientation": "horizontal",
            "style": "IPY_MODEL_b0148d4378984a2fa04e645e7f816b8c",
            "value": 100
          }
        },
        "146158c312ce41d1b52c105aadff933b": {
          "model_module": "@jupyter-widgets/controls",
          "model_name": "HTMLModel",
          "model_module_version": "1.5.0",
          "state": {
            "_dom_classes": [],
            "_model_module": "@jupyter-widgets/controls",
            "_model_module_version": "1.5.0",
            "_model_name": "HTMLModel",
            "_view_count": null,
            "_view_module": "@jupyter-widgets/controls",
            "_view_module_version": "1.5.0",
            "_view_name": "HTMLView",
            "description": "",
            "description_tooltip": null,
            "layout": "IPY_MODEL_bda21484b0bf483289912beb62cd83cb",
            "placeholder": "​",
            "style": "IPY_MODEL_c1876239a6b44c498949fed1a71020ad",
            "value": " 100/100 [00:17&lt;00:00,  5.70it/s]"
          }
        },
        "0c45355ff8cd43138f8c330a8ad99fd1": {
          "model_module": "@jupyter-widgets/base",
          "model_name": "LayoutModel",
          "model_module_version": "1.2.0",
          "state": {
            "_model_module": "@jupyter-widgets/base",
            "_model_module_version": "1.2.0",
            "_model_name": "LayoutModel",
            "_view_count": null,
            "_view_module": "@jupyter-widgets/base",
            "_view_module_version": "1.2.0",
            "_view_name": "LayoutView",
            "align_content": null,
            "align_items": null,
            "align_self": null,
            "border": null,
            "bottom": null,
            "display": null,
            "flex": null,
            "flex_flow": null,
            "grid_area": null,
            "grid_auto_columns": null,
            "grid_auto_flow": null,
            "grid_auto_rows": null,
            "grid_column": null,
            "grid_gap": null,
            "grid_row": null,
            "grid_template_areas": null,
            "grid_template_columns": null,
            "grid_template_rows": null,
            "height": null,
            "justify_content": null,
            "justify_items": null,
            "left": null,
            "margin": null,
            "max_height": null,
            "max_width": null,
            "min_height": null,
            "min_width": null,
            "object_fit": null,
            "object_position": null,
            "order": null,
            "overflow": null,
            "overflow_x": null,
            "overflow_y": null,
            "padding": null,
            "right": null,
            "top": null,
            "visibility": null,
            "width": null
          }
        },
        "92d8474cce2f4a1dbb69937798f9b951": {
          "model_module": "@jupyter-widgets/base",
          "model_name": "LayoutModel",
          "model_module_version": "1.2.0",
          "state": {
            "_model_module": "@jupyter-widgets/base",
            "_model_module_version": "1.2.0",
            "_model_name": "LayoutModel",
            "_view_count": null,
            "_view_module": "@jupyter-widgets/base",
            "_view_module_version": "1.2.0",
            "_view_name": "LayoutView",
            "align_content": null,
            "align_items": null,
            "align_self": null,
            "border": null,
            "bottom": null,
            "display": null,
            "flex": null,
            "flex_flow": null,
            "grid_area": null,
            "grid_auto_columns": null,
            "grid_auto_flow": null,
            "grid_auto_rows": null,
            "grid_column": null,
            "grid_gap": null,
            "grid_row": null,
            "grid_template_areas": null,
            "grid_template_columns": null,
            "grid_template_rows": null,
            "height": null,
            "justify_content": null,
            "justify_items": null,
            "left": null,
            "margin": null,
            "max_height": null,
            "max_width": null,
            "min_height": null,
            "min_width": null,
            "object_fit": null,
            "object_position": null,
            "order": null,
            "overflow": null,
            "overflow_x": null,
            "overflow_y": null,
            "padding": null,
            "right": null,
            "top": null,
            "visibility": null,
            "width": null
          }
        },
        "f9c879f6168f400ca5e1958e021491fd": {
          "model_module": "@jupyter-widgets/controls",
          "model_name": "DescriptionStyleModel",
          "model_module_version": "1.5.0",
          "state": {
            "_model_module": "@jupyter-widgets/controls",
            "_model_module_version": "1.5.0",
            "_model_name": "DescriptionStyleModel",
            "_view_count": null,
            "_view_module": "@jupyter-widgets/base",
            "_view_module_version": "1.2.0",
            "_view_name": "StyleView",
            "description_width": ""
          }
        },
        "c5ab508594664e249f31a81191fd5e66": {
          "model_module": "@jupyter-widgets/base",
          "model_name": "LayoutModel",
          "model_module_version": "1.2.0",
          "state": {
            "_model_module": "@jupyter-widgets/base",
            "_model_module_version": "1.2.0",
            "_model_name": "LayoutModel",
            "_view_count": null,
            "_view_module": "@jupyter-widgets/base",
            "_view_module_version": "1.2.0",
            "_view_name": "LayoutView",
            "align_content": null,
            "align_items": null,
            "align_self": null,
            "border": null,
            "bottom": null,
            "display": null,
            "flex": null,
            "flex_flow": null,
            "grid_area": null,
            "grid_auto_columns": null,
            "grid_auto_flow": null,
            "grid_auto_rows": null,
            "grid_column": null,
            "grid_gap": null,
            "grid_row": null,
            "grid_template_areas": null,
            "grid_template_columns": null,
            "grid_template_rows": null,
            "height": null,
            "justify_content": null,
            "justify_items": null,
            "left": null,
            "margin": null,
            "max_height": null,
            "max_width": null,
            "min_height": null,
            "min_width": null,
            "object_fit": null,
            "object_position": null,
            "order": null,
            "overflow": null,
            "overflow_x": null,
            "overflow_y": null,
            "padding": null,
            "right": null,
            "top": null,
            "visibility": null,
            "width": null
          }
        },
        "b0148d4378984a2fa04e645e7f816b8c": {
          "model_module": "@jupyter-widgets/controls",
          "model_name": "ProgressStyleModel",
          "model_module_version": "1.5.0",
          "state": {
            "_model_module": "@jupyter-widgets/controls",
            "_model_module_version": "1.5.0",
            "_model_name": "ProgressStyleModel",
            "_view_count": null,
            "_view_module": "@jupyter-widgets/base",
            "_view_module_version": "1.2.0",
            "_view_name": "StyleView",
            "bar_color": null,
            "description_width": ""
          }
        },
        "bda21484b0bf483289912beb62cd83cb": {
          "model_module": "@jupyter-widgets/base",
          "model_name": "LayoutModel",
          "model_module_version": "1.2.0",
          "state": {
            "_model_module": "@jupyter-widgets/base",
            "_model_module_version": "1.2.0",
            "_model_name": "LayoutModel",
            "_view_count": null,
            "_view_module": "@jupyter-widgets/base",
            "_view_module_version": "1.2.0",
            "_view_name": "LayoutView",
            "align_content": null,
            "align_items": null,
            "align_self": null,
            "border": null,
            "bottom": null,
            "display": null,
            "flex": null,
            "flex_flow": null,
            "grid_area": null,
            "grid_auto_columns": null,
            "grid_auto_flow": null,
            "grid_auto_rows": null,
            "grid_column": null,
            "grid_gap": null,
            "grid_row": null,
            "grid_template_areas": null,
            "grid_template_columns": null,
            "grid_template_rows": null,
            "height": null,
            "justify_content": null,
            "justify_items": null,
            "left": null,
            "margin": null,
            "max_height": null,
            "max_width": null,
            "min_height": null,
            "min_width": null,
            "object_fit": null,
            "object_position": null,
            "order": null,
            "overflow": null,
            "overflow_x": null,
            "overflow_y": null,
            "padding": null,
            "right": null,
            "top": null,
            "visibility": null,
            "width": null
          }
        },
        "c1876239a6b44c498949fed1a71020ad": {
          "model_module": "@jupyter-widgets/controls",
          "model_name": "DescriptionStyleModel",
          "model_module_version": "1.5.0",
          "state": {
            "_model_module": "@jupyter-widgets/controls",
            "_model_module_version": "1.5.0",
            "_model_name": "DescriptionStyleModel",
            "_view_count": null,
            "_view_module": "@jupyter-widgets/base",
            "_view_module_version": "1.2.0",
            "_view_name": "StyleView",
            "description_width": ""
          }
        },
        "014dfcddb7e542fd818c8810f68b930a": {
          "model_module": "@jupyter-widgets/controls",
          "model_name": "HBoxModel",
          "model_module_version": "1.5.0",
          "state": {
            "_dom_classes": [],
            "_model_module": "@jupyter-widgets/controls",
            "_model_module_version": "1.5.0",
            "_model_name": "HBoxModel",
            "_view_count": null,
            "_view_module": "@jupyter-widgets/controls",
            "_view_module_version": "1.5.0",
            "_view_name": "HBoxView",
            "box_style": "",
            "children": [
              "IPY_MODEL_b4c5955c21e649ecaa8e1501b3838f45",
              "IPY_MODEL_915331547c214ddb943f39c0c6b3b28a",
              "IPY_MODEL_b766bcc9b8084b38a846665dc7cee506"
            ],
            "layout": "IPY_MODEL_e300e09284fa4974b850141320e37c2e"
          }
        },
        "b4c5955c21e649ecaa8e1501b3838f45": {
          "model_module": "@jupyter-widgets/controls",
          "model_name": "HTMLModel",
          "model_module_version": "1.5.0",
          "state": {
            "_dom_classes": [],
            "_model_module": "@jupyter-widgets/controls",
            "_model_module_version": "1.5.0",
            "_model_name": "HTMLModel",
            "_view_count": null,
            "_view_module": "@jupyter-widgets/controls",
            "_view_module_version": "1.5.0",
            "_view_name": "HTMLView",
            "description": "",
            "description_tooltip": null,
            "layout": "IPY_MODEL_9a8787b0ee304df989ba6814e2404a8d",
            "placeholder": "​",
            "style": "IPY_MODEL_2fe983e6b8664a8c98870933fc702efe",
            "value": "100%"
          }
        },
        "915331547c214ddb943f39c0c6b3b28a": {
          "model_module": "@jupyter-widgets/controls",
          "model_name": "FloatProgressModel",
          "model_module_version": "1.5.0",
          "state": {
            "_dom_classes": [],
            "_model_module": "@jupyter-widgets/controls",
            "_model_module_version": "1.5.0",
            "_model_name": "FloatProgressModel",
            "_view_count": null,
            "_view_module": "@jupyter-widgets/controls",
            "_view_module_version": "1.5.0",
            "_view_name": "ProgressView",
            "bar_style": "success",
            "description": "",
            "description_tooltip": null,
            "layout": "IPY_MODEL_721239b65ae94497b904bb1785e98e79",
            "max": 100,
            "min": 0,
            "orientation": "horizontal",
            "style": "IPY_MODEL_56f11b15faa44257a15c18f60044d58d",
            "value": 100
          }
        },
        "b766bcc9b8084b38a846665dc7cee506": {
          "model_module": "@jupyter-widgets/controls",
          "model_name": "HTMLModel",
          "model_module_version": "1.5.0",
          "state": {
            "_dom_classes": [],
            "_model_module": "@jupyter-widgets/controls",
            "_model_module_version": "1.5.0",
            "_model_name": "HTMLModel",
            "_view_count": null,
            "_view_module": "@jupyter-widgets/controls",
            "_view_module_version": "1.5.0",
            "_view_name": "HTMLView",
            "description": "",
            "description_tooltip": null,
            "layout": "IPY_MODEL_2e2c97ec6399418eb0e6c8e583359054",
            "placeholder": "​",
            "style": "IPY_MODEL_f43fa709650a46e4b789253a5f8be915",
            "value": " 100/100 [00:16&lt;00:00,  6.78it/s]"
          }
        },
        "e300e09284fa4974b850141320e37c2e": {
          "model_module": "@jupyter-widgets/base",
          "model_name": "LayoutModel",
          "model_module_version": "1.2.0",
          "state": {
            "_model_module": "@jupyter-widgets/base",
            "_model_module_version": "1.2.0",
            "_model_name": "LayoutModel",
            "_view_count": null,
            "_view_module": "@jupyter-widgets/base",
            "_view_module_version": "1.2.0",
            "_view_name": "LayoutView",
            "align_content": null,
            "align_items": null,
            "align_self": null,
            "border": null,
            "bottom": null,
            "display": null,
            "flex": null,
            "flex_flow": null,
            "grid_area": null,
            "grid_auto_columns": null,
            "grid_auto_flow": null,
            "grid_auto_rows": null,
            "grid_column": null,
            "grid_gap": null,
            "grid_row": null,
            "grid_template_areas": null,
            "grid_template_columns": null,
            "grid_template_rows": null,
            "height": null,
            "justify_content": null,
            "justify_items": null,
            "left": null,
            "margin": null,
            "max_height": null,
            "max_width": null,
            "min_height": null,
            "min_width": null,
            "object_fit": null,
            "object_position": null,
            "order": null,
            "overflow": null,
            "overflow_x": null,
            "overflow_y": null,
            "padding": null,
            "right": null,
            "top": null,
            "visibility": null,
            "width": null
          }
        },
        "9a8787b0ee304df989ba6814e2404a8d": {
          "model_module": "@jupyter-widgets/base",
          "model_name": "LayoutModel",
          "model_module_version": "1.2.0",
          "state": {
            "_model_module": "@jupyter-widgets/base",
            "_model_module_version": "1.2.0",
            "_model_name": "LayoutModel",
            "_view_count": null,
            "_view_module": "@jupyter-widgets/base",
            "_view_module_version": "1.2.0",
            "_view_name": "LayoutView",
            "align_content": null,
            "align_items": null,
            "align_self": null,
            "border": null,
            "bottom": null,
            "display": null,
            "flex": null,
            "flex_flow": null,
            "grid_area": null,
            "grid_auto_columns": null,
            "grid_auto_flow": null,
            "grid_auto_rows": null,
            "grid_column": null,
            "grid_gap": null,
            "grid_row": null,
            "grid_template_areas": null,
            "grid_template_columns": null,
            "grid_template_rows": null,
            "height": null,
            "justify_content": null,
            "justify_items": null,
            "left": null,
            "margin": null,
            "max_height": null,
            "max_width": null,
            "min_height": null,
            "min_width": null,
            "object_fit": null,
            "object_position": null,
            "order": null,
            "overflow": null,
            "overflow_x": null,
            "overflow_y": null,
            "padding": null,
            "right": null,
            "top": null,
            "visibility": null,
            "width": null
          }
        },
        "2fe983e6b8664a8c98870933fc702efe": {
          "model_module": "@jupyter-widgets/controls",
          "model_name": "DescriptionStyleModel",
          "model_module_version": "1.5.0",
          "state": {
            "_model_module": "@jupyter-widgets/controls",
            "_model_module_version": "1.5.0",
            "_model_name": "DescriptionStyleModel",
            "_view_count": null,
            "_view_module": "@jupyter-widgets/base",
            "_view_module_version": "1.2.0",
            "_view_name": "StyleView",
            "description_width": ""
          }
        },
        "721239b65ae94497b904bb1785e98e79": {
          "model_module": "@jupyter-widgets/base",
          "model_name": "LayoutModel",
          "model_module_version": "1.2.0",
          "state": {
            "_model_module": "@jupyter-widgets/base",
            "_model_module_version": "1.2.0",
            "_model_name": "LayoutModel",
            "_view_count": null,
            "_view_module": "@jupyter-widgets/base",
            "_view_module_version": "1.2.0",
            "_view_name": "LayoutView",
            "align_content": null,
            "align_items": null,
            "align_self": null,
            "border": null,
            "bottom": null,
            "display": null,
            "flex": null,
            "flex_flow": null,
            "grid_area": null,
            "grid_auto_columns": null,
            "grid_auto_flow": null,
            "grid_auto_rows": null,
            "grid_column": null,
            "grid_gap": null,
            "grid_row": null,
            "grid_template_areas": null,
            "grid_template_columns": null,
            "grid_template_rows": null,
            "height": null,
            "justify_content": null,
            "justify_items": null,
            "left": null,
            "margin": null,
            "max_height": null,
            "max_width": null,
            "min_height": null,
            "min_width": null,
            "object_fit": null,
            "object_position": null,
            "order": null,
            "overflow": null,
            "overflow_x": null,
            "overflow_y": null,
            "padding": null,
            "right": null,
            "top": null,
            "visibility": null,
            "width": null
          }
        },
        "56f11b15faa44257a15c18f60044d58d": {
          "model_module": "@jupyter-widgets/controls",
          "model_name": "ProgressStyleModel",
          "model_module_version": "1.5.0",
          "state": {
            "_model_module": "@jupyter-widgets/controls",
            "_model_module_version": "1.5.0",
            "_model_name": "ProgressStyleModel",
            "_view_count": null,
            "_view_module": "@jupyter-widgets/base",
            "_view_module_version": "1.2.0",
            "_view_name": "StyleView",
            "bar_color": null,
            "description_width": ""
          }
        },
        "2e2c97ec6399418eb0e6c8e583359054": {
          "model_module": "@jupyter-widgets/base",
          "model_name": "LayoutModel",
          "model_module_version": "1.2.0",
          "state": {
            "_model_module": "@jupyter-widgets/base",
            "_model_module_version": "1.2.0",
            "_model_name": "LayoutModel",
            "_view_count": null,
            "_view_module": "@jupyter-widgets/base",
            "_view_module_version": "1.2.0",
            "_view_name": "LayoutView",
            "align_content": null,
            "align_items": null,
            "align_self": null,
            "border": null,
            "bottom": null,
            "display": null,
            "flex": null,
            "flex_flow": null,
            "grid_area": null,
            "grid_auto_columns": null,
            "grid_auto_flow": null,
            "grid_auto_rows": null,
            "grid_column": null,
            "grid_gap": null,
            "grid_row": null,
            "grid_template_areas": null,
            "grid_template_columns": null,
            "grid_template_rows": null,
            "height": null,
            "justify_content": null,
            "justify_items": null,
            "left": null,
            "margin": null,
            "max_height": null,
            "max_width": null,
            "min_height": null,
            "min_width": null,
            "object_fit": null,
            "object_position": null,
            "order": null,
            "overflow": null,
            "overflow_x": null,
            "overflow_y": null,
            "padding": null,
            "right": null,
            "top": null,
            "visibility": null,
            "width": null
          }
        },
        "f43fa709650a46e4b789253a5f8be915": {
          "model_module": "@jupyter-widgets/controls",
          "model_name": "DescriptionStyleModel",
          "model_module_version": "1.5.0",
          "state": {
            "_model_module": "@jupyter-widgets/controls",
            "_model_module_version": "1.5.0",
            "_model_name": "DescriptionStyleModel",
            "_view_count": null,
            "_view_module": "@jupyter-widgets/base",
            "_view_module_version": "1.2.0",
            "_view_name": "StyleView",
            "description_width": ""
          }
        },
        "a7eec23c86c742438c0ff49757894f28": {
          "model_module": "@jupyter-widgets/controls",
          "model_name": "HBoxModel",
          "model_module_version": "1.5.0",
          "state": {
            "_dom_classes": [],
            "_model_module": "@jupyter-widgets/controls",
            "_model_module_version": "1.5.0",
            "_model_name": "HBoxModel",
            "_view_count": null,
            "_view_module": "@jupyter-widgets/controls",
            "_view_module_version": "1.5.0",
            "_view_name": "HBoxView",
            "box_style": "",
            "children": [
              "IPY_MODEL_792276d71839404b8c637c92e636fe1c",
              "IPY_MODEL_bcc90dd4f4884aef858d8267ee6b80b3",
              "IPY_MODEL_905cd1aa1739402f97b3b3f5c4045d4a"
            ],
            "layout": "IPY_MODEL_b7f6922fe1e64a88a55402ca35aef434"
          }
        },
        "792276d71839404b8c637c92e636fe1c": {
          "model_module": "@jupyter-widgets/controls",
          "model_name": "HTMLModel",
          "model_module_version": "1.5.0",
          "state": {
            "_dom_classes": [],
            "_model_module": "@jupyter-widgets/controls",
            "_model_module_version": "1.5.0",
            "_model_name": "HTMLModel",
            "_view_count": null,
            "_view_module": "@jupyter-widgets/controls",
            "_view_module_version": "1.5.0",
            "_view_name": "HTMLView",
            "description": "",
            "description_tooltip": null,
            "layout": "IPY_MODEL_20d8202c114f43bc94b52a7932af646c",
            "placeholder": "​",
            "style": "IPY_MODEL_f84f5a11e0f74993bab84e2a3a98bcd4",
            "value": "100%"
          }
        },
        "bcc90dd4f4884aef858d8267ee6b80b3": {
          "model_module": "@jupyter-widgets/controls",
          "model_name": "FloatProgressModel",
          "model_module_version": "1.5.0",
          "state": {
            "_dom_classes": [],
            "_model_module": "@jupyter-widgets/controls",
            "_model_module_version": "1.5.0",
            "_model_name": "FloatProgressModel",
            "_view_count": null,
            "_view_module": "@jupyter-widgets/controls",
            "_view_module_version": "1.5.0",
            "_view_name": "ProgressView",
            "bar_style": "success",
            "description": "",
            "description_tooltip": null,
            "layout": "IPY_MODEL_2330ab4df5c84ffc88f9ed5a2c4207c9",
            "max": 100,
            "min": 0,
            "orientation": "horizontal",
            "style": "IPY_MODEL_894afa0ae5ee4162b582d64481f66f28",
            "value": 100
          }
        },
        "905cd1aa1739402f97b3b3f5c4045d4a": {
          "model_module": "@jupyter-widgets/controls",
          "model_name": "HTMLModel",
          "model_module_version": "1.5.0",
          "state": {
            "_dom_classes": [],
            "_model_module": "@jupyter-widgets/controls",
            "_model_module_version": "1.5.0",
            "_model_name": "HTMLModel",
            "_view_count": null,
            "_view_module": "@jupyter-widgets/controls",
            "_view_module_version": "1.5.0",
            "_view_name": "HTMLView",
            "description": "",
            "description_tooltip": null,
            "layout": "IPY_MODEL_f3e5aa0daa7a4ceda0b917f2b016b7eb",
            "placeholder": "​",
            "style": "IPY_MODEL_3769f170e0644c86ba5403ab18393c40",
            "value": " 100/100 [00:16&lt;00:00,  6.82it/s]"
          }
        },
        "b7f6922fe1e64a88a55402ca35aef434": {
          "model_module": "@jupyter-widgets/base",
          "model_name": "LayoutModel",
          "model_module_version": "1.2.0",
          "state": {
            "_model_module": "@jupyter-widgets/base",
            "_model_module_version": "1.2.0",
            "_model_name": "LayoutModel",
            "_view_count": null,
            "_view_module": "@jupyter-widgets/base",
            "_view_module_version": "1.2.0",
            "_view_name": "LayoutView",
            "align_content": null,
            "align_items": null,
            "align_self": null,
            "border": null,
            "bottom": null,
            "display": null,
            "flex": null,
            "flex_flow": null,
            "grid_area": null,
            "grid_auto_columns": null,
            "grid_auto_flow": null,
            "grid_auto_rows": null,
            "grid_column": null,
            "grid_gap": null,
            "grid_row": null,
            "grid_template_areas": null,
            "grid_template_columns": null,
            "grid_template_rows": null,
            "height": null,
            "justify_content": null,
            "justify_items": null,
            "left": null,
            "margin": null,
            "max_height": null,
            "max_width": null,
            "min_height": null,
            "min_width": null,
            "object_fit": null,
            "object_position": null,
            "order": null,
            "overflow": null,
            "overflow_x": null,
            "overflow_y": null,
            "padding": null,
            "right": null,
            "top": null,
            "visibility": null,
            "width": null
          }
        },
        "20d8202c114f43bc94b52a7932af646c": {
          "model_module": "@jupyter-widgets/base",
          "model_name": "LayoutModel",
          "model_module_version": "1.2.0",
          "state": {
            "_model_module": "@jupyter-widgets/base",
            "_model_module_version": "1.2.0",
            "_model_name": "LayoutModel",
            "_view_count": null,
            "_view_module": "@jupyter-widgets/base",
            "_view_module_version": "1.2.0",
            "_view_name": "LayoutView",
            "align_content": null,
            "align_items": null,
            "align_self": null,
            "border": null,
            "bottom": null,
            "display": null,
            "flex": null,
            "flex_flow": null,
            "grid_area": null,
            "grid_auto_columns": null,
            "grid_auto_flow": null,
            "grid_auto_rows": null,
            "grid_column": null,
            "grid_gap": null,
            "grid_row": null,
            "grid_template_areas": null,
            "grid_template_columns": null,
            "grid_template_rows": null,
            "height": null,
            "justify_content": null,
            "justify_items": null,
            "left": null,
            "margin": null,
            "max_height": null,
            "max_width": null,
            "min_height": null,
            "min_width": null,
            "object_fit": null,
            "object_position": null,
            "order": null,
            "overflow": null,
            "overflow_x": null,
            "overflow_y": null,
            "padding": null,
            "right": null,
            "top": null,
            "visibility": null,
            "width": null
          }
        },
        "f84f5a11e0f74993bab84e2a3a98bcd4": {
          "model_module": "@jupyter-widgets/controls",
          "model_name": "DescriptionStyleModel",
          "model_module_version": "1.5.0",
          "state": {
            "_model_module": "@jupyter-widgets/controls",
            "_model_module_version": "1.5.0",
            "_model_name": "DescriptionStyleModel",
            "_view_count": null,
            "_view_module": "@jupyter-widgets/base",
            "_view_module_version": "1.2.0",
            "_view_name": "StyleView",
            "description_width": ""
          }
        },
        "2330ab4df5c84ffc88f9ed5a2c4207c9": {
          "model_module": "@jupyter-widgets/base",
          "model_name": "LayoutModel",
          "model_module_version": "1.2.0",
          "state": {
            "_model_module": "@jupyter-widgets/base",
            "_model_module_version": "1.2.0",
            "_model_name": "LayoutModel",
            "_view_count": null,
            "_view_module": "@jupyter-widgets/base",
            "_view_module_version": "1.2.0",
            "_view_name": "LayoutView",
            "align_content": null,
            "align_items": null,
            "align_self": null,
            "border": null,
            "bottom": null,
            "display": null,
            "flex": null,
            "flex_flow": null,
            "grid_area": null,
            "grid_auto_columns": null,
            "grid_auto_flow": null,
            "grid_auto_rows": null,
            "grid_column": null,
            "grid_gap": null,
            "grid_row": null,
            "grid_template_areas": null,
            "grid_template_columns": null,
            "grid_template_rows": null,
            "height": null,
            "justify_content": null,
            "justify_items": null,
            "left": null,
            "margin": null,
            "max_height": null,
            "max_width": null,
            "min_height": null,
            "min_width": null,
            "object_fit": null,
            "object_position": null,
            "order": null,
            "overflow": null,
            "overflow_x": null,
            "overflow_y": null,
            "padding": null,
            "right": null,
            "top": null,
            "visibility": null,
            "width": null
          }
        },
        "894afa0ae5ee4162b582d64481f66f28": {
          "model_module": "@jupyter-widgets/controls",
          "model_name": "ProgressStyleModel",
          "model_module_version": "1.5.0",
          "state": {
            "_model_module": "@jupyter-widgets/controls",
            "_model_module_version": "1.5.0",
            "_model_name": "ProgressStyleModel",
            "_view_count": null,
            "_view_module": "@jupyter-widgets/base",
            "_view_module_version": "1.2.0",
            "_view_name": "StyleView",
            "bar_color": null,
            "description_width": ""
          }
        },
        "f3e5aa0daa7a4ceda0b917f2b016b7eb": {
          "model_module": "@jupyter-widgets/base",
          "model_name": "LayoutModel",
          "model_module_version": "1.2.0",
          "state": {
            "_model_module": "@jupyter-widgets/base",
            "_model_module_version": "1.2.0",
            "_model_name": "LayoutModel",
            "_view_count": null,
            "_view_module": "@jupyter-widgets/base",
            "_view_module_version": "1.2.0",
            "_view_name": "LayoutView",
            "align_content": null,
            "align_items": null,
            "align_self": null,
            "border": null,
            "bottom": null,
            "display": null,
            "flex": null,
            "flex_flow": null,
            "grid_area": null,
            "grid_auto_columns": null,
            "grid_auto_flow": null,
            "grid_auto_rows": null,
            "grid_column": null,
            "grid_gap": null,
            "grid_row": null,
            "grid_template_areas": null,
            "grid_template_columns": null,
            "grid_template_rows": null,
            "height": null,
            "justify_content": null,
            "justify_items": null,
            "left": null,
            "margin": null,
            "max_height": null,
            "max_width": null,
            "min_height": null,
            "min_width": null,
            "object_fit": null,
            "object_position": null,
            "order": null,
            "overflow": null,
            "overflow_x": null,
            "overflow_y": null,
            "padding": null,
            "right": null,
            "top": null,
            "visibility": null,
            "width": null
          }
        },
        "3769f170e0644c86ba5403ab18393c40": {
          "model_module": "@jupyter-widgets/controls",
          "model_name": "DescriptionStyleModel",
          "model_module_version": "1.5.0",
          "state": {
            "_model_module": "@jupyter-widgets/controls",
            "_model_module_version": "1.5.0",
            "_model_name": "DescriptionStyleModel",
            "_view_count": null,
            "_view_module": "@jupyter-widgets/base",
            "_view_module_version": "1.2.0",
            "_view_name": "StyleView",
            "description_width": ""
          }
        },
        "dc0c12351aff4e32a29c1faeb60703ad": {
          "model_module": "@jupyter-widgets/controls",
          "model_name": "HBoxModel",
          "model_module_version": "1.5.0",
          "state": {
            "_dom_classes": [],
            "_model_module": "@jupyter-widgets/controls",
            "_model_module_version": "1.5.0",
            "_model_name": "HBoxModel",
            "_view_count": null,
            "_view_module": "@jupyter-widgets/controls",
            "_view_module_version": "1.5.0",
            "_view_name": "HBoxView",
            "box_style": "",
            "children": [
              "IPY_MODEL_c145b5fa29724b2a9960ab1cdd105f19",
              "IPY_MODEL_de7c9be0cac04c1f91ced6215124b6fd",
              "IPY_MODEL_ae444dc1e91547f386af51f3368d9a48"
            ],
            "layout": "IPY_MODEL_1b1b4a6c02e6495baddd4ac10118e0a2"
          }
        },
        "c145b5fa29724b2a9960ab1cdd105f19": {
          "model_module": "@jupyter-widgets/controls",
          "model_name": "HTMLModel",
          "model_module_version": "1.5.0",
          "state": {
            "_dom_classes": [],
            "_model_module": "@jupyter-widgets/controls",
            "_model_module_version": "1.5.0",
            "_model_name": "HTMLModel",
            "_view_count": null,
            "_view_module": "@jupyter-widgets/controls",
            "_view_module_version": "1.5.0",
            "_view_name": "HTMLView",
            "description": "",
            "description_tooltip": null,
            "layout": "IPY_MODEL_3d24bdb891a44379ad8cee3b717fddf7",
            "placeholder": "​",
            "style": "IPY_MODEL_88a773f4eca54994bb38add3ab10e196",
            "value": "100%"
          }
        },
        "de7c9be0cac04c1f91ced6215124b6fd": {
          "model_module": "@jupyter-widgets/controls",
          "model_name": "FloatProgressModel",
          "model_module_version": "1.5.0",
          "state": {
            "_dom_classes": [],
            "_model_module": "@jupyter-widgets/controls",
            "_model_module_version": "1.5.0",
            "_model_name": "FloatProgressModel",
            "_view_count": null,
            "_view_module": "@jupyter-widgets/controls",
            "_view_module_version": "1.5.0",
            "_view_name": "ProgressView",
            "bar_style": "success",
            "description": "",
            "description_tooltip": null,
            "layout": "IPY_MODEL_7717de36f3a24107be3445ad507632bf",
            "max": 100,
            "min": 0,
            "orientation": "horizontal",
            "style": "IPY_MODEL_2175c23a07054409a9e26c96e3d44135",
            "value": 100
          }
        },
        "ae444dc1e91547f386af51f3368d9a48": {
          "model_module": "@jupyter-widgets/controls",
          "model_name": "HTMLModel",
          "model_module_version": "1.5.0",
          "state": {
            "_dom_classes": [],
            "_model_module": "@jupyter-widgets/controls",
            "_model_module_version": "1.5.0",
            "_model_name": "HTMLModel",
            "_view_count": null,
            "_view_module": "@jupyter-widgets/controls",
            "_view_module_version": "1.5.0",
            "_view_name": "HTMLView",
            "description": "",
            "description_tooltip": null,
            "layout": "IPY_MODEL_60441696cece480f86194b293c489c53",
            "placeholder": "​",
            "style": "IPY_MODEL_aa83bba5f2344f14b17ecdc84d27607a",
            "value": " 100/100 [00:16&lt;00:00,  6.60it/s]"
          }
        },
        "1b1b4a6c02e6495baddd4ac10118e0a2": {
          "model_module": "@jupyter-widgets/base",
          "model_name": "LayoutModel",
          "model_module_version": "1.2.0",
          "state": {
            "_model_module": "@jupyter-widgets/base",
            "_model_module_version": "1.2.0",
            "_model_name": "LayoutModel",
            "_view_count": null,
            "_view_module": "@jupyter-widgets/base",
            "_view_module_version": "1.2.0",
            "_view_name": "LayoutView",
            "align_content": null,
            "align_items": null,
            "align_self": null,
            "border": null,
            "bottom": null,
            "display": null,
            "flex": null,
            "flex_flow": null,
            "grid_area": null,
            "grid_auto_columns": null,
            "grid_auto_flow": null,
            "grid_auto_rows": null,
            "grid_column": null,
            "grid_gap": null,
            "grid_row": null,
            "grid_template_areas": null,
            "grid_template_columns": null,
            "grid_template_rows": null,
            "height": null,
            "justify_content": null,
            "justify_items": null,
            "left": null,
            "margin": null,
            "max_height": null,
            "max_width": null,
            "min_height": null,
            "min_width": null,
            "object_fit": null,
            "object_position": null,
            "order": null,
            "overflow": null,
            "overflow_x": null,
            "overflow_y": null,
            "padding": null,
            "right": null,
            "top": null,
            "visibility": null,
            "width": null
          }
        },
        "3d24bdb891a44379ad8cee3b717fddf7": {
          "model_module": "@jupyter-widgets/base",
          "model_name": "LayoutModel",
          "model_module_version": "1.2.0",
          "state": {
            "_model_module": "@jupyter-widgets/base",
            "_model_module_version": "1.2.0",
            "_model_name": "LayoutModel",
            "_view_count": null,
            "_view_module": "@jupyter-widgets/base",
            "_view_module_version": "1.2.0",
            "_view_name": "LayoutView",
            "align_content": null,
            "align_items": null,
            "align_self": null,
            "border": null,
            "bottom": null,
            "display": null,
            "flex": null,
            "flex_flow": null,
            "grid_area": null,
            "grid_auto_columns": null,
            "grid_auto_flow": null,
            "grid_auto_rows": null,
            "grid_column": null,
            "grid_gap": null,
            "grid_row": null,
            "grid_template_areas": null,
            "grid_template_columns": null,
            "grid_template_rows": null,
            "height": null,
            "justify_content": null,
            "justify_items": null,
            "left": null,
            "margin": null,
            "max_height": null,
            "max_width": null,
            "min_height": null,
            "min_width": null,
            "object_fit": null,
            "object_position": null,
            "order": null,
            "overflow": null,
            "overflow_x": null,
            "overflow_y": null,
            "padding": null,
            "right": null,
            "top": null,
            "visibility": null,
            "width": null
          }
        },
        "88a773f4eca54994bb38add3ab10e196": {
          "model_module": "@jupyter-widgets/controls",
          "model_name": "DescriptionStyleModel",
          "model_module_version": "1.5.0",
          "state": {
            "_model_module": "@jupyter-widgets/controls",
            "_model_module_version": "1.5.0",
            "_model_name": "DescriptionStyleModel",
            "_view_count": null,
            "_view_module": "@jupyter-widgets/base",
            "_view_module_version": "1.2.0",
            "_view_name": "StyleView",
            "description_width": ""
          }
        },
        "7717de36f3a24107be3445ad507632bf": {
          "model_module": "@jupyter-widgets/base",
          "model_name": "LayoutModel",
          "model_module_version": "1.2.0",
          "state": {
            "_model_module": "@jupyter-widgets/base",
            "_model_module_version": "1.2.0",
            "_model_name": "LayoutModel",
            "_view_count": null,
            "_view_module": "@jupyter-widgets/base",
            "_view_module_version": "1.2.0",
            "_view_name": "LayoutView",
            "align_content": null,
            "align_items": null,
            "align_self": null,
            "border": null,
            "bottom": null,
            "display": null,
            "flex": null,
            "flex_flow": null,
            "grid_area": null,
            "grid_auto_columns": null,
            "grid_auto_flow": null,
            "grid_auto_rows": null,
            "grid_column": null,
            "grid_gap": null,
            "grid_row": null,
            "grid_template_areas": null,
            "grid_template_columns": null,
            "grid_template_rows": null,
            "height": null,
            "justify_content": null,
            "justify_items": null,
            "left": null,
            "margin": null,
            "max_height": null,
            "max_width": null,
            "min_height": null,
            "min_width": null,
            "object_fit": null,
            "object_position": null,
            "order": null,
            "overflow": null,
            "overflow_x": null,
            "overflow_y": null,
            "padding": null,
            "right": null,
            "top": null,
            "visibility": null,
            "width": null
          }
        },
        "2175c23a07054409a9e26c96e3d44135": {
          "model_module": "@jupyter-widgets/controls",
          "model_name": "ProgressStyleModel",
          "model_module_version": "1.5.0",
          "state": {
            "_model_module": "@jupyter-widgets/controls",
            "_model_module_version": "1.5.0",
            "_model_name": "ProgressStyleModel",
            "_view_count": null,
            "_view_module": "@jupyter-widgets/base",
            "_view_module_version": "1.2.0",
            "_view_name": "StyleView",
            "bar_color": null,
            "description_width": ""
          }
        },
        "60441696cece480f86194b293c489c53": {
          "model_module": "@jupyter-widgets/base",
          "model_name": "LayoutModel",
          "model_module_version": "1.2.0",
          "state": {
            "_model_module": "@jupyter-widgets/base",
            "_model_module_version": "1.2.0",
            "_model_name": "LayoutModel",
            "_view_count": null,
            "_view_module": "@jupyter-widgets/base",
            "_view_module_version": "1.2.0",
            "_view_name": "LayoutView",
            "align_content": null,
            "align_items": null,
            "align_self": null,
            "border": null,
            "bottom": null,
            "display": null,
            "flex": null,
            "flex_flow": null,
            "grid_area": null,
            "grid_auto_columns": null,
            "grid_auto_flow": null,
            "grid_auto_rows": null,
            "grid_column": null,
            "grid_gap": null,
            "grid_row": null,
            "grid_template_areas": null,
            "grid_template_columns": null,
            "grid_template_rows": null,
            "height": null,
            "justify_content": null,
            "justify_items": null,
            "left": null,
            "margin": null,
            "max_height": null,
            "max_width": null,
            "min_height": null,
            "min_width": null,
            "object_fit": null,
            "object_position": null,
            "order": null,
            "overflow": null,
            "overflow_x": null,
            "overflow_y": null,
            "padding": null,
            "right": null,
            "top": null,
            "visibility": null,
            "width": null
          }
        },
        "aa83bba5f2344f14b17ecdc84d27607a": {
          "model_module": "@jupyter-widgets/controls",
          "model_name": "DescriptionStyleModel",
          "model_module_version": "1.5.0",
          "state": {
            "_model_module": "@jupyter-widgets/controls",
            "_model_module_version": "1.5.0",
            "_model_name": "DescriptionStyleModel",
            "_view_count": null,
            "_view_module": "@jupyter-widgets/base",
            "_view_module_version": "1.2.0",
            "_view_name": "StyleView",
            "description_width": ""
          }
        },
        "a6b1183c314c4950ab855a479225c915": {
          "model_module": "@jupyter-widgets/controls",
          "model_name": "HBoxModel",
          "model_module_version": "1.5.0",
          "state": {
            "_dom_classes": [],
            "_model_module": "@jupyter-widgets/controls",
            "_model_module_version": "1.5.0",
            "_model_name": "HBoxModel",
            "_view_count": null,
            "_view_module": "@jupyter-widgets/controls",
            "_view_module_version": "1.5.0",
            "_view_name": "HBoxView",
            "box_style": "",
            "children": [
              "IPY_MODEL_ec533409acc14b49b2f8f8ca89bb9d10",
              "IPY_MODEL_786dfc16423c429c9450615aaacc2ae8",
              "IPY_MODEL_b4c562be125244598a2bb907a429a5cb"
            ],
            "layout": "IPY_MODEL_c52f02055e794279a13829c766f2e5df"
          }
        },
        "ec533409acc14b49b2f8f8ca89bb9d10": {
          "model_module": "@jupyter-widgets/controls",
          "model_name": "HTMLModel",
          "model_module_version": "1.5.0",
          "state": {
            "_dom_classes": [],
            "_model_module": "@jupyter-widgets/controls",
            "_model_module_version": "1.5.0",
            "_model_name": "HTMLModel",
            "_view_count": null,
            "_view_module": "@jupyter-widgets/controls",
            "_view_module_version": "1.5.0",
            "_view_name": "HTMLView",
            "description": "",
            "description_tooltip": null,
            "layout": "IPY_MODEL_c67207356cc247f0990cda90d5a3f26f",
            "placeholder": "​",
            "style": "IPY_MODEL_fe9d7808032e485fb3c28734aadc896c",
            "value": "100%"
          }
        },
        "786dfc16423c429c9450615aaacc2ae8": {
          "model_module": "@jupyter-widgets/controls",
          "model_name": "FloatProgressModel",
          "model_module_version": "1.5.0",
          "state": {
            "_dom_classes": [],
            "_model_module": "@jupyter-widgets/controls",
            "_model_module_version": "1.5.0",
            "_model_name": "FloatProgressModel",
            "_view_count": null,
            "_view_module": "@jupyter-widgets/controls",
            "_view_module_version": "1.5.0",
            "_view_name": "ProgressView",
            "bar_style": "success",
            "description": "",
            "description_tooltip": null,
            "layout": "IPY_MODEL_68b64e3e4ea24620bf502c6e8315cce3",
            "max": 100,
            "min": 0,
            "orientation": "horizontal",
            "style": "IPY_MODEL_7c2868a721c54e89a5a2f61ddaa271a1",
            "value": 100
          }
        },
        "b4c562be125244598a2bb907a429a5cb": {
          "model_module": "@jupyter-widgets/controls",
          "model_name": "HTMLModel",
          "model_module_version": "1.5.0",
          "state": {
            "_dom_classes": [],
            "_model_module": "@jupyter-widgets/controls",
            "_model_module_version": "1.5.0",
            "_model_name": "HTMLModel",
            "_view_count": null,
            "_view_module": "@jupyter-widgets/controls",
            "_view_module_version": "1.5.0",
            "_view_name": "HTMLView",
            "description": "",
            "description_tooltip": null,
            "layout": "IPY_MODEL_c7345b7039924703bb489d0666e459c1",
            "placeholder": "​",
            "style": "IPY_MODEL_6969e5cd7b2545c4b58e8b358ee1637d",
            "value": " 100/100 [00:16&lt;00:00,  5.80it/s]"
          }
        },
        "c52f02055e794279a13829c766f2e5df": {
          "model_module": "@jupyter-widgets/base",
          "model_name": "LayoutModel",
          "model_module_version": "1.2.0",
          "state": {
            "_model_module": "@jupyter-widgets/base",
            "_model_module_version": "1.2.0",
            "_model_name": "LayoutModel",
            "_view_count": null,
            "_view_module": "@jupyter-widgets/base",
            "_view_module_version": "1.2.0",
            "_view_name": "LayoutView",
            "align_content": null,
            "align_items": null,
            "align_self": null,
            "border": null,
            "bottom": null,
            "display": null,
            "flex": null,
            "flex_flow": null,
            "grid_area": null,
            "grid_auto_columns": null,
            "grid_auto_flow": null,
            "grid_auto_rows": null,
            "grid_column": null,
            "grid_gap": null,
            "grid_row": null,
            "grid_template_areas": null,
            "grid_template_columns": null,
            "grid_template_rows": null,
            "height": null,
            "justify_content": null,
            "justify_items": null,
            "left": null,
            "margin": null,
            "max_height": null,
            "max_width": null,
            "min_height": null,
            "min_width": null,
            "object_fit": null,
            "object_position": null,
            "order": null,
            "overflow": null,
            "overflow_x": null,
            "overflow_y": null,
            "padding": null,
            "right": null,
            "top": null,
            "visibility": null,
            "width": null
          }
        },
        "c67207356cc247f0990cda90d5a3f26f": {
          "model_module": "@jupyter-widgets/base",
          "model_name": "LayoutModel",
          "model_module_version": "1.2.0",
          "state": {
            "_model_module": "@jupyter-widgets/base",
            "_model_module_version": "1.2.0",
            "_model_name": "LayoutModel",
            "_view_count": null,
            "_view_module": "@jupyter-widgets/base",
            "_view_module_version": "1.2.0",
            "_view_name": "LayoutView",
            "align_content": null,
            "align_items": null,
            "align_self": null,
            "border": null,
            "bottom": null,
            "display": null,
            "flex": null,
            "flex_flow": null,
            "grid_area": null,
            "grid_auto_columns": null,
            "grid_auto_flow": null,
            "grid_auto_rows": null,
            "grid_column": null,
            "grid_gap": null,
            "grid_row": null,
            "grid_template_areas": null,
            "grid_template_columns": null,
            "grid_template_rows": null,
            "height": null,
            "justify_content": null,
            "justify_items": null,
            "left": null,
            "margin": null,
            "max_height": null,
            "max_width": null,
            "min_height": null,
            "min_width": null,
            "object_fit": null,
            "object_position": null,
            "order": null,
            "overflow": null,
            "overflow_x": null,
            "overflow_y": null,
            "padding": null,
            "right": null,
            "top": null,
            "visibility": null,
            "width": null
          }
        },
        "fe9d7808032e485fb3c28734aadc896c": {
          "model_module": "@jupyter-widgets/controls",
          "model_name": "DescriptionStyleModel",
          "model_module_version": "1.5.0",
          "state": {
            "_model_module": "@jupyter-widgets/controls",
            "_model_module_version": "1.5.0",
            "_model_name": "DescriptionStyleModel",
            "_view_count": null,
            "_view_module": "@jupyter-widgets/base",
            "_view_module_version": "1.2.0",
            "_view_name": "StyleView",
            "description_width": ""
          }
        },
        "68b64e3e4ea24620bf502c6e8315cce3": {
          "model_module": "@jupyter-widgets/base",
          "model_name": "LayoutModel",
          "model_module_version": "1.2.0",
          "state": {
            "_model_module": "@jupyter-widgets/base",
            "_model_module_version": "1.2.0",
            "_model_name": "LayoutModel",
            "_view_count": null,
            "_view_module": "@jupyter-widgets/base",
            "_view_module_version": "1.2.0",
            "_view_name": "LayoutView",
            "align_content": null,
            "align_items": null,
            "align_self": null,
            "border": null,
            "bottom": null,
            "display": null,
            "flex": null,
            "flex_flow": null,
            "grid_area": null,
            "grid_auto_columns": null,
            "grid_auto_flow": null,
            "grid_auto_rows": null,
            "grid_column": null,
            "grid_gap": null,
            "grid_row": null,
            "grid_template_areas": null,
            "grid_template_columns": null,
            "grid_template_rows": null,
            "height": null,
            "justify_content": null,
            "justify_items": null,
            "left": null,
            "margin": null,
            "max_height": null,
            "max_width": null,
            "min_height": null,
            "min_width": null,
            "object_fit": null,
            "object_position": null,
            "order": null,
            "overflow": null,
            "overflow_x": null,
            "overflow_y": null,
            "padding": null,
            "right": null,
            "top": null,
            "visibility": null,
            "width": null
          }
        },
        "7c2868a721c54e89a5a2f61ddaa271a1": {
          "model_module": "@jupyter-widgets/controls",
          "model_name": "ProgressStyleModel",
          "model_module_version": "1.5.0",
          "state": {
            "_model_module": "@jupyter-widgets/controls",
            "_model_module_version": "1.5.0",
            "_model_name": "ProgressStyleModel",
            "_view_count": null,
            "_view_module": "@jupyter-widgets/base",
            "_view_module_version": "1.2.0",
            "_view_name": "StyleView",
            "bar_color": null,
            "description_width": ""
          }
        },
        "c7345b7039924703bb489d0666e459c1": {
          "model_module": "@jupyter-widgets/base",
          "model_name": "LayoutModel",
          "model_module_version": "1.2.0",
          "state": {
            "_model_module": "@jupyter-widgets/base",
            "_model_module_version": "1.2.0",
            "_model_name": "LayoutModel",
            "_view_count": null,
            "_view_module": "@jupyter-widgets/base",
            "_view_module_version": "1.2.0",
            "_view_name": "LayoutView",
            "align_content": null,
            "align_items": null,
            "align_self": null,
            "border": null,
            "bottom": null,
            "display": null,
            "flex": null,
            "flex_flow": null,
            "grid_area": null,
            "grid_auto_columns": null,
            "grid_auto_flow": null,
            "grid_auto_rows": null,
            "grid_column": null,
            "grid_gap": null,
            "grid_row": null,
            "grid_template_areas": null,
            "grid_template_columns": null,
            "grid_template_rows": null,
            "height": null,
            "justify_content": null,
            "justify_items": null,
            "left": null,
            "margin": null,
            "max_height": null,
            "max_width": null,
            "min_height": null,
            "min_width": null,
            "object_fit": null,
            "object_position": null,
            "order": null,
            "overflow": null,
            "overflow_x": null,
            "overflow_y": null,
            "padding": null,
            "right": null,
            "top": null,
            "visibility": null,
            "width": null
          }
        },
        "6969e5cd7b2545c4b58e8b358ee1637d": {
          "model_module": "@jupyter-widgets/controls",
          "model_name": "DescriptionStyleModel",
          "model_module_version": "1.5.0",
          "state": {
            "_model_module": "@jupyter-widgets/controls",
            "_model_module_version": "1.5.0",
            "_model_name": "DescriptionStyleModel",
            "_view_count": null,
            "_view_module": "@jupyter-widgets/base",
            "_view_module_version": "1.2.0",
            "_view_name": "StyleView",
            "description_width": ""
          }
        }
      }
    }
  },
  "nbformat": 4,
  "nbformat_minor": 0
}